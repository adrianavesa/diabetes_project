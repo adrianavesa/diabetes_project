{
 "cells": [
  {
   "cell_type": "markdown",
   "metadata": {},
   "source": [
    "# Unsupervised Learning and Clustering on 100 days of posts from the 'Type 1 Diabetes' Reddit Thread. \n",
    "by Adriana Vesa "
   ]
  },
  {
   "cell_type": "markdown",
   "metadata": {},
   "source": [
    "\n",
    "# Problem Statement\n",
    "\n",
    "\n",
    "We will use unsupervised machine learning to explore data collected from the tyoe 1 reddit thread. Unsupervised machine learning is a class of techniques used to find pattern in data. Tha datagiven to an unsupervised algorithm will not be labeled - which means we will have only an inoiut variable X - and no correspoding varriable."
   ]
  },
  {
   "cell_type": "markdown",
   "metadata": {},
   "source": [
    "# Executive Summary\n"
   ]
  },
  {
   "cell_type": "markdown",
   "metadata": {},
   "source": [
    "# Table of contents:\n",
    "\n",
    "Acquiring and Preprocessing Data\n",
    "\n",
    "Loading Libraries\n",
    "Loading Data\n",
    "Model Preparation\n",
    "Modeling\n",
    "Baseline Model\n",
    "Grid Search with a Pipe with Logistic Regression and TFIDF\n",
    "CountVectorizer in a Pipe with Decision Trees, and Grid Search\n",
    "Bagging Classifier in a pipe with TFIDF\n",
    "Naive Bayes with CountVectorizer\n",
    "Model Selection\n",
    "Model Evaluation\n",
    "Conclusion"
   ]
  },
  {
   "cell_type": "markdown",
   "metadata": {},
   "source": [
    "## Acquiring and Preprocessing Data"
   ]
  },
  {
   "cell_type": "markdown",
   "metadata": {},
   "source": [
    "## Loading Libraries"
   ]
  },
  {
   "cell_type": "code",
   "execution_count": 5,
   "metadata": {},
   "outputs": [],
   "source": [
    "import pandas as pd\n",
    "from nltk.tokenize import RegexpTokenizer\n",
    "\n",
    "\n",
    "from nltk.tokenize import RegexpTokenizer\n",
    "from nltk.stem import WordNetLemmatizer\n",
    "from sklearn.feature_extraction.stop_words import ENGLISH_STOP_WORDS as stopwords\n",
    "from sklearn.feature_extraction.text import CountVectorizer, TfidfVectorizer\n",
    "from sklearn.linear_model import LogisticRegression\n",
    "from sklearn.pipeline import Pipeline\n",
    "from sklearn.model_selection import cross_val_score, train_test_split, GridSearchCV\n",
    "\n",
    "\n",
    "\n",
    "from sklearn.datasets import make_blobs\n",
    "from sklearn.cluster import KMeans\n",
    "from sklearn.preprocessing import StandardScaler\n",
    "\n",
    "import numpy as np\n",
    "\n",
    "\n",
    "import seaborn as sns\n",
    "import matplotlib.pyplot as plt\n",
    "import matplotlib\n",
    "from sklearn.feature_extraction.text import CountVectorizer\n",
    "\n",
    "from sklearn.metrics import silhouette_score\n",
    "matplotlib.style.use('ggplot')\n",
    "\n",
    "\n",
    "from nltk.stem.snowball import SnowballStemmer"
   ]
  },
  {
   "cell_type": "markdown",
   "metadata": {},
   "source": [
    "## Loading Data"
   ]
  },
  {
   "cell_type": "markdown",
   "metadata": {},
   "source": [
    "Below we import the csv file containing the reddit posts collected from the sub-thread - https://www.reddit.com/r/diabetes_t1/ - going back 100 days starting with February 21, 2020. We verify the size of our data - is is a dataframe with 4463 lines and 9 columns."
   ]
  },
  {
   "cell_type": "code",
   "execution_count": 6,
   "metadata": {},
   "outputs": [
    {
     "data": {
      "text/plain": [
       "(4463, 9)"
      ]
     },
     "execution_count": 6,
     "metadata": {},
     "output_type": "execute_result"
    }
   ],
   "source": [
    "t1 = pd.read_csv('diabetes_t1_2.csv')\n",
    "t1.shape"
   ]
  },
  {
   "cell_type": "markdown",
   "metadata": {},
   "source": [
    "We check to see how our dataframe is tructured by checkin its first 5 rows. We decide to create a new column where we add the words of the title - column entitled 'title' - to the words of the post - column entitled 'selftext'- in order to maximize the number of words analyzed. \n",
    "We will call this new column 'all_text'."
   ]
  },
  {
   "cell_type": "markdown",
   "metadata": {},
   "source": [
    "## Exploratory Data Analysis"
   ]
  },
  {
   "cell_type": "code",
   "execution_count": 7,
   "metadata": {},
   "outputs": [
    {
     "data": {
      "text/html": [
       "<div>\n",
       "<style scoped>\n",
       "    .dataframe tbody tr th:only-of-type {\n",
       "        vertical-align: middle;\n",
       "    }\n",
       "\n",
       "    .dataframe tbody tr th {\n",
       "        vertical-align: top;\n",
       "    }\n",
       "\n",
       "    .dataframe thead th {\n",
       "        text-align: right;\n",
       "    }\n",
       "</style>\n",
       "<table border=\"1\" class=\"dataframe\">\n",
       "  <thead>\n",
       "    <tr style=\"text-align: right;\">\n",
       "      <th></th>\n",
       "      <th>title</th>\n",
       "      <th>selftext</th>\n",
       "      <th>subreddit</th>\n",
       "      <th>created_utc</th>\n",
       "      <th>author</th>\n",
       "      <th>num_comments</th>\n",
       "      <th>score</th>\n",
       "      <th>is_self</th>\n",
       "      <th>timestamp</th>\n",
       "    </tr>\n",
       "  </thead>\n",
       "  <tbody>\n",
       "    <tr>\n",
       "      <th>0</th>\n",
       "      <td>Parents with T1D kids on low carb diet. Any im...</td>\n",
       "      <td>Hi all. My son (7) is t1d and is on a low carb...</td>\n",
       "      <td>diabetes_t1</td>\n",
       "      <td>1582052715</td>\n",
       "      <td>midnightcaller</td>\n",
       "      <td>4</td>\n",
       "      <td>1</td>\n",
       "      <td>True</td>\n",
       "      <td>2020-02-18</td>\n",
       "    </tr>\n",
       "    <tr>\n",
       "      <th>1</th>\n",
       "      <td>HBA1C results (2 months since diagnosis)</td>\n",
       "      <td>Diagnosed with type 1 mid December 2019, admit...</td>\n",
       "      <td>diabetes_t1</td>\n",
       "      <td>1582054702</td>\n",
       "      <td>snazehhh</td>\n",
       "      <td>1</td>\n",
       "      <td>1</td>\n",
       "      <td>True</td>\n",
       "      <td>2020-02-18</td>\n",
       "    </tr>\n",
       "    <tr>\n",
       "      <th>2</th>\n",
       "      <td>Type 1 diabetes and mood swings</td>\n",
       "      <td>Does anyone here feel that their diabetes can ...</td>\n",
       "      <td>diabetes_t1</td>\n",
       "      <td>1582057153</td>\n",
       "      <td>b-lavender</td>\n",
       "      <td>5</td>\n",
       "      <td>1</td>\n",
       "      <td>True</td>\n",
       "      <td>2020-02-18</td>\n",
       "    </tr>\n",
       "    <tr>\n",
       "      <th>3</th>\n",
       "      <td>Bes countries to live in being diabetic</td>\n",
       "      <td>hello, I wanted to know which are the best cou...</td>\n",
       "      <td>diabetes_t1</td>\n",
       "      <td>1582062986</td>\n",
       "      <td>tiagob94</td>\n",
       "      <td>0</td>\n",
       "      <td>1</td>\n",
       "      <td>True</td>\n",
       "      <td>2020-02-18</td>\n",
       "    </tr>\n",
       "    <tr>\n",
       "      <th>4</th>\n",
       "      <td>Best countries to live in being diabetic</td>\n",
       "      <td>hello, I wanted to know which are the best cou...</td>\n",
       "      <td>diabetes_t1</td>\n",
       "      <td>1582063056</td>\n",
       "      <td>tiagob94</td>\n",
       "      <td>0</td>\n",
       "      <td>1</td>\n",
       "      <td>True</td>\n",
       "      <td>2020-02-18</td>\n",
       "    </tr>\n",
       "  </tbody>\n",
       "</table>\n",
       "</div>"
      ],
      "text/plain": [
       "                                               title  \\\n",
       "0  Parents with T1D kids on low carb diet. Any im...   \n",
       "1           HBA1C results (2 months since diagnosis)   \n",
       "2                    Type 1 diabetes and mood swings   \n",
       "3            Bes countries to live in being diabetic   \n",
       "4           Best countries to live in being diabetic   \n",
       "\n",
       "                                            selftext    subreddit  \\\n",
       "0  Hi all. My son (7) is t1d and is on a low carb...  diabetes_t1   \n",
       "1  Diagnosed with type 1 mid December 2019, admit...  diabetes_t1   \n",
       "2  Does anyone here feel that their diabetes can ...  diabetes_t1   \n",
       "3  hello, I wanted to know which are the best cou...  diabetes_t1   \n",
       "4  hello, I wanted to know which are the best cou...  diabetes_t1   \n",
       "\n",
       "   created_utc          author  num_comments  score  is_self   timestamp  \n",
       "0   1582052715  midnightcaller             4      1     True  2020-02-18  \n",
       "1   1582054702        snazehhh             1      1     True  2020-02-18  \n",
       "2   1582057153      b-lavender             5      1     True  2020-02-18  \n",
       "3   1582062986        tiagob94             0      1     True  2020-02-18  \n",
       "4   1582063056        tiagob94             0      1     True  2020-02-18  "
      ]
     },
     "execution_count": 7,
     "metadata": {},
     "output_type": "execute_result"
    }
   ],
   "source": [
    "t1.head()"
   ]
  },
  {
   "cell_type": "code",
   "execution_count": 8,
   "metadata": {},
   "outputs": [],
   "source": [
    "t1['all_text'] = t1['title']+t1['selftext']"
   ]
  },
  {
   "cell_type": "markdown",
   "metadata": {},
   "source": [
    "We verify how many of our rows are actually not filled with text, and we drop those rows as they will hinder our analysis. We verify how many rows we have left after this procedure. We see we had to drop 180 rows, and we are left with 4283 posts in good shape to be analyzed. "
   ]
  },
  {
   "cell_type": "code",
   "execution_count": 9,
   "metadata": {
    "scrolled": true
   },
   "outputs": [
    {
     "data": {
      "text/plain": [
       "title             0\n",
       "selftext        180\n",
       "subreddit         0\n",
       "created_utc       0\n",
       "author            0\n",
       "num_comments      0\n",
       "score             0\n",
       "is_self           0\n",
       "timestamp         0\n",
       "all_text        180\n",
       "dtype: int64"
      ]
     },
     "execution_count": 9,
     "metadata": {},
     "output_type": "execute_result"
    }
   ],
   "source": [
    "t1.isnull().sum()"
   ]
  },
  {
   "cell_type": "code",
   "execution_count": 10,
   "metadata": {},
   "outputs": [
    {
     "data": {
      "text/plain": [
       "(4283, 10)"
      ]
     },
     "execution_count": 10,
     "metadata": {},
     "output_type": "execute_result"
    }
   ],
   "source": [
    "t1.dropna(inplace = True)\n",
    "t1.shape"
   ]
  },
  {
   "cell_type": "code",
   "execution_count": 11,
   "metadata": {},
   "outputs": [],
   "source": [
    "t1.reset_index(drop=True, inplace = True)"
   ]
  },
  {
   "cell_type": "code",
   "execution_count": 12,
   "metadata": {},
   "outputs": [
    {
     "data": {
      "text/html": [
       "<div>\n",
       "<style scoped>\n",
       "    .dataframe tbody tr th:only-of-type {\n",
       "        vertical-align: middle;\n",
       "    }\n",
       "\n",
       "    .dataframe tbody tr th {\n",
       "        vertical-align: top;\n",
       "    }\n",
       "\n",
       "    .dataframe thead th {\n",
       "        text-align: right;\n",
       "    }\n",
       "</style>\n",
       "<table border=\"1\" class=\"dataframe\">\n",
       "  <thead>\n",
       "    <tr style=\"text-align: right;\">\n",
       "      <th></th>\n",
       "      <th>title</th>\n",
       "      <th>selftext</th>\n",
       "      <th>subreddit</th>\n",
       "      <th>created_utc</th>\n",
       "      <th>author</th>\n",
       "      <th>num_comments</th>\n",
       "      <th>score</th>\n",
       "      <th>is_self</th>\n",
       "      <th>timestamp</th>\n",
       "      <th>all_text</th>\n",
       "    </tr>\n",
       "  </thead>\n",
       "  <tbody>\n",
       "    <tr>\n",
       "      <th>4278</th>\n",
       "      <td>So I was just diagnosed with Rhabdomyolysis</td>\n",
       "      <td>I actually wasn't. But I received a lovely let...</td>\n",
       "      <td>diabetes_t1</td>\n",
       "      <td>1551967031</td>\n",
       "      <td>athomesuperstar</td>\n",
       "      <td>2</td>\n",
       "      <td>14</td>\n",
       "      <td>True</td>\n",
       "      <td>2019-03-07</td>\n",
       "      <td>So I was just diagnosed with RhabdomyolysisI a...</td>\n",
       "    </tr>\n",
       "    <tr>\n",
       "      <th>4279</th>\n",
       "      <td>Today marks 30 years</td>\n",
       "      <td>30 years. Not my 30th birthday to be clear. 30...</td>\n",
       "      <td>diabetes_t1</td>\n",
       "      <td>1551971230</td>\n",
       "      <td>KomarKatz</td>\n",
       "      <td>24</td>\n",
       "      <td>120</td>\n",
       "      <td>True</td>\n",
       "      <td>2019-03-07</td>\n",
       "      <td>Today marks 30 years30 years. Not my 30th birt...</td>\n",
       "    </tr>\n",
       "    <tr>\n",
       "      <th>4280</th>\n",
       "      <td>I need help, having lows..........</td>\n",
       "      <td>My doctor recently suggested that I try follow...</td>\n",
       "      <td>diabetes_t1</td>\n",
       "      <td>1551973846</td>\n",
       "      <td>Grammabear2</td>\n",
       "      <td>4</td>\n",
       "      <td>3</td>\n",
       "      <td>True</td>\n",
       "      <td>2019-03-07</td>\n",
       "      <td>I need help, having lows..........My doctor re...</td>\n",
       "    </tr>\n",
       "    <tr>\n",
       "      <th>4281</th>\n",
       "      <td>Anyone using the Omnipod Dash yet?</td>\n",
       "      <td>My doctor told me some people have received th...</td>\n",
       "      <td>diabetes_t1</td>\n",
       "      <td>1551975353</td>\n",
       "      <td>rchase94</td>\n",
       "      <td>0</td>\n",
       "      <td>1</td>\n",
       "      <td>True</td>\n",
       "      <td>2019-03-07</td>\n",
       "      <td>Anyone using the Omnipod Dash yet?My doctor to...</td>\n",
       "    </tr>\n",
       "    <tr>\n",
       "      <th>4282</th>\n",
       "      <td>Experiences with Fiasp</td>\n",
       "      <td>My doctor gave me a sample of Fiasp to try in ...</td>\n",
       "      <td>diabetes_t1</td>\n",
       "      <td>1551979654</td>\n",
       "      <td>zEUjgdWX</td>\n",
       "      <td>6</td>\n",
       "      <td>4</td>\n",
       "      <td>True</td>\n",
       "      <td>2019-03-07</td>\n",
       "      <td>Experiences with FiaspMy doctor gave me a samp...</td>\n",
       "    </tr>\n",
       "  </tbody>\n",
       "</table>\n",
       "</div>"
      ],
      "text/plain": [
       "                                            title  \\\n",
       "4278  So I was just diagnosed with Rhabdomyolysis   \n",
       "4279                         Today marks 30 years   \n",
       "4280           I need help, having lows..........   \n",
       "4281           Anyone using the Omnipod Dash yet?   \n",
       "4282                       Experiences with Fiasp   \n",
       "\n",
       "                                               selftext    subreddit  \\\n",
       "4278  I actually wasn't. But I received a lovely let...  diabetes_t1   \n",
       "4279  30 years. Not my 30th birthday to be clear. 30...  diabetes_t1   \n",
       "4280  My doctor recently suggested that I try follow...  diabetes_t1   \n",
       "4281  My doctor told me some people have received th...  diabetes_t1   \n",
       "4282  My doctor gave me a sample of Fiasp to try in ...  diabetes_t1   \n",
       "\n",
       "      created_utc           author  num_comments  score  is_self   timestamp  \\\n",
       "4278   1551967031  athomesuperstar             2     14     True  2019-03-07   \n",
       "4279   1551971230        KomarKatz            24    120     True  2019-03-07   \n",
       "4280   1551973846      Grammabear2             4      3     True  2019-03-07   \n",
       "4281   1551975353         rchase94             0      1     True  2019-03-07   \n",
       "4282   1551979654         zEUjgdWX             6      4     True  2019-03-07   \n",
       "\n",
       "                                               all_text  \n",
       "4278  So I was just diagnosed with RhabdomyolysisI a...  \n",
       "4279  Today marks 30 years30 years. Not my 30th birt...  \n",
       "4280  I need help, having lows..........My doctor re...  \n",
       "4281  Anyone using the Omnipod Dash yet?My doctor to...  \n",
       "4282  Experiences with FiaspMy doctor gave me a samp...  "
      ]
     },
     "execution_count": 12,
     "metadata": {},
     "output_type": "execute_result"
    }
   ],
   "source": [
    "t1.tail()"
   ]
  },
  {
   "cell_type": "markdown",
   "metadata": {},
   "source": [
    "We will tokenize out text in order for our further analysis to be possible. \n",
    "Tokenization is the act of breaking up a sequence of strings into pieces such as words, keywords, phrases, symbols and other elements called tokens. In the process of tokenization, some characters like punctuation marks are discarded. We will keep all our words and numeral symbols, but we will discard symbols, such as punctuation marks and backslashes - since we are interested in keeping only the words in each of the posts we will analyze. First we will import our tokenizer, and then we will aply it on the column that contains the text we wish to analyze.  "
   ]
  },
  {
   "cell_type": "code",
   "execution_count": 13,
   "metadata": {},
   "outputs": [],
   "source": [
    "tokenizer = RegexpTokenizer(r'\\w+')"
   ]
  },
  {
   "cell_type": "code",
   "execution_count": 14,
   "metadata": {},
   "outputs": [],
   "source": [
    "t1['all_text'] = t1['all_text'].apply(tokenizer.tokenize)"
   ]
  },
  {
   "cell_type": "markdown",
   "metadata": {},
   "source": [
    "Since the tokenizing process transforms our column of text into a column of lists of \"tokens\" aka words - as you can see in the cell below - we now need to transform the list back into text. We verify that our code works on the first row of our dataframe:"
   ]
  },
  {
   "cell_type": "code",
   "execution_count": 15,
   "metadata": {
    "scrolled": true
   },
   "outputs": [
    {
     "data": {
      "text/plain": [
       "'Parents with T1D kids on low carb diet Any impact on growth milestones Hi all My son 7 is t1d and is on a low carb diet It s resulted in great blood sugar control but in the last few check ups he s been falling well behind on height milestones Does anyone have any experience good or bad with this I m concerned the diet may be impacting his development Thanks'"
      ]
     },
     "execution_count": 15,
     "metadata": {},
     "output_type": "execute_result"
    }
   ],
   "source": [
    "' '.join(t1['all_text'][0])"
   ]
  },
  {
   "cell_type": "markdown",
   "metadata": {},
   "source": [
    "We apply this process to our entire \"all_text\" column, and we create a column with the text tokenized an ready to be analyzed which we will call \"text\"."
   ]
  },
  {
   "cell_type": "code",
   "execution_count": 16,
   "metadata": {},
   "outputs": [],
   "source": [
    "new_texts = t1['all_text']\n",
    "\n",
    "text_final  = []\n",
    "for text in new_texts:\n",
    "    ready = ' '.join(text)\n",
    "    text_final.append(ready)\n",
    "\n",
    "t1['text'] = text_final"
   ]
  },
  {
   "cell_type": "markdown",
   "metadata": {},
   "source": [
    "## Model Preparation"
   ]
  },
  {
   "cell_type": "markdown",
   "metadata": {},
   "source": [
    "We will create a new dataframe, called X, which will hold only the text to be analized, and we verify it's general structure:"
   ]
  },
  {
   "cell_type": "code",
   "execution_count": 17,
   "metadata": {},
   "outputs": [
    {
     "data": {
      "text/plain": [
       "0    Parents with T1D kids on low carb diet Any imp...\n",
       "1    HBA1C results 2 months since diagnosis Diagnos...\n",
       "2    Type 1 diabetes and mood swingsDoes anyone her...\n",
       "3    Bes countries to live in being diabetichello I...\n",
       "4    Best countries to live in being diabetichello ...\n",
       "Name: text, dtype: object"
      ]
     },
     "execution_count": 17,
     "metadata": {},
     "output_type": "execute_result"
    }
   ],
   "source": [
    "X = t1['text']\n",
    "X.head()"
   ]
  },
  {
   "cell_type": "code",
   "execution_count": 18,
   "metadata": {},
   "outputs": [
    {
     "data": {
      "text/plain": [
       "(4283,)"
      ]
     },
     "execution_count": 18,
     "metadata": {},
     "output_type": "execute_result"
    }
   ],
   "source": [
    "X.shape"
   ]
  },
  {
   "cell_type": "markdown",
   "metadata": {},
   "source": [
    "Now that we have our data ready to be worked on, we can import a list of stopwords to be eliminated from the text to be analyzed. Also, We decide to eliminate words that will appear in these posts with no necessary impact on the meaning of the posts. Since all these posts have to do with diabetes, we decide to eliminate words such as \n",
    "'diabetes', 'insulin', 'blood', 'sugar', 'diabetic\". They are words likely to appear in each of the posts we have - and indeed performing an innitial search on our posts they do appear prevalent and will not create proper clustering. We also decided to eliminate words such as 'hi', 'https', 'www', as they are greeting words, or  internet addresses. \n"
   ]
  },
  {
   "cell_type": "code",
   "execution_count": 19,
   "metadata": {},
   "outputs": [],
   "source": [
    "from sklearn.feature_extraction import stop_words"
   ]
  },
  {
   "cell_type": "code",
   "execution_count": 27,
   "metadata": {
    "scrolled": false
   },
   "outputs": [
    {
     "name": "stdout",
     "output_type": "stream",
     "text": [
      "frozenset({'eg', 'many', 'your', 'within', 'for', 'latter', 'upon', 'put', 'bill', 'however', 'hereby', 'he', 'anyone', 'twelve', 'much', 'back', 'none', 'once', 'anyhow', 'six', 'down', 'and', 'are', 'you', 'of', 'in', 'mill', 'least', 'due', 'further', 'indeed', 'cry', 'well', 'nevertheless', 'serious', 'never', 'whence', 'above', 'being', 'some', 'herself', 'amongst', 'amoungst', 'since', 'together', 'she', 'therein', 'still', 'may', 'everyone', 'fifty', 'why', 'sincere', 'behind', 'nor', 'noone', 'nobody', 'someone', 'side', 'whatever', 'is', 'hers', 'describe', 'cannot', 'our', 'co', 'therefore', 'the', 'latterly', 'whereas', 'four', 'themselves', 'whom', 'several', 'them', 'full', 'empty', 'here', 'un', 'myself', 'sixty', 'any', 'both', 'can', 'cant', 'him', 'be', 'towards', 'or', 'into', 'forty', 'becoming', 'while', 'its', 'seems', 'except', 'thence', 'five', 'rather', 'too', 'must', 'less', 'nine', 'whereby', 'seemed', 'former', 'moreover', 'among', 'though', 'beyond', 'always', 'between', 'thus', 'what', 'move', 'hence', 'before', 'de', 'than', 'each', 'twenty', 'bottom', 'was', 'if', 'two', 'hereafter', 'onto', 'around', 'amount', 'part', 'me', 'else', 'after', 'mostly', 'eight', 'already', 'more', 'below', 'front', 'wherein', 'whether', 'hundred', 'thereby', 'to', 'whenever', 'hasnt', 'from', 'ie', 'whose', 'another', 'thereupon', 'give', 'but', 'along', 'itself', 'without', 'three', 'ltd', 'could', 'on', 'with', 'every', 'per', 'they', 'etc', 'himself', 'out', 'their', 'either', 'because', 'again', 'one', 'such', 'whereafter', 'might', 'via', 'only', 'so', 'few', 'fifteen', 'go', 'own', 'thereafter', 'a', 'please', 'as', 'beforehand', 'seeming', 'yours', 'first', 'off', 'sometime', 'whither', 'almost', 'through', 'often', 'over', 'everything', 'his', 'which', 'were', 'becomes', 'namely', 'there', 'it', 'anything', 'yourselves', 'whereupon', 'now', 'where', 'ours', 'those', 'toward', 'then', 'system', 'formerly', 'otherwise', 'interest', 'herein', 'made', 'con', 'sometimes', 'has', 'anyway', 'thru', 'neither', 'thin', 'not', 'found', 'top', 'throughout', 'do', 'beside', 'at', 'hereupon', 'against', 'call', 'fire', 'other', 'alone', 'how', 'ourselves', 'us', 'most', 'we', 'mine', 'although', 'across', 'enough', 'somewhere', 'keep', 'my', 'her', 'name', 'next', 'become', 'everywhere', 'would', 'perhaps', 'see', 'nothing', 'whoever', 'became', 'who', 'detail', 'take', 'something', 'this', 'yet', 'also', 'have', 'elsewhere', 'been', 'get', 'find', 'third', 'by', 'even', 'about', 'same', 'that', 'somehow', 'couldnt', 'wherever', 'during', 'very', 'fill', 'meanwhile', 'i', 'thick', 'all', 'last', 'anywhere', 'when', 'whole', 'eleven', 'seem', 'these', 'nowhere', 'until', 'besides', 'an', 'should', 'had', 'up', 're', 'show', 'inc', 'others', 'afterwards', 'done', 'no', 'will', 'ever', 'am', 'under', 'yourself', 'ten'})\n"
     ]
    }
   ],
   "source": [
    "print(stop_words.ENGLISH_STOP_WORDS)"
   ]
  },
  {
   "cell_type": "code",
   "execution_count": 295,
   "metadata": {},
   "outputs": [
    {
     "data": {
      "text/plain": [
       "frozenset"
      ]
     },
     "execution_count": 295,
     "metadata": {},
     "output_type": "execute_result"
    }
   ],
   "source": [
    "type(stopwords)"
   ]
  },
  {
   "cell_type": "code",
   "execution_count": 430,
   "metadata": {},
   "outputs": [],
   "source": [
    "stop=set(stopwords)\n",
    "stop.add('hi')\n",
    "stop.add('s')\n",
    "stop.add('m')\n",
    "stop.add('diabetes')\n",
    "stop.add('just')\n",
    "stop.add('insulin')\n",
    "stop.add('blood')\n",
    "stop.add('sugar')\n",
    "stop.add('ve')\n",
    "stop.add('type')\n",
    "stop.add('https')\n",
    "stop.add('com')\n",
    "stop.add('www')\n",
    "stop.add('https www')\n",
    "stop.add('like')\n",
    "stop.add('don')\n",
    "stop.add('know')\n",
    "stop.add('time')\n",
    "stop.add('years')\n",
    "stop.add('day')\n",
    "stop.add('does')\n",
    "stop.add('going')\n",
    "stop.add('got')\n",
    "stop.add('use')\n",
    "stop.add('using')\n",
    "stop.add('really')\n",
    "stop.add('having')\n",
    "stop.add('diabetic')\n",
    "stop.add('diagnosed')\n"
   ]
  },
  {
   "cell_type": "markdown",
   "metadata": {},
   "source": [
    "We can finaly apply our vectorizers - we decided to try both CountVectorizer and  TfidF - which is short for Term frequency–inverse document frequency - on our cleaned text. As we proceeded and tried both vecorizers - we observed that our unsupervised machine learning works better on our text processed with TfidF. That makes sense as Tfidf practically calculates how relevant a word is in a document - and that is exaclty what we need in our case. We apply Tfidf with the set of stopwords defined above, and we decide to try and find n_grams in the range of 1 to 3, and to keep the maximum features (words that will be appearing in our sparse matrix created by tfidf in our case) to 10000. We will therefore obtain a sparse matrix with 4283 rows and 10000 columns (as we can see in the thris cell bellow). "
   ]
  },
  {
   "cell_type": "code",
   "execution_count": 431,
   "metadata": {},
   "outputs": [],
   "source": [
    "tf = TfidfVectorizer(stop_words = stop, ngram_range = (1, 3), max_features = 10000)"
   ]
  },
  {
   "cell_type": "code",
   "execution_count": 432,
   "metadata": {},
   "outputs": [],
   "source": [
    "train_tf = tf.fit_transform(X)"
   ]
  },
  {
   "cell_type": "code",
   "execution_count": 433,
   "metadata": {},
   "outputs": [
    {
     "data": {
      "text/plain": [
       "(4283, 10000)"
      ]
     },
     "execution_count": 433,
     "metadata": {},
     "output_type": "execute_result"
    }
   ],
   "source": [
    "train_tf.shape"
   ]
  },
  {
   "cell_type": "markdown",
   "metadata": {},
   "source": [
    "## Modeling - KMeans Clustering\n"
   ]
  },
  {
   "cell_type": "markdown",
   "metadata": {},
   "source": [
    "We will be choosing the number of clusters in a K-means model using the silhouette score for our K-menas clusters. The silhouette value is a measure of how similar an object is to its own cluster (cohesion) compared to other clusters (separation). The silhouette ranges from −1 to +1, where a high value indicates that the object is well matched to its own cluster and poorly matched to neighboring clusters."
   ]
  },
  {
   "cell_type": "code",
   "execution_count": 165,
   "metadata": {},
   "outputs": [],
   "source": [
    "scores_tf =[]\n",
    "for k in range (5, 50):\n",
    "    cl_tf = KMeans(n_clusters = k, random_state = 100)\n",
    "    cl_tf.fit(train_tf)\n",
    "    inertia = cl_tf.inertia_\n",
    "    sil = silhouette_score(train_tf, cl_tf.labels_)\n",
    "    scores_tf.append((k, inertia, sil))"
   ]
  },
  {
   "cell_type": "code",
   "execution_count": 214,
   "metadata": {},
   "outputs": [],
   "source": [
    "score_tf_t1 = pd.DataFrame(scores_tf, columns = [\"k\", \"inertia\", \"sil\"])\n",
    "score_tf_t1\n",
    "score_tf_t1.to_csv('sil_scores', index=False)  "
   ]
  },
  {
   "cell_type": "code",
   "execution_count": 300,
   "metadata": {},
   "outputs": [],
   "source": [
    "score_tf_t1 = pd.read_csv('sil_scores')"
   ]
  },
  {
   "cell_type": "markdown",
   "metadata": {},
   "source": [
    "We observe that our silhouette scores are extremely small - we start at 0.03, and we barely get to under 0.007 for  clusters up to 11. \n",
    "\n",
    "That informs us that our clusters are not extremely well separated - and indeed considering the topic - there will be overlap between our clusters, the cohesion will be small and the separation will be rather poor too. It is difficult to find a clear demarcation in such a compact thread as one dedicated to a disease  such as type 1 diabetes - as all topics will more or less converge to very similar subjects of interest that can obverlap quite easily. \n",
    "\n",
    "Still - we observe above that our sihouette score increases slightly as the number of clusters (k) - and it starts to plateau at around .011 as k = 35. \n",
    "\n",
    "We choose a double apporach a conservative one with k = 6 where we  notice the first local maxima at 0.0063, and then a drop in the silhouette score, and then we will take a more expansive approacg - one with k = 30 where  the silhouette score starts to hover at 0.01 - with so many clusters we will go to a very deep, granular level and see more topics of interest in the corpus we are studying. "
   ]
  },
  {
   "cell_type": "code",
   "execution_count": 301,
   "metadata": {},
   "outputs": [
    {
     "data": {
      "image/png": "[encoded data removed]",
      "text/plain": [
       "<Figure size 1008x504 with 2 Axes>"
      ]
     },
     "metadata": {},
     "output_type": "display_data"
    }
   ],
   "source": [
    "fig, axes = plt.subplots(1, 2, figsize=(14, 7))\n",
    "axes[0].plot(score_tf_t1.k, score_tf_t1.inertia)\n",
    "axes[0].set_title('Inertia over k')\n",
    "axes[1].plot(score_tf_t1.k, score_tf_t1.sil);\n",
    "axes[1].set_title('Silhouette Score over k');"
   ]
  },
  {
   "cell_type": "markdown",
   "metadata": {},
   "source": [
    "In the graph above we observe that as we increase our cluster number, k, the silhouette score increases too - although it still is well below 1. We predict there will be a difficult demarcation between our clusters, as the topics will most likely touch on each other. "
   ]
  },
  {
   "cell_type": "markdown",
   "metadata": {},
   "source": [
    "FUnction to help calculate distance to the cluster centroid - needs work!"
   ]
  },
  {
   "cell_type": "code",
   "execution_count": 1,
   "metadata": {},
   "outputs": [
    {
     "ename": "NameError",
     "evalue": "name 'km_tf_6' is not defined",
     "output_type": "error",
     "traceback": [
      "\u001b[0;31m---------------------------------------------------------------------------\u001b[0m",
      "\u001b[0;31mNameError\u001b[0m                                 Traceback (most recent call last)",
      "\u001b[0;32m<ipython-input-1-3f07edd780e3>\u001b[0m in \u001b[0;36m<module>\u001b[0;34m\u001b[0m\n\u001b[0;32m----> 1\u001b[0;31m \u001b[0mclusters\u001b[0m\u001b[0;34m=\u001b[0m\u001b[0mkm_tf_6\u001b[0m\u001b[0;34m.\u001b[0m\u001b[0mfit_predict\u001b[0m\u001b[0;34m(\u001b[0m\u001b[0mtrain_tf\u001b[0m\u001b[0;34m)\u001b[0m\u001b[0;34m\u001b[0m\u001b[0;34m\u001b[0m\u001b[0m\n\u001b[0m",
      "\u001b[0;31mNameError\u001b[0m: name 'km_tf_6' is not defined"
     ]
    }
   ],
   "source": [
    "clusters=km_tf_6.fit_predict(train_tf)\n",
    "\n",
    "centroids = km_tf_6.cluster_centers_\n",
    "len(centroids[0])"
   ]
  },
  {
   "cell_type": "code",
   "execution_count": 2,
   "metadata": {},
   "outputs": [
    {
     "ename": "NameError",
     "evalue": "name 'km_tf_6' is not defined",
     "output_type": "error",
     "traceback": [
      "\u001b[0;31m---------------------------------------------------------------------------\u001b[0m",
      "\u001b[0;31mNameError\u001b[0m                                 Traceback (most recent call last)",
      "\u001b[0;32m<ipython-input-2-48818ddb87f7>\u001b[0m in \u001b[0;36m<module>\u001b[0;34m\u001b[0m\n\u001b[1;32m      4\u001b[0m         \u001b[0;32mreturn\u001b[0m \u001b[0mdistances\u001b[0m\u001b[0;34m\u001b[0m\u001b[0;34m\u001b[0m\u001b[0m\n\u001b[1;32m      5\u001b[0m \u001b[0;34m\u001b[0m\u001b[0m\n\u001b[0;32m----> 6\u001b[0;31m \u001b[0mclusters\u001b[0m\u001b[0;34m=\u001b[0m\u001b[0mkm_tf_6\u001b[0m\u001b[0;34m.\u001b[0m\u001b[0mfit_predict\u001b[0m\u001b[0;34m(\u001b[0m\u001b[0mtrain_tf\u001b[0m\u001b[0;34m)\u001b[0m\u001b[0;34m\u001b[0m\u001b[0;34m\u001b[0m\u001b[0m\n\u001b[0m\u001b[1;32m      7\u001b[0m \u001b[0mcentroids\u001b[0m \u001b[0;34m=\u001b[0m \u001b[0mkm_tf_6\u001b[0m\u001b[0;34m.\u001b[0m\u001b[0mcluster_centers_\u001b[0m\u001b[0;34m\u001b[0m\u001b[0;34m\u001b[0m\u001b[0m\n\u001b[1;32m      8\u001b[0m \u001b[0;34m\u001b[0m\u001b[0m\n",
      "\u001b[0;31mNameError\u001b[0m: name 'km_tf_6' is not defined"
     ]
    }
   ],
   "source": [
    "#needs to loop through 10000 distances not just 2\n",
    "def k_mean_distance(data, cx, cy, i_centroid, cluster_labels):\n",
    "        distances = [np.sqrt((x-cx)**2+(y-cy)**2) for (x, y) in data[cluster_labels == i_centroid]]\n",
    "        return distances\n",
    "    \n",
    "clusters=km_tf_6.fit_predict(train_tf)\n",
    "centroids = km_tf_6.cluster_centers_\n",
    "\n",
    "distances = []\n",
    "for i, (cx, cy) in enumerate(centroids):\n",
    "    mean_distance = k_mean_distance(train_tf, cx, cy, i, clusters)\n",
    "    distances.append(mean_distance)\n",
    "\n",
    "print(distances)"
   ]
  },
  {
   "cell_type": "markdown",
   "metadata": {},
   "source": [
    "## KMeans with 30 clusters"
   ]
  },
  {
   "cell_type": "code",
   "execution_count": 131,
   "metadata": {},
   "outputs": [
    {
     "data": {
      "text/plain": [
       "KMeans(algorithm='auto', copy_x=True, init='k-means++', max_iter=300,\n",
       "       n_clusters=30, n_init=10, n_jobs=None, precompute_distances='auto',\n",
       "       random_state=100, tol=0.0001, verbose=0)"
      ]
     },
     "execution_count": 131,
     "metadata": {},
     "output_type": "execute_result"
    }
   ],
   "source": [
    "km_tf_30 = KMeans(n_clusters = 30, random_state = 100)\n",
    "km_tf_30.fit(train_tf)\n"
   ]
  },
  {
   "cell_type": "code",
   "execution_count": 132,
   "metadata": {},
   "outputs": [
    {
     "data": {
      "text/html": [
       "<div>\n",
       "<style scoped>\n",
       "    .dataframe tbody tr th:only-of-type {\n",
       "        vertical-align: middle;\n",
       "    }\n",
       "\n",
       "    .dataframe tbody tr th {\n",
       "        vertical-align: top;\n",
       "    }\n",
       "\n",
       "    .dataframe thead th {\n",
       "        text-align: right;\n",
       "    }\n",
       "</style>\n",
       "<table border=\"1\" class=\"dataframe\">\n",
       "  <thead>\n",
       "    <tr style=\"text-align: right;\">\n",
       "      <th></th>\n",
       "      <th>00</th>\n",
       "      <th>00 pm</th>\n",
       "      <th>000</th>\n",
       "      <th>01</th>\n",
       "      <th>04</th>\n",
       "      <th>05</th>\n",
       "      <th>06</th>\n",
       "      <th>07</th>\n",
       "      <th>08</th>\n",
       "      <th>10</th>\n",
       "      <th>...</th>\n",
       "      <th>youtube</th>\n",
       "      <th>youtube channel</th>\n",
       "      <th>youtube watch</th>\n",
       "      <th>yr</th>\n",
       "      <th>yr old</th>\n",
       "      <th>yrs</th>\n",
       "      <th>yup</th>\n",
       "      <th>zero</th>\n",
       "      <th>zero carb</th>\n",
       "      <th>zone</th>\n",
       "    </tr>\n",
       "    <tr>\n",
       "      <th>cluster</th>\n",
       "      <th></th>\n",
       "      <th></th>\n",
       "      <th></th>\n",
       "      <th></th>\n",
       "      <th></th>\n",
       "      <th></th>\n",
       "      <th></th>\n",
       "      <th></th>\n",
       "      <th></th>\n",
       "      <th></th>\n",
       "      <th></th>\n",
       "      <th></th>\n",
       "      <th></th>\n",
       "      <th></th>\n",
       "      <th></th>\n",
       "      <th></th>\n",
       "      <th></th>\n",
       "      <th></th>\n",
       "      <th></th>\n",
       "      <th></th>\n",
       "      <th></th>\n",
       "    </tr>\n",
       "  </thead>\n",
       "  <tbody>\n",
       "    <tr>\n",
       "      <th>0</th>\n",
       "      <td>98</td>\n",
       "      <td>98</td>\n",
       "      <td>98</td>\n",
       "      <td>98</td>\n",
       "      <td>98</td>\n",
       "      <td>98</td>\n",
       "      <td>98</td>\n",
       "      <td>98</td>\n",
       "      <td>98</td>\n",
       "      <td>98</td>\n",
       "      <td>...</td>\n",
       "      <td>98</td>\n",
       "      <td>98</td>\n",
       "      <td>98</td>\n",
       "      <td>98</td>\n",
       "      <td>98</td>\n",
       "      <td>98</td>\n",
       "      <td>98</td>\n",
       "      <td>98</td>\n",
       "      <td>98</td>\n",
       "      <td>98</td>\n",
       "    </tr>\n",
       "    <tr>\n",
       "      <th>1</th>\n",
       "      <td>93</td>\n",
       "      <td>93</td>\n",
       "      <td>93</td>\n",
       "      <td>93</td>\n",
       "      <td>93</td>\n",
       "      <td>93</td>\n",
       "      <td>93</td>\n",
       "      <td>93</td>\n",
       "      <td>93</td>\n",
       "      <td>93</td>\n",
       "      <td>...</td>\n",
       "      <td>93</td>\n",
       "      <td>93</td>\n",
       "      <td>93</td>\n",
       "      <td>93</td>\n",
       "      <td>93</td>\n",
       "      <td>93</td>\n",
       "      <td>93</td>\n",
       "      <td>93</td>\n",
       "      <td>93</td>\n",
       "      <td>93</td>\n",
       "    </tr>\n",
       "    <tr>\n",
       "      <th>2</th>\n",
       "      <td>126</td>\n",
       "      <td>126</td>\n",
       "      <td>126</td>\n",
       "      <td>126</td>\n",
       "      <td>126</td>\n",
       "      <td>126</td>\n",
       "      <td>126</td>\n",
       "      <td>126</td>\n",
       "      <td>126</td>\n",
       "      <td>126</td>\n",
       "      <td>...</td>\n",
       "      <td>126</td>\n",
       "      <td>126</td>\n",
       "      <td>126</td>\n",
       "      <td>126</td>\n",
       "      <td>126</td>\n",
       "      <td>126</td>\n",
       "      <td>126</td>\n",
       "      <td>126</td>\n",
       "      <td>126</td>\n",
       "      <td>126</td>\n",
       "    </tr>\n",
       "    <tr>\n",
       "      <th>3</th>\n",
       "      <td>216</td>\n",
       "      <td>216</td>\n",
       "      <td>216</td>\n",
       "      <td>216</td>\n",
       "      <td>216</td>\n",
       "      <td>216</td>\n",
       "      <td>216</td>\n",
       "      <td>216</td>\n",
       "      <td>216</td>\n",
       "      <td>216</td>\n",
       "      <td>...</td>\n",
       "      <td>216</td>\n",
       "      <td>216</td>\n",
       "      <td>216</td>\n",
       "      <td>216</td>\n",
       "      <td>216</td>\n",
       "      <td>216</td>\n",
       "      <td>216</td>\n",
       "      <td>216</td>\n",
       "      <td>216</td>\n",
       "      <td>216</td>\n",
       "    </tr>\n",
       "    <tr>\n",
       "      <th>4</th>\n",
       "      <td>102</td>\n",
       "      <td>102</td>\n",
       "      <td>102</td>\n",
       "      <td>102</td>\n",
       "      <td>102</td>\n",
       "      <td>102</td>\n",
       "      <td>102</td>\n",
       "      <td>102</td>\n",
       "      <td>102</td>\n",
       "      <td>102</td>\n",
       "      <td>...</td>\n",
       "      <td>102</td>\n",
       "      <td>102</td>\n",
       "      <td>102</td>\n",
       "      <td>102</td>\n",
       "      <td>102</td>\n",
       "      <td>102</td>\n",
       "      <td>102</td>\n",
       "      <td>102</td>\n",
       "      <td>102</td>\n",
       "      <td>102</td>\n",
       "    </tr>\n",
       "    <tr>\n",
       "      <th>5</th>\n",
       "      <td>1052</td>\n",
       "      <td>1052</td>\n",
       "      <td>1052</td>\n",
       "      <td>1052</td>\n",
       "      <td>1052</td>\n",
       "      <td>1052</td>\n",
       "      <td>1052</td>\n",
       "      <td>1052</td>\n",
       "      <td>1052</td>\n",
       "      <td>1052</td>\n",
       "      <td>...</td>\n",
       "      <td>1052</td>\n",
       "      <td>1052</td>\n",
       "      <td>1052</td>\n",
       "      <td>1052</td>\n",
       "      <td>1052</td>\n",
       "      <td>1052</td>\n",
       "      <td>1052</td>\n",
       "      <td>1052</td>\n",
       "      <td>1052</td>\n",
       "      <td>1052</td>\n",
       "    </tr>\n",
       "    <tr>\n",
       "      <th>6</th>\n",
       "      <td>152</td>\n",
       "      <td>152</td>\n",
       "      <td>152</td>\n",
       "      <td>152</td>\n",
       "      <td>152</td>\n",
       "      <td>152</td>\n",
       "      <td>152</td>\n",
       "      <td>152</td>\n",
       "      <td>152</td>\n",
       "      <td>152</td>\n",
       "      <td>...</td>\n",
       "      <td>152</td>\n",
       "      <td>152</td>\n",
       "      <td>152</td>\n",
       "      <td>152</td>\n",
       "      <td>152</td>\n",
       "      <td>152</td>\n",
       "      <td>152</td>\n",
       "      <td>152</td>\n",
       "      <td>152</td>\n",
       "      <td>152</td>\n",
       "    </tr>\n",
       "    <tr>\n",
       "      <th>7</th>\n",
       "      <td>58</td>\n",
       "      <td>58</td>\n",
       "      <td>58</td>\n",
       "      <td>58</td>\n",
       "      <td>58</td>\n",
       "      <td>58</td>\n",
       "      <td>58</td>\n",
       "      <td>58</td>\n",
       "      <td>58</td>\n",
       "      <td>58</td>\n",
       "      <td>...</td>\n",
       "      <td>58</td>\n",
       "      <td>58</td>\n",
       "      <td>58</td>\n",
       "      <td>58</td>\n",
       "      <td>58</td>\n",
       "      <td>58</td>\n",
       "      <td>58</td>\n",
       "      <td>58</td>\n",
       "      <td>58</td>\n",
       "      <td>58</td>\n",
       "    </tr>\n",
       "    <tr>\n",
       "      <th>8</th>\n",
       "      <td>161</td>\n",
       "      <td>161</td>\n",
       "      <td>161</td>\n",
       "      <td>161</td>\n",
       "      <td>161</td>\n",
       "      <td>161</td>\n",
       "      <td>161</td>\n",
       "      <td>161</td>\n",
       "      <td>161</td>\n",
       "      <td>161</td>\n",
       "      <td>...</td>\n",
       "      <td>161</td>\n",
       "      <td>161</td>\n",
       "      <td>161</td>\n",
       "      <td>161</td>\n",
       "      <td>161</td>\n",
       "      <td>161</td>\n",
       "      <td>161</td>\n",
       "      <td>161</td>\n",
       "      <td>161</td>\n",
       "      <td>161</td>\n",
       "    </tr>\n",
       "    <tr>\n",
       "      <th>9</th>\n",
       "      <td>94</td>\n",
       "      <td>94</td>\n",
       "      <td>94</td>\n",
       "      <td>94</td>\n",
       "      <td>94</td>\n",
       "      <td>94</td>\n",
       "      <td>94</td>\n",
       "      <td>94</td>\n",
       "      <td>94</td>\n",
       "      <td>94</td>\n",
       "      <td>...</td>\n",
       "      <td>94</td>\n",
       "      <td>94</td>\n",
       "      <td>94</td>\n",
       "      <td>94</td>\n",
       "      <td>94</td>\n",
       "      <td>94</td>\n",
       "      <td>94</td>\n",
       "      <td>94</td>\n",
       "      <td>94</td>\n",
       "      <td>94</td>\n",
       "    </tr>\n",
       "    <tr>\n",
       "      <th>10</th>\n",
       "      <td>77</td>\n",
       "      <td>77</td>\n",
       "      <td>77</td>\n",
       "      <td>77</td>\n",
       "      <td>77</td>\n",
       "      <td>77</td>\n",
       "      <td>77</td>\n",
       "      <td>77</td>\n",
       "      <td>77</td>\n",
       "      <td>77</td>\n",
       "      <td>...</td>\n",
       "      <td>77</td>\n",
       "      <td>77</td>\n",
       "      <td>77</td>\n",
       "      <td>77</td>\n",
       "      <td>77</td>\n",
       "      <td>77</td>\n",
       "      <td>77</td>\n",
       "      <td>77</td>\n",
       "      <td>77</td>\n",
       "      <td>77</td>\n",
       "    </tr>\n",
       "    <tr>\n",
       "      <th>11</th>\n",
       "      <td>100</td>\n",
       "      <td>100</td>\n",
       "      <td>100</td>\n",
       "      <td>100</td>\n",
       "      <td>100</td>\n",
       "      <td>100</td>\n",
       "      <td>100</td>\n",
       "      <td>100</td>\n",
       "      <td>100</td>\n",
       "      <td>100</td>\n",
       "      <td>...</td>\n",
       "      <td>100</td>\n",
       "      <td>100</td>\n",
       "      <td>100</td>\n",
       "      <td>100</td>\n",
       "      <td>100</td>\n",
       "      <td>100</td>\n",
       "      <td>100</td>\n",
       "      <td>100</td>\n",
       "      <td>100</td>\n",
       "      <td>100</td>\n",
       "    </tr>\n",
       "    <tr>\n",
       "      <th>12</th>\n",
       "      <td>80</td>\n",
       "      <td>80</td>\n",
       "      <td>80</td>\n",
       "      <td>80</td>\n",
       "      <td>80</td>\n",
       "      <td>80</td>\n",
       "      <td>80</td>\n",
       "      <td>80</td>\n",
       "      <td>80</td>\n",
       "      <td>80</td>\n",
       "      <td>...</td>\n",
       "      <td>80</td>\n",
       "      <td>80</td>\n",
       "      <td>80</td>\n",
       "      <td>80</td>\n",
       "      <td>80</td>\n",
       "      <td>80</td>\n",
       "      <td>80</td>\n",
       "      <td>80</td>\n",
       "      <td>80</td>\n",
       "      <td>80</td>\n",
       "    </tr>\n",
       "    <tr>\n",
       "      <th>13</th>\n",
       "      <td>74</td>\n",
       "      <td>74</td>\n",
       "      <td>74</td>\n",
       "      <td>74</td>\n",
       "      <td>74</td>\n",
       "      <td>74</td>\n",
       "      <td>74</td>\n",
       "      <td>74</td>\n",
       "      <td>74</td>\n",
       "      <td>74</td>\n",
       "      <td>...</td>\n",
       "      <td>74</td>\n",
       "      <td>74</td>\n",
       "      <td>74</td>\n",
       "      <td>74</td>\n",
       "      <td>74</td>\n",
       "      <td>74</td>\n",
       "      <td>74</td>\n",
       "      <td>74</td>\n",
       "      <td>74</td>\n",
       "      <td>74</td>\n",
       "    </tr>\n",
       "    <tr>\n",
       "      <th>14</th>\n",
       "      <td>94</td>\n",
       "      <td>94</td>\n",
       "      <td>94</td>\n",
       "      <td>94</td>\n",
       "      <td>94</td>\n",
       "      <td>94</td>\n",
       "      <td>94</td>\n",
       "      <td>94</td>\n",
       "      <td>94</td>\n",
       "      <td>94</td>\n",
       "      <td>...</td>\n",
       "      <td>94</td>\n",
       "      <td>94</td>\n",
       "      <td>94</td>\n",
       "      <td>94</td>\n",
       "      <td>94</td>\n",
       "      <td>94</td>\n",
       "      <td>94</td>\n",
       "      <td>94</td>\n",
       "      <td>94</td>\n",
       "      <td>94</td>\n",
       "    </tr>\n",
       "    <tr>\n",
       "      <th>15</th>\n",
       "      <td>283</td>\n",
       "      <td>283</td>\n",
       "      <td>283</td>\n",
       "      <td>283</td>\n",
       "      <td>283</td>\n",
       "      <td>283</td>\n",
       "      <td>283</td>\n",
       "      <td>283</td>\n",
       "      <td>283</td>\n",
       "      <td>283</td>\n",
       "      <td>...</td>\n",
       "      <td>283</td>\n",
       "      <td>283</td>\n",
       "      <td>283</td>\n",
       "      <td>283</td>\n",
       "      <td>283</td>\n",
       "      <td>283</td>\n",
       "      <td>283</td>\n",
       "      <td>283</td>\n",
       "      <td>283</td>\n",
       "      <td>283</td>\n",
       "    </tr>\n",
       "    <tr>\n",
       "      <th>16</th>\n",
       "      <td>133</td>\n",
       "      <td>133</td>\n",
       "      <td>133</td>\n",
       "      <td>133</td>\n",
       "      <td>133</td>\n",
       "      <td>133</td>\n",
       "      <td>133</td>\n",
       "      <td>133</td>\n",
       "      <td>133</td>\n",
       "      <td>133</td>\n",
       "      <td>...</td>\n",
       "      <td>133</td>\n",
       "      <td>133</td>\n",
       "      <td>133</td>\n",
       "      <td>133</td>\n",
       "      <td>133</td>\n",
       "      <td>133</td>\n",
       "      <td>133</td>\n",
       "      <td>133</td>\n",
       "      <td>133</td>\n",
       "      <td>133</td>\n",
       "    </tr>\n",
       "    <tr>\n",
       "      <th>17</th>\n",
       "      <td>84</td>\n",
       "      <td>84</td>\n",
       "      <td>84</td>\n",
       "      <td>84</td>\n",
       "      <td>84</td>\n",
       "      <td>84</td>\n",
       "      <td>84</td>\n",
       "      <td>84</td>\n",
       "      <td>84</td>\n",
       "      <td>84</td>\n",
       "      <td>...</td>\n",
       "      <td>84</td>\n",
       "      <td>84</td>\n",
       "      <td>84</td>\n",
       "      <td>84</td>\n",
       "      <td>84</td>\n",
       "      <td>84</td>\n",
       "      <td>84</td>\n",
       "      <td>84</td>\n",
       "      <td>84</td>\n",
       "      <td>84</td>\n",
       "    </tr>\n",
       "    <tr>\n",
       "      <th>18</th>\n",
       "      <td>93</td>\n",
       "      <td>93</td>\n",
       "      <td>93</td>\n",
       "      <td>93</td>\n",
       "      <td>93</td>\n",
       "      <td>93</td>\n",
       "      <td>93</td>\n",
       "      <td>93</td>\n",
       "      <td>93</td>\n",
       "      <td>93</td>\n",
       "      <td>...</td>\n",
       "      <td>93</td>\n",
       "      <td>93</td>\n",
       "      <td>93</td>\n",
       "      <td>93</td>\n",
       "      <td>93</td>\n",
       "      <td>93</td>\n",
       "      <td>93</td>\n",
       "      <td>93</td>\n",
       "      <td>93</td>\n",
       "      <td>93</td>\n",
       "    </tr>\n",
       "    <tr>\n",
       "      <th>19</th>\n",
       "      <td>114</td>\n",
       "      <td>114</td>\n",
       "      <td>114</td>\n",
       "      <td>114</td>\n",
       "      <td>114</td>\n",
       "      <td>114</td>\n",
       "      <td>114</td>\n",
       "      <td>114</td>\n",
       "      <td>114</td>\n",
       "      <td>114</td>\n",
       "      <td>...</td>\n",
       "      <td>114</td>\n",
       "      <td>114</td>\n",
       "      <td>114</td>\n",
       "      <td>114</td>\n",
       "      <td>114</td>\n",
       "      <td>114</td>\n",
       "      <td>114</td>\n",
       "      <td>114</td>\n",
       "      <td>114</td>\n",
       "      <td>114</td>\n",
       "    </tr>\n",
       "    <tr>\n",
       "      <th>20</th>\n",
       "      <td>295</td>\n",
       "      <td>295</td>\n",
       "      <td>295</td>\n",
       "      <td>295</td>\n",
       "      <td>295</td>\n",
       "      <td>295</td>\n",
       "      <td>295</td>\n",
       "      <td>295</td>\n",
       "      <td>295</td>\n",
       "      <td>295</td>\n",
       "      <td>...</td>\n",
       "      <td>295</td>\n",
       "      <td>295</td>\n",
       "      <td>295</td>\n",
       "      <td>295</td>\n",
       "      <td>295</td>\n",
       "      <td>295</td>\n",
       "      <td>295</td>\n",
       "      <td>295</td>\n",
       "      <td>295</td>\n",
       "      <td>295</td>\n",
       "    </tr>\n",
       "    <tr>\n",
       "      <th>21</th>\n",
       "      <td>36</td>\n",
       "      <td>36</td>\n",
       "      <td>36</td>\n",
       "      <td>36</td>\n",
       "      <td>36</td>\n",
       "      <td>36</td>\n",
       "      <td>36</td>\n",
       "      <td>36</td>\n",
       "      <td>36</td>\n",
       "      <td>36</td>\n",
       "      <td>...</td>\n",
       "      <td>36</td>\n",
       "      <td>36</td>\n",
       "      <td>36</td>\n",
       "      <td>36</td>\n",
       "      <td>36</td>\n",
       "      <td>36</td>\n",
       "      <td>36</td>\n",
       "      <td>36</td>\n",
       "      <td>36</td>\n",
       "      <td>36</td>\n",
       "    </tr>\n",
       "    <tr>\n",
       "      <th>22</th>\n",
       "      <td>48</td>\n",
       "      <td>48</td>\n",
       "      <td>48</td>\n",
       "      <td>48</td>\n",
       "      <td>48</td>\n",
       "      <td>48</td>\n",
       "      <td>48</td>\n",
       "      <td>48</td>\n",
       "      <td>48</td>\n",
       "      <td>48</td>\n",
       "      <td>...</td>\n",
       "      <td>48</td>\n",
       "      <td>48</td>\n",
       "      <td>48</td>\n",
       "      <td>48</td>\n",
       "      <td>48</td>\n",
       "      <td>48</td>\n",
       "      <td>48</td>\n",
       "      <td>48</td>\n",
       "      <td>48</td>\n",
       "      <td>48</td>\n",
       "    </tr>\n",
       "    <tr>\n",
       "      <th>23</th>\n",
       "      <td>153</td>\n",
       "      <td>153</td>\n",
       "      <td>153</td>\n",
       "      <td>153</td>\n",
       "      <td>153</td>\n",
       "      <td>153</td>\n",
       "      <td>153</td>\n",
       "      <td>153</td>\n",
       "      <td>153</td>\n",
       "      <td>153</td>\n",
       "      <td>...</td>\n",
       "      <td>153</td>\n",
       "      <td>153</td>\n",
       "      <td>153</td>\n",
       "      <td>153</td>\n",
       "      <td>153</td>\n",
       "      <td>153</td>\n",
       "      <td>153</td>\n",
       "      <td>153</td>\n",
       "      <td>153</td>\n",
       "      <td>153</td>\n",
       "    </tr>\n",
       "    <tr>\n",
       "      <th>24</th>\n",
       "      <td>32</td>\n",
       "      <td>32</td>\n",
       "      <td>32</td>\n",
       "      <td>32</td>\n",
       "      <td>32</td>\n",
       "      <td>32</td>\n",
       "      <td>32</td>\n",
       "      <td>32</td>\n",
       "      <td>32</td>\n",
       "      <td>32</td>\n",
       "      <td>...</td>\n",
       "      <td>32</td>\n",
       "      <td>32</td>\n",
       "      <td>32</td>\n",
       "      <td>32</td>\n",
       "      <td>32</td>\n",
       "      <td>32</td>\n",
       "      <td>32</td>\n",
       "      <td>32</td>\n",
       "      <td>32</td>\n",
       "      <td>32</td>\n",
       "    </tr>\n",
       "    <tr>\n",
       "      <th>25</th>\n",
       "      <td>111</td>\n",
       "      <td>111</td>\n",
       "      <td>111</td>\n",
       "      <td>111</td>\n",
       "      <td>111</td>\n",
       "      <td>111</td>\n",
       "      <td>111</td>\n",
       "      <td>111</td>\n",
       "      <td>111</td>\n",
       "      <td>111</td>\n",
       "      <td>...</td>\n",
       "      <td>111</td>\n",
       "      <td>111</td>\n",
       "      <td>111</td>\n",
       "      <td>111</td>\n",
       "      <td>111</td>\n",
       "      <td>111</td>\n",
       "      <td>111</td>\n",
       "      <td>111</td>\n",
       "      <td>111</td>\n",
       "      <td>111</td>\n",
       "    </tr>\n",
       "    <tr>\n",
       "      <th>26</th>\n",
       "      <td>61</td>\n",
       "      <td>61</td>\n",
       "      <td>61</td>\n",
       "      <td>61</td>\n",
       "      <td>61</td>\n",
       "      <td>61</td>\n",
       "      <td>61</td>\n",
       "      <td>61</td>\n",
       "      <td>61</td>\n",
       "      <td>61</td>\n",
       "      <td>...</td>\n",
       "      <td>61</td>\n",
       "      <td>61</td>\n",
       "      <td>61</td>\n",
       "      <td>61</td>\n",
       "      <td>61</td>\n",
       "      <td>61</td>\n",
       "      <td>61</td>\n",
       "      <td>61</td>\n",
       "      <td>61</td>\n",
       "      <td>61</td>\n",
       "    </tr>\n",
       "    <tr>\n",
       "      <th>27</th>\n",
       "      <td>78</td>\n",
       "      <td>78</td>\n",
       "      <td>78</td>\n",
       "      <td>78</td>\n",
       "      <td>78</td>\n",
       "      <td>78</td>\n",
       "      <td>78</td>\n",
       "      <td>78</td>\n",
       "      <td>78</td>\n",
       "      <td>78</td>\n",
       "      <td>...</td>\n",
       "      <td>78</td>\n",
       "      <td>78</td>\n",
       "      <td>78</td>\n",
       "      <td>78</td>\n",
       "      <td>78</td>\n",
       "      <td>78</td>\n",
       "      <td>78</td>\n",
       "      <td>78</td>\n",
       "      <td>78</td>\n",
       "      <td>78</td>\n",
       "    </tr>\n",
       "    <tr>\n",
       "      <th>28</th>\n",
       "      <td>42</td>\n",
       "      <td>42</td>\n",
       "      <td>42</td>\n",
       "      <td>42</td>\n",
       "      <td>42</td>\n",
       "      <td>42</td>\n",
       "      <td>42</td>\n",
       "      <td>42</td>\n",
       "      <td>42</td>\n",
       "      <td>42</td>\n",
       "      <td>...</td>\n",
       "      <td>42</td>\n",
       "      <td>42</td>\n",
       "      <td>42</td>\n",
       "      <td>42</td>\n",
       "      <td>42</td>\n",
       "      <td>42</td>\n",
       "      <td>42</td>\n",
       "      <td>42</td>\n",
       "      <td>42</td>\n",
       "      <td>42</td>\n",
       "    </tr>\n",
       "    <tr>\n",
       "      <th>29</th>\n",
       "      <td>143</td>\n",
       "      <td>143</td>\n",
       "      <td>143</td>\n",
       "      <td>143</td>\n",
       "      <td>143</td>\n",
       "      <td>143</td>\n",
       "      <td>143</td>\n",
       "      <td>143</td>\n",
       "      <td>143</td>\n",
       "      <td>143</td>\n",
       "      <td>...</td>\n",
       "      <td>143</td>\n",
       "      <td>143</td>\n",
       "      <td>143</td>\n",
       "      <td>143</td>\n",
       "      <td>143</td>\n",
       "      <td>143</td>\n",
       "      <td>143</td>\n",
       "      <td>143</td>\n",
       "      <td>143</td>\n",
       "      <td>143</td>\n",
       "    </tr>\n",
       "  </tbody>\n",
       "</table>\n",
       "<p>30 rows × 10000 columns</p>\n",
       "</div>"
      ],
      "text/plain": [
       "           00  00 pm   000    01    04    05    06    07    08    10  ...  \\\n",
       "cluster                                                               ...   \n",
       "0          98     98    98    98    98    98    98    98    98    98  ...   \n",
       "1          93     93    93    93    93    93    93    93    93    93  ...   \n",
       "2         126    126   126   126   126   126   126   126   126   126  ...   \n",
       "3         216    216   216   216   216   216   216   216   216   216  ...   \n",
       "4         102    102   102   102   102   102   102   102   102   102  ...   \n",
       "5        1052   1052  1052  1052  1052  1052  1052  1052  1052  1052  ...   \n",
       "6         152    152   152   152   152   152   152   152   152   152  ...   \n",
       "7          58     58    58    58    58    58    58    58    58    58  ...   \n",
       "8         161    161   161   161   161   161   161   161   161   161  ...   \n",
       "9          94     94    94    94    94    94    94    94    94    94  ...   \n",
       "10         77     77    77    77    77    77    77    77    77    77  ...   \n",
       "11        100    100   100   100   100   100   100   100   100   100  ...   \n",
       "12         80     80    80    80    80    80    80    80    80    80  ...   \n",
       "13         74     74    74    74    74    74    74    74    74    74  ...   \n",
       "14         94     94    94    94    94    94    94    94    94    94  ...   \n",
       "15        283    283   283   283   283   283   283   283   283   283  ...   \n",
       "16        133    133   133   133   133   133   133   133   133   133  ...   \n",
       "17         84     84    84    84    84    84    84    84    84    84  ...   \n",
       "18         93     93    93    93    93    93    93    93    93    93  ...   \n",
       "19        114    114   114   114   114   114   114   114   114   114  ...   \n",
       "20        295    295   295   295   295   295   295   295   295   295  ...   \n",
       "21         36     36    36    36    36    36    36    36    36    36  ...   \n",
       "22         48     48    48    48    48    48    48    48    48    48  ...   \n",
       "23        153    153   153   153   153   153   153   153   153   153  ...   \n",
       "24         32     32    32    32    32    32    32    32    32    32  ...   \n",
       "25        111    111   111   111   111   111   111   111   111   111  ...   \n",
       "26         61     61    61    61    61    61    61    61    61    61  ...   \n",
       "27         78     78    78    78    78    78    78    78    78    78  ...   \n",
       "28         42     42    42    42    42    42    42    42    42    42  ...   \n",
       "29        143    143   143   143   143   143   143   143   143   143  ...   \n",
       "\n",
       "         youtube  youtube channel  youtube watch    yr  yr old   yrs   yup  \\\n",
       "cluster                                                                      \n",
       "0             98               98             98    98      98    98    98   \n",
       "1             93               93             93    93      93    93    93   \n",
       "2            126              126            126   126     126   126   126   \n",
       "3            216              216            216   216     216   216   216   \n",
       "4            102              102            102   102     102   102   102   \n",
       "5           1052             1052           1052  1052    1052  1052  1052   \n",
       "6            152              152            152   152     152   152   152   \n",
       "7             58               58             58    58      58    58    58   \n",
       "8            161              161            161   161     161   161   161   \n",
       "9             94               94             94    94      94    94    94   \n",
       "10            77               77             77    77      77    77    77   \n",
       "11           100              100            100   100     100   100   100   \n",
       "12            80               80             80    80      80    80    80   \n",
       "13            74               74             74    74      74    74    74   \n",
       "14            94               94             94    94      94    94    94   \n",
       "15           283              283            283   283     283   283   283   \n",
       "16           133              133            133   133     133   133   133   \n",
       "17            84               84             84    84      84    84    84   \n",
       "18            93               93             93    93      93    93    93   \n",
       "19           114              114            114   114     114   114   114   \n",
       "20           295              295            295   295     295   295   295   \n",
       "21            36               36             36    36      36    36    36   \n",
       "22            48               48             48    48      48    48    48   \n",
       "23           153              153            153   153     153   153   153   \n",
       "24            32               32             32    32      32    32    32   \n",
       "25           111              111            111   111     111   111   111   \n",
       "26            61               61             61    61      61    61    61   \n",
       "27            78               78             78    78      78    78    78   \n",
       "28            42               42             42    42      42    42    42   \n",
       "29           143              143            143   143     143   143   143   \n",
       "\n",
       "         zero  zero carb  zone  \n",
       "cluster                         \n",
       "0          98         98    98  \n",
       "1          93         93    93  \n",
       "2         126        126   126  \n",
       "3         216        216   216  \n",
       "4         102        102   102  \n",
       "5        1052       1052  1052  \n",
       "6         152        152   152  \n",
       "7          58         58    58  \n",
       "8         161        161   161  \n",
       "9          94         94    94  \n",
       "10         77         77    77  \n",
       "11        100        100   100  \n",
       "12         80         80    80  \n",
       "13         74         74    74  \n",
       "14         94         94    94  \n",
       "15        283        283   283  \n",
       "16        133        133   133  \n",
       "17         84         84    84  \n",
       "18         93         93    93  \n",
       "19        114        114   114  \n",
       "20        295        295   295  \n",
       "21         36         36    36  \n",
       "22         48         48    48  \n",
       "23        153        153   153  \n",
       "24         32         32    32  \n",
       "25        111        111   111  \n",
       "26         61         61    61  \n",
       "27         78         78    78  \n",
       "28         42         42    42  \n",
       "29        143        143   143  \n",
       "\n",
       "[30 rows x 10000 columns]"
      ]
     },
     "execution_count": 132,
     "metadata": {},
     "output_type": "execute_result"
    }
   ],
   "source": [
    "features30_tf = pd.DataFrame(train_tf.toarray(), columns = tf.get_feature_names())\n",
    "features30_tf['cluster'] = km_tf_35.labels_\n",
    "features30_tf.groupby(by = 'cluster').count()"
   ]
  },
  {
   "cell_type": "code",
   "execution_count": 133,
   "metadata": {},
   "outputs": [
    {
     "data": {
      "text/plain": [
       "a1c            23.507839\n",
       "months          4.087440\n",
       "endo            4.076373\n",
       "happy           3.464513\n",
       "proud           3.313438\n",
       "went            3.303963\n",
       "year            2.948829\n",
       "ago             2.892910\n",
       "finally         2.208448\n",
       "appointment     2.144510\n",
       "Name: 0, dtype: float64"
      ]
     },
     "execution_count": 133,
     "metadata": {},
     "output_type": "execute_result"
    }
   ],
   "source": [
    "features30_tf.groupby(by = 'cluster').sum().iloc[0].sort_values(ascending = False).head(10)"
   ]
  },
  {
   "cell_type": "code",
   "execution_count": 134,
   "metadata": {},
   "outputs": [
    {
     "data": {
      "text/plain": [
       "levels            10.772572\n",
       "glucose           10.198578\n",
       "high               5.149052\n",
       "glucose levels     4.236607\n",
       "low                3.090178\n",
       "range              2.626614\n",
       "normal             2.446281\n",
       "hba1c              2.316783\n",
       "days               1.695743\n",
       "bit                1.638382\n",
       "Name: 1, dtype: float64"
      ]
     },
     "execution_count": 134,
     "metadata": {},
     "output_type": "execute_result"
    }
   ],
   "source": [
    "features30_tf.groupby(by = 'cluster').sum().iloc[1].sort_values(ascending = False).head(10)"
   ]
  },
  {
   "cell_type": "code",
   "execution_count": 135,
   "metadata": {},
   "outputs": [
    {
     "data": {
      "text/plain": [
       "app            19.472519\n",
       "dexcom         15.670623\n",
       "phone           8.422472\n",
       "watch           7.939112\n",
       "data            5.568517\n",
       "apple           5.018672\n",
       "iphone          4.672802\n",
       "g6              4.616692\n",
       "dexcom app      4.589990\n",
       "apple watch     4.046536\n",
       "Name: 2, dtype: float64"
      ]
     },
     "execution_count": 135,
     "metadata": {},
     "output_type": "execute_result"
    }
   ],
   "source": [
    "features30_tf.groupby(by = 'cluster').sum().iloc[2].sort_values(ascending = False).head(10)"
   ]
  },
  {
   "cell_type": "code",
   "execution_count": 136,
   "metadata": {},
   "outputs": [
    {
     "data": {
      "text/plain": [
       "diabetics     11.568906\n",
       "said           9.114258\n",
       "told           6.508085\n",
       "people         5.023194\n",
       "experience     4.613213\n",
       "thing          4.257159\n",
       "disease        3.948698\n",
       "did            3.233639\n",
       "wondering      3.137712\n",
       "right          3.121829\n",
       "Name: 3, dtype: float64"
      ]
     },
     "execution_count": 136,
     "metadata": {},
     "output_type": "execute_result"
    }
   ],
   "source": [
    "features30_tf.groupby(by = 'cluster').sum().iloc[3].sort_values(ascending = False).head(10)"
   ]
  },
  {
   "cell_type": "code",
   "execution_count": 137,
   "metadata": {},
   "outputs": [
    {
     "data": {
      "text/plain": [
       "omnipod         23.350932\n",
       "pod              8.017936\n",
       "dash             6.821058\n",
       "omnipod dash     4.909600\n",
       "pdm              4.830005\n",
       "pump             3.245454\n",
       "getting          1.943879\n",
       "wondering        1.873730\n",
       "dexcom           1.760896\n",
       "skin             1.725153\n",
       "Name: 4, dtype: float64"
      ]
     },
     "execution_count": 137,
     "metadata": {},
     "output_type": "execute_result"
    }
   ],
   "source": [
    "features30_tf.groupby(by = 'cluster').sum().iloc[4].sort_values(ascending = False).head(10)"
   ]
  },
  {
   "cell_type": "code",
   "execution_count": 138,
   "metadata": {},
   "outputs": [
    {
     "data": {
      "text/plain": [
       "t1d       20.551828\n",
       "t1        17.635490\n",
       "help      16.939031\n",
       "life      16.222776\n",
       "people    15.689030\n",
       "good      15.131568\n",
       "want      14.484655\n",
       "year      14.016109\n",
       "thanks    13.818994\n",
       "feel      13.186714\n",
       "Name: 5, dtype: float64"
      ]
     },
     "execution_count": 138,
     "metadata": {},
     "output_type": "execute_result"
    }
   ],
   "source": [
    "features30_tf.groupby(by = 'cluster').sum().iloc[5].sort_values(ascending = False).head(10)"
   ]
  },
  {
   "cell_type": "code",
   "execution_count": 139,
   "metadata": {},
   "outputs": [
    {
     "data": {
      "text/plain": [
       "pump              26.177592\n",
       "cgm                7.833194\n",
       "medtronic          7.824728\n",
       "new                4.421176\n",
       "pumps              4.058835\n",
       "want               3.876484\n",
       "pump cgm           3.764392\n",
       "minimed            3.234442\n",
       "tandem             3.129830\n",
       "medtronic pump     2.820580\n",
       "Name: 6, dtype: float64"
      ]
     },
     "execution_count": 139,
     "metadata": {},
     "output_type": "execute_result"
    }
   ],
   "source": [
    "features30_tf.groupby(by = 'cluster').sum().iloc[6].sort_values(ascending = False).head(10)"
   ]
  },
  {
   "cell_type": "code",
   "execution_count": 140,
   "metadata": {},
   "outputs": [
    {
     "data": {
      "text/plain": [
       "g5                   16.859257\n",
       "dexcom g5            10.787826\n",
       "dexcom                8.032620\n",
       "g6                    3.893271\n",
       "sensors               3.791321\n",
       "g5 sensors            3.416302\n",
       "transmitter           2.428578\n",
       "g5 transmitter        2.030888\n",
       "box                   1.847033\n",
       "dexcom g5 sensors     1.666615\n",
       "Name: 7, dtype: float64"
      ]
     },
     "execution_count": 140,
     "metadata": {},
     "output_type": "execute_result"
    }
   ],
   "source": [
    "features30_tf.groupby(by = 'cluster').sum().iloc[7].sort_values(ascending = False).head(10)"
   ]
  },
  {
   "cell_type": "code",
   "execution_count": 141,
   "metadata": {},
   "outputs": [
    {
     "data": {
      "text/plain": [
       "basal      16.738482\n",
       "units       8.402753\n",
       "dose        8.018140\n",
       "night       7.139877\n",
       "lantus      5.532236\n",
       "spike       5.505120\n",
       "bolus       5.370069\n",
       "hours       4.938370\n",
       "morning     4.759895\n",
       "low         3.994166\n",
       "Name: 8, dtype: float64"
      ]
     },
     "execution_count": 141,
     "metadata": {},
     "output_type": "execute_result"
    }
   ],
   "source": [
    "features30_tf.groupby(by = 'cluster').sum().iloc[8].sort_values(ascending = False).head(10)"
   ]
  },
  {
   "cell_type": "code",
   "execution_count": 142,
   "metadata": {},
   "outputs": [
    {
     "data": {
      "text/plain": [
       "bg       19.523610\n",
       "high      3.513874\n",
       "low       2.148995\n",
       "range     2.108608\n",
       "night     2.060473\n",
       "hours     1.834638\n",
       "bed       1.799692\n",
       "meter     1.590543\n",
       "good      1.503534\n",
       "woke      1.479410\n",
       "Name: 9, dtype: float64"
      ]
     },
     "execution_count": 142,
     "metadata": {},
     "output_type": "execute_result"
    }
   ],
   "source": [
    "features30_tf.groupby(by = 'cluster').sum().iloc[9].sort_values(ascending = False).head(10)"
   ]
  },
  {
   "cell_type": "code",
   "execution_count": 143,
   "metadata": {},
   "outputs": [
    {
     "data": {
      "text/plain": [
       "weight         17.159099\n",
       "lose            4.556260\n",
       "lose weight     4.483606\n",
       "gain            3.892502\n",
       "exercise        2.894523\n",
       "loss            2.579035\n",
       "weight loss     2.547846\n",
       "losing          2.444538\n",
       "fat             2.323528\n",
       "gain weight     2.185330\n",
       "Name: 10, dtype: float64"
      ]
     },
     "execution_count": 143,
     "metadata": {},
     "output_type": "execute_result"
    }
   ],
   "source": [
    "features30_tf.groupby(by = 'cluster').sum().iloc[10].sort_values(ascending = False).head(10)"
   ]
  },
  {
   "cell_type": "code",
   "execution_count": 144,
   "metadata": {},
   "outputs": [
    {
     "data": {
      "text/plain": [
       "pump            18.229025\n",
       "injections       3.964991\n",
       "getting          3.240759\n",
       "sites            2.872617\n",
       "help             2.393985\n",
       "tslim            2.373878\n",
       "getting pump     2.292723\n",
       "thinking         2.285836\n",
       "site             2.236236\n",
       "wondering        2.223020\n",
       "Name: 11, dtype: float64"
      ]
     },
     "execution_count": 144,
     "metadata": {},
     "output_type": "execute_result"
    }
   ],
   "source": [
    "features30_tf.groupby(by = 'cluster').sum().iloc[11].sort_values(ascending = False).head(10)"
   ]
  },
  {
   "cell_type": "code",
   "execution_count": 145,
   "metadata": {},
   "outputs": [
    {
     "data": {
      "text/plain": [
       "x2                9.830582\n",
       "slim              9.673684\n",
       "tandem            8.292570\n",
       "pump              6.821950\n",
       "slim x2           6.498442\n",
       "tslim             4.384094\n",
       "tslim x2          4.017479\n",
       "tandem slim       3.548409\n",
       "tandem slim x2    2.317810\n",
       "autosoft          2.216314\n",
       "Name: 12, dtype: float64"
      ]
     },
     "execution_count": 145,
     "metadata": {},
     "output_type": "execute_result"
    }
   ],
   "source": [
    "features30_tf.groupby(by = 'cluster').sum().iloc[12].sort_values(ascending = False).head(10)"
   ]
  },
  {
   "cell_type": "code",
   "execution_count": 146,
   "metadata": {},
   "outputs": [
    {
     "data": {
      "text/plain": [
       "medtronic         10.431942\n",
       "670g               5.021182\n",
       "miao               4.963100\n",
       "cgm                4.729517\n",
       "medtronic 670g     3.390385\n",
       "pumps              2.769791\n",
       "pump               2.474910\n",
       "miao miao          2.402462\n",
       "670                2.386018\n",
       "old medtronic      1.952428\n",
       "Name: 13, dtype: float64"
      ]
     },
     "execution_count": 146,
     "metadata": {},
     "output_type": "execute_result"
    }
   ],
   "source": [
    "features30_tf.groupby(by = 'cluster').sum().iloc[13].sort_values(ascending = False).head(10)"
   ]
  },
  {
   "cell_type": "code",
   "execution_count": 147,
   "metadata": {},
   "outputs": [
    {
     "data": {
      "text/plain": [
       "supplies         18.232814\n",
       "pump supplies     5.162534\n",
       "pump              4.014768\n",
       "reservoirs        3.100229\n",
       "medtronic         2.949006\n",
       "need              2.898844\n",
       "insurance         2.764277\n",
       "help              2.199331\n",
       "free              2.103737\n",
       "people            1.953820\n",
       "Name: 14, dtype: float64"
      ]
     },
     "execution_count": 147,
     "metadata": {},
     "output_type": "execute_result"
    }
   ],
   "source": [
    "features30_tf.groupby(by = 'cluster').sum().iloc[14].sort_values(ascending = False).head(10)"
   ]
  },
  {
   "cell_type": "code",
   "execution_count": 148,
   "metadata": {},
   "outputs": [
    {
     "data": {
      "text/plain": [
       "eat        18.227322\n",
       "carbs      15.903686\n",
       "hours       8.961902\n",
       "units       7.848526\n",
       "high        7.394692\n",
       "eating      7.270413\n",
       "morning     7.260363\n",
       "food        6.978733\n",
       "went        6.937570\n",
       "meal        6.589918\n",
       "Name: 15, dtype: float64"
      ]
     },
     "execution_count": 148,
     "metadata": {},
     "output_type": "execute_result"
    }
   ],
   "source": [
    "features30_tf.groupby(by = 'cluster').sum().iloc[15].sort_values(ascending = False).head(10)"
   ]
  },
  {
   "cell_type": "code",
   "execution_count": 149,
   "metadata": {},
   "outputs": [
    {
     "data": {
      "text/plain": [
       "g6             22.464341\n",
       "dexcom         17.705435\n",
       "dexcom g6      15.639441\n",
       "sensors         5.794959\n",
       "transmitter     4.139358\n",
       "sensor          3.865534\n",
       "receiver        3.302670\n",
       "g6 sensors      2.874184\n",
       "need            2.854798\n",
       "signal          2.679406\n",
       "Name: 16, dtype: float64"
      ]
     },
     "execution_count": 149,
     "metadata": {},
     "output_type": "execute_result"
    }
   ],
   "source": [
    "features30_tf.groupby(by = 'cluster').sum().iloc[16].sort_values(ascending = False).head(10)"
   ]
  },
  {
   "cell_type": "code",
   "execution_count": 150,
   "metadata": {},
   "outputs": [
    {
     "data": {
      "text/plain": [
       "carb             15.863680\n",
       "low carb         10.392942\n",
       "low               8.160570\n",
       "diet              4.855304\n",
       "carb diet         4.352489\n",
       "low carb diet     3.877779\n",
       "carbs             3.465207\n",
       "eat               3.075678\n",
       "carb ratio        2.494822\n",
       "meals             2.471193\n",
       "Name: 17, dtype: float64"
      ]
     },
     "execution_count": 150,
     "metadata": {},
     "output_type": "execute_result"
    }
   ],
   "source": [
    "features30_tf.groupby(by = 'cluster').sum().iloc[17].sort_values(ascending = False).head(10)"
   ]
  },
  {
   "cell_type": "code",
   "execution_count": 151,
   "metadata": {},
   "outputs": [
    {
     "data": {
      "text/plain": [
       "humalog      10.697417\n",
       "novolog       8.521648\n",
       "fiasp         7.664697\n",
       "pens          7.149822\n",
       "tresiba       3.960924\n",
       "lantus        3.175726\n",
       "vial          3.169617\n",
       "need          2.871009\n",
       "extra         2.841749\n",
       "insurance     2.685916\n",
       "Name: 18, dtype: float64"
      ]
     },
     "execution_count": 151,
     "metadata": {},
     "output_type": "execute_result"
    }
   ],
   "source": [
    "features30_tf.groupby(by = 'cluster').sum().iloc[18].sort_values(ascending = False).head(10)"
   ]
  },
  {
   "cell_type": "code",
   "execution_count": 152,
   "metadata": {},
   "outputs": [
    {
     "data": {
      "text/plain": [
       "amp                 21.732666\n",
       "amp x200b           17.219375\n",
       "x200b               17.219375\n",
       "redd                 3.628267\n",
       "png                  2.486240\n",
       "amp x200b thanks     2.104380\n",
       "x200b thanks         2.104380\n",
       "jpg                  2.082368\n",
       "t1                   1.943578\n",
       "pump                 1.934726\n",
       "Name: 19, dtype: float64"
      ]
     },
     "execution_count": 152,
     "metadata": {},
     "output_type": "execute_result"
    }
   ],
   "source": [
    "features30_tf.groupby(by = 'cluster').sum().iloc[19].sort_values(ascending = False).head(10)"
   ]
  },
  {
   "cell_type": "code",
   "execution_count": 153,
   "metadata": {},
   "outputs": [
    {
     "data": {
      "text/plain": [
       "low        29.687401\n",
       "high       20.474227\n",
       "feel       15.729224\n",
       "sugars      9.263297\n",
       "lows        7.901637\n",
       "feeling     7.456463\n",
       "sleep       6.275856\n",
       "hypo        4.897353\n",
       "bad         4.819686\n",
       "night       4.692381\n",
       "Name: 20, dtype: float64"
      ]
     },
     "execution_count": 153,
     "metadata": {},
     "output_type": "execute_result"
    }
   ],
   "source": [
    "features30_tf.groupby(by = 'cluster').sum().iloc[20].sort_values(ascending = False).head(10)"
   ]
  },
  {
   "cell_type": "code",
   "execution_count": 154,
   "metadata": {},
   "outputs": [
    {
     "data": {
      "text/plain": [
       "study                 5.205644\n",
       "survey                3.249334\n",
       "forms                 2.178140\n",
       "qualtrics             2.031424\n",
       "qualtrics jfe         1.921585\n",
       "jfe form              1.921585\n",
       "jfe                   1.921585\n",
       "qualtrics jfe form    1.921585\n",
       "form                  1.897089\n",
       "research              1.643729\n",
       "Name: 21, dtype: float64"
      ]
     },
     "execution_count": 154,
     "metadata": {},
     "output_type": "execute_result"
    }
   ],
   "source": [
    "features30_tf.groupby(by = 'cluster').sum().iloc[21].sort_values(ascending = False).head(10)"
   ]
  },
  {
   "cell_type": "code",
   "execution_count": 155,
   "metadata": {},
   "outputs": [
    {
     "data": {
      "text/plain": [
       "strips         11.554020\n",
       "test strips     7.872299\n",
       "test            7.512405\n",
       "meter           3.355421\n",
       "need            1.566882\n",
       "freestyle       1.400728\n",
       "contour         1.288007\n",
       "boxes           1.187644\n",
       "needs           1.143655\n",
       "lancets         1.130305\n",
       "Name: 22, dtype: float64"
      ]
     },
     "execution_count": 155,
     "metadata": {},
     "output_type": "execute_result"
    }
   ],
   "source": [
    "features30_tf.groupby(by = 'cluster').sum().iloc[22].sort_values(ascending = False).head(10)"
   ]
  },
  {
   "cell_type": "code",
   "execution_count": 156,
   "metadata": {},
   "outputs": [
    {
     "data": {
      "text/plain": [
       "sensor         37.986556\n",
       "dexcom          7.602043\n",
       "new             6.974384\n",
       "transmitter     6.865880\n",
       "sensors         6.526063\n",
       "guardian        6.308302\n",
       "new sensor      5.221340\n",
       "g6              5.194372\n",
       "days            4.397238\n",
       "g6 sensor       4.236066\n",
       "Name: 23, dtype: float64"
      ]
     },
     "execution_count": 156,
     "metadata": {},
     "output_type": "execute_result"
    }
   ],
   "source": [
    "features30_tf.groupby(by = 'cluster').sum().iloc[23].sort_values(ascending = False).head(10)"
   ]
  },
  {
   "cell_type": "code",
   "execution_count": 157,
   "metadata": {},
   "outputs": [
    {
     "data": {
      "text/plain": [
       "removed            18.021353\n",
       "types               1.142058\n",
       "benefits            1.079834\n",
       "symptoms            1.062118\n",
       "symptoms amp        0.943327\n",
       "causes symptoms     0.943327\n",
       "treatment           0.864573\n",
       "nephropathy         0.828745\n",
       "counteract          0.822491\n",
       "remedy              0.811978\n",
       "Name: 24, dtype: float64"
      ]
     },
     "execution_count": 157,
     "metadata": {},
     "output_type": "execute_result"
    }
   ],
   "source": [
    "features30_tf.groupby(by = 'cluster').sum().iloc[24].sort_values(ascending = False).head(10)"
   ]
  },
  {
   "cell_type": "code",
   "execution_count": 159,
   "metadata": {},
   "outputs": [
    {
     "data": {
      "text/plain": [
       "libre              25.117657\n",
       "freestyle          19.802736\n",
       "freestyle libre    16.306995\n",
       "sensor              6.133533\n",
       "sensors             4.063392\n",
       "libre sensor        3.627133\n",
       "dexcom              3.046641\n",
       "reader              2.808257\n",
       "uk                  2.620385\n",
       "arm                 2.360353\n",
       "Name: 25, dtype: float64"
      ]
     },
     "execution_count": 159,
     "metadata": {},
     "output_type": "execute_result"
    }
   ],
   "source": [
    "features30_tf.groupby(by = 'cluster').sum().iloc[25].sort_values(ascending = False).head(10)"
   ]
  },
  {
   "cell_type": "code",
   "execution_count": 160,
   "metadata": {},
   "outputs": [
    {
     "data": {
      "text/plain": [
       "drink               8.201686\n",
       "alcohol             7.226463\n",
       "drinking            6.239487\n",
       "drinks              4.475251\n",
       "water               2.893261\n",
       "guys                1.347134\n",
       "eat                 1.264559\n",
       "low                 1.184978\n",
       "good                1.170235\n",
       "drinking alcohol    1.164759\n",
       "Name: 26, dtype: float64"
      ]
     },
     "execution_count": 160,
     "metadata": {},
     "output_type": "execute_result"
    }
   ],
   "source": [
    "features30_tf.groupby(by = 'cluster').sum().iloc[26].sort_values(ascending = False).head(10)"
   ]
  },
  {
   "cell_type": "code",
   "execution_count": 161,
   "metadata": {},
   "outputs": [
    {
     "data": {
      "text/plain": [
       "infusion         12.023135\n",
       "site              8.349117\n",
       "sets              5.972975\n",
       "infusion sets     5.211657\n",
       "infusion set      4.119408\n",
       "cannula           3.850500\n",
       "set               3.766203\n",
       "sites             3.730818\n",
       "pump              3.549696\n",
       "medtronic         3.128047\n",
       "Name: 27, dtype: float64"
      ]
     },
     "execution_count": 161,
     "metadata": {},
     "output_type": "execute_result"
    }
   ],
   "source": [
    "features30_tf.groupby(by = 'cluster').sum().iloc[27].sort_values(ascending = False).head(10)"
   ]
  },
  {
   "cell_type": "code",
   "execution_count": 162,
   "metadata": {},
   "outputs": [
    {
     "data": {
      "text/plain": [
       "iq            11.525950\n",
       "control iq     9.150376\n",
       "control        6.069297\n",
       "basal          3.465456\n",
       "tandem         3.370544\n",
       "basal iq       3.240006\n",
       "pump           1.631711\n",
       "x2             1.584004\n",
       "software       1.352146\n",
       "update         1.314328\n",
       "Name: 28, dtype: float64"
      ]
     },
     "execution_count": 162,
     "metadata": {},
     "output_type": "execute_result"
    }
   ],
   "source": [
    "features30_tf.groupby(by = 'cluster').sum().iloc[28].sort_values(ascending = False).head(10)"
   ]
  },
  {
   "cell_type": "code",
   "execution_count": 163,
   "metadata": {},
   "outputs": [
    {
     "data": {
      "text/plain": [
       "insurance           27.126057\n",
       "month                4.979005\n",
       "coverage             4.852329\n",
       "health               4.583260\n",
       "dexcom               4.395380\n",
       "order                4.327564\n",
       "health insurance     4.253649\n",
       "company              3.876728\n",
       "afford               3.558251\n",
       "pay                  3.533922\n",
       "Name: 29, dtype: float64"
      ]
     },
     "execution_count": 163,
     "metadata": {},
     "output_type": "execute_result"
    }
   ],
   "source": [
    "features30_tf.groupby(by = 'cluster').sum().iloc[29].sort_values(ascending = False).head(10)"
   ]
  },
  {
   "cell_type": "code",
   "execution_count": null,
   "metadata": {},
   "outputs": [],
   "source": []
  }
 ],
 "metadata": {
  "kernelspec": {
   "display_name": "Python 3",
   "language": "python",
   "name": "python3"
  },
  "language_info": {
   "codemirror_mode": {
    "name": "ipython",
    "version": 3
   },
   "file_extension": ".py",
   "mimetype": "text/x-python",
   "name": "python",
   "nbconvert_exporter": "python",
   "pygments_lexer": "ipython3",
   "version": "3.7.5"
  }
 },
 "nbformat": 4,
 "nbformat_minor": 2
}
