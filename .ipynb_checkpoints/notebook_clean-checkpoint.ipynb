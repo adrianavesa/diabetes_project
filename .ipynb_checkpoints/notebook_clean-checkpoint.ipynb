{
 "cells": [
  {
   "cell_type": "markdown",
   "metadata": {},
   "source": [
    "# Unsupervised Learning and Clustering on 100 days of posts from the 'Type 1 Diabetes' Reddit Thread. \n",
    "by Adriana Vesa "
   ]
  },
  {
   "cell_type": "markdown",
   "metadata": {},
   "source": [
    "\n",
    "# Problem Statement\n",
    "\n",
    "\n",
    "We will use unsupervised machine learning to explore data collected from the tyoe 1 reddit thread. Unsupervised machine learning is a class of techniques used to find pattern in data. Tha datagiven to an unsupervised algorithm will not be labeled - which means we will have only an inoiut variable X - and no correspoding varriable."
   ]
  },
  {
   "cell_type": "markdown",
   "metadata": {},
   "source": [
    "# Executive Summary\n"
   ]
  },
  {
   "cell_type": "markdown",
   "metadata": {},
   "source": [
    "# Table of contents:\n",
    "\n",
    "Acquiring and Preprocessing Data\n",
    "\n",
    "Loading Libraries\n",
    "Loading Data\n",
    "Model Preparation\n",
    "Modeling\n",
    "Baseline Model\n",
    "Grid Search with a Pipe with Logistic Regression and TFIDF\n",
    "CountVectorizer in a Pipe with Decision Trees, and Grid Search\n",
    "Bagging Classifier in a pipe with TFIDF\n",
    "Naive Bayes with CountVectorizer\n",
    "Model Selection\n",
    "Model Evaluation\n",
    "Conclusion"
   ]
  },
  {
   "cell_type": "markdown",
   "metadata": {},
   "source": [
    "## Acquiring and Preprocessing Data"
   ]
  },
  {
   "cell_type": "markdown",
   "metadata": {},
   "source": [
    "## Loading Libraries"
   ]
  },
  {
   "cell_type": "code",
   "execution_count": 278,
   "metadata": {},
   "outputs": [],
   "source": [
    "import pandas as pd\n",
    "from nltk.tokenize import RegexpTokenizer\n",
    "\n",
    "\n",
    "from nltk.tokenize import RegexpTokenizer\n",
    "from nltk.stem import WordNetLemmatizer\n",
    "from sklearn.feature_extraction.stop_words import ENGLISH_STOP_WORDS as stopwords\n",
    "from sklearn.feature_extraction.text import CountVectorizer, TfidfVectorizer\n",
    "from sklearn.linear_model import LogisticRegression\n",
    "from sklearn.pipeline import Pipeline\n",
    "from sklearn.model_selection import cross_val_score, train_test_split, GridSearchCV\n",
    "\n",
    "\n",
    "\n",
    "from sklearn.datasets import make_blobs\n",
    "from sklearn.cluster import KMeans\n",
    "from sklearn.preprocessing import StandardScaler\n",
    "\n",
    "import numpy as np\n",
    "\n",
    "\n",
    "import seaborn as sns\n",
    "import matplotlib.pyplot as plt\n",
    "import matplotlib\n",
    "from sklearn.feature_extraction.text import CountVectorizer\n",
    "\n",
    "from sklearn.metrics import silhouette_score\n",
    "matplotlib.style.use('ggplot')\n",
    "\n",
    "\n",
    "from nltk.stem.snowball import SnowballStemmer"
   ]
  },
  {
   "cell_type": "markdown",
   "metadata": {},
   "source": [
    "## Loading Data"
   ]
  },
  {
   "cell_type": "markdown",
   "metadata": {},
   "source": [
    "Below we import the csv file containing the reddit posts collected from the sub-thread - https://www.reddit.com/r/diabetes_t1/ - going back 100 days starting with February 21, 2020. We verify the size of our data - is is a dataframe with 4463 lines and 9 columns."
   ]
  },
  {
   "cell_type": "code",
   "execution_count": 279,
   "metadata": {},
   "outputs": [
    {
     "data": {
      "text/plain": [
       "(4463, 9)"
      ]
     },
     "execution_count": 279,
     "metadata": {},
     "output_type": "execute_result"
    }
   ],
   "source": [
    "t1 = pd.read_csv('diabetes_t1_2.csv')\n",
    "t1.shape"
   ]
  },
  {
   "cell_type": "markdown",
   "metadata": {},
   "source": [
    "We check to see how our dataframe is tructured by checkin its first 5 rows. We decide to create a new column where we add the words of the title - column entitled 'title' - to the words of the post - column entitled 'selftext'- in order to maximize the number of words analyzed. \n",
    "We will call this new column 'all_text'."
   ]
  },
  {
   "cell_type": "markdown",
   "metadata": {},
   "source": [
    "## Exploratory Data Analysis"
   ]
  },
  {
   "cell_type": "code",
   "execution_count": 280,
   "metadata": {},
   "outputs": [
    {
     "data": {
      "text/html": [
       "<div>\n",
       "<style scoped>\n",
       "    .dataframe tbody tr th:only-of-type {\n",
       "        vertical-align: middle;\n",
       "    }\n",
       "\n",
       "    .dataframe tbody tr th {\n",
       "        vertical-align: top;\n",
       "    }\n",
       "\n",
       "    .dataframe thead th {\n",
       "        text-align: right;\n",
       "    }\n",
       "</style>\n",
       "<table border=\"1\" class=\"dataframe\">\n",
       "  <thead>\n",
       "    <tr style=\"text-align: right;\">\n",
       "      <th></th>\n",
       "      <th>title</th>\n",
       "      <th>selftext</th>\n",
       "      <th>subreddit</th>\n",
       "      <th>created_utc</th>\n",
       "      <th>author</th>\n",
       "      <th>num_comments</th>\n",
       "      <th>score</th>\n",
       "      <th>is_self</th>\n",
       "      <th>timestamp</th>\n",
       "    </tr>\n",
       "  </thead>\n",
       "  <tbody>\n",
       "    <tr>\n",
       "      <th>0</th>\n",
       "      <td>Parents with T1D kids on low carb diet. Any im...</td>\n",
       "      <td>Hi all. My son (7) is t1d and is on a low carb...</td>\n",
       "      <td>diabetes_t1</td>\n",
       "      <td>1582052715</td>\n",
       "      <td>midnightcaller</td>\n",
       "      <td>4</td>\n",
       "      <td>1</td>\n",
       "      <td>True</td>\n",
       "      <td>2020-02-18</td>\n",
       "    </tr>\n",
       "    <tr>\n",
       "      <th>1</th>\n",
       "      <td>HBA1C results (2 months since diagnosis)</td>\n",
       "      <td>Diagnosed with type 1 mid December 2019, admit...</td>\n",
       "      <td>diabetes_t1</td>\n",
       "      <td>1582054702</td>\n",
       "      <td>snazehhh</td>\n",
       "      <td>1</td>\n",
       "      <td>1</td>\n",
       "      <td>True</td>\n",
       "      <td>2020-02-18</td>\n",
       "    </tr>\n",
       "    <tr>\n",
       "      <th>2</th>\n",
       "      <td>Type 1 diabetes and mood swings</td>\n",
       "      <td>Does anyone here feel that their diabetes can ...</td>\n",
       "      <td>diabetes_t1</td>\n",
       "      <td>1582057153</td>\n",
       "      <td>b-lavender</td>\n",
       "      <td>5</td>\n",
       "      <td>1</td>\n",
       "      <td>True</td>\n",
       "      <td>2020-02-18</td>\n",
       "    </tr>\n",
       "    <tr>\n",
       "      <th>3</th>\n",
       "      <td>Bes countries to live in being diabetic</td>\n",
       "      <td>hello, I wanted to know which are the best cou...</td>\n",
       "      <td>diabetes_t1</td>\n",
       "      <td>1582062986</td>\n",
       "      <td>tiagob94</td>\n",
       "      <td>0</td>\n",
       "      <td>1</td>\n",
       "      <td>True</td>\n",
       "      <td>2020-02-18</td>\n",
       "    </tr>\n",
       "    <tr>\n",
       "      <th>4</th>\n",
       "      <td>Best countries to live in being diabetic</td>\n",
       "      <td>hello, I wanted to know which are the best cou...</td>\n",
       "      <td>diabetes_t1</td>\n",
       "      <td>1582063056</td>\n",
       "      <td>tiagob94</td>\n",
       "      <td>0</td>\n",
       "      <td>1</td>\n",
       "      <td>True</td>\n",
       "      <td>2020-02-18</td>\n",
       "    </tr>\n",
       "  </tbody>\n",
       "</table>\n",
       "</div>"
      ],
      "text/plain": [
       "                                               title  \\\n",
       "0  Parents with T1D kids on low carb diet. Any im...   \n",
       "1           HBA1C results (2 months since diagnosis)   \n",
       "2                    Type 1 diabetes and mood swings   \n",
       "3            Bes countries to live in being diabetic   \n",
       "4           Best countries to live in being diabetic   \n",
       "\n",
       "                                            selftext    subreddit  \\\n",
       "0  Hi all. My son (7) is t1d and is on a low carb...  diabetes_t1   \n",
       "1  Diagnosed with type 1 mid December 2019, admit...  diabetes_t1   \n",
       "2  Does anyone here feel that their diabetes can ...  diabetes_t1   \n",
       "3  hello, I wanted to know which are the best cou...  diabetes_t1   \n",
       "4  hello, I wanted to know which are the best cou...  diabetes_t1   \n",
       "\n",
       "   created_utc          author  num_comments  score  is_self   timestamp  \n",
       "0   1582052715  midnightcaller             4      1     True  2020-02-18  \n",
       "1   1582054702        snazehhh             1      1     True  2020-02-18  \n",
       "2   1582057153      b-lavender             5      1     True  2020-02-18  \n",
       "3   1582062986        tiagob94             0      1     True  2020-02-18  \n",
       "4   1582063056        tiagob94             0      1     True  2020-02-18  "
      ]
     },
     "execution_count": 280,
     "metadata": {},
     "output_type": "execute_result"
    }
   ],
   "source": [
    "t1.head()"
   ]
  },
  {
   "cell_type": "code",
   "execution_count": 281,
   "metadata": {},
   "outputs": [],
   "source": [
    "t1['all_text'] = t1['title']+t1['selftext']"
   ]
  },
  {
   "cell_type": "markdown",
   "metadata": {},
   "source": [
    "We verify how many of our rows are actually not filled with text, and we drop those rows as they will hinder our analysis. We verify how many rows we have left after this procedure. We see we had to drop 180 rows, and we are left with 4283 posts in good shape to be analyzed. "
   ]
  },
  {
   "cell_type": "code",
   "execution_count": 282,
   "metadata": {
    "scrolled": true
   },
   "outputs": [
    {
     "data": {
      "text/plain": [
       "title             0\n",
       "selftext        180\n",
       "subreddit         0\n",
       "created_utc       0\n",
       "author            0\n",
       "num_comments      0\n",
       "score             0\n",
       "is_self           0\n",
       "timestamp         0\n",
       "all_text        180\n",
       "dtype: int64"
      ]
     },
     "execution_count": 282,
     "metadata": {},
     "output_type": "execute_result"
    }
   ],
   "source": [
    "t1.isnull().sum()"
   ]
  },
  {
   "cell_type": "code",
   "execution_count": 283,
   "metadata": {},
   "outputs": [
    {
     "data": {
      "text/plain": [
       "(4283, 10)"
      ]
     },
     "execution_count": 283,
     "metadata": {},
     "output_type": "execute_result"
    }
   ],
   "source": [
    "t1.dropna(inplace = True)\n",
    "t1.shape"
   ]
  },
  {
   "cell_type": "code",
   "execution_count": 284,
   "metadata": {},
   "outputs": [],
   "source": [
    "t1.reset_index(drop=True, inplace = True)"
   ]
  },
  {
   "cell_type": "code",
   "execution_count": 285,
   "metadata": {},
   "outputs": [
    {
     "data": {
      "text/html": [
       "<div>\n",
       "<style scoped>\n",
       "    .dataframe tbody tr th:only-of-type {\n",
       "        vertical-align: middle;\n",
       "    }\n",
       "\n",
       "    .dataframe tbody tr th {\n",
       "        vertical-align: top;\n",
       "    }\n",
       "\n",
       "    .dataframe thead th {\n",
       "        text-align: right;\n",
       "    }\n",
       "</style>\n",
       "<table border=\"1\" class=\"dataframe\">\n",
       "  <thead>\n",
       "    <tr style=\"text-align: right;\">\n",
       "      <th></th>\n",
       "      <th>title</th>\n",
       "      <th>selftext</th>\n",
       "      <th>subreddit</th>\n",
       "      <th>created_utc</th>\n",
       "      <th>author</th>\n",
       "      <th>num_comments</th>\n",
       "      <th>score</th>\n",
       "      <th>is_self</th>\n",
       "      <th>timestamp</th>\n",
       "      <th>all_text</th>\n",
       "    </tr>\n",
       "  </thead>\n",
       "  <tbody>\n",
       "    <tr>\n",
       "      <th>4278</th>\n",
       "      <td>So I was just diagnosed with Rhabdomyolysis</td>\n",
       "      <td>I actually wasn't. But I received a lovely let...</td>\n",
       "      <td>diabetes_t1</td>\n",
       "      <td>1551967031</td>\n",
       "      <td>athomesuperstar</td>\n",
       "      <td>2</td>\n",
       "      <td>14</td>\n",
       "      <td>True</td>\n",
       "      <td>2019-03-07</td>\n",
       "      <td>So I was just diagnosed with RhabdomyolysisI a...</td>\n",
       "    </tr>\n",
       "    <tr>\n",
       "      <th>4279</th>\n",
       "      <td>Today marks 30 years</td>\n",
       "      <td>30 years. Not my 30th birthday to be clear. 30...</td>\n",
       "      <td>diabetes_t1</td>\n",
       "      <td>1551971230</td>\n",
       "      <td>KomarKatz</td>\n",
       "      <td>24</td>\n",
       "      <td>120</td>\n",
       "      <td>True</td>\n",
       "      <td>2019-03-07</td>\n",
       "      <td>Today marks 30 years30 years. Not my 30th birt...</td>\n",
       "    </tr>\n",
       "    <tr>\n",
       "      <th>4280</th>\n",
       "      <td>I need help, having lows..........</td>\n",
       "      <td>My doctor recently suggested that I try follow...</td>\n",
       "      <td>diabetes_t1</td>\n",
       "      <td>1551973846</td>\n",
       "      <td>Grammabear2</td>\n",
       "      <td>4</td>\n",
       "      <td>3</td>\n",
       "      <td>True</td>\n",
       "      <td>2019-03-07</td>\n",
       "      <td>I need help, having lows..........My doctor re...</td>\n",
       "    </tr>\n",
       "    <tr>\n",
       "      <th>4281</th>\n",
       "      <td>Anyone using the Omnipod Dash yet?</td>\n",
       "      <td>My doctor told me some people have received th...</td>\n",
       "      <td>diabetes_t1</td>\n",
       "      <td>1551975353</td>\n",
       "      <td>rchase94</td>\n",
       "      <td>0</td>\n",
       "      <td>1</td>\n",
       "      <td>True</td>\n",
       "      <td>2019-03-07</td>\n",
       "      <td>Anyone using the Omnipod Dash yet?My doctor to...</td>\n",
       "    </tr>\n",
       "    <tr>\n",
       "      <th>4282</th>\n",
       "      <td>Experiences with Fiasp</td>\n",
       "      <td>My doctor gave me a sample of Fiasp to try in ...</td>\n",
       "      <td>diabetes_t1</td>\n",
       "      <td>1551979654</td>\n",
       "      <td>zEUjgdWX</td>\n",
       "      <td>6</td>\n",
       "      <td>4</td>\n",
       "      <td>True</td>\n",
       "      <td>2019-03-07</td>\n",
       "      <td>Experiences with FiaspMy doctor gave me a samp...</td>\n",
       "    </tr>\n",
       "  </tbody>\n",
       "</table>\n",
       "</div>"
      ],
      "text/plain": [
       "                                            title  \\\n",
       "4278  So I was just diagnosed with Rhabdomyolysis   \n",
       "4279                         Today marks 30 years   \n",
       "4280           I need help, having lows..........   \n",
       "4281           Anyone using the Omnipod Dash yet?   \n",
       "4282                       Experiences with Fiasp   \n",
       "\n",
       "                                               selftext    subreddit  \\\n",
       "4278  I actually wasn't. But I received a lovely let...  diabetes_t1   \n",
       "4279  30 years. Not my 30th birthday to be clear. 30...  diabetes_t1   \n",
       "4280  My doctor recently suggested that I try follow...  diabetes_t1   \n",
       "4281  My doctor told me some people have received th...  diabetes_t1   \n",
       "4282  My doctor gave me a sample of Fiasp to try in ...  diabetes_t1   \n",
       "\n",
       "      created_utc           author  num_comments  score  is_self   timestamp  \\\n",
       "4278   1551967031  athomesuperstar             2     14     True  2019-03-07   \n",
       "4279   1551971230        KomarKatz            24    120     True  2019-03-07   \n",
       "4280   1551973846      Grammabear2             4      3     True  2019-03-07   \n",
       "4281   1551975353         rchase94             0      1     True  2019-03-07   \n",
       "4282   1551979654         zEUjgdWX             6      4     True  2019-03-07   \n",
       "\n",
       "                                               all_text  \n",
       "4278  So I was just diagnosed with RhabdomyolysisI a...  \n",
       "4279  Today marks 30 years30 years. Not my 30th birt...  \n",
       "4280  I need help, having lows..........My doctor re...  \n",
       "4281  Anyone using the Omnipod Dash yet?My doctor to...  \n",
       "4282  Experiences with FiaspMy doctor gave me a samp...  "
      ]
     },
     "execution_count": 285,
     "metadata": {},
     "output_type": "execute_result"
    }
   ],
   "source": [
    "t1.tail()"
   ]
  },
  {
   "cell_type": "markdown",
   "metadata": {},
   "source": [
    "We will tokenize out text in order for our further analysis to be possible. \n",
    "Tokenization is the act of breaking up a sequence of strings into pieces such as words, keywords, phrases, symbols and other elements called tokens. In the process of tokenization, some characters like punctuation marks are discarded. We will keep all our words and numeral symbols, but we will discard symbols, such as punctuation marks and backslashes - since we are interested in keeping only the words in each of the posts we will analyze. First we will import our tokenizer, and then we will aply it on the column that contains the text we wish to analyze.  "
   ]
  },
  {
   "cell_type": "code",
   "execution_count": 286,
   "metadata": {},
   "outputs": [],
   "source": [
    "tokenizer = RegexpTokenizer(r'\\w+')"
   ]
  },
  {
   "cell_type": "code",
   "execution_count": 287,
   "metadata": {},
   "outputs": [],
   "source": [
    "t1['all_text'] = t1['all_text'].apply(tokenizer.tokenize)"
   ]
  },
  {
   "cell_type": "markdown",
   "metadata": {},
   "source": [
    "Since the tokenizing process transforms our column of text into a column of lists of \"tokens\" aka words - as you can see in the cell below - we now need to transform the list back into text. We verify that our code works on the first row of our dataframe:"
   ]
  },
  {
   "cell_type": "code",
   "execution_count": 289,
   "metadata": {
    "scrolled": true
   },
   "outputs": [
    {
     "data": {
      "text/plain": [
       "'Parents with T1D kids on low carb diet Any impact on growth milestones Hi all My son 7 is t1d and is on a low carb diet It s resulted in great blood sugar control but in the last few check ups he s been falling well behind on height milestones Does anyone have any experience good or bad with this I m concerned the diet may be impacting his development Thanks'"
      ]
     },
     "execution_count": 289,
     "metadata": {},
     "output_type": "execute_result"
    }
   ],
   "source": [
    "' '.join(t1['all_text'][0])"
   ]
  },
  {
   "cell_type": "markdown",
   "metadata": {},
   "source": [
    "We apply this process to our entire \"all_text\" column, and we create a column with the text tokenized an ready to be analyzed which we will call \"text\"."
   ]
  },
  {
   "cell_type": "code",
   "execution_count": 290,
   "metadata": {},
   "outputs": [],
   "source": [
    "new_texts = t1['all_text']\n",
    "\n",
    "text_final  = []\n",
    "for text in new_texts:\n",
    "    ready = ' '.join(text)\n",
    "    text_final.append(ready)\n",
    "\n",
    "t1['text'] = text_final"
   ]
  },
  {
   "cell_type": "markdown",
   "metadata": {},
   "source": [
    "## Model Preparation"
   ]
  },
  {
   "cell_type": "markdown",
   "metadata": {},
   "source": [
    "We will create a new dataframe, called X, which will hold only the text to be analized, and we verify it's general structure:"
   ]
  },
  {
   "cell_type": "code",
   "execution_count": 291,
   "metadata": {},
   "outputs": [
    {
     "data": {
      "text/plain": [
       "0    Parents with T1D kids on low carb diet Any imp...\n",
       "1    HBA1C results 2 months since diagnosis Diagnos...\n",
       "2    Type 1 diabetes and mood swingsDoes anyone her...\n",
       "3    Bes countries to live in being diabetichello I...\n",
       "4    Best countries to live in being diabetichello ...\n",
       "Name: text, dtype: object"
      ]
     },
     "execution_count": 291,
     "metadata": {},
     "output_type": "execute_result"
    }
   ],
   "source": [
    "X = t1['text']\n",
    "X.head()"
   ]
  },
  {
   "cell_type": "code",
   "execution_count": 292,
   "metadata": {},
   "outputs": [
    {
     "data": {
      "text/plain": [
       "(4283,)"
      ]
     },
     "execution_count": 292,
     "metadata": {},
     "output_type": "execute_result"
    }
   ],
   "source": [
    "X.shape"
   ]
  },
  {
   "cell_type": "markdown",
   "metadata": {},
   "source": [
    "Now that we have our data ready to be worked on, we can import a list of stopwords to be eliminated from the text to be analyzed. Also, We decide to eliminate words that will appear in these posts with no necessary impact on the meaning of the posts. Since all these posts have to do with diabetes, we decide to eliminate words such as \n",
    "'diabetes', 'insulin', 'blood', 'sugar', 'diabetic\". They are words likely to appear in each of the posts we have - and indeed performing an innitial search on our posts they do appear prevalent and will not create proper clustering. We also decided to eliminate words such as 'hi', 'https', 'www', as they are greeting words, or  internet addresses. \n"
   ]
  },
  {
   "cell_type": "code",
   "execution_count": 293,
   "metadata": {},
   "outputs": [],
   "source": [
    "from sklearn.feature_extraction import stop_words"
   ]
  },
  {
   "cell_type": "code",
   "execution_count": 294,
   "metadata": {
    "scrolled": true
   },
   "outputs": [
    {
     "name": "stdout",
     "output_type": "stream",
     "text": [
      "frozenset({'whom', 'me', 'each', 'with', 'whereby', 'not', 'these', 'next', 'put', 'interest', 'ie', 'are', 'eleven', 'would', 'while', 'i', 'too', 'another', 'done', 'ever', 'almost', 'fifty', 'became', 'toward', 'whether', 'nor', 'because', 'found', 'against', 'beside', 'may', 'amount', 'back', 'please', 'since', 'forty', 'anywhere', 'below', 'afterwards', 'if', 'their', 'and', 'hereupon', 'him', 'name', 'keep', 'either', 'over', 'none', 'can', 'front', 'sixty', 'without', 'bottom', 'thereafter', 'there', 'around', 'to', 'again', 'mine', 'three', 'been', 'at', 'cry', 'co', 'though', 'in', 'thereupon', 'an', 'become', 'them', 'made', 'besides', 'only', 'although', 'most', 'whoever', 'formerly', 'from', 'else', 'twelve', 'both', 'detail', 'through', 'alone', 'top', 'we', 'moreover', 'call', 'hundred', 'latterly', 'be', 'ours', 'yet', 'how', 'two', 'us', 'which', 'where', 'herein', 'hasnt', 'hence', 'thin', 'everyone', 'due', 'eg', 'except', 'than', 'cannot', 'all', 'something', 'yours', 'hereby', 'during', 'some', 'across', 'out', 'up', 'should', 'few', 'or', 'still', 'about', 'namely', 'down', 'sometime', 'whereupon', 'less', 'nothing', 'very', 'always', 'yourselves', 'anyway', 'everywhere', 'fill', 'they', 'must', 'why', 'un', 'your', 'within', 'what', 'as', 'this', 'once', 'sometimes', 'herself', 'other', 'wherein', 'until', 'otherwise', 'when', 'move', 'somewhere', 'upon', 'do', 'anyhow', 'part', 'ourselves', 'seem', 'seems', 'couldnt', 'enough', 'several', 'nevertheless', 'find', 'full', 'thereby', 'is', 'more', 'elsewhere', 'hers', 'eight', 'am', 'was', 'somehow', 'therefore', 'via', 'any', 'himself', 'describe', 'per', 'whereas', 'becomes', 'one', 'towards', 'above', 'whither', 'nobody', 'then', 'anyone', 'meanwhile', 'throughout', 'nine', 'four', 'also', 'fire', 'already', 'con', 'former', 'it', 'thence', 'by', 'system', 'our', 'had', 'who', 'go', 'themselves', 'twenty', 'before', 'mill', 'nowhere', 'noone', 'my', 'inc', 'beyond', 'empty', 'whence', 'therein', 'thus', 'thick', 'perhaps', 'indeed', 'the', 'ltd', 'its', 'his', 'fifteen', 'on', 'could', 'but', 'get', 'into', 'together', 'anything', 'etc', 'however', 'thru', 'further', 'amongst', 'six', 'others', 'least', 'whatever', 'five', 'first', 'see', 'were', 'you', 'whose', 'third', 'give', 'latter', 'off', 'such', 're', 'neither', 'after', 'own', 'she', 'for', 'seemed', 'de', 'well', 'has', 'much', 'those', 'never', 'last', 'being', 'sincere', 'have', 'myself', 'side', 'along', 'everything', 'same', 'rather', 'show', 'under', 'whenever', 'bill', 'someone', 'her', 'serious', 'a', 'every', 'becoming', 'of', 'often', 'seeming', 'cant', 'he', 'among', 'amoungst', 'mostly', 'take', 'yourself', 'beforehand', 'onto', 'wherever', 'even', 'hereafter', 'now', 'between', 'will', 'that', 'so', 'itself', 'whereafter', 'no', 'here', 'might', 'many', 'whole', 'ten', 'behind'})\n"
     ]
    }
   ],
   "source": [
    "print(stop_words.ENGLISH_STOP_WORDS)"
   ]
  },
  {
   "cell_type": "code",
   "execution_count": 295,
   "metadata": {},
   "outputs": [
    {
     "data": {
      "text/plain": [
       "frozenset"
      ]
     },
     "execution_count": 295,
     "metadata": {},
     "output_type": "execute_result"
    }
   ],
   "source": [
    "type(stopwords)"
   ]
  },
  {
   "cell_type": "code",
   "execution_count": 430,
   "metadata": {},
   "outputs": [],
   "source": [
    "stop=set(stopwords)\n",
    "stop.add('hi')\n",
    "stop.add('s')\n",
    "stop.add('m')\n",
    "stop.add('diabetes')\n",
    "stop.add('just')\n",
    "stop.add('insulin')\n",
    "stop.add('blood')\n",
    "stop.add('sugar')\n",
    "stop.add('ve')\n",
    "stop.add('type')\n",
    "stop.add('https')\n",
    "stop.add('com')\n",
    "stop.add('www')\n",
    "stop.add('https www')\n",
    "stop.add('like')\n",
    "stop.add('don')\n",
    "stop.add('know')\n",
    "stop.add('time')\n",
    "stop.add('years')\n",
    "stop.add('day')\n",
    "stop.add('does')\n",
    "stop.add('going')\n",
    "stop.add('got')\n",
    "stop.add('use')\n",
    "stop.add('using')\n",
    "stop.add('really')\n",
    "stop.add('having')\n",
    "stop.add('diabetic')\n",
    "stop.add('diagnosed')\n"
   ]
  },
  {
   "cell_type": "markdown",
   "metadata": {},
   "source": [
    "We can finaly apply our vectorizers - we decided to try both CountVectorizer and  TfidF - which is short for Term frequency–inverse document frequency - on our cleaned text. As we proceeded and tried both vecorizers - we observed that our unsupervised machine learning works better on our text processed with TfidF. That makes sense as Tfidf practically calculates how relevant a word is in a document - and that is exaclty what we need in our case. We apply Tfidf with the set of stopwords defined above, and we decide to try and find n_grams in the range of 1 to 3, and to keep the maximum features (words that will be appearing in our sparse matrix created by tfidf in our case) to 10000. We will therefore obtain a sparse matrix with 4283 rows and 10000 columns (as we can see in the thris cell bellow). "
   ]
  },
  {
   "cell_type": "code",
   "execution_count": 431,
   "metadata": {},
   "outputs": [],
   "source": [
    "tf = TfidfVectorizer(stop_words = stop, ngram_range = (1, 3), max_features = 10000)"
   ]
  },
  {
   "cell_type": "code",
   "execution_count": 432,
   "metadata": {},
   "outputs": [],
   "source": [
    "train_tf = tf.fit_transform(X)"
   ]
  },
  {
   "cell_type": "code",
   "execution_count": 433,
   "metadata": {},
   "outputs": [
    {
     "data": {
      "text/plain": [
       "(4283, 10000)"
      ]
     },
     "execution_count": 433,
     "metadata": {},
     "output_type": "execute_result"
    }
   ],
   "source": [
    "train_tf.shape"
   ]
  },
  {
   "cell_type": "markdown",
   "metadata": {},
   "source": [
    "## Modeling - KMeans Clustering\n"
   ]
  },
  {
   "cell_type": "markdown",
   "metadata": {},
   "source": [
    "We will be choosing the number of clusters in a K-means model using the silhouette score for our K-menas clusters. The silhouette value is a measure of how similar an object is to its own cluster (cohesion) compared to other clusters (separation). The silhouette ranges from −1 to +1, where a high value indicates that the object is well matched to its own cluster and poorly matched to neighboring clusters."
   ]
  },
  {
   "cell_type": "code",
   "execution_count": 165,
   "metadata": {},
   "outputs": [],
   "source": [
    "scores_tf =[]\n",
    "for k in range (5, 50):\n",
    "    cl_tf = KMeans(n_clusters = k, random_state = 100)\n",
    "    cl_tf.fit(train_tf)\n",
    "    inertia = cl_tf.inertia_\n",
    "    sil = silhouette_score(train_tf, cl_tf.labels_)\n",
    "    scores_tf.append((k, inertia, sil))"
   ]
  },
  {
   "cell_type": "code",
   "execution_count": 214,
   "metadata": {},
   "outputs": [],
   "source": [
    "score_tf_t1 = pd.DataFrame(scores_tf, columns = [\"k\", \"inertia\", \"sil\"])\n",
    "score_tf_t1\n",
    "score_tf_t1.to_csv('sil_scores', index=False)  "
   ]
  },
  {
   "cell_type": "code",
   "execution_count": 300,
   "metadata": {},
   "outputs": [],
   "source": [
    "score_tf_t1 = pd.read_csv('sil_scores')"
   ]
  },
  {
   "cell_type": "markdown",
   "metadata": {},
   "source": [
    "We observe that our silhouette scores are extremely small - we start at 0.03, and we barely get to under 0.007 for  clusters up to 11. \n",
    "\n",
    "That informs us that our clusters are not extremely well separated - and indeed considering the topic - there will be overlap between our clusters, the cohesion will be small and the separation will be rather poor too. It is difficult to find a clear demarcation in such a compact thread as one dedicated to a disease  such as type 1 diabetes - as all topics will more or less converge to very similar subjects of interest that can obverlap quite easily. \n",
    "\n",
    "Still - we observe above that our sihouette score increases slightly as the number of clusters (k) - and it starts to plateau at around .011 as k = 35. \n",
    "\n",
    "We choose a double apporach a conservative one with k = 6 where we  notice the first local maxima at 0.0063, and then a drop in the silhouette score, and then we will take a more expansive approacg - one with k = 30 where  the silhouette score starts to hover at 0.01 - with so many clusters we will go to a very deep, granular level and see more topics of interest in the corpus we are studying. "
   ]
  },
  {
   "cell_type": "code",
   "execution_count": 301,
   "metadata": {},
   "outputs": [
    {
     "data": {
      "image/png": "[encoded data removed]",
      "text/plain": [
       "<Figure size 1008x504 with 2 Axes>"
      ]
     },
     "metadata": {},
     "output_type": "display_data"
    }
   ],
   "source": [
    "fig, axes = plt.subplots(1, 2, figsize=(14, 7))\n",
    "axes[0].plot(score_tf_t1.k, score_tf_t1.inertia)\n",
    "axes[0].set_title('Inertia over k')\n",
    "axes[1].plot(score_tf_t1.k, score_tf_t1.sil);\n",
    "axes[1].set_title('Silhouette Score over k');"
   ]
  },
  {
   "cell_type": "markdown",
   "metadata": {},
   "source": [
    "In the graph above we observe that as we increase our cluster number, k, the silhouette score increases too - although it still is well below 1. We predict there will be a difficult demarcation between our clusters, as the topics will most likely touch on each other. "
   ]
  },
  {
   "cell_type": "markdown",
   "metadata": {},
   "source": [
    "## K means with 6 clusters"
   ]
  },
  {
   "cell_type": "markdown",
   "metadata": {},
   "source": [
    "We instantiate our model below, setting the cluster number at 6, and then we fit our model."
   ]
  },
  {
   "cell_type": "code",
   "execution_count": 434,
   "metadata": {},
   "outputs": [
    {
     "data": {
      "text/plain": [
       "KMeans(algorithm='auto', copy_x=True, init='k-means++', max_iter=300,\n",
       "       n_clusters=6, n_init=10, n_jobs=None, precompute_distances='auto',\n",
       "       random_state=100, tol=0.0001, verbose=0)"
      ]
     },
     "execution_count": 434,
     "metadata": {},
     "output_type": "execute_result"
    }
   ],
   "source": [
    "km_tf_6 = KMeans(n_clusters = 6, random_state = 100)\n",
    "km_tf_6.fit(train_tf)\n"
   ]
  },
  {
   "cell_type": "code",
   "execution_count": 435,
   "metadata": {},
   "outputs": [
    {
     "data": {
      "text/plain": [
       "10000"
      ]
     },
     "execution_count": 435,
     "metadata": {},
     "output_type": "execute_result"
    }
   ],
   "source": [
    "len(km_tf_6.cluster_centers_[1])"
   ]
  },
  {
   "cell_type": "markdown",
   "metadata": {},
   "source": [
    "We create a feature matrix, and we group our posts by the cluster they were assigned to:"
   ]
  },
  {
   "cell_type": "code",
   "execution_count": 436,
   "metadata": {},
   "outputs": [
    {
     "data": {
      "text/html": [
       "<div>\n",
       "<style scoped>\n",
       "    .dataframe tbody tr th:only-of-type {\n",
       "        vertical-align: middle;\n",
       "    }\n",
       "\n",
       "    .dataframe tbody tr th {\n",
       "        vertical-align: top;\n",
       "    }\n",
       "\n",
       "    .dataframe thead th {\n",
       "        text-align: right;\n",
       "    }\n",
       "</style>\n",
       "<table border=\"1\" class=\"dataframe\">\n",
       "  <thead>\n",
       "    <tr style=\"text-align: right;\">\n",
       "      <th></th>\n",
       "      <th>00</th>\n",
       "      <th>00 pm</th>\n",
       "      <th>000</th>\n",
       "      <th>01</th>\n",
       "      <th>04</th>\n",
       "      <th>05</th>\n",
       "      <th>06</th>\n",
       "      <th>07</th>\n",
       "      <th>08</th>\n",
       "      <th>10</th>\n",
       "      <th>...</th>\n",
       "      <th>youtube</th>\n",
       "      <th>youtube channel</th>\n",
       "      <th>youtube watch</th>\n",
       "      <th>yr</th>\n",
       "      <th>yr old</th>\n",
       "      <th>yrs</th>\n",
       "      <th>yup</th>\n",
       "      <th>zero</th>\n",
       "      <th>zero carb</th>\n",
       "      <th>zone</th>\n",
       "    </tr>\n",
       "    <tr>\n",
       "      <th>cluster</th>\n",
       "      <th></th>\n",
       "      <th></th>\n",
       "      <th></th>\n",
       "      <th></th>\n",
       "      <th></th>\n",
       "      <th></th>\n",
       "      <th></th>\n",
       "      <th></th>\n",
       "      <th></th>\n",
       "      <th></th>\n",
       "      <th></th>\n",
       "      <th></th>\n",
       "      <th></th>\n",
       "      <th></th>\n",
       "      <th></th>\n",
       "      <th></th>\n",
       "      <th></th>\n",
       "      <th></th>\n",
       "      <th></th>\n",
       "      <th></th>\n",
       "      <th></th>\n",
       "    </tr>\n",
       "  </thead>\n",
       "  <tbody>\n",
       "    <tr>\n",
       "      <th>0</th>\n",
       "      <td>33</td>\n",
       "      <td>33</td>\n",
       "      <td>33</td>\n",
       "      <td>33</td>\n",
       "      <td>33</td>\n",
       "      <td>33</td>\n",
       "      <td>33</td>\n",
       "      <td>33</td>\n",
       "      <td>33</td>\n",
       "      <td>33</td>\n",
       "      <td>...</td>\n",
       "      <td>33</td>\n",
       "      <td>33</td>\n",
       "      <td>33</td>\n",
       "      <td>33</td>\n",
       "      <td>33</td>\n",
       "      <td>33</td>\n",
       "      <td>33</td>\n",
       "      <td>33</td>\n",
       "      <td>33</td>\n",
       "      <td>33</td>\n",
       "    </tr>\n",
       "    <tr>\n",
       "      <th>1</th>\n",
       "      <td>1884</td>\n",
       "      <td>1884</td>\n",
       "      <td>1884</td>\n",
       "      <td>1884</td>\n",
       "      <td>1884</td>\n",
       "      <td>1884</td>\n",
       "      <td>1884</td>\n",
       "      <td>1884</td>\n",
       "      <td>1884</td>\n",
       "      <td>1884</td>\n",
       "      <td>...</td>\n",
       "      <td>1884</td>\n",
       "      <td>1884</td>\n",
       "      <td>1884</td>\n",
       "      <td>1884</td>\n",
       "      <td>1884</td>\n",
       "      <td>1884</td>\n",
       "      <td>1884</td>\n",
       "      <td>1884</td>\n",
       "      <td>1884</td>\n",
       "      <td>1884</td>\n",
       "    </tr>\n",
       "    <tr>\n",
       "      <th>2</th>\n",
       "      <td>139</td>\n",
       "      <td>139</td>\n",
       "      <td>139</td>\n",
       "      <td>139</td>\n",
       "      <td>139</td>\n",
       "      <td>139</td>\n",
       "      <td>139</td>\n",
       "      <td>139</td>\n",
       "      <td>139</td>\n",
       "      <td>139</td>\n",
       "      <td>...</td>\n",
       "      <td>139</td>\n",
       "      <td>139</td>\n",
       "      <td>139</td>\n",
       "      <td>139</td>\n",
       "      <td>139</td>\n",
       "      <td>139</td>\n",
       "      <td>139</td>\n",
       "      <td>139</td>\n",
       "      <td>139</td>\n",
       "      <td>139</td>\n",
       "    </tr>\n",
       "    <tr>\n",
       "      <th>3</th>\n",
       "      <td>483</td>\n",
       "      <td>483</td>\n",
       "      <td>483</td>\n",
       "      <td>483</td>\n",
       "      <td>483</td>\n",
       "      <td>483</td>\n",
       "      <td>483</td>\n",
       "      <td>483</td>\n",
       "      <td>483</td>\n",
       "      <td>483</td>\n",
       "      <td>...</td>\n",
       "      <td>483</td>\n",
       "      <td>483</td>\n",
       "      <td>483</td>\n",
       "      <td>483</td>\n",
       "      <td>483</td>\n",
       "      <td>483</td>\n",
       "      <td>483</td>\n",
       "      <td>483</td>\n",
       "      <td>483</td>\n",
       "      <td>483</td>\n",
       "    </tr>\n",
       "    <tr>\n",
       "      <th>4</th>\n",
       "      <td>595</td>\n",
       "      <td>595</td>\n",
       "      <td>595</td>\n",
       "      <td>595</td>\n",
       "      <td>595</td>\n",
       "      <td>595</td>\n",
       "      <td>595</td>\n",
       "      <td>595</td>\n",
       "      <td>595</td>\n",
       "      <td>595</td>\n",
       "      <td>...</td>\n",
       "      <td>595</td>\n",
       "      <td>595</td>\n",
       "      <td>595</td>\n",
       "      <td>595</td>\n",
       "      <td>595</td>\n",
       "      <td>595</td>\n",
       "      <td>595</td>\n",
       "      <td>595</td>\n",
       "      <td>595</td>\n",
       "      <td>595</td>\n",
       "    </tr>\n",
       "    <tr>\n",
       "      <th>5</th>\n",
       "      <td>1149</td>\n",
       "      <td>1149</td>\n",
       "      <td>1149</td>\n",
       "      <td>1149</td>\n",
       "      <td>1149</td>\n",
       "      <td>1149</td>\n",
       "      <td>1149</td>\n",
       "      <td>1149</td>\n",
       "      <td>1149</td>\n",
       "      <td>1149</td>\n",
       "      <td>...</td>\n",
       "      <td>1149</td>\n",
       "      <td>1149</td>\n",
       "      <td>1149</td>\n",
       "      <td>1149</td>\n",
       "      <td>1149</td>\n",
       "      <td>1149</td>\n",
       "      <td>1149</td>\n",
       "      <td>1149</td>\n",
       "      <td>1149</td>\n",
       "      <td>1149</td>\n",
       "    </tr>\n",
       "  </tbody>\n",
       "</table>\n",
       "<p>6 rows × 10000 columns</p>\n",
       "</div>"
      ],
      "text/plain": [
       "           00  00 pm   000    01    04    05    06    07    08    10  ...  \\\n",
       "cluster                                                               ...   \n",
       "0          33     33    33    33    33    33    33    33    33    33  ...   \n",
       "1        1884   1884  1884  1884  1884  1884  1884  1884  1884  1884  ...   \n",
       "2         139    139   139   139   139   139   139   139   139   139  ...   \n",
       "3         483    483   483   483   483   483   483   483   483   483  ...   \n",
       "4         595    595   595   595   595   595   595   595   595   595  ...   \n",
       "5        1149   1149  1149  1149  1149  1149  1149  1149  1149  1149  ...   \n",
       "\n",
       "         youtube  youtube channel  youtube watch    yr  yr old   yrs   yup  \\\n",
       "cluster                                                                      \n",
       "0             33               33             33    33      33    33    33   \n",
       "1           1884             1884           1884  1884    1884  1884  1884   \n",
       "2            139              139            139   139     139   139   139   \n",
       "3            483              483            483   483     483   483   483   \n",
       "4            595              595            595   595     595   595   595   \n",
       "5           1149             1149           1149  1149    1149  1149  1149   \n",
       "\n",
       "         zero  zero carb  zone  \n",
       "cluster                         \n",
       "0          33         33    33  \n",
       "1        1884       1884  1884  \n",
       "2         139        139   139  \n",
       "3         483        483   483  \n",
       "4         595        595   595  \n",
       "5        1149       1149  1149  \n",
       "\n",
       "[6 rows x 10000 columns]"
      ]
     },
     "execution_count": 436,
     "metadata": {},
     "output_type": "execute_result"
    }
   ],
   "source": [
    "features6_tf = pd.DataFrame(train_tf.toarray(), columns = tf.get_feature_names())\n",
    "features6_tf['cluster'] = km_tf_6.labels_\n",
    "features6_tf.groupby(by = 'cluster').count()"
   ]
  },
  {
   "cell_type": "markdown",
   "metadata": {},
   "source": [
    "As we can observe above, we have 6 clusters \n",
    "- cluster 0 has 33 posts, \n",
    "- cluster 1 has 1884 posts, \n",
    "- cluster 2 has 139 posts,\n",
    "- cluster 3 has 483 posts,\n",
    "- cluster 4 has 595 posts, and\n",
    "- cluster 5 has 1149 posts. "
   ]
  },
  {
   "cell_type": "markdown",
   "metadata": {},
   "source": [
    "We will analyze in depth all our clusters below, and we will label them with the most encountered word in each. "
   ]
  },
  {
   "cell_type": "markdown",
   "metadata": {},
   "source": [
    "### Cluster 0 - \"Removed\""
   ]
  },
  {
   "cell_type": "markdown",
   "metadata": {},
   "source": [
    "We find out the top 10 words that have the highest coefficient in the clustering process in the cluster we are analyzing:"
   ]
  },
  {
   "cell_type": "code",
   "execution_count": 382,
   "metadata": {},
   "outputs": [
    {
     "data": {
      "text/plain": [
       "removed            18.270375\n",
       "types               1.142058\n",
       "benefits            1.079834\n",
       "symptoms            1.062118\n",
       "causes symptoms     0.943327\n",
       "symptoms amp        0.943327\n",
       "treatment           0.864573\n",
       "nephropathy         0.828745\n",
       "counteract          0.822491\n",
       "remedy              0.811978\n",
       "Name: 0, dtype: float64"
      ]
     },
     "execution_count": 382,
     "metadata": {},
     "output_type": "execute_result"
    }
   ],
   "source": [
    "features6_tf.groupby(by = 'cluster').sum().iloc[0].sort_values(ascending = False).head(10)"
   ]
  },
  {
   "cell_type": "code",
   "execution_count": 527,
   "metadata": {},
   "outputs": [
    {
     "data": {
      "image/png": "[encoded data removed]",
      "text/plain": [
       "<Figure size 432x288 with 1 Axes>"
      ]
     },
     "metadata": {},
     "output_type": "display_data"
    }
   ],
   "source": [
    "features6_tf.groupby(by = 'cluster').sum().iloc[0].sort_values(ascending = False).head(10).plot.barh(title = \"Words the highest coefficient Cluster 0\");\n"
   ]
  },
  {
   "cell_type": "markdown",
   "metadata": {},
   "source": [
    "The graph above ilustrates the top 10 words with the highest coefficient in this cluster. The word with the highest coefficient is \"removed\". We investigate the words meaning in this context."
   ]
  },
  {
   "cell_type": "markdown",
   "metadata": {},
   "source": [
    "We create below a mask for selecting just the posts from cluster 0, and masks for selecting just posts that have a certain word in the 'text' field in order to dig deeper into the structure of our cluster."
   ]
  },
  {
   "cell_type": "code",
   "execution_count": 539,
   "metadata": {},
   "outputs": [],
   "source": [
    "cluster_0_mask = t1['cluster'] == 0\n",
    "mask_new = t1['text'].str.contains(\"removed\")"
   ]
  },
  {
   "cell_type": "markdown",
   "metadata": {},
   "source": [
    "We apply the masks created above to identify the posts in cluster 0 that contain the word \"removed.\" We pull several of these posts in order to decide what it's meaning is.\n"
   ]
  },
  {
   "cell_type": "code",
   "execution_count": 456,
   "metadata": {},
   "outputs": [
    {
     "data": {
      "text/plain": [
       "'Help with insulin costs removed'"
      ]
     },
     "execution_count": 456,
     "metadata": {},
     "output_type": "execute_result"
    }
   ],
   "source": [
    "t1[cluster_0_mask].text.iloc[0]"
   ]
  },
  {
   "cell_type": "code",
   "execution_count": 463,
   "metadata": {
    "scrolled": true
   },
   "outputs": [
    {
     "data": {
      "text/plain": [
       "Int64Index([   9,   53,   78,  145,  202,  338,  432,  666,  789, 1225, 1343,\n",
       "            1589, 1713, 1812, 1902, 1956, 1968, 2174, 2185, 2254, 2753, 2810,\n",
       "            2882, 2940, 3227, 3308, 3394, 3448, 3605, 3627, 3682, 3744, 3851],\n",
       "           dtype='int64')"
      ]
     },
     "execution_count": 463,
     "metadata": {},
     "output_type": "execute_result"
    }
   ],
   "source": [
    "t1[cluster_0_mask & mask_new].index"
   ]
  },
  {
   "cell_type": "code",
   "execution_count": 440,
   "metadata": {},
   "outputs": [
    {
     "data": {
      "text/plain": [
       "'Help with insulin costs removed'"
      ]
     },
     "execution_count": 440,
     "metadata": {},
     "output_type": "execute_result"
    }
   ],
   "source": [
    "t1.iloc[9].text"
   ]
  },
  {
   "cell_type": "code",
   "execution_count": 441,
   "metadata": {},
   "outputs": [
    {
     "data": {
      "text/plain": [
       "'Diabetic Nephropathy removed'"
      ]
     },
     "execution_count": 441,
     "metadata": {},
     "output_type": "execute_result"
    }
   ],
   "source": [
    "t1.iloc[145].text"
   ]
  },
  {
   "cell_type": "code",
   "execution_count": 310,
   "metadata": {
    "scrolled": false
   },
   "outputs": [
    {
     "data": {
      "text/plain": [
       "'I accidentally removed the cartridge from my T Slim X2 briefly is it ok I only got the thing put on yesterday and the cartridge was only out for a few seconds'"
      ]
     },
     "execution_count": 310,
     "metadata": {},
     "output_type": "execute_result"
    }
   ],
   "source": [
    "t1.iloc[2940].text"
   ]
  },
  {
   "cell_type": "markdown",
   "metadata": {},
   "source": [
    "We conclude that the first cluster (cluster 0) is a cluster of posts where the 'selftext' - the original post - was removed. Usually these posts are removed  by a Redditor – or a moderator – they wipe a post down for one reason or another. The original thread and title remain, but their content is no longer available. They are possibly deemed as spam. However - after exmaining the cluster closely we find that 1 of the 33 'removed posts' is not realy a removed post - but it does have the word 'removed' in its title and text - the post is located at index 2940. This was a post about a person accidentaly removing their cartridge.  and asking for help. Clearly, we will encounter a difficulty in classifng and these posts should have been removed from the original corpus to be analyzed. Still, their relevance stays as it shows us the percentage of posts that were removed over the 100 days we are analyzing. 33 posts out of a total of 4283 usable posts (not with null values in the text) means that only .77% of the posts were removed."
   ]
  },
  {
   "cell_type": "markdown",
   "metadata": {},
   "source": [
    "We define a function that will find the number of times a word appears in a cluster - we will use this functiojn for the future clusters too."
   ]
  },
  {
   "cell_type": "code",
   "execution_count": 488,
   "metadata": {
    "scrolled": true
   },
   "outputs": [],
   "source": [
    "def find_word_count(word, cluster):\n",
    "    count_words=0\n",
    "    for i in range(len(list(t1[cluster].index))):\n",
    "        count = t1[cluster].text.iloc[i].count(word)\n",
    "        count_words = count_words + count\n",
    "    return count_words  "
   ]
  },
  {
   "cell_type": "markdown",
   "metadata": {},
   "source": [
    "We find out how many times the word \"removed\" appears in our cluster:"
   ]
  },
  {
   "cell_type": "code",
   "execution_count": 490,
   "metadata": {},
   "outputs": [
    {
     "data": {
      "text/plain": [
       "33"
      ]
     },
     "execution_count": 490,
     "metadata": {},
     "output_type": "execute_result"
    }
   ],
   "source": [
    "find_word_count('removed', cluster_0_mask)"
   ]
  },
  {
   "cell_type": "markdown",
   "metadata": {},
   "source": [
    "The number above matches the number of posts in this cluster. "
   ]
  },
  {
   "cell_type": "markdown",
   "metadata": {},
   "source": [
    "### Cluster 1 - \"Insurance\""
   ]
  },
  {
   "cell_type": "markdown",
   "metadata": {},
   "source": [
    "We find out the top 10 words that have the highest coefficient in the clustering process in the cluster we are analyzing:"
   ]
  },
  {
   "cell_type": "code",
   "execution_count": 99,
   "metadata": {},
   "outputs": [
    {
     "data": {
      "text/plain": [
       "insurance    31.218609\n",
       "help         29.910748\n",
       "people       28.351963\n",
       "t1           27.652692\n",
       "need         26.552860\n",
       "t1d          25.954496\n",
       "a1c          25.243329\n",
       "good         23.245617\n",
       "amp          22.473280\n",
       "thanks       22.102882\n",
       "Name: 1, dtype: float64"
      ]
     },
     "execution_count": 99,
     "metadata": {},
     "output_type": "execute_result"
    }
   ],
   "source": [
    "features6_tf.groupby(by = 'cluster').sum().iloc[1].sort_values(ascending = False).head(10)"
   ]
  },
  {
   "cell_type": "code",
   "execution_count": 526,
   "metadata": {},
   "outputs": [
    {
     "data": {
      "image/png": "[encoded data removed]",
      "text/plain": [
       "<Figure size 432x288 with 1 Axes>"
      ]
     },
     "metadata": {},
     "output_type": "display_data"
    }
   ],
   "source": [
    "features6_tf.groupby(by = 'cluster').sum().iloc[1].sort_values(ascending = False).head(10).plot.barh(title = \"Words the highest coefficient Cluster 1\");\n"
   ]
  },
  {
   "cell_type": "markdown",
   "metadata": {},
   "source": [
    "We create below a mask for selecting just the posts from cluster 1, and masks for selecting just posts that have a certain word in the 'text' field in order to dig deeper into the structure of our cluster."
   ]
  },
  {
   "cell_type": "code",
   "execution_count": 540,
   "metadata": {},
   "outputs": [],
   "source": [
    "cluster_1_mask = t1['cluster'] == 1\n",
    "mask_insurance = t1['text'].str.contains(\"insurance\")\n",
    "mask_help = t1['text'].str.contains(\"help\")\n",
    "mask_amp = t1['text'].str.contains(\"amp\")"
   ]
  },
  {
   "cell_type": "code",
   "execution_count": 543,
   "metadata": {},
   "outputs": [
    {
     "data": {
      "text/plain": [
       "Int64Index([  95,  629, 1040, 1152, 1176, 1192, 1230, 1309, 1371, 1552, 1619,\n",
       "            2004, 2668, 3184, 3808, 3996],\n",
       "           dtype='int64')"
      ]
     },
     "execution_count": 543,
     "metadata": {},
     "output_type": "execute_result"
    }
   ],
   "source": [
    "t1[cluster_1_mask & mask_insurance].index"
   ]
  },
  {
   "cell_type": "code",
   "execution_count": 533,
   "metadata": {},
   "outputs": [
    {
     "data": {
      "image/png": "[encoded data removed]",
      "text/plain": [
       "<Figure size 432x288 with 1 Axes>"
      ]
     },
     "metadata": {},
     "output_type": "display_data"
    }
   ],
   "source": [
    "#we create a list of the top 10 words that have the highest coefficient in our cluster:\n",
    "words = ['insurance', 'help', 'people', 't1', 'need', 't1d', 'a1c', 'good', 'amp', 'thanks']\n",
    "#we plot the frequency of the top 10 words with the highest coefficient for our cluster:\n",
    "frequency = []\n",
    "for word in words:\n",
    "    count = find_word_count(word, cluster_1_mask)\n",
    "    frequency.append(count)\n",
    "freq = pd.DataFrame({'words': words,\n",
    "                   'frequency': frequency})    \n",
    "freq.plot.barh(title = \"Frequency of words with a high coefficient\", x = 'words');"
   ]
  },
  {
   "cell_type": "markdown",
   "metadata": {},
   "source": [
    "As we can see in the graph above, although the word \"insurance\" is the one with the highest coefficient in the clustering process, it does not have the higest frequency in our cluster. This is clearly a result of how the vectorizer TFIDF worked in preprocessing of our text - as in TFIDF the importance of a word is not really reflected by its frequency. "
   ]
  },
  {
   "cell_type": "code",
   "execution_count": 405,
   "metadata": {},
   "outputs": [
    {
     "data": {
      "text/plain": [
       "'Insurance companies are a joke My morning consisted of calling my insurance company prescription company and crying in a pharmacy today I got put on new health insurance due to life events I thought that this was a plus because insurance covers 90 of prescription cost but no it s not I went to go get my Novolog yesterday and it was almost 300 So I don t get it because I can t afford that I figured it was like a thing where they only cover humalog or something like that So I call my insurance company today and they tell me they don t cover any insulin cost until I meet my 5000 deductible This is my parents health insurance and I was on my own before and my deductible was only 500 I was so shocked I ve never even heard of prescriptions not being covered until the deductible is met Like wtf I called some other services through my insurance to see if there was some sort of mix up There wasn t My insurance company basically said fuck you I don t care if you die Not really the representative that helped me was actually super nice So I was upset but I was like Okay I can figure this out I went to buy the insulin with my credit card and they only gave me one vial I use three in a month The pharmacist came to help me and refunded my money so he could fix it and give me the 3 vials and he came back and said that it was 284 a vial not for a month prescription I was so upset at this point So I told him I would just buy the one vial to get me by until I figured out what to do and my card got declined because my bank thought it was fraud for being charged the same large amount twice I burst into tears in the CVS and just walked out I got to my car and got a text about the fraud thing and fixed it But I was too emotional to go back inside Wtf is wrong with America How is this even allowed How could anyone charge so much for a life saving drug I can t afford to be alive right now I m 22 years old and I can barely afford my rent let alone over 800 a month for insulin Does this get any easier I m so upset I m rationing my insulin until I get this fucking figured out It s so dumb I hate this Ohio needs to get on that insulin cap'"
      ]
     },
     "execution_count": 405,
     "metadata": {},
     "output_type": "execute_result"
    }
   ],
   "source": [
    "t1.iloc[69].text"
   ]
  },
  {
   "cell_type": "code",
   "execution_count": 406,
   "metadata": {},
   "outputs": [
    {
     "data": {
      "text/plain": [
       "'What I ve learnedSo maybe this will be unpopular but I think I ve learned a lot from being type 1 I think I take life for granted a lot less than I used to so I think that s an upside I think we are forced to look at the pros when were on this side of things I think most people take life for granted but we see it differently and this can include anyone with a chronic illness I m not trying to single us out In my experience I have a much more positive attitude than my able bodied counterparts When you re faced with the worst you seek positivity right So in a way I feel blessed I also hate the term blessed to be here surviving despite it all I m also lucky to have a good job with decent insurance so maybe that helps But barring all negative aspects of this disease we are defying the odds just being here And that in itself is amazing 100 years ago we d all be dead or starving to prolong our lives I should not be here and the fact that I am here and thriving gives me hope for humanity I hope that someone else out there feels the same despite the hoops we jump through daily just to breathe and pretend to be normal Night y all'"
      ]
     },
     "execution_count": 406,
     "metadata": {},
     "output_type": "execute_result"
    }
   ],
   "source": [
    "t1.iloc[3978].text"
   ]
  },
  {
   "cell_type": "markdown",
   "metadata": {},
   "source": [
    "The second cluster (cluster 1) has 1884 posts. This is by far the largest cluster, the only one even close to it being the last cluster (cluster 5 with 1149 posts). The word most used - the one with the most importance in the clustering process is \"Insurance\" - so we will label this Cluster \"Insurance\". Clearly - the type of insurance, having insurance or not will influence dramatically the care a type 1 diabetic gets. Having insurance is a main concern for type 1 diabetics, or parents of children and adolescents with type 1 diabetes. \n",
    "According to a 2012 study based on a 2009 survey \"Health Insurance Coverage Among People With and Without Diabetes in the U.S. Adult Population\" - \"among all adults with diabetes, 90% had some form of health insurance coverage, including 85% of people 18–64 years of age and ∼100% of people ≥65 years of age; 81% of people without diabetes had some type of coverage (vs. diabetes, P < 0.0001), including 78% of people 18–64 years of age and 99% of people ≥65 years of age.\" However, \"Two million adults <65 years of age with diabetes had no health insurance coverage, which has considerable public health and economic impact.\"  (Sarah Stark Casagrande, PHD1 and Catherine C. Cowie, PHD2 \"Health Insurance Coverage Among People With and Without Diabetes in the U.S. Adult Population\" https://www.ncbi.nlm.nih.gov/pmc/articles/PMC3476921/). Clearly - we see even in this small sample that a large portion of the posts have to do with insurance. \n",
    "A large portion of the posts in this group have to do with complaints about the insurance not covering insulin, or other technology needed for managing the disease, like testing strips. A smaller portion has to do with people thankful that they have insurance. \n",
    "We see in this cluster also the presence of the word 'a1c'. The A1C test - also known as the HbA1C - Hemoglobin A1C test - measures the average blood sugar level for the past two to three months. The A1C test is used to identify prediabetes, to diagnose type 1 and type 2 diabetes, and to monitor if the diabetes treatment plan works. (https://www.mayoclinic.org/tests-procedures/a1c-test/about/pac-20384643). \n",
    "Clearly, this test plays an important role in the management of type 1 diabetics - and seeing it clustered together with the insurance plan shows that people are concerned about their test results.\n",
    "\n",
    "We see other words that show that this cluster has more to do with sentiment as well - words like \"help\", and \"need\" - and while reading through the posts we see that the insurance issue can stir many emotions in people with type 1 diabetes. A large study on the sentiment analysis for people suffering from type 1 diabetes shows us the prevalence of emotion and diabetes distress in social media (Ahne, Orchard, Tannier, Perchoux, Balkau, Pagoto, Harding, Czernichow, Fagherazzi - \"Insulin pricing and other major diabetes-related concerns in the USA: A study of 46,400 Tweets between 2017 and 2019\" - https://www.medrxiv.org/content/10.1101/2020.01.04.20016527v1)."
   ]
  },
  {
   "cell_type": "markdown",
   "metadata": {},
   "source": [
    "### Cluster 2 \"Libre\""
   ]
  },
  {
   "cell_type": "markdown",
   "metadata": {},
   "source": [
    "We find out the top 10 words that have the highest coefficient in the clustering process in the cluster we are analyzing:"
   ]
  },
  {
   "cell_type": "code",
   "execution_count": 360,
   "metadata": {},
   "outputs": [
    {
     "data": {
      "text/plain": [
       "libre              28.639005\n",
       "freestyle          22.452186\n",
       "freestyle libre    18.340529\n",
       "sensor              8.970931\n",
       "sensors             4.687863\n",
       "libre sensor        4.251045\n",
       "reader              3.839266\n",
       "dexcom              3.046641\n",
       "uk                  2.961726\n",
       "app                 2.835312\n",
       "Name: 2, dtype: float64"
      ]
     },
     "execution_count": 360,
     "metadata": {},
     "output_type": "execute_result"
    }
   ],
   "source": [
    "features6_tf.groupby(by = 'cluster').sum().iloc[2].sort_values(ascending = False).head(10)"
   ]
  },
  {
   "cell_type": "code",
   "execution_count": 528,
   "metadata": {},
   "outputs": [
    {
     "data": {
      "image/png": "[encoded data removed]",
      "text/plain": [
       "<Figure size 432x288 with 1 Axes>"
      ]
     },
     "metadata": {},
     "output_type": "display_data"
    }
   ],
   "source": [
    "features6_tf.groupby(by = 'cluster').sum().iloc[2].sort_values(ascending = False).head(10).plot.barh(title = \"Words the highest coefficient Cluster 2\");"
   ]
  },
  {
   "cell_type": "markdown",
   "metadata": {},
   "source": [
    "The third cluster - cluster 2 - has 139 posts, and the most relevant word is the top word \"libre\""
   ]
  },
  {
   "cell_type": "markdown",
   "metadata": {},
   "source": [
    "We create below a mask for selecting just the posts from cluster 2, and masks for selecting just posts that have a certain word in the 'text' field in order to dig deeper into the structure of our cluster."
   ]
  },
  {
   "cell_type": "code",
   "execution_count": 544,
   "metadata": {},
   "outputs": [],
   "source": [
    "cluster_2_mask = t1['cluster'] == 2\n",
    "mask_libre = t1['text'].str.contains(\"libre\")\n"
   ]
  },
  {
   "cell_type": "code",
   "execution_count": 542,
   "metadata": {},
   "outputs": [
    {
     "data": {
      "image/png": "[encoded data removed]",
      "text/plain": [
       "<Figure size 432x288 with 1 Axes>"
      ]
     },
     "metadata": {},
     "output_type": "display_data"
    }
   ],
   "source": [
    "#we create a list of the top 10 words that have the highest coefficient in our cluster:\n",
    "words = ['libre', 'freestyle', 'freestyle libre', 'sensor', 'sensors', 'libre sensor', 'reader', 'dexcom', 'uk', 'app']\n",
    "#we plot the frequency of the top 10 words with the highest coefficient for our cluster:\n",
    "frequency = []\n",
    "for word in words:\n",
    "    count = find_word_count(word, cluster_2_mask)\n",
    "    frequency.append(count)\n",
    "freq = pd.DataFrame({'words': words,\n",
    "                   'frequency': frequency})    \n",
    "freq.plot.barh(title = \"Frequency of words with a high coefficient\", x = 'words');"
   ]
  },
  {
   "cell_type": "code",
   "execution_count": 545,
   "metadata": {
    "scrolled": true
   },
   "outputs": [
    {
     "data": {
      "text/plain": [
       "Int64Index([  89,  107,  224,  240,  258,  305,  375,  411,  434,  461,  541,\n",
       "             545,  555,  620,  621,  640,  668,  690,  736,  758,  928,  949,\n",
       "            1006, 1185, 1268, 1291, 1322, 1330, 1332, 1344, 1392, 1443, 1513,\n",
       "            1534, 1598, 1620, 1623, 1651, 1735, 1847, 1914, 1922, 1928, 1944,\n",
       "            2011, 2029, 2049, 2056, 2067, 2087, 2090, 2114, 2234, 2250, 2273,\n",
       "            2380, 2652, 2741, 2895, 2923, 3025, 3205, 3250, 3382, 3392, 3433,\n",
       "            3578, 3714, 3715, 3761, 3877, 3919, 3928, 4053, 4130, 4135, 4160,\n",
       "            4188],\n",
       "           dtype='int64')"
      ]
     },
     "execution_count": 545,
     "metadata": {},
     "output_type": "execute_result"
    }
   ],
   "source": [
    "t1[cluster_2_mask & mask_libre].index"
   ]
  },
  {
   "cell_type": "code",
   "execution_count": 546,
   "metadata": {},
   "outputs": [
    {
     "data": {
      "text/plain": [
       "'airport security amp freestyle libre sensorI ve seen so many conflicting opinions so I wanted to try and get some personal experiences how is going through airport security with a libre sensor I have seen a lot of people say don t go through the x rays or full body scanners but I ve also seen so many people say they went through and it was okay I won t be taking extra sensors so there wont be any in my luggage to worry about just the one on my body'"
      ]
     },
     "execution_count": 546,
     "metadata": {},
     "output_type": "execute_result"
    }
   ],
   "source": [
    "t1.iloc[89].text"
   ]
  },
  {
   "cell_type": "code",
   "execution_count": 547,
   "metadata": {},
   "outputs": [
    {
     "data": {
      "text/plain": [
       "'Using two sensors at the same time Is it possible to use two freestyle libre sensors at the same time I wanna insert one and activate it while the other one still works for its last 24hours Reason i wanna do this is because i have lower results the first 24hours of inserting a new sensor and i cant rely on it while i m out'"
      ]
     },
     "execution_count": 547,
     "metadata": {},
     "output_type": "execute_result"
    }
   ],
   "source": [
    "t1.iloc[3877].text"
   ]
  },
  {
   "cell_type": "code",
   "execution_count": 549,
   "metadata": {},
   "outputs": [
    {
     "data": {
      "text/plain": [
       "'The freestyle libre appI ve been trying to get a cgm in particular the dexcom for about 8 weeks now I called today to try and get an update and they couldn t give me one so I cancelled my whole order I just went to Walgreens to price a 14 day freestyle sensor and it is a helluva lot cheaper than I was expecting so I m thinking about just paying for the sensor out of pocket I just downloaded the app for it and was wondering if it would be just that easy to pick up a sensor from Walgreens and be good to go'"
      ]
     },
     "execution_count": 549,
     "metadata": {},
     "output_type": "execute_result"
    }
   ],
   "source": [
    "t1.iloc[3250].text"
   ]
  },
  {
   "cell_type": "code",
   "execution_count": 551,
   "metadata": {},
   "outputs": [
    {
     "data": {
      "text/plain": [
       "'What s your freestyle libre experience Just got one yesterday I love it so far but what was is your experience Where s the best place to get extra protection for it Thanks guys'"
      ]
     },
     "execution_count": 551,
     "metadata": {},
     "output_type": "execute_result"
    }
   ],
   "source": [
    "t1.iloc[1847].text"
   ]
  },
  {
   "cell_type": "code",
   "execution_count": 554,
   "metadata": {},
   "outputs": [
    {
     "data": {
      "text/plain": [
       "Int64Index([1534], dtype='int64')"
      ]
     },
     "execution_count": 554,
     "metadata": {},
     "output_type": "execute_result"
    }
   ],
   "source": [
    "mask_uk = t1['text'].str.contains(\"uk\")\n",
    "t1[cluster_2_mask & mask_uk].index"
   ]
  },
  {
   "cell_type": "code",
   "execution_count": 555,
   "metadata": {},
   "outputs": [
    {
     "data": {
      "text/plain": [
       "'Freestyle libre Ireland and ukSo I ve been approved for the libre and I have training on Tuesday for how to use it I know some people have trouble with the adhesive staying for the full two weeks so I m wondering what can I use with the libre and where would I get them Also I see people with decorative patches Is there anywhere in the uk or Ireland that sells them I don t want to order from a US site as delivery prices are too high'"
      ]
     },
     "execution_count": 555,
     "metadata": {},
     "output_type": "execute_result"
    }
   ],
   "source": [
    "t1.iloc[1534].text"
   ]
  },
  {
   "cell_type": "markdown",
   "metadata": {},
   "source": [
    "This cluster is clearly dominated by users of a continuous glucose monitoring system called FreeStyle Libre. This system consists of a small, water-proof, fully disposable sensor worn on the arm for 10 or 14 days, plus a reader device. When scanned over the sensor, the reader shows a real-time glucose reading and trend arrow, which is approved to dose insulin without an accompanying fingerstick (https://www.freestylelibre.us/?gclid=EAIaIQobChMI1uaZ8PSL6AIVh7HtCh1jlgE8EAAYASAAEgJugfD_BwE). The use of technology for tyoe 1 diabetics makes managing the condition easier - and consistent use of this system was shown to reduce the A1C (Landau Z1,2, Abiri S3,4, Gruber N4,5, Levy-Shraga Y4,5, Brener A4,6, Lebenthal Y4,6, Barash G4,7, Pinhas-Hamiel O4,5, Rachmiel M4,7.  - \"Use of flash glucose-sensing technology (FreeStyle Libre) in youth with type 1 diabetes: AWeSoMe study group real-life observational experience\"). \n",
    "Type 1 diabetics use these forums to exchange tips about the kind of CGM (continuous glucose monitoring) systems, and the Libre system is relatively popular. This sytem requires the diabetic person to scan over the nsensor with the reader and thus obtain the blood sugar value. \n",
    "\n",
    "The concerns of the people that have a CGM system connected to their body are very varied. Tehy range from - how they can travel with it - and pass through airport control - to handling off values in the first 24 hours. Also - people echange opinions on the price of Freestyle libre - or just share how happy they are to be able to monitor the blood sugar without having to use a drop of blood as the traditional methods require. \n",
    "\n",
    "The word \"reader\"refers to Libre's reader device - while the word app refers to the app that one can download on their phone in order to record the trends and patterns their blood sugar exhibits, and also to transmit the values further to loved ones that have the matching app downloaded on their phones. \n",
    "\n",
    "The use of this technology is extremely helpful for parents of young children that suffer from type 1 diabetes. Before the apparition of CGM systems, the only option for finding out the value of the blood sugar in a diabetic person was testing the blood - that involved usualy sticking the finger with a needles and testing the blood drop with a test stick and a reader. This procedure can be traumatizing for a young child, and having this repeated sereral times a day - and several times a night - can create a constant stress both for the child and for the caregiver. The aparition of CGMs is indeed very helpful - as this way parents of children too young to asses if they suffer from a high or low blood sugar episode can monitor their child's levels without unnecessary stress. \n",
    "\n",
    "As Reddit is used by people in various countries - we notice we also have a post that seems to be from a person living in UK. As Reddit does not offer geolocation we were not able to filter out posts from people from outside the US - and we can deduce from this that some of the posts we analyze come from other english speaking countries, like UK, Australia, or Canada. The use of the Libre system is international, so it makes sense to have people from these other countries reaching out. The Type 1 diabetic online community is extremely well connected - as people from various countries exchange opinions on social media, and this is how people can compare the level of healthcare, tetst or the technology offered by the helth care companies in other countries. \n",
    "\n",
    "\n",
    "\n"
   ]
  },
  {
   "cell_type": "markdown",
   "metadata": {},
   "source": [
    "### Cluster 3 -\"Dexcom\""
   ]
  },
  {
   "cell_type": "markdown",
   "metadata": {},
   "source": [
    "We find out the top 10 words that have the highest coefficient in the clustering process in the cluster we are analyzing:"
   ]
  },
  {
   "cell_type": "code",
   "execution_count": 365,
   "metadata": {},
   "outputs": [
    {
     "data": {
      "text/plain": [
       "dexcom         57.945020\n",
       "sensor         42.971195\n",
       "g6             38.768294\n",
       "dexcom g6      23.499850\n",
       "g5             20.074726\n",
       "sensors        17.233561\n",
       "transmitter    16.918114\n",
       "app            15.042435\n",
       "new            13.801346\n",
       "phone          12.462274\n",
       "Name: 3, dtype: float64"
      ]
     },
     "execution_count": 365,
     "metadata": {},
     "output_type": "execute_result"
    }
   ],
   "source": [
    "features6_tf.groupby(by = 'cluster').sum().iloc[3].sort_values(ascending = False).head(10)"
   ]
  },
  {
   "cell_type": "code",
   "execution_count": 529,
   "metadata": {},
   "outputs": [
    {
     "data": {
      "image/png": "[encoded data removed]",
      "text/plain": [
       "<Figure size 432x288 with 1 Axes>"
      ]
     },
     "metadata": {},
     "output_type": "display_data"
    }
   ],
   "source": [
    "features6_tf.groupby(by = 'cluster').sum().iloc[3].sort_values(ascending = False).head(10).plot.barh(title = \"Words the highest coefficient Cluster 3\");"
   ]
  },
  {
   "cell_type": "code",
   "execution_count": 553,
   "metadata": {},
   "outputs": [],
   "source": [
    "cluster_3_mask = t1['cluster'] == 3\n",
    "mask_dexcom = t1['text'].str.contains(\"dexcom\")"
   ]
  },
  {
   "cell_type": "code",
   "execution_count": 556,
   "metadata": {},
   "outputs": [
    {
     "data": {
      "image/png": "[encoded data removed]",
      "text/plain": [
       "<Figure size 432x288 with 1 Axes>"
      ]
     },
     "metadata": {},
     "output_type": "display_data"
    }
   ],
   "source": [
    "#we create a list of the top 10 words that have the highest coefficient in our cluster:\n",
    "words = ['phone', 'new', 'app', 'transmitter', 'sensors', 'g5', 'dexcom g6', 'g6', 'sensor', 'dexcom']\n",
    "#we plot the frequency of the top 10 words with the highest coefficient for our cluster:\n",
    "frequency = []\n",
    "for word in words:\n",
    "    count = find_word_count(word, cluster_3_mask)\n",
    "    frequency.append(count)\n",
    "freq = pd.DataFrame({'words': words,\n",
    "                   'frequency': frequency})    \n",
    "freq.plot.barh(title = \"Frequency of words with a high coefficient\", x = 'words');"
   ]
  },
  {
   "cell_type": "code",
   "execution_count": null,
   "metadata": {},
   "outputs": [],
   "source": []
  },
  {
   "cell_type": "code",
   "execution_count": null,
   "metadata": {},
   "outputs": [],
   "source": []
  },
  {
   "cell_type": "code",
   "execution_count": null,
   "metadata": {},
   "outputs": [],
   "source": []
  },
  {
   "cell_type": "markdown",
   "metadata": {},
   "source": [
    "### Cluster 4 \"Pump\""
   ]
  },
  {
   "cell_type": "markdown",
   "metadata": {},
   "source": [
    "We find out the top 10 words that have the highest coefficient in the clustering process in the cluster we are analyzing:"
   ]
  },
  {
   "cell_type": "code",
   "execution_count": 102,
   "metadata": {},
   "outputs": [
    {
     "data": {
      "text/plain": [
       "pump         71.955722\n",
       "omnipod      26.917425\n",
       "medtronic    21.657846\n",
       "tandem       19.489739\n",
       "cgm          14.309258\n",
       "infusion     12.755893\n",
       "slim         11.799632\n",
       "new          11.653939\n",
       "tslim        11.242693\n",
       "x2           11.165016\n",
       "Name: 4, dtype: float64"
      ]
     },
     "execution_count": 102,
     "metadata": {},
     "output_type": "execute_result"
    }
   ],
   "source": [
    "features6_tf.groupby(by = 'cluster').sum().iloc[4].sort_values(ascending = False).head(10)"
   ]
  },
  {
   "cell_type": "code",
   "execution_count": 530,
   "metadata": {},
   "outputs": [
    {
     "data": {
      "image/png": "[encoded data removed]",
      "text/plain": [
       "<Figure size 432x288 with 1 Axes>"
      ]
     },
     "metadata": {},
     "output_type": "display_data"
    }
   ],
   "source": [
    "features6_tf.groupby(by = 'cluster').sum().iloc[4].sort_values(ascending = False).head(10).plot.barh(title = \"Words the highest coefficient Cluster 4\");"
   ]
  },
  {
   "cell_type": "code",
   "execution_count": 558,
   "metadata": {},
   "outputs": [],
   "source": [
    "cluster_4_mask = t1['cluster'] == 4\n",
    "mask_pump = t1['text'].str.contains(\"pump\")"
   ]
  },
  {
   "cell_type": "code",
   "execution_count": 559,
   "metadata": {},
   "outputs": [
    {
     "data": {
      "image/png": "[encoded data removed]",
      "text/plain": [
       "<Figure size 432x288 with 1 Axes>"
      ]
     },
     "metadata": {},
     "output_type": "display_data"
    }
   ],
   "source": [
    "#we create a list of the top 10 words that have the highest coefficient in our cluster:\n",
    "words = ['x2', 'tslim', 'new', 'slim', 'infusion', 'cgm', 'tandem', 'medtronic', 'omnipod', 'pump']\n",
    "#we plot the frequency of the top 10 words with the highest coefficient for our cluster:\n",
    "frequency = []\n",
    "for word in words:\n",
    "    count = find_word_count(word, cluster_4_mask)\n",
    "    frequency.append(count)\n",
    "freq = pd.DataFrame({'words': words,\n",
    "                   'frequency': frequency})    \n",
    "freq.plot.barh(title = \"Frequency of words with a high coefficient\", x = 'words');"
   ]
  },
  {
   "cell_type": "code",
   "execution_count": null,
   "metadata": {},
   "outputs": [],
   "source": []
  },
  {
   "cell_type": "code",
   "execution_count": null,
   "metadata": {},
   "outputs": [],
   "source": []
  },
  {
   "cell_type": "code",
   "execution_count": null,
   "metadata": {},
   "outputs": [],
   "source": []
  },
  {
   "cell_type": "markdown",
   "metadata": {},
   "source": [
    "### Cluster 5 \"Low\""
   ]
  },
  {
   "cell_type": "markdown",
   "metadata": {},
   "source": [
    "We find out the top 10 words that have the highest coefficient in the clustering process in the cluster we are analyzing:"
   ]
  },
  {
   "cell_type": "code",
   "execution_count": 103,
   "metadata": {},
   "outputs": [
    {
     "data": {
      "text/plain": [
       "low       56.033197\n",
       "high      46.871129\n",
       "eat       33.166493\n",
       "feel      30.420083\n",
       "carbs     28.478765\n",
       "sugars    26.019218\n",
       "carb      25.787390\n",
       "night     24.943620\n",
       "bg        22.652880\n",
       "units     21.947635\n",
       "Name: 5, dtype: float64"
      ]
     },
     "execution_count": 103,
     "metadata": {},
     "output_type": "execute_result"
    }
   ],
   "source": [
    "features6_tf.groupby(by = 'cluster').sum().iloc[5].sort_values(ascending = False).head(10)"
   ]
  },
  {
   "cell_type": "code",
   "execution_count": 531,
   "metadata": {},
   "outputs": [
    {
     "data": {
      "image/png": "[encoded data removed]",
      "text/plain": [
       "<Figure size 432x288 with 1 Axes>"
      ]
     },
     "metadata": {},
     "output_type": "display_data"
    }
   ],
   "source": [
    "features6_tf.groupby(by = 'cluster').sum().iloc[5].sort_values(ascending = False).head(10).plot.barh(title = \"Words the highest coefficient Cluster 5\");"
   ]
  },
  {
   "cell_type": "code",
   "execution_count": 561,
   "metadata": {},
   "outputs": [],
   "source": [
    "cluster_5_mask = t1['cluster'] == 4\n",
    "mask_low = t1['text'].str.contains(\"low\")"
   ]
  },
  {
   "cell_type": "code",
   "execution_count": 562,
   "metadata": {},
   "outputs": [
    {
     "data": {
      "image/png": "[encoded data removed]",
      "text/plain": [
       "<Figure size 432x288 with 1 Axes>"
      ]
     },
     "metadata": {},
     "output_type": "display_data"
    }
   ],
   "source": [
    "#we create a list of the top 10 words that have the highest coefficient in our cluster:\n",
    "words = ['units', 'bg', 'night', 'carb', 'sugars', 'carbs', 'feel', 'eat', 'high', 'low']\n",
    "#we plot the frequency of the top 10 words with the highest coefficient for our cluster:\n",
    "frequency = []\n",
    "for word in words:\n",
    "    count = find_word_count(word, cluster_5_mask)\n",
    "    frequency.append(count)\n",
    "freq = pd.DataFrame({'words': words,\n",
    "                   'frequency': frequency})    \n",
    "freq.plot.barh(title = \"Frequency of words with a high coefficient\", x = 'words');"
   ]
  },
  {
   "cell_type": "code",
   "execution_count": null,
   "metadata": {},
   "outputs": [],
   "source": []
  },
  {
   "cell_type": "code",
   "execution_count": null,
   "metadata": {},
   "outputs": [],
   "source": []
  },
  {
   "cell_type": "code",
   "execution_count": null,
   "metadata": {},
   "outputs": [],
   "source": []
  },
  {
   "cell_type": "code",
   "execution_count": null,
   "metadata": {},
   "outputs": [],
   "source": []
  },
  {
   "cell_type": "markdown",
   "metadata": {},
   "source": [
    "**Bonus - KMeans with 30 clusters**"
   ]
  },
  {
   "cell_type": "code",
   "execution_count": 131,
   "metadata": {},
   "outputs": [
    {
     "data": {
      "text/plain": [
       "KMeans(algorithm='auto', copy_x=True, init='k-means++', max_iter=300,\n",
       "       n_clusters=30, n_init=10, n_jobs=None, precompute_distances='auto',\n",
       "       random_state=100, tol=0.0001, verbose=0)"
      ]
     },
     "execution_count": 131,
     "metadata": {},
     "output_type": "execute_result"
    }
   ],
   "source": [
    "km_tf_30 = KMeans(n_clusters = 30, random_state = 100)\n",
    "km_tf_30.fit(train_tf)\n"
   ]
  },
  {
   "cell_type": "code",
   "execution_count": 132,
   "metadata": {},
   "outputs": [
    {
     "data": {
      "text/html": [
       "<div>\n",
       "<style scoped>\n",
       "    .dataframe tbody tr th:only-of-type {\n",
       "        vertical-align: middle;\n",
       "    }\n",
       "\n",
       "    .dataframe tbody tr th {\n",
       "        vertical-align: top;\n",
       "    }\n",
       "\n",
       "    .dataframe thead th {\n",
       "        text-align: right;\n",
       "    }\n",
       "</style>\n",
       "<table border=\"1\" class=\"dataframe\">\n",
       "  <thead>\n",
       "    <tr style=\"text-align: right;\">\n",
       "      <th></th>\n",
       "      <th>00</th>\n",
       "      <th>00 pm</th>\n",
       "      <th>000</th>\n",
       "      <th>01</th>\n",
       "      <th>04</th>\n",
       "      <th>05</th>\n",
       "      <th>06</th>\n",
       "      <th>07</th>\n",
       "      <th>08</th>\n",
       "      <th>10</th>\n",
       "      <th>...</th>\n",
       "      <th>youtube</th>\n",
       "      <th>youtube channel</th>\n",
       "      <th>youtube watch</th>\n",
       "      <th>yr</th>\n",
       "      <th>yr old</th>\n",
       "      <th>yrs</th>\n",
       "      <th>yup</th>\n",
       "      <th>zero</th>\n",
       "      <th>zero carb</th>\n",
       "      <th>zone</th>\n",
       "    </tr>\n",
       "    <tr>\n",
       "      <th>cluster</th>\n",
       "      <th></th>\n",
       "      <th></th>\n",
       "      <th></th>\n",
       "      <th></th>\n",
       "      <th></th>\n",
       "      <th></th>\n",
       "      <th></th>\n",
       "      <th></th>\n",
       "      <th></th>\n",
       "      <th></th>\n",
       "      <th></th>\n",
       "      <th></th>\n",
       "      <th></th>\n",
       "      <th></th>\n",
       "      <th></th>\n",
       "      <th></th>\n",
       "      <th></th>\n",
       "      <th></th>\n",
       "      <th></th>\n",
       "      <th></th>\n",
       "      <th></th>\n",
       "    </tr>\n",
       "  </thead>\n",
       "  <tbody>\n",
       "    <tr>\n",
       "      <th>0</th>\n",
       "      <td>98</td>\n",
       "      <td>98</td>\n",
       "      <td>98</td>\n",
       "      <td>98</td>\n",
       "      <td>98</td>\n",
       "      <td>98</td>\n",
       "      <td>98</td>\n",
       "      <td>98</td>\n",
       "      <td>98</td>\n",
       "      <td>98</td>\n",
       "      <td>...</td>\n",
       "      <td>98</td>\n",
       "      <td>98</td>\n",
       "      <td>98</td>\n",
       "      <td>98</td>\n",
       "      <td>98</td>\n",
       "      <td>98</td>\n",
       "      <td>98</td>\n",
       "      <td>98</td>\n",
       "      <td>98</td>\n",
       "      <td>98</td>\n",
       "    </tr>\n",
       "    <tr>\n",
       "      <th>1</th>\n",
       "      <td>93</td>\n",
       "      <td>93</td>\n",
       "      <td>93</td>\n",
       "      <td>93</td>\n",
       "      <td>93</td>\n",
       "      <td>93</td>\n",
       "      <td>93</td>\n",
       "      <td>93</td>\n",
       "      <td>93</td>\n",
       "      <td>93</td>\n",
       "      <td>...</td>\n",
       "      <td>93</td>\n",
       "      <td>93</td>\n",
       "      <td>93</td>\n",
       "      <td>93</td>\n",
       "      <td>93</td>\n",
       "      <td>93</td>\n",
       "      <td>93</td>\n",
       "      <td>93</td>\n",
       "      <td>93</td>\n",
       "      <td>93</td>\n",
       "    </tr>\n",
       "    <tr>\n",
       "      <th>2</th>\n",
       "      <td>126</td>\n",
       "      <td>126</td>\n",
       "      <td>126</td>\n",
       "      <td>126</td>\n",
       "      <td>126</td>\n",
       "      <td>126</td>\n",
       "      <td>126</td>\n",
       "      <td>126</td>\n",
       "      <td>126</td>\n",
       "      <td>126</td>\n",
       "      <td>...</td>\n",
       "      <td>126</td>\n",
       "      <td>126</td>\n",
       "      <td>126</td>\n",
       "      <td>126</td>\n",
       "      <td>126</td>\n",
       "      <td>126</td>\n",
       "      <td>126</td>\n",
       "      <td>126</td>\n",
       "      <td>126</td>\n",
       "      <td>126</td>\n",
       "    </tr>\n",
       "    <tr>\n",
       "      <th>3</th>\n",
       "      <td>216</td>\n",
       "      <td>216</td>\n",
       "      <td>216</td>\n",
       "      <td>216</td>\n",
       "      <td>216</td>\n",
       "      <td>216</td>\n",
       "      <td>216</td>\n",
       "      <td>216</td>\n",
       "      <td>216</td>\n",
       "      <td>216</td>\n",
       "      <td>...</td>\n",
       "      <td>216</td>\n",
       "      <td>216</td>\n",
       "      <td>216</td>\n",
       "      <td>216</td>\n",
       "      <td>216</td>\n",
       "      <td>216</td>\n",
       "      <td>216</td>\n",
       "      <td>216</td>\n",
       "      <td>216</td>\n",
       "      <td>216</td>\n",
       "    </tr>\n",
       "    <tr>\n",
       "      <th>4</th>\n",
       "      <td>102</td>\n",
       "      <td>102</td>\n",
       "      <td>102</td>\n",
       "      <td>102</td>\n",
       "      <td>102</td>\n",
       "      <td>102</td>\n",
       "      <td>102</td>\n",
       "      <td>102</td>\n",
       "      <td>102</td>\n",
       "      <td>102</td>\n",
       "      <td>...</td>\n",
       "      <td>102</td>\n",
       "      <td>102</td>\n",
       "      <td>102</td>\n",
       "      <td>102</td>\n",
       "      <td>102</td>\n",
       "      <td>102</td>\n",
       "      <td>102</td>\n",
       "      <td>102</td>\n",
       "      <td>102</td>\n",
       "      <td>102</td>\n",
       "    </tr>\n",
       "    <tr>\n",
       "      <th>5</th>\n",
       "      <td>1052</td>\n",
       "      <td>1052</td>\n",
       "      <td>1052</td>\n",
       "      <td>1052</td>\n",
       "      <td>1052</td>\n",
       "      <td>1052</td>\n",
       "      <td>1052</td>\n",
       "      <td>1052</td>\n",
       "      <td>1052</td>\n",
       "      <td>1052</td>\n",
       "      <td>...</td>\n",
       "      <td>1052</td>\n",
       "      <td>1052</td>\n",
       "      <td>1052</td>\n",
       "      <td>1052</td>\n",
       "      <td>1052</td>\n",
       "      <td>1052</td>\n",
       "      <td>1052</td>\n",
       "      <td>1052</td>\n",
       "      <td>1052</td>\n",
       "      <td>1052</td>\n",
       "    </tr>\n",
       "    <tr>\n",
       "      <th>6</th>\n",
       "      <td>152</td>\n",
       "      <td>152</td>\n",
       "      <td>152</td>\n",
       "      <td>152</td>\n",
       "      <td>152</td>\n",
       "      <td>152</td>\n",
       "      <td>152</td>\n",
       "      <td>152</td>\n",
       "      <td>152</td>\n",
       "      <td>152</td>\n",
       "      <td>...</td>\n",
       "      <td>152</td>\n",
       "      <td>152</td>\n",
       "      <td>152</td>\n",
       "      <td>152</td>\n",
       "      <td>152</td>\n",
       "      <td>152</td>\n",
       "      <td>152</td>\n",
       "      <td>152</td>\n",
       "      <td>152</td>\n",
       "      <td>152</td>\n",
       "    </tr>\n",
       "    <tr>\n",
       "      <th>7</th>\n",
       "      <td>58</td>\n",
       "      <td>58</td>\n",
       "      <td>58</td>\n",
       "      <td>58</td>\n",
       "      <td>58</td>\n",
       "      <td>58</td>\n",
       "      <td>58</td>\n",
       "      <td>58</td>\n",
       "      <td>58</td>\n",
       "      <td>58</td>\n",
       "      <td>...</td>\n",
       "      <td>58</td>\n",
       "      <td>58</td>\n",
       "      <td>58</td>\n",
       "      <td>58</td>\n",
       "      <td>58</td>\n",
       "      <td>58</td>\n",
       "      <td>58</td>\n",
       "      <td>58</td>\n",
       "      <td>58</td>\n",
       "      <td>58</td>\n",
       "    </tr>\n",
       "    <tr>\n",
       "      <th>8</th>\n",
       "      <td>161</td>\n",
       "      <td>161</td>\n",
       "      <td>161</td>\n",
       "      <td>161</td>\n",
       "      <td>161</td>\n",
       "      <td>161</td>\n",
       "      <td>161</td>\n",
       "      <td>161</td>\n",
       "      <td>161</td>\n",
       "      <td>161</td>\n",
       "      <td>...</td>\n",
       "      <td>161</td>\n",
       "      <td>161</td>\n",
       "      <td>161</td>\n",
       "      <td>161</td>\n",
       "      <td>161</td>\n",
       "      <td>161</td>\n",
       "      <td>161</td>\n",
       "      <td>161</td>\n",
       "      <td>161</td>\n",
       "      <td>161</td>\n",
       "    </tr>\n",
       "    <tr>\n",
       "      <th>9</th>\n",
       "      <td>94</td>\n",
       "      <td>94</td>\n",
       "      <td>94</td>\n",
       "      <td>94</td>\n",
       "      <td>94</td>\n",
       "      <td>94</td>\n",
       "      <td>94</td>\n",
       "      <td>94</td>\n",
       "      <td>94</td>\n",
       "      <td>94</td>\n",
       "      <td>...</td>\n",
       "      <td>94</td>\n",
       "      <td>94</td>\n",
       "      <td>94</td>\n",
       "      <td>94</td>\n",
       "      <td>94</td>\n",
       "      <td>94</td>\n",
       "      <td>94</td>\n",
       "      <td>94</td>\n",
       "      <td>94</td>\n",
       "      <td>94</td>\n",
       "    </tr>\n",
       "    <tr>\n",
       "      <th>10</th>\n",
       "      <td>77</td>\n",
       "      <td>77</td>\n",
       "      <td>77</td>\n",
       "      <td>77</td>\n",
       "      <td>77</td>\n",
       "      <td>77</td>\n",
       "      <td>77</td>\n",
       "      <td>77</td>\n",
       "      <td>77</td>\n",
       "      <td>77</td>\n",
       "      <td>...</td>\n",
       "      <td>77</td>\n",
       "      <td>77</td>\n",
       "      <td>77</td>\n",
       "      <td>77</td>\n",
       "      <td>77</td>\n",
       "      <td>77</td>\n",
       "      <td>77</td>\n",
       "      <td>77</td>\n",
       "      <td>77</td>\n",
       "      <td>77</td>\n",
       "    </tr>\n",
       "    <tr>\n",
       "      <th>11</th>\n",
       "      <td>100</td>\n",
       "      <td>100</td>\n",
       "      <td>100</td>\n",
       "      <td>100</td>\n",
       "      <td>100</td>\n",
       "      <td>100</td>\n",
       "      <td>100</td>\n",
       "      <td>100</td>\n",
       "      <td>100</td>\n",
       "      <td>100</td>\n",
       "      <td>...</td>\n",
       "      <td>100</td>\n",
       "      <td>100</td>\n",
       "      <td>100</td>\n",
       "      <td>100</td>\n",
       "      <td>100</td>\n",
       "      <td>100</td>\n",
       "      <td>100</td>\n",
       "      <td>100</td>\n",
       "      <td>100</td>\n",
       "      <td>100</td>\n",
       "    </tr>\n",
       "    <tr>\n",
       "      <th>12</th>\n",
       "      <td>80</td>\n",
       "      <td>80</td>\n",
       "      <td>80</td>\n",
       "      <td>80</td>\n",
       "      <td>80</td>\n",
       "      <td>80</td>\n",
       "      <td>80</td>\n",
       "      <td>80</td>\n",
       "      <td>80</td>\n",
       "      <td>80</td>\n",
       "      <td>...</td>\n",
       "      <td>80</td>\n",
       "      <td>80</td>\n",
       "      <td>80</td>\n",
       "      <td>80</td>\n",
       "      <td>80</td>\n",
       "      <td>80</td>\n",
       "      <td>80</td>\n",
       "      <td>80</td>\n",
       "      <td>80</td>\n",
       "      <td>80</td>\n",
       "    </tr>\n",
       "    <tr>\n",
       "      <th>13</th>\n",
       "      <td>74</td>\n",
       "      <td>74</td>\n",
       "      <td>74</td>\n",
       "      <td>74</td>\n",
       "      <td>74</td>\n",
       "      <td>74</td>\n",
       "      <td>74</td>\n",
       "      <td>74</td>\n",
       "      <td>74</td>\n",
       "      <td>74</td>\n",
       "      <td>...</td>\n",
       "      <td>74</td>\n",
       "      <td>74</td>\n",
       "      <td>74</td>\n",
       "      <td>74</td>\n",
       "      <td>74</td>\n",
       "      <td>74</td>\n",
       "      <td>74</td>\n",
       "      <td>74</td>\n",
       "      <td>74</td>\n",
       "      <td>74</td>\n",
       "    </tr>\n",
       "    <tr>\n",
       "      <th>14</th>\n",
       "      <td>94</td>\n",
       "      <td>94</td>\n",
       "      <td>94</td>\n",
       "      <td>94</td>\n",
       "      <td>94</td>\n",
       "      <td>94</td>\n",
       "      <td>94</td>\n",
       "      <td>94</td>\n",
       "      <td>94</td>\n",
       "      <td>94</td>\n",
       "      <td>...</td>\n",
       "      <td>94</td>\n",
       "      <td>94</td>\n",
       "      <td>94</td>\n",
       "      <td>94</td>\n",
       "      <td>94</td>\n",
       "      <td>94</td>\n",
       "      <td>94</td>\n",
       "      <td>94</td>\n",
       "      <td>94</td>\n",
       "      <td>94</td>\n",
       "    </tr>\n",
       "    <tr>\n",
       "      <th>15</th>\n",
       "      <td>283</td>\n",
       "      <td>283</td>\n",
       "      <td>283</td>\n",
       "      <td>283</td>\n",
       "      <td>283</td>\n",
       "      <td>283</td>\n",
       "      <td>283</td>\n",
       "      <td>283</td>\n",
       "      <td>283</td>\n",
       "      <td>283</td>\n",
       "      <td>...</td>\n",
       "      <td>283</td>\n",
       "      <td>283</td>\n",
       "      <td>283</td>\n",
       "      <td>283</td>\n",
       "      <td>283</td>\n",
       "      <td>283</td>\n",
       "      <td>283</td>\n",
       "      <td>283</td>\n",
       "      <td>283</td>\n",
       "      <td>283</td>\n",
       "    </tr>\n",
       "    <tr>\n",
       "      <th>16</th>\n",
       "      <td>133</td>\n",
       "      <td>133</td>\n",
       "      <td>133</td>\n",
       "      <td>133</td>\n",
       "      <td>133</td>\n",
       "      <td>133</td>\n",
       "      <td>133</td>\n",
       "      <td>133</td>\n",
       "      <td>133</td>\n",
       "      <td>133</td>\n",
       "      <td>...</td>\n",
       "      <td>133</td>\n",
       "      <td>133</td>\n",
       "      <td>133</td>\n",
       "      <td>133</td>\n",
       "      <td>133</td>\n",
       "      <td>133</td>\n",
       "      <td>133</td>\n",
       "      <td>133</td>\n",
       "      <td>133</td>\n",
       "      <td>133</td>\n",
       "    </tr>\n",
       "    <tr>\n",
       "      <th>17</th>\n",
       "      <td>84</td>\n",
       "      <td>84</td>\n",
       "      <td>84</td>\n",
       "      <td>84</td>\n",
       "      <td>84</td>\n",
       "      <td>84</td>\n",
       "      <td>84</td>\n",
       "      <td>84</td>\n",
       "      <td>84</td>\n",
       "      <td>84</td>\n",
       "      <td>...</td>\n",
       "      <td>84</td>\n",
       "      <td>84</td>\n",
       "      <td>84</td>\n",
       "      <td>84</td>\n",
       "      <td>84</td>\n",
       "      <td>84</td>\n",
       "      <td>84</td>\n",
       "      <td>84</td>\n",
       "      <td>84</td>\n",
       "      <td>84</td>\n",
       "    </tr>\n",
       "    <tr>\n",
       "      <th>18</th>\n",
       "      <td>93</td>\n",
       "      <td>93</td>\n",
       "      <td>93</td>\n",
       "      <td>93</td>\n",
       "      <td>93</td>\n",
       "      <td>93</td>\n",
       "      <td>93</td>\n",
       "      <td>93</td>\n",
       "      <td>93</td>\n",
       "      <td>93</td>\n",
       "      <td>...</td>\n",
       "      <td>93</td>\n",
       "      <td>93</td>\n",
       "      <td>93</td>\n",
       "      <td>93</td>\n",
       "      <td>93</td>\n",
       "      <td>93</td>\n",
       "      <td>93</td>\n",
       "      <td>93</td>\n",
       "      <td>93</td>\n",
       "      <td>93</td>\n",
       "    </tr>\n",
       "    <tr>\n",
       "      <th>19</th>\n",
       "      <td>114</td>\n",
       "      <td>114</td>\n",
       "      <td>114</td>\n",
       "      <td>114</td>\n",
       "      <td>114</td>\n",
       "      <td>114</td>\n",
       "      <td>114</td>\n",
       "      <td>114</td>\n",
       "      <td>114</td>\n",
       "      <td>114</td>\n",
       "      <td>...</td>\n",
       "      <td>114</td>\n",
       "      <td>114</td>\n",
       "      <td>114</td>\n",
       "      <td>114</td>\n",
       "      <td>114</td>\n",
       "      <td>114</td>\n",
       "      <td>114</td>\n",
       "      <td>114</td>\n",
       "      <td>114</td>\n",
       "      <td>114</td>\n",
       "    </tr>\n",
       "    <tr>\n",
       "      <th>20</th>\n",
       "      <td>295</td>\n",
       "      <td>295</td>\n",
       "      <td>295</td>\n",
       "      <td>295</td>\n",
       "      <td>295</td>\n",
       "      <td>295</td>\n",
       "      <td>295</td>\n",
       "      <td>295</td>\n",
       "      <td>295</td>\n",
       "      <td>295</td>\n",
       "      <td>...</td>\n",
       "      <td>295</td>\n",
       "      <td>295</td>\n",
       "      <td>295</td>\n",
       "      <td>295</td>\n",
       "      <td>295</td>\n",
       "      <td>295</td>\n",
       "      <td>295</td>\n",
       "      <td>295</td>\n",
       "      <td>295</td>\n",
       "      <td>295</td>\n",
       "    </tr>\n",
       "    <tr>\n",
       "      <th>21</th>\n",
       "      <td>36</td>\n",
       "      <td>36</td>\n",
       "      <td>36</td>\n",
       "      <td>36</td>\n",
       "      <td>36</td>\n",
       "      <td>36</td>\n",
       "      <td>36</td>\n",
       "      <td>36</td>\n",
       "      <td>36</td>\n",
       "      <td>36</td>\n",
       "      <td>...</td>\n",
       "      <td>36</td>\n",
       "      <td>36</td>\n",
       "      <td>36</td>\n",
       "      <td>36</td>\n",
       "      <td>36</td>\n",
       "      <td>36</td>\n",
       "      <td>36</td>\n",
       "      <td>36</td>\n",
       "      <td>36</td>\n",
       "      <td>36</td>\n",
       "    </tr>\n",
       "    <tr>\n",
       "      <th>22</th>\n",
       "      <td>48</td>\n",
       "      <td>48</td>\n",
       "      <td>48</td>\n",
       "      <td>48</td>\n",
       "      <td>48</td>\n",
       "      <td>48</td>\n",
       "      <td>48</td>\n",
       "      <td>48</td>\n",
       "      <td>48</td>\n",
       "      <td>48</td>\n",
       "      <td>...</td>\n",
       "      <td>48</td>\n",
       "      <td>48</td>\n",
       "      <td>48</td>\n",
       "      <td>48</td>\n",
       "      <td>48</td>\n",
       "      <td>48</td>\n",
       "      <td>48</td>\n",
       "      <td>48</td>\n",
       "      <td>48</td>\n",
       "      <td>48</td>\n",
       "    </tr>\n",
       "    <tr>\n",
       "      <th>23</th>\n",
       "      <td>153</td>\n",
       "      <td>153</td>\n",
       "      <td>153</td>\n",
       "      <td>153</td>\n",
       "      <td>153</td>\n",
       "      <td>153</td>\n",
       "      <td>153</td>\n",
       "      <td>153</td>\n",
       "      <td>153</td>\n",
       "      <td>153</td>\n",
       "      <td>...</td>\n",
       "      <td>153</td>\n",
       "      <td>153</td>\n",
       "      <td>153</td>\n",
       "      <td>153</td>\n",
       "      <td>153</td>\n",
       "      <td>153</td>\n",
       "      <td>153</td>\n",
       "      <td>153</td>\n",
       "      <td>153</td>\n",
       "      <td>153</td>\n",
       "    </tr>\n",
       "    <tr>\n",
       "      <th>24</th>\n",
       "      <td>32</td>\n",
       "      <td>32</td>\n",
       "      <td>32</td>\n",
       "      <td>32</td>\n",
       "      <td>32</td>\n",
       "      <td>32</td>\n",
       "      <td>32</td>\n",
       "      <td>32</td>\n",
       "      <td>32</td>\n",
       "      <td>32</td>\n",
       "      <td>...</td>\n",
       "      <td>32</td>\n",
       "      <td>32</td>\n",
       "      <td>32</td>\n",
       "      <td>32</td>\n",
       "      <td>32</td>\n",
       "      <td>32</td>\n",
       "      <td>32</td>\n",
       "      <td>32</td>\n",
       "      <td>32</td>\n",
       "      <td>32</td>\n",
       "    </tr>\n",
       "    <tr>\n",
       "      <th>25</th>\n",
       "      <td>111</td>\n",
       "      <td>111</td>\n",
       "      <td>111</td>\n",
       "      <td>111</td>\n",
       "      <td>111</td>\n",
       "      <td>111</td>\n",
       "      <td>111</td>\n",
       "      <td>111</td>\n",
       "      <td>111</td>\n",
       "      <td>111</td>\n",
       "      <td>...</td>\n",
       "      <td>111</td>\n",
       "      <td>111</td>\n",
       "      <td>111</td>\n",
       "      <td>111</td>\n",
       "      <td>111</td>\n",
       "      <td>111</td>\n",
       "      <td>111</td>\n",
       "      <td>111</td>\n",
       "      <td>111</td>\n",
       "      <td>111</td>\n",
       "    </tr>\n",
       "    <tr>\n",
       "      <th>26</th>\n",
       "      <td>61</td>\n",
       "      <td>61</td>\n",
       "      <td>61</td>\n",
       "      <td>61</td>\n",
       "      <td>61</td>\n",
       "      <td>61</td>\n",
       "      <td>61</td>\n",
       "      <td>61</td>\n",
       "      <td>61</td>\n",
       "      <td>61</td>\n",
       "      <td>...</td>\n",
       "      <td>61</td>\n",
       "      <td>61</td>\n",
       "      <td>61</td>\n",
       "      <td>61</td>\n",
       "      <td>61</td>\n",
       "      <td>61</td>\n",
       "      <td>61</td>\n",
       "      <td>61</td>\n",
       "      <td>61</td>\n",
       "      <td>61</td>\n",
       "    </tr>\n",
       "    <tr>\n",
       "      <th>27</th>\n",
       "      <td>78</td>\n",
       "      <td>78</td>\n",
       "      <td>78</td>\n",
       "      <td>78</td>\n",
       "      <td>78</td>\n",
       "      <td>78</td>\n",
       "      <td>78</td>\n",
       "      <td>78</td>\n",
       "      <td>78</td>\n",
       "      <td>78</td>\n",
       "      <td>...</td>\n",
       "      <td>78</td>\n",
       "      <td>78</td>\n",
       "      <td>78</td>\n",
       "      <td>78</td>\n",
       "      <td>78</td>\n",
       "      <td>78</td>\n",
       "      <td>78</td>\n",
       "      <td>78</td>\n",
       "      <td>78</td>\n",
       "      <td>78</td>\n",
       "    </tr>\n",
       "    <tr>\n",
       "      <th>28</th>\n",
       "      <td>42</td>\n",
       "      <td>42</td>\n",
       "      <td>42</td>\n",
       "      <td>42</td>\n",
       "      <td>42</td>\n",
       "      <td>42</td>\n",
       "      <td>42</td>\n",
       "      <td>42</td>\n",
       "      <td>42</td>\n",
       "      <td>42</td>\n",
       "      <td>...</td>\n",
       "      <td>42</td>\n",
       "      <td>42</td>\n",
       "      <td>42</td>\n",
       "      <td>42</td>\n",
       "      <td>42</td>\n",
       "      <td>42</td>\n",
       "      <td>42</td>\n",
       "      <td>42</td>\n",
       "      <td>42</td>\n",
       "      <td>42</td>\n",
       "    </tr>\n",
       "    <tr>\n",
       "      <th>29</th>\n",
       "      <td>143</td>\n",
       "      <td>143</td>\n",
       "      <td>143</td>\n",
       "      <td>143</td>\n",
       "      <td>143</td>\n",
       "      <td>143</td>\n",
       "      <td>143</td>\n",
       "      <td>143</td>\n",
       "      <td>143</td>\n",
       "      <td>143</td>\n",
       "      <td>...</td>\n",
       "      <td>143</td>\n",
       "      <td>143</td>\n",
       "      <td>143</td>\n",
       "      <td>143</td>\n",
       "      <td>143</td>\n",
       "      <td>143</td>\n",
       "      <td>143</td>\n",
       "      <td>143</td>\n",
       "      <td>143</td>\n",
       "      <td>143</td>\n",
       "    </tr>\n",
       "  </tbody>\n",
       "</table>\n",
       "<p>30 rows × 10000 columns</p>\n",
       "</div>"
      ],
      "text/plain": [
       "           00  00 pm   000    01    04    05    06    07    08    10  ...  \\\n",
       "cluster                                                               ...   \n",
       "0          98     98    98    98    98    98    98    98    98    98  ...   \n",
       "1          93     93    93    93    93    93    93    93    93    93  ...   \n",
       "2         126    126   126   126   126   126   126   126   126   126  ...   \n",
       "3         216    216   216   216   216   216   216   216   216   216  ...   \n",
       "4         102    102   102   102   102   102   102   102   102   102  ...   \n",
       "5        1052   1052  1052  1052  1052  1052  1052  1052  1052  1052  ...   \n",
       "6         152    152   152   152   152   152   152   152   152   152  ...   \n",
       "7          58     58    58    58    58    58    58    58    58    58  ...   \n",
       "8         161    161   161   161   161   161   161   161   161   161  ...   \n",
       "9          94     94    94    94    94    94    94    94    94    94  ...   \n",
       "10         77     77    77    77    77    77    77    77    77    77  ...   \n",
       "11        100    100   100   100   100   100   100   100   100   100  ...   \n",
       "12         80     80    80    80    80    80    80    80    80    80  ...   \n",
       "13         74     74    74    74    74    74    74    74    74    74  ...   \n",
       "14         94     94    94    94    94    94    94    94    94    94  ...   \n",
       "15        283    283   283   283   283   283   283   283   283   283  ...   \n",
       "16        133    133   133   133   133   133   133   133   133   133  ...   \n",
       "17         84     84    84    84    84    84    84    84    84    84  ...   \n",
       "18         93     93    93    93    93    93    93    93    93    93  ...   \n",
       "19        114    114   114   114   114   114   114   114   114   114  ...   \n",
       "20        295    295   295   295   295   295   295   295   295   295  ...   \n",
       "21         36     36    36    36    36    36    36    36    36    36  ...   \n",
       "22         48     48    48    48    48    48    48    48    48    48  ...   \n",
       "23        153    153   153   153   153   153   153   153   153   153  ...   \n",
       "24         32     32    32    32    32    32    32    32    32    32  ...   \n",
       "25        111    111   111   111   111   111   111   111   111   111  ...   \n",
       "26         61     61    61    61    61    61    61    61    61    61  ...   \n",
       "27         78     78    78    78    78    78    78    78    78    78  ...   \n",
       "28         42     42    42    42    42    42    42    42    42    42  ...   \n",
       "29        143    143   143   143   143   143   143   143   143   143  ...   \n",
       "\n",
       "         youtube  youtube channel  youtube watch    yr  yr old   yrs   yup  \\\n",
       "cluster                                                                      \n",
       "0             98               98             98    98      98    98    98   \n",
       "1             93               93             93    93      93    93    93   \n",
       "2            126              126            126   126     126   126   126   \n",
       "3            216              216            216   216     216   216   216   \n",
       "4            102              102            102   102     102   102   102   \n",
       "5           1052             1052           1052  1052    1052  1052  1052   \n",
       "6            152              152            152   152     152   152   152   \n",
       "7             58               58             58    58      58    58    58   \n",
       "8            161              161            161   161     161   161   161   \n",
       "9             94               94             94    94      94    94    94   \n",
       "10            77               77             77    77      77    77    77   \n",
       "11           100              100            100   100     100   100   100   \n",
       "12            80               80             80    80      80    80    80   \n",
       "13            74               74             74    74      74    74    74   \n",
       "14            94               94             94    94      94    94    94   \n",
       "15           283              283            283   283     283   283   283   \n",
       "16           133              133            133   133     133   133   133   \n",
       "17            84               84             84    84      84    84    84   \n",
       "18            93               93             93    93      93    93    93   \n",
       "19           114              114            114   114     114   114   114   \n",
       "20           295              295            295   295     295   295   295   \n",
       "21            36               36             36    36      36    36    36   \n",
       "22            48               48             48    48      48    48    48   \n",
       "23           153              153            153   153     153   153   153   \n",
       "24            32               32             32    32      32    32    32   \n",
       "25           111              111            111   111     111   111   111   \n",
       "26            61               61             61    61      61    61    61   \n",
       "27            78               78             78    78      78    78    78   \n",
       "28            42               42             42    42      42    42    42   \n",
       "29           143              143            143   143     143   143   143   \n",
       "\n",
       "         zero  zero carb  zone  \n",
       "cluster                         \n",
       "0          98         98    98  \n",
       "1          93         93    93  \n",
       "2         126        126   126  \n",
       "3         216        216   216  \n",
       "4         102        102   102  \n",
       "5        1052       1052  1052  \n",
       "6         152        152   152  \n",
       "7          58         58    58  \n",
       "8         161        161   161  \n",
       "9          94         94    94  \n",
       "10         77         77    77  \n",
       "11        100        100   100  \n",
       "12         80         80    80  \n",
       "13         74         74    74  \n",
       "14         94         94    94  \n",
       "15        283        283   283  \n",
       "16        133        133   133  \n",
       "17         84         84    84  \n",
       "18         93         93    93  \n",
       "19        114        114   114  \n",
       "20        295        295   295  \n",
       "21         36         36    36  \n",
       "22         48         48    48  \n",
       "23        153        153   153  \n",
       "24         32         32    32  \n",
       "25        111        111   111  \n",
       "26         61         61    61  \n",
       "27         78         78    78  \n",
       "28         42         42    42  \n",
       "29        143        143   143  \n",
       "\n",
       "[30 rows x 10000 columns]"
      ]
     },
     "execution_count": 132,
     "metadata": {},
     "output_type": "execute_result"
    }
   ],
   "source": [
    "features30_tf = pd.DataFrame(train_tf.toarray(), columns = tf.get_feature_names())\n",
    "features30_tf['cluster'] = km_tf_35.labels_\n",
    "features30_tf.groupby(by = 'cluster').count()"
   ]
  },
  {
   "cell_type": "code",
   "execution_count": 133,
   "metadata": {},
   "outputs": [
    {
     "data": {
      "text/plain": [
       "a1c            23.507839\n",
       "months          4.087440\n",
       "endo            4.076373\n",
       "happy           3.464513\n",
       "proud           3.313438\n",
       "went            3.303963\n",
       "year            2.948829\n",
       "ago             2.892910\n",
       "finally         2.208448\n",
       "appointment     2.144510\n",
       "Name: 0, dtype: float64"
      ]
     },
     "execution_count": 133,
     "metadata": {},
     "output_type": "execute_result"
    }
   ],
   "source": [
    "features30_tf.groupby(by = 'cluster').sum().iloc[0].sort_values(ascending = False).head(10)"
   ]
  },
  {
   "cell_type": "code",
   "execution_count": 134,
   "metadata": {},
   "outputs": [
    {
     "data": {
      "text/plain": [
       "levels            10.772572\n",
       "glucose           10.198578\n",
       "high               5.149052\n",
       "glucose levels     4.236607\n",
       "low                3.090178\n",
       "range              2.626614\n",
       "normal             2.446281\n",
       "hba1c              2.316783\n",
       "days               1.695743\n",
       "bit                1.638382\n",
       "Name: 1, dtype: float64"
      ]
     },
     "execution_count": 134,
     "metadata": {},
     "output_type": "execute_result"
    }
   ],
   "source": [
    "features30_tf.groupby(by = 'cluster').sum().iloc[1].sort_values(ascending = False).head(10)"
   ]
  },
  {
   "cell_type": "code",
   "execution_count": 135,
   "metadata": {},
   "outputs": [
    {
     "data": {
      "text/plain": [
       "app            19.472519\n",
       "dexcom         15.670623\n",
       "phone           8.422472\n",
       "watch           7.939112\n",
       "data            5.568517\n",
       "apple           5.018672\n",
       "iphone          4.672802\n",
       "g6              4.616692\n",
       "dexcom app      4.589990\n",
       "apple watch     4.046536\n",
       "Name: 2, dtype: float64"
      ]
     },
     "execution_count": 135,
     "metadata": {},
     "output_type": "execute_result"
    }
   ],
   "source": [
    "features30_tf.groupby(by = 'cluster').sum().iloc[2].sort_values(ascending = False).head(10)"
   ]
  },
  {
   "cell_type": "code",
   "execution_count": 136,
   "metadata": {},
   "outputs": [
    {
     "data": {
      "text/plain": [
       "diabetics     11.568906\n",
       "said           9.114258\n",
       "told           6.508085\n",
       "people         5.023194\n",
       "experience     4.613213\n",
       "thing          4.257159\n",
       "disease        3.948698\n",
       "did            3.233639\n",
       "wondering      3.137712\n",
       "right          3.121829\n",
       "Name: 3, dtype: float64"
      ]
     },
     "execution_count": 136,
     "metadata": {},
     "output_type": "execute_result"
    }
   ],
   "source": [
    "features30_tf.groupby(by = 'cluster').sum().iloc[3].sort_values(ascending = False).head(10)"
   ]
  },
  {
   "cell_type": "code",
   "execution_count": 137,
   "metadata": {},
   "outputs": [
    {
     "data": {
      "text/plain": [
       "omnipod         23.350932\n",
       "pod              8.017936\n",
       "dash             6.821058\n",
       "omnipod dash     4.909600\n",
       "pdm              4.830005\n",
       "pump             3.245454\n",
       "getting          1.943879\n",
       "wondering        1.873730\n",
       "dexcom           1.760896\n",
       "skin             1.725153\n",
       "Name: 4, dtype: float64"
      ]
     },
     "execution_count": 137,
     "metadata": {},
     "output_type": "execute_result"
    }
   ],
   "source": [
    "features30_tf.groupby(by = 'cluster').sum().iloc[4].sort_values(ascending = False).head(10)"
   ]
  },
  {
   "cell_type": "code",
   "execution_count": 138,
   "metadata": {},
   "outputs": [
    {
     "data": {
      "text/plain": [
       "t1d       20.551828\n",
       "t1        17.635490\n",
       "help      16.939031\n",
       "life      16.222776\n",
       "people    15.689030\n",
       "good      15.131568\n",
       "want      14.484655\n",
       "year      14.016109\n",
       "thanks    13.818994\n",
       "feel      13.186714\n",
       "Name: 5, dtype: float64"
      ]
     },
     "execution_count": 138,
     "metadata": {},
     "output_type": "execute_result"
    }
   ],
   "source": [
    "features30_tf.groupby(by = 'cluster').sum().iloc[5].sort_values(ascending = False).head(10)"
   ]
  },
  {
   "cell_type": "code",
   "execution_count": 139,
   "metadata": {},
   "outputs": [
    {
     "data": {
      "text/plain": [
       "pump              26.177592\n",
       "cgm                7.833194\n",
       "medtronic          7.824728\n",
       "new                4.421176\n",
       "pumps              4.058835\n",
       "want               3.876484\n",
       "pump cgm           3.764392\n",
       "minimed            3.234442\n",
       "tandem             3.129830\n",
       "medtronic pump     2.820580\n",
       "Name: 6, dtype: float64"
      ]
     },
     "execution_count": 139,
     "metadata": {},
     "output_type": "execute_result"
    }
   ],
   "source": [
    "features30_tf.groupby(by = 'cluster').sum().iloc[6].sort_values(ascending = False).head(10)"
   ]
  },
  {
   "cell_type": "code",
   "execution_count": 140,
   "metadata": {},
   "outputs": [
    {
     "data": {
      "text/plain": [
       "g5                   16.859257\n",
       "dexcom g5            10.787826\n",
       "dexcom                8.032620\n",
       "g6                    3.893271\n",
       "sensors               3.791321\n",
       "g5 sensors            3.416302\n",
       "transmitter           2.428578\n",
       "g5 transmitter        2.030888\n",
       "box                   1.847033\n",
       "dexcom g5 sensors     1.666615\n",
       "Name: 7, dtype: float64"
      ]
     },
     "execution_count": 140,
     "metadata": {},
     "output_type": "execute_result"
    }
   ],
   "source": [
    "features30_tf.groupby(by = 'cluster').sum().iloc[7].sort_values(ascending = False).head(10)"
   ]
  },
  {
   "cell_type": "code",
   "execution_count": 141,
   "metadata": {},
   "outputs": [
    {
     "data": {
      "text/plain": [
       "basal      16.738482\n",
       "units       8.402753\n",
       "dose        8.018140\n",
       "night       7.139877\n",
       "lantus      5.532236\n",
       "spike       5.505120\n",
       "bolus       5.370069\n",
       "hours       4.938370\n",
       "morning     4.759895\n",
       "low         3.994166\n",
       "Name: 8, dtype: float64"
      ]
     },
     "execution_count": 141,
     "metadata": {},
     "output_type": "execute_result"
    }
   ],
   "source": [
    "features30_tf.groupby(by = 'cluster').sum().iloc[8].sort_values(ascending = False).head(10)"
   ]
  },
  {
   "cell_type": "code",
   "execution_count": 142,
   "metadata": {},
   "outputs": [
    {
     "data": {
      "text/plain": [
       "bg       19.523610\n",
       "high      3.513874\n",
       "low       2.148995\n",
       "range     2.108608\n",
       "night     2.060473\n",
       "hours     1.834638\n",
       "bed       1.799692\n",
       "meter     1.590543\n",
       "good      1.503534\n",
       "woke      1.479410\n",
       "Name: 9, dtype: float64"
      ]
     },
     "execution_count": 142,
     "metadata": {},
     "output_type": "execute_result"
    }
   ],
   "source": [
    "features30_tf.groupby(by = 'cluster').sum().iloc[9].sort_values(ascending = False).head(10)"
   ]
  },
  {
   "cell_type": "code",
   "execution_count": 143,
   "metadata": {},
   "outputs": [
    {
     "data": {
      "text/plain": [
       "weight         17.159099\n",
       "lose            4.556260\n",
       "lose weight     4.483606\n",
       "gain            3.892502\n",
       "exercise        2.894523\n",
       "loss            2.579035\n",
       "weight loss     2.547846\n",
       "losing          2.444538\n",
       "fat             2.323528\n",
       "gain weight     2.185330\n",
       "Name: 10, dtype: float64"
      ]
     },
     "execution_count": 143,
     "metadata": {},
     "output_type": "execute_result"
    }
   ],
   "source": [
    "features30_tf.groupby(by = 'cluster').sum().iloc[10].sort_values(ascending = False).head(10)"
   ]
  },
  {
   "cell_type": "code",
   "execution_count": 144,
   "metadata": {},
   "outputs": [
    {
     "data": {
      "text/plain": [
       "pump            18.229025\n",
       "injections       3.964991\n",
       "getting          3.240759\n",
       "sites            2.872617\n",
       "help             2.393985\n",
       "tslim            2.373878\n",
       "getting pump     2.292723\n",
       "thinking         2.285836\n",
       "site             2.236236\n",
       "wondering        2.223020\n",
       "Name: 11, dtype: float64"
      ]
     },
     "execution_count": 144,
     "metadata": {},
     "output_type": "execute_result"
    }
   ],
   "source": [
    "features30_tf.groupby(by = 'cluster').sum().iloc[11].sort_values(ascending = False).head(10)"
   ]
  },
  {
   "cell_type": "code",
   "execution_count": 145,
   "metadata": {},
   "outputs": [
    {
     "data": {
      "text/plain": [
       "x2                9.830582\n",
       "slim              9.673684\n",
       "tandem            8.292570\n",
       "pump              6.821950\n",
       "slim x2           6.498442\n",
       "tslim             4.384094\n",
       "tslim x2          4.017479\n",
       "tandem slim       3.548409\n",
       "tandem slim x2    2.317810\n",
       "autosoft          2.216314\n",
       "Name: 12, dtype: float64"
      ]
     },
     "execution_count": 145,
     "metadata": {},
     "output_type": "execute_result"
    }
   ],
   "source": [
    "features30_tf.groupby(by = 'cluster').sum().iloc[12].sort_values(ascending = False).head(10)"
   ]
  },
  {
   "cell_type": "code",
   "execution_count": 146,
   "metadata": {},
   "outputs": [
    {
     "data": {
      "text/plain": [
       "medtronic         10.431942\n",
       "670g               5.021182\n",
       "miao               4.963100\n",
       "cgm                4.729517\n",
       "medtronic 670g     3.390385\n",
       "pumps              2.769791\n",
       "pump               2.474910\n",
       "miao miao          2.402462\n",
       "670                2.386018\n",
       "old medtronic      1.952428\n",
       "Name: 13, dtype: float64"
      ]
     },
     "execution_count": 146,
     "metadata": {},
     "output_type": "execute_result"
    }
   ],
   "source": [
    "features30_tf.groupby(by = 'cluster').sum().iloc[13].sort_values(ascending = False).head(10)"
   ]
  },
  {
   "cell_type": "code",
   "execution_count": 147,
   "metadata": {},
   "outputs": [
    {
     "data": {
      "text/plain": [
       "supplies         18.232814\n",
       "pump supplies     5.162534\n",
       "pump              4.014768\n",
       "reservoirs        3.100229\n",
       "medtronic         2.949006\n",
       "need              2.898844\n",
       "insurance         2.764277\n",
       "help              2.199331\n",
       "free              2.103737\n",
       "people            1.953820\n",
       "Name: 14, dtype: float64"
      ]
     },
     "execution_count": 147,
     "metadata": {},
     "output_type": "execute_result"
    }
   ],
   "source": [
    "features30_tf.groupby(by = 'cluster').sum().iloc[14].sort_values(ascending = False).head(10)"
   ]
  },
  {
   "cell_type": "code",
   "execution_count": 148,
   "metadata": {},
   "outputs": [
    {
     "data": {
      "text/plain": [
       "eat        18.227322\n",
       "carbs      15.903686\n",
       "hours       8.961902\n",
       "units       7.848526\n",
       "high        7.394692\n",
       "eating      7.270413\n",
       "morning     7.260363\n",
       "food        6.978733\n",
       "went        6.937570\n",
       "meal        6.589918\n",
       "Name: 15, dtype: float64"
      ]
     },
     "execution_count": 148,
     "metadata": {},
     "output_type": "execute_result"
    }
   ],
   "source": [
    "features30_tf.groupby(by = 'cluster').sum().iloc[15].sort_values(ascending = False).head(10)"
   ]
  },
  {
   "cell_type": "code",
   "execution_count": 149,
   "metadata": {},
   "outputs": [
    {
     "data": {
      "text/plain": [
       "g6             22.464341\n",
       "dexcom         17.705435\n",
       "dexcom g6      15.639441\n",
       "sensors         5.794959\n",
       "transmitter     4.139358\n",
       "sensor          3.865534\n",
       "receiver        3.302670\n",
       "g6 sensors      2.874184\n",
       "need            2.854798\n",
       "signal          2.679406\n",
       "Name: 16, dtype: float64"
      ]
     },
     "execution_count": 149,
     "metadata": {},
     "output_type": "execute_result"
    }
   ],
   "source": [
    "features30_tf.groupby(by = 'cluster').sum().iloc[16].sort_values(ascending = False).head(10)"
   ]
  },
  {
   "cell_type": "code",
   "execution_count": 150,
   "metadata": {},
   "outputs": [
    {
     "data": {
      "text/plain": [
       "carb             15.863680\n",
       "low carb         10.392942\n",
       "low               8.160570\n",
       "diet              4.855304\n",
       "carb diet         4.352489\n",
       "low carb diet     3.877779\n",
       "carbs             3.465207\n",
       "eat               3.075678\n",
       "carb ratio        2.494822\n",
       "meals             2.471193\n",
       "Name: 17, dtype: float64"
      ]
     },
     "execution_count": 150,
     "metadata": {},
     "output_type": "execute_result"
    }
   ],
   "source": [
    "features30_tf.groupby(by = 'cluster').sum().iloc[17].sort_values(ascending = False).head(10)"
   ]
  },
  {
   "cell_type": "code",
   "execution_count": 151,
   "metadata": {},
   "outputs": [
    {
     "data": {
      "text/plain": [
       "humalog      10.697417\n",
       "novolog       8.521648\n",
       "fiasp         7.664697\n",
       "pens          7.149822\n",
       "tresiba       3.960924\n",
       "lantus        3.175726\n",
       "vial          3.169617\n",
       "need          2.871009\n",
       "extra         2.841749\n",
       "insurance     2.685916\n",
       "Name: 18, dtype: float64"
      ]
     },
     "execution_count": 151,
     "metadata": {},
     "output_type": "execute_result"
    }
   ],
   "source": [
    "features30_tf.groupby(by = 'cluster').sum().iloc[18].sort_values(ascending = False).head(10)"
   ]
  },
  {
   "cell_type": "code",
   "execution_count": 152,
   "metadata": {},
   "outputs": [
    {
     "data": {
      "text/plain": [
       "amp                 21.732666\n",
       "amp x200b           17.219375\n",
       "x200b               17.219375\n",
       "redd                 3.628267\n",
       "png                  2.486240\n",
       "amp x200b thanks     2.104380\n",
       "x200b thanks         2.104380\n",
       "jpg                  2.082368\n",
       "t1                   1.943578\n",
       "pump                 1.934726\n",
       "Name: 19, dtype: float64"
      ]
     },
     "execution_count": 152,
     "metadata": {},
     "output_type": "execute_result"
    }
   ],
   "source": [
    "features30_tf.groupby(by = 'cluster').sum().iloc[19].sort_values(ascending = False).head(10)"
   ]
  },
  {
   "cell_type": "code",
   "execution_count": 153,
   "metadata": {},
   "outputs": [
    {
     "data": {
      "text/plain": [
       "low        29.687401\n",
       "high       20.474227\n",
       "feel       15.729224\n",
       "sugars      9.263297\n",
       "lows        7.901637\n",
       "feeling     7.456463\n",
       "sleep       6.275856\n",
       "hypo        4.897353\n",
       "bad         4.819686\n",
       "night       4.692381\n",
       "Name: 20, dtype: float64"
      ]
     },
     "execution_count": 153,
     "metadata": {},
     "output_type": "execute_result"
    }
   ],
   "source": [
    "features30_tf.groupby(by = 'cluster').sum().iloc[20].sort_values(ascending = False).head(10)"
   ]
  },
  {
   "cell_type": "code",
   "execution_count": 154,
   "metadata": {},
   "outputs": [
    {
     "data": {
      "text/plain": [
       "study                 5.205644\n",
       "survey                3.249334\n",
       "forms                 2.178140\n",
       "qualtrics             2.031424\n",
       "qualtrics jfe         1.921585\n",
       "jfe form              1.921585\n",
       "jfe                   1.921585\n",
       "qualtrics jfe form    1.921585\n",
       "form                  1.897089\n",
       "research              1.643729\n",
       "Name: 21, dtype: float64"
      ]
     },
     "execution_count": 154,
     "metadata": {},
     "output_type": "execute_result"
    }
   ],
   "source": [
    "features30_tf.groupby(by = 'cluster').sum().iloc[21].sort_values(ascending = False).head(10)"
   ]
  },
  {
   "cell_type": "code",
   "execution_count": 155,
   "metadata": {},
   "outputs": [
    {
     "data": {
      "text/plain": [
       "strips         11.554020\n",
       "test strips     7.872299\n",
       "test            7.512405\n",
       "meter           3.355421\n",
       "need            1.566882\n",
       "freestyle       1.400728\n",
       "contour         1.288007\n",
       "boxes           1.187644\n",
       "needs           1.143655\n",
       "lancets         1.130305\n",
       "Name: 22, dtype: float64"
      ]
     },
     "execution_count": 155,
     "metadata": {},
     "output_type": "execute_result"
    }
   ],
   "source": [
    "features30_tf.groupby(by = 'cluster').sum().iloc[22].sort_values(ascending = False).head(10)"
   ]
  },
  {
   "cell_type": "code",
   "execution_count": 156,
   "metadata": {},
   "outputs": [
    {
     "data": {
      "text/plain": [
       "sensor         37.986556\n",
       "dexcom          7.602043\n",
       "new             6.974384\n",
       "transmitter     6.865880\n",
       "sensors         6.526063\n",
       "guardian        6.308302\n",
       "new sensor      5.221340\n",
       "g6              5.194372\n",
       "days            4.397238\n",
       "g6 sensor       4.236066\n",
       "Name: 23, dtype: float64"
      ]
     },
     "execution_count": 156,
     "metadata": {},
     "output_type": "execute_result"
    }
   ],
   "source": [
    "features30_tf.groupby(by = 'cluster').sum().iloc[23].sort_values(ascending = False).head(10)"
   ]
  },
  {
   "cell_type": "code",
   "execution_count": 157,
   "metadata": {},
   "outputs": [
    {
     "data": {
      "text/plain": [
       "removed            18.021353\n",
       "types               1.142058\n",
       "benefits            1.079834\n",
       "symptoms            1.062118\n",
       "symptoms amp        0.943327\n",
       "causes symptoms     0.943327\n",
       "treatment           0.864573\n",
       "nephropathy         0.828745\n",
       "counteract          0.822491\n",
       "remedy              0.811978\n",
       "Name: 24, dtype: float64"
      ]
     },
     "execution_count": 157,
     "metadata": {},
     "output_type": "execute_result"
    }
   ],
   "source": [
    "features30_tf.groupby(by = 'cluster').sum().iloc[24].sort_values(ascending = False).head(10)"
   ]
  },
  {
   "cell_type": "code",
   "execution_count": 159,
   "metadata": {},
   "outputs": [
    {
     "data": {
      "text/plain": [
       "libre              25.117657\n",
       "freestyle          19.802736\n",
       "freestyle libre    16.306995\n",
       "sensor              6.133533\n",
       "sensors             4.063392\n",
       "libre sensor        3.627133\n",
       "dexcom              3.046641\n",
       "reader              2.808257\n",
       "uk                  2.620385\n",
       "arm                 2.360353\n",
       "Name: 25, dtype: float64"
      ]
     },
     "execution_count": 159,
     "metadata": {},
     "output_type": "execute_result"
    }
   ],
   "source": [
    "features30_tf.groupby(by = 'cluster').sum().iloc[25].sort_values(ascending = False).head(10)"
   ]
  },
  {
   "cell_type": "code",
   "execution_count": 160,
   "metadata": {},
   "outputs": [
    {
     "data": {
      "text/plain": [
       "drink               8.201686\n",
       "alcohol             7.226463\n",
       "drinking            6.239487\n",
       "drinks              4.475251\n",
       "water               2.893261\n",
       "guys                1.347134\n",
       "eat                 1.264559\n",
       "low                 1.184978\n",
       "good                1.170235\n",
       "drinking alcohol    1.164759\n",
       "Name: 26, dtype: float64"
      ]
     },
     "execution_count": 160,
     "metadata": {},
     "output_type": "execute_result"
    }
   ],
   "source": [
    "features30_tf.groupby(by = 'cluster').sum().iloc[26].sort_values(ascending = False).head(10)"
   ]
  },
  {
   "cell_type": "code",
   "execution_count": 161,
   "metadata": {},
   "outputs": [
    {
     "data": {
      "text/plain": [
       "infusion         12.023135\n",
       "site              8.349117\n",
       "sets              5.972975\n",
       "infusion sets     5.211657\n",
       "infusion set      4.119408\n",
       "cannula           3.850500\n",
       "set               3.766203\n",
       "sites             3.730818\n",
       "pump              3.549696\n",
       "medtronic         3.128047\n",
       "Name: 27, dtype: float64"
      ]
     },
     "execution_count": 161,
     "metadata": {},
     "output_type": "execute_result"
    }
   ],
   "source": [
    "features30_tf.groupby(by = 'cluster').sum().iloc[27].sort_values(ascending = False).head(10)"
   ]
  },
  {
   "cell_type": "code",
   "execution_count": 162,
   "metadata": {},
   "outputs": [
    {
     "data": {
      "text/plain": [
       "iq            11.525950\n",
       "control iq     9.150376\n",
       "control        6.069297\n",
       "basal          3.465456\n",
       "tandem         3.370544\n",
       "basal iq       3.240006\n",
       "pump           1.631711\n",
       "x2             1.584004\n",
       "software       1.352146\n",
       "update         1.314328\n",
       "Name: 28, dtype: float64"
      ]
     },
     "execution_count": 162,
     "metadata": {},
     "output_type": "execute_result"
    }
   ],
   "source": [
    "features30_tf.groupby(by = 'cluster').sum().iloc[28].sort_values(ascending = False).head(10)"
   ]
  },
  {
   "cell_type": "code",
   "execution_count": 163,
   "metadata": {},
   "outputs": [
    {
     "data": {
      "text/plain": [
       "insurance           27.126057\n",
       "month                4.979005\n",
       "coverage             4.852329\n",
       "health               4.583260\n",
       "dexcom               4.395380\n",
       "order                4.327564\n",
       "health insurance     4.253649\n",
       "company              3.876728\n",
       "afford               3.558251\n",
       "pay                  3.533922\n",
       "Name: 29, dtype: float64"
      ]
     },
     "execution_count": 163,
     "metadata": {},
     "output_type": "execute_result"
    }
   ],
   "source": [
    "features30_tf.groupby(by = 'cluster').sum().iloc[29].sort_values(ascending = False).head(10)"
   ]
  },
  {
   "cell_type": "code",
   "execution_count": null,
   "metadata": {},
   "outputs": [],
   "source": []
  }
 ],
 "metadata": {
  "kernelspec": {
   "display_name": "Python 3",
   "language": "python",
   "name": "python3"
  },
  "language_info": {
   "codemirror_mode": {
    "name": "ipython",
    "version": 3
   },
   "file_extension": ".py",
   "mimetype": "text/x-python",
   "name": "python",
   "nbconvert_exporter": "python",
   "pygments_lexer": "ipython3",
   "version": "3.7.5"
  }
 },
 "nbformat": 4,
 "nbformat_minor": 2
}
