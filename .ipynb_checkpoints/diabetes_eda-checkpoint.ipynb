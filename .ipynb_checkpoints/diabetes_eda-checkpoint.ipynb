{
 "cells": [
  {
   "cell_type": "code",
   "execution_count": 2,
   "metadata": {},
   "outputs": [],
   "source": [
    "import pandas as pd\n",
    "from nltk.tokenize import RegexpTokenizer\n",
    "\n",
    "\n",
    "from nltk.tokenize import RegexpTokenizer\n",
    "from nltk.stem import WordNetLemmatizer\n",
    "from sklearn.feature_extraction.stop_words import ENGLISH_STOP_WORDS as stopwords\n",
    "from sklearn.feature_extraction.text import CountVectorizer, TfidfVectorizer\n",
    "from sklearn.linear_model import LogisticRegression\n",
    "from sklearn.pipeline import Pipeline\n",
    "from sklearn.model_selection import cross_val_score, train_test_split, GridSearchCV\n",
    "\n",
    "from nltk.stem.snowball import SnowballStemmer"
   ]
  },
  {
   "cell_type": "code",
   "execution_count": 3,
   "metadata": {},
   "outputs": [],
   "source": [
    "t1 = pd.read_csv('diabetes_t1_2.csv')"
   ]
  },
  {
   "cell_type": "code",
   "execution_count": 4,
   "metadata": {},
   "outputs": [
    {
     "data": {
      "text/plain": [
       "(4463, 9)"
      ]
     },
     "execution_count": 4,
     "metadata": {},
     "output_type": "execute_result"
    }
   ],
   "source": [
    "t1.shape"
   ]
  },
  {
   "cell_type": "code",
   "execution_count": 5,
   "metadata": {},
   "outputs": [
    {
     "data": {
      "text/plain": [
       "title             0\n",
       "selftext        180\n",
       "subreddit         0\n",
       "created_utc       0\n",
       "author            0\n",
       "num_comments      0\n",
       "score             0\n",
       "is_self           0\n",
       "timestamp         0\n",
       "dtype: int64"
      ]
     },
     "execution_count": 5,
     "metadata": {},
     "output_type": "execute_result"
    }
   ],
   "source": [
    "t1.isnull().sum()"
   ]
  },
  {
   "cell_type": "code",
   "execution_count": 6,
   "metadata": {},
   "outputs": [
    {
     "data": {
      "text/html": [
       "<div>\n",
       "<style scoped>\n",
       "    .dataframe tbody tr th:only-of-type {\n",
       "        vertical-align: middle;\n",
       "    }\n",
       "\n",
       "    .dataframe tbody tr th {\n",
       "        vertical-align: top;\n",
       "    }\n",
       "\n",
       "    .dataframe thead th {\n",
       "        text-align: right;\n",
       "    }\n",
       "</style>\n",
       "<table border=\"1\" class=\"dataframe\">\n",
       "  <thead>\n",
       "    <tr style=\"text-align: right;\">\n",
       "      <th></th>\n",
       "      <th>title</th>\n",
       "      <th>selftext</th>\n",
       "      <th>subreddit</th>\n",
       "      <th>created_utc</th>\n",
       "      <th>author</th>\n",
       "      <th>num_comments</th>\n",
       "      <th>score</th>\n",
       "      <th>is_self</th>\n",
       "      <th>timestamp</th>\n",
       "    </tr>\n",
       "  </thead>\n",
       "  <tbody>\n",
       "    <tr>\n",
       "      <th>0</th>\n",
       "      <td>Parents with T1D kids on low carb diet. Any im...</td>\n",
       "      <td>Hi all. My son (7) is t1d and is on a low carb...</td>\n",
       "      <td>diabetes_t1</td>\n",
       "      <td>1582052715</td>\n",
       "      <td>midnightcaller</td>\n",
       "      <td>4</td>\n",
       "      <td>1</td>\n",
       "      <td>True</td>\n",
       "      <td>2020-02-18</td>\n",
       "    </tr>\n",
       "    <tr>\n",
       "      <th>1</th>\n",
       "      <td>HBA1C results (2 months since diagnosis)</td>\n",
       "      <td>Diagnosed with type 1 mid December 2019, admit...</td>\n",
       "      <td>diabetes_t1</td>\n",
       "      <td>1582054702</td>\n",
       "      <td>snazehhh</td>\n",
       "      <td>1</td>\n",
       "      <td>1</td>\n",
       "      <td>True</td>\n",
       "      <td>2020-02-18</td>\n",
       "    </tr>\n",
       "    <tr>\n",
       "      <th>2</th>\n",
       "      <td>Type 1 diabetes and mood swings</td>\n",
       "      <td>Does anyone here feel that their diabetes can ...</td>\n",
       "      <td>diabetes_t1</td>\n",
       "      <td>1582057153</td>\n",
       "      <td>b-lavender</td>\n",
       "      <td>5</td>\n",
       "      <td>1</td>\n",
       "      <td>True</td>\n",
       "      <td>2020-02-18</td>\n",
       "    </tr>\n",
       "    <tr>\n",
       "      <th>3</th>\n",
       "      <td>Bes countries to live in being diabetic</td>\n",
       "      <td>hello, I wanted to know which are the best cou...</td>\n",
       "      <td>diabetes_t1</td>\n",
       "      <td>1582062986</td>\n",
       "      <td>tiagob94</td>\n",
       "      <td>0</td>\n",
       "      <td>1</td>\n",
       "      <td>True</td>\n",
       "      <td>2020-02-18</td>\n",
       "    </tr>\n",
       "    <tr>\n",
       "      <th>4</th>\n",
       "      <td>Best countries to live in being diabetic</td>\n",
       "      <td>hello, I wanted to know which are the best cou...</td>\n",
       "      <td>diabetes_t1</td>\n",
       "      <td>1582063056</td>\n",
       "      <td>tiagob94</td>\n",
       "      <td>0</td>\n",
       "      <td>1</td>\n",
       "      <td>True</td>\n",
       "      <td>2020-02-18</td>\n",
       "    </tr>\n",
       "  </tbody>\n",
       "</table>\n",
       "</div>"
      ],
      "text/plain": [
       "                                               title  \\\n",
       "0  Parents with T1D kids on low carb diet. Any im...   \n",
       "1           HBA1C results (2 months since diagnosis)   \n",
       "2                    Type 1 diabetes and mood swings   \n",
       "3            Bes countries to live in being diabetic   \n",
       "4           Best countries to live in being diabetic   \n",
       "\n",
       "                                            selftext    subreddit  \\\n",
       "0  Hi all. My son (7) is t1d and is on a low carb...  diabetes_t1   \n",
       "1  Diagnosed with type 1 mid December 2019, admit...  diabetes_t1   \n",
       "2  Does anyone here feel that their diabetes can ...  diabetes_t1   \n",
       "3  hello, I wanted to know which are the best cou...  diabetes_t1   \n",
       "4  hello, I wanted to know which are the best cou...  diabetes_t1   \n",
       "\n",
       "   created_utc          author  num_comments  score  is_self   timestamp  \n",
       "0   1582052715  midnightcaller             4      1     True  2020-02-18  \n",
       "1   1582054702        snazehhh             1      1     True  2020-02-18  \n",
       "2   1582057153      b-lavender             5      1     True  2020-02-18  \n",
       "3   1582062986        tiagob94             0      1     True  2020-02-18  \n",
       "4   1582063056        tiagob94             0      1     True  2020-02-18  "
      ]
     },
     "execution_count": 6,
     "metadata": {},
     "output_type": "execute_result"
    }
   ],
   "source": [
    "t1.head()"
   ]
  },
  {
   "cell_type": "code",
   "execution_count": 7,
   "metadata": {},
   "outputs": [],
   "source": [
    "t1['all_text'] = t1['title']+t1['selftext']"
   ]
  },
  {
   "cell_type": "code",
   "execution_count": 8,
   "metadata": {},
   "outputs": [],
   "source": [
    "#t1.head()"
   ]
  },
  {
   "cell_type": "code",
   "execution_count": 9,
   "metadata": {},
   "outputs": [],
   "source": [
    "all_text = []\n",
    "\n",
    "all_texts = t1['all_text']\n"
   ]
  },
  {
   "cell_type": "code",
   "execution_count": 10,
   "metadata": {},
   "outputs": [],
   "source": [
    "for text in all_texts:\n",
    "    all_text.append(text)"
   ]
  },
  {
   "cell_type": "code",
   "execution_count": 11,
   "metadata": {},
   "outputs": [],
   "source": [
    "#all_text"
   ]
  },
  {
   "cell_type": "code",
   "execution_count": 12,
   "metadata": {},
   "outputs": [],
   "source": [
    "tokenizer = RegexpTokenizer(r'\\w+')"
   ]
  },
  {
   "cell_type": "code",
   "execution_count": 13,
   "metadata": {},
   "outputs": [],
   "source": [
    "# Use English stemmer.\n",
    "\n",
    "stemmer = SnowballStemmer(\"english\")\n",
    "\n",
    "# Split the sentences to lists of words.\n",
    "#results['selftext'] = results['selftext'].str.split()\n",
    "\n",
    "# Make sure we see the full column.\n",
    "pd.set_option('display.max_colwidth', -1)\n"
   ]
  },
  {
   "cell_type": "code",
   "execution_count": 14,
   "metadata": {},
   "outputs": [
    {
     "data": {
      "text/plain": [
       "title           0  \n",
       "selftext        180\n",
       "subreddit       0  \n",
       "created_utc     0  \n",
       "author          0  \n",
       "num_comments    0  \n",
       "score           0  \n",
       "is_self         0  \n",
       "timestamp       0  \n",
       "all_text        180\n",
       "dtype: int64"
      ]
     },
     "execution_count": 14,
     "metadata": {},
     "output_type": "execute_result"
    }
   ],
   "source": [
    "t1.isnull().sum()"
   ]
  },
  {
   "cell_type": "code",
   "execution_count": 15,
   "metadata": {},
   "outputs": [],
   "source": [
    "t1.dropna(inplace = True)"
   ]
  },
  {
   "cell_type": "code",
   "execution_count": 16,
   "metadata": {},
   "outputs": [],
   "source": [
    "t1['title'] = t1['title'].apply(tokenizer.tokenize)"
   ]
  },
  {
   "cell_type": "code",
   "execution_count": 17,
   "metadata": {},
   "outputs": [
    {
     "data": {
      "text/plain": [
       "(4283, 10)"
      ]
     },
     "execution_count": 17,
     "metadata": {},
     "output_type": "execute_result"
    }
   ],
   "source": [
    "t1.shape"
   ]
  },
  {
   "cell_type": "code",
   "execution_count": 18,
   "metadata": {},
   "outputs": [],
   "source": [
    "t1['all_text'] = t1['all_text'].apply(tokenizer.tokenize)"
   ]
  },
  {
   "cell_type": "code",
   "execution_count": 19,
   "metadata": {},
   "outputs": [],
   "source": [
    "#t1.head()"
   ]
  },
  {
   "cell_type": "code",
   "execution_count": 20,
   "metadata": {},
   "outputs": [],
   "source": [
    "t1['new_text'] = t1['all_text'].apply(lambda x: [stemmer.stem(y) for y in x]) # Stem every word."
   ]
  },
  {
   "cell_type": "code",
   "execution_count": 21,
   "metadata": {},
   "outputs": [],
   "source": [
    "#t1.head()"
   ]
  },
  {
   "cell_type": "code",
   "execution_count": 22,
   "metadata": {},
   "outputs": [],
   "source": [
    "#all_text = []\n",
    "#all_texts = t1['all_text']\n"
   ]
  },
  {
   "cell_type": "code",
   "execution_count": 24,
   "metadata": {},
   "outputs": [],
   "source": [
    "#for text in all_texts:\n",
    "    #all_text.append(text)"
   ]
  },
  {
   "cell_type": "code",
   "execution_count": 25,
   "metadata": {},
   "outputs": [],
   "source": [
    "#all_text"
   ]
  },
  {
   "cell_type": "code",
   "execution_count": 31,
   "metadata": {
    "scrolled": true
   },
   "outputs": [
    {
     "data": {
      "text/plain": [
       "'Parents with T1D kids on low carb diet Any impact on growth milestones Hi all My son 7 is t1d and is on a low carb diet It s resulted in great blood sugar control but in the last few check ups he s been falling well behind on height milestones Does anyone have any experience good or bad with this I m concerned the diet may be impacting his development Thanks'"
      ]
     },
     "execution_count": 31,
     "metadata": {},
     "output_type": "execute_result"
    }
   ],
   "source": [
    "' '.join(t1['all_text'][0])"
   ]
  },
  {
   "cell_type": "code",
   "execution_count": 32,
   "metadata": {},
   "outputs": [],
   "source": [
    "new_texts = t1['all_text']\n",
    "\n",
    "text_ready_to_stem = []\n",
    "for text in new_texts:\n",
    "    ready = ' '.join(text)\n",
    "    text_ready_to_stem.append(ready)\n",
    "\n"
   ]
  },
  {
   "cell_type": "code",
   "execution_count": 34,
   "metadata": {},
   "outputs": [],
   "source": [
    "t1['text_ready_to_stem'] = text_ready_to_stem"
   ]
  },
  {
   "cell_type": "code",
   "execution_count": 35,
   "metadata": {},
   "outputs": [
    {
     "data": {
      "text/html": [
       "<div>\n",
       "<style scoped>\n",
       "    .dataframe tbody tr th:only-of-type {\n",
       "        vertical-align: middle;\n",
       "    }\n",
       "\n",
       "    .dataframe tbody tr th {\n",
       "        vertical-align: top;\n",
       "    }\n",
       "\n",
       "    .dataframe thead th {\n",
       "        text-align: right;\n",
       "    }\n",
       "</style>\n",
       "<table border=\"1\" class=\"dataframe\">\n",
       "  <thead>\n",
       "    <tr style=\"text-align: right;\">\n",
       "      <th></th>\n",
       "      <th>title</th>\n",
       "      <th>selftext</th>\n",
       "      <th>subreddit</th>\n",
       "      <th>created_utc</th>\n",
       "      <th>author</th>\n",
       "      <th>num_comments</th>\n",
       "      <th>score</th>\n",
       "      <th>is_self</th>\n",
       "      <th>timestamp</th>\n",
       "      <th>all_text</th>\n",
       "      <th>new_text</th>\n",
       "      <th>text_ready_to_stem</th>\n",
       "    </tr>\n",
       "  </thead>\n",
       "  <tbody>\n",
       "    <tr>\n",
       "      <th>0</th>\n",
       "      <td>[Parents, with, T1D, kids, on, low, carb, diet, Any, impact, on, growth, milestones]</td>\n",
       "      <td>Hi all. My son (7) is t1d and is on a low carb diet. It’s resulted in great blood sugar control but in the last few check ups he’s been falling well behind on height milestones.  \\n\\nDoes anyone have any experience good or bad with this?  I’m concerned the diet may be impacting his development. \\n\\nThanks</td>\n",
       "      <td>diabetes_t1</td>\n",
       "      <td>1582052715</td>\n",
       "      <td>midnightcaller</td>\n",
       "      <td>4</td>\n",
       "      <td>1</td>\n",
       "      <td>True</td>\n",
       "      <td>2020-02-18</td>\n",
       "      <td>[Parents, with, T1D, kids, on, low, carb, diet, Any, impact, on, growth, milestones, Hi, all, My, son, 7, is, t1d, and, is, on, a, low, carb, diet, It, s, resulted, in, great, blood, sugar, control, but, in, the, last, few, check, ups, he, s, been, falling, well, behind, on, height, milestones, Does, anyone, have, any, experience, good, or, bad, with, this, I, m, concerned, the, diet, may, be, impacting, his, development, Thanks]</td>\n",
       "      <td>[parent, with, t1d, kid, on, low, carb, diet, ani, impact, on, growth, mileston, hi, all, my, son, 7, is, t1d, and, is, on, a, low, carb, diet, it, s, result, in, great, blood, sugar, control, but, in, the, last, few, check, up, he, s, been, fall, well, behind, on, height, mileston, doe, anyon, have, ani, experi, good, or, bad, with, this, i, m, concern, the, diet, may, be, impact, his, develop, thank]</td>\n",
       "      <td>Parents with T1D kids on low carb diet Any impact on growth milestones Hi all My son 7 is t1d and is on a low carb diet It s resulted in great blood sugar control but in the last few check ups he s been falling well behind on height milestones Does anyone have any experience good or bad with this I m concerned the diet may be impacting his development Thanks</td>\n",
       "    </tr>\n",
       "    <tr>\n",
       "      <th>1</th>\n",
       "      <td>[HBA1C, results, 2, months, since, diagnosis]</td>\n",
       "      <td>Diagnosed with type 1 mid December 2019, admitted into hospital with ‘severe DKA’, bs of 17.7mmol and hba1c of 167...\\n\\nGot my HBA1C results today and now down to 62, I don’t even know why I’m posting this, don’t even know what this number means really 😂 \\n\\nAnyone have any advice/tips for a newly diagnosed?</td>\n",
       "      <td>diabetes_t1</td>\n",
       "      <td>1582054702</td>\n",
       "      <td>snazehhh</td>\n",
       "      <td>1</td>\n",
       "      <td>1</td>\n",
       "      <td>True</td>\n",
       "      <td>2020-02-18</td>\n",
       "      <td>[HBA1C, results, 2, months, since, diagnosis, Diagnosed, with, type, 1, mid, December, 2019, admitted, into, hospital, with, severe, DKA, bs, of, 17, 7mmol, and, hba1c, of, 167, Got, my, HBA1C, results, today, and, now, down, to, 62, I, don, t, even, know, why, I, m, posting, this, don, t, even, know, what, this, number, means, really, Anyone, have, any, advice, tips, for, a, newly, diagnosed]</td>\n",
       "      <td>[hba1c, result, 2, month, sinc, diagnosi, diagnos, with, type, 1, mid, decemb, 2019, admit, into, hospit, with, sever, dka, bs, of, 17, 7mmol, and, hba1c, of, 167, got, my, hba1c, result, today, and, now, down, to, 62, i, don, t, even, know, whi, i, m, post, this, don, t, even, know, what, this, number, mean, realli, anyon, have, ani, advic, tip, for, a, newli, diagnos]</td>\n",
       "      <td>HBA1C results 2 months since diagnosis Diagnosed with type 1 mid December 2019 admitted into hospital with severe DKA bs of 17 7mmol and hba1c of 167 Got my HBA1C results today and now down to 62 I don t even know why I m posting this don t even know what this number means really Anyone have any advice tips for a newly diagnosed</td>\n",
       "    </tr>\n",
       "    <tr>\n",
       "      <th>2</th>\n",
       "      <td>[Type, 1, diabetes, and, mood, swings]</td>\n",
       "      <td>Does anyone here feel that their diabetes can have a link to depression or even high and low mood phases in general? I have been in counseling for two months and I am having mental health concerns consistent with cyclothymia that is almost like a soft bipolar disorder. My counselor suggested that I reach out to the diabetic community and see if it may be a common experience. I know that having a chronic disease in general can make you more prone to depression too, so I thought I would ask here.</td>\n",
       "      <td>diabetes_t1</td>\n",
       "      <td>1582057153</td>\n",
       "      <td>b-lavender</td>\n",
       "      <td>5</td>\n",
       "      <td>1</td>\n",
       "      <td>True</td>\n",
       "      <td>2020-02-18</td>\n",
       "      <td>[Type, 1, diabetes, and, mood, swingsDoes, anyone, here, feel, that, their, diabetes, can, have, a, link, to, depression, or, even, high, and, low, mood, phases, in, general, I, have, been, in, counseling, for, two, months, and, I, am, having, mental, health, concerns, consistent, with, cyclothymia, that, is, almost, like, a, soft, bipolar, disorder, My, counselor, suggested, that, I, reach, out, to, the, diabetic, community, and, see, if, it, may, be, a, common, experience, I, know, that, having, a, chronic, disease, in, general, can, make, you, more, prone, to, depression, too, so, I, thought, I, would, ask, here]</td>\n",
       "      <td>[type, 1, diabet, and, mood, swingsdo, anyon, here, feel, that, their, diabet, can, have, a, link, to, depress, or, even, high, and, low, mood, phase, in, general, i, have, been, in, counsel, for, two, month, and, i, am, have, mental, health, concern, consist, with, cyclothymia, that, is, almost, like, a, soft, bipolar, disord, my, counselor, suggest, that, i, reach, out, to, the, diabet, communiti, and, see, if, it, may, be, a, common, experi, i, know, that, have, a, chronic, diseas, in, general, can, make, you, more, prone, to, depress, too, so, i, thought, i, would, ask, here]</td>\n",
       "      <td>Type 1 diabetes and mood swingsDoes anyone here feel that their diabetes can have a link to depression or even high and low mood phases in general I have been in counseling for two months and I am having mental health concerns consistent with cyclothymia that is almost like a soft bipolar disorder My counselor suggested that I reach out to the diabetic community and see if it may be a common experience I know that having a chronic disease in general can make you more prone to depression too so I thought I would ask here</td>\n",
       "    </tr>\n",
       "    <tr>\n",
       "      <th>3</th>\n",
       "      <td>[Bes, countries, to, live, in, being, diabetic]</td>\n",
       "      <td>hello, I wanted to know which are the best countries in Europe to live as a diabetic, in terms of health systems, medication costs etc.</td>\n",
       "      <td>diabetes_t1</td>\n",
       "      <td>1582062986</td>\n",
       "      <td>tiagob94</td>\n",
       "      <td>0</td>\n",
       "      <td>1</td>\n",
       "      <td>True</td>\n",
       "      <td>2020-02-18</td>\n",
       "      <td>[Bes, countries, to, live, in, being, diabetichello, I, wanted, to, know, which, are, the, best, countries, in, Europe, to, live, as, a, diabetic, in, terms, of, health, systems, medication, costs, etc]</td>\n",
       "      <td>[bes, countri, to, live, in, be, diabetichello, i, want, to, know, which, are, the, best, countri, in, europ, to, live, as, a, diabet, in, term, of, health, system, medic, cost, etc]</td>\n",
       "      <td>Bes countries to live in being diabetichello I wanted to know which are the best countries in Europe to live as a diabetic in terms of health systems medication costs etc</td>\n",
       "    </tr>\n",
       "    <tr>\n",
       "      <th>4</th>\n",
       "      <td>[Best, countries, to, live, in, being, diabetic]</td>\n",
       "      <td>hello, I wanted to know which are the best countries in Europe to live as a diabetic, in terms of health systems, medication costs etc.</td>\n",
       "      <td>diabetes_t1</td>\n",
       "      <td>1582063056</td>\n",
       "      <td>tiagob94</td>\n",
       "      <td>0</td>\n",
       "      <td>1</td>\n",
       "      <td>True</td>\n",
       "      <td>2020-02-18</td>\n",
       "      <td>[Best, countries, to, live, in, being, diabetichello, I, wanted, to, know, which, are, the, best, countries, in, Europe, to, live, as, a, diabetic, in, terms, of, health, systems, medication, costs, etc]</td>\n",
       "      <td>[best, countri, to, live, in, be, diabetichello, i, want, to, know, which, are, the, best, countri, in, europ, to, live, as, a, diabet, in, term, of, health, system, medic, cost, etc]</td>\n",
       "      <td>Best countries to live in being diabetichello I wanted to know which are the best countries in Europe to live as a diabetic in terms of health systems medication costs etc</td>\n",
       "    </tr>\n",
       "  </tbody>\n",
       "</table>\n",
       "</div>"
      ],
      "text/plain": [
       "                                                                                  title  \\\n",
       "0  [Parents, with, T1D, kids, on, low, carb, diet, Any, impact, on, growth, milestones]   \n",
       "1  [HBA1C, results, 2, months, since, diagnosis]                                          \n",
       "2  [Type, 1, diabetes, and, mood, swings]                                                 \n",
       "3  [Bes, countries, to, live, in, being, diabetic]                                        \n",
       "4  [Best, countries, to, live, in, being, diabetic]                                       \n",
       "\n",
       "                                                                                                                                                                                                                                                                                                                                                                                                                                                                                                              selftext  \\\n",
       "0  Hi all. My son (7) is t1d and is on a low carb diet. It’s resulted in great blood sugar control but in the last few check ups he’s been falling well behind on height milestones.  \\n\\nDoes anyone have any experience good or bad with this?  I’m concerned the diet may be impacting his development. \\n\\nThanks                                                                                                                                                                                                    \n",
       "1  Diagnosed with type 1 mid December 2019, admitted into hospital with ‘severe DKA’, bs of 17.7mmol and hba1c of 167...\\n\\nGot my HBA1C results today and now down to 62, I don’t even know why I’m posting this, don’t even know what this number means really 😂 \\n\\nAnyone have any advice/tips for a newly diagnosed?                                                                                                                                                                                                \n",
       "2  Does anyone here feel that their diabetes can have a link to depression or even high and low mood phases in general? I have been in counseling for two months and I am having mental health concerns consistent with cyclothymia that is almost like a soft bipolar disorder. My counselor suggested that I reach out to the diabetic community and see if it may be a common experience. I know that having a chronic disease in general can make you more prone to depression too, so I thought I would ask here.   \n",
       "3  hello, I wanted to know which are the best countries in Europe to live as a diabetic, in terms of health systems, medication costs etc.                                                                                                                                                                                                                                                                                                                                                                               \n",
       "4  hello, I wanted to know which are the best countries in Europe to live as a diabetic, in terms of health systems, medication costs etc.                                                                                                                                                                                                                                                                                                                                                                               \n",
       "\n",
       "     subreddit  created_utc          author  num_comments  score  is_self  \\\n",
       "0  diabetes_t1  1582052715   midnightcaller  4             1      True      \n",
       "1  diabetes_t1  1582054702   snazehhh        1             1      True      \n",
       "2  diabetes_t1  1582057153   b-lavender      5             1      True      \n",
       "3  diabetes_t1  1582062986   tiagob94        0             1      True      \n",
       "4  diabetes_t1  1582063056   tiagob94        0             1      True      \n",
       "\n",
       "    timestamp  \\\n",
       "0  2020-02-18   \n",
       "1  2020-02-18   \n",
       "2  2020-02-18   \n",
       "3  2020-02-18   \n",
       "4  2020-02-18   \n",
       "\n",
       "                                                                                                                                                                                                                                                                                                                                                                                                                                                                                                                                                                                                                                          all_text  \\\n",
       "0  [Parents, with, T1D, kids, on, low, carb, diet, Any, impact, on, growth, milestones, Hi, all, My, son, 7, is, t1d, and, is, on, a, low, carb, diet, It, s, resulted, in, great, blood, sugar, control, but, in, the, last, few, check, ups, he, s, been, falling, well, behind, on, height, milestones, Does, anyone, have, any, experience, good, or, bad, with, this, I, m, concerned, the, diet, may, be, impacting, his, development, Thanks]                                                                                                                                                                                                 \n",
       "1  [HBA1C, results, 2, months, since, diagnosis, Diagnosed, with, type, 1, mid, December, 2019, admitted, into, hospital, with, severe, DKA, bs, of, 17, 7mmol, and, hba1c, of, 167, Got, my, HBA1C, results, today, and, now, down, to, 62, I, don, t, even, know, why, I, m, posting, this, don, t, even, know, what, this, number, means, really, Anyone, have, any, advice, tips, for, a, newly, diagnosed]                                                                                                                                                                                                                                      \n",
       "2  [Type, 1, diabetes, and, mood, swingsDoes, anyone, here, feel, that, their, diabetes, can, have, a, link, to, depression, or, even, high, and, low, mood, phases, in, general, I, have, been, in, counseling, for, two, months, and, I, am, having, mental, health, concerns, consistent, with, cyclothymia, that, is, almost, like, a, soft, bipolar, disorder, My, counselor, suggested, that, I, reach, out, to, the, diabetic, community, and, see, if, it, may, be, a, common, experience, I, know, that, having, a, chronic, disease, in, general, can, make, you, more, prone, to, depression, too, so, I, thought, I, would, ask, here]   \n",
       "3  [Bes, countries, to, live, in, being, diabetichello, I, wanted, to, know, which, are, the, best, countries, in, Europe, to, live, as, a, diabetic, in, terms, of, health, systems, medication, costs, etc]                                                                                                                                                                                                                                                                                                                                                                                                                                        \n",
       "4  [Best, countries, to, live, in, being, diabetichello, I, wanted, to, know, which, are, the, best, countries, in, Europe, to, live, as, a, diabetic, in, terms, of, health, systems, medication, costs, etc]                                                                                                                                                                                                                                                                                                                                                                                                                                       \n",
       "\n",
       "                                                                                                                                                                                                                                                                                                                                                                                                                                                                                                                                                                                                     new_text  \\\n",
       "0  [parent, with, t1d, kid, on, low, carb, diet, ani, impact, on, growth, mileston, hi, all, my, son, 7, is, t1d, and, is, on, a, low, carb, diet, it, s, result, in, great, blood, sugar, control, but, in, the, last, few, check, up, he, s, been, fall, well, behind, on, height, mileston, doe, anyon, have, ani, experi, good, or, bad, with, this, i, m, concern, the, diet, may, be, impact, his, develop, thank]                                                                                                                                                                                        \n",
       "1  [hba1c, result, 2, month, sinc, diagnosi, diagnos, with, type, 1, mid, decemb, 2019, admit, into, hospit, with, sever, dka, bs, of, 17, 7mmol, and, hba1c, of, 167, got, my, hba1c, result, today, and, now, down, to, 62, i, don, t, even, know, whi, i, m, post, this, don, t, even, know, what, this, number, mean, realli, anyon, have, ani, advic, tip, for, a, newli, diagnos]                                                                                                                                                                                                                         \n",
       "2  [type, 1, diabet, and, mood, swingsdo, anyon, here, feel, that, their, diabet, can, have, a, link, to, depress, or, even, high, and, low, mood, phase, in, general, i, have, been, in, counsel, for, two, month, and, i, am, have, mental, health, concern, consist, with, cyclothymia, that, is, almost, like, a, soft, bipolar, disord, my, counselor, suggest, that, i, reach, out, to, the, diabet, communiti, and, see, if, it, may, be, a, common, experi, i, know, that, have, a, chronic, diseas, in, general, can, make, you, more, prone, to, depress, too, so, i, thought, i, would, ask, here]   \n",
       "3  [bes, countri, to, live, in, be, diabetichello, i, want, to, know, which, are, the, best, countri, in, europ, to, live, as, a, diabet, in, term, of, health, system, medic, cost, etc]                                                                                                                                                                                                                                                                                                                                                                                                                       \n",
       "4  [best, countri, to, live, in, be, diabetichello, i, want, to, know, which, are, the, best, countri, in, europ, to, live, as, a, diabet, in, term, of, health, system, medic, cost, etc]                                                                                                                                                                                                                                                                                                                                                                                                                      \n",
       "\n",
       "                                                                                                                                                                                                                                                                                                                                                                                                                                                                                                                              text_ready_to_stem  \n",
       "0  Parents with T1D kids on low carb diet Any impact on growth milestones Hi all My son 7 is t1d and is on a low carb diet It s resulted in great blood sugar control but in the last few check ups he s been falling well behind on height milestones Does anyone have any experience good or bad with this I m concerned the diet may be impacting his development Thanks                                                                                                                                                                       \n",
       "1  HBA1C results 2 months since diagnosis Diagnosed with type 1 mid December 2019 admitted into hospital with severe DKA bs of 17 7mmol and hba1c of 167 Got my HBA1C results today and now down to 62 I don t even know why I m posting this don t even know what this number means really Anyone have any advice tips for a newly diagnosed                                                                                                                                                                                                     \n",
       "2  Type 1 diabetes and mood swingsDoes anyone here feel that their diabetes can have a link to depression or even high and low mood phases in general I have been in counseling for two months and I am having mental health concerns consistent with cyclothymia that is almost like a soft bipolar disorder My counselor suggested that I reach out to the diabetic community and see if it may be a common experience I know that having a chronic disease in general can make you more prone to depression too so I thought I would ask here  \n",
       "3  Bes countries to live in being diabetichello I wanted to know which are the best countries in Europe to live as a diabetic in terms of health systems medication costs etc                                                                                                                                                                                                                                                                                                                                                                     \n",
       "4  Best countries to live in being diabetichello I wanted to know which are the best countries in Europe to live as a diabetic in terms of health systems medication costs etc                                                                                                                                                                                                                                                                                                                                                                    "
      ]
     },
     "execution_count": 35,
     "metadata": {},
     "output_type": "execute_result"
    }
   ],
   "source": [
    "t1.head()"
   ]
  },
  {
   "cell_type": "code",
   "execution_count": 40,
   "metadata": {},
   "outputs": [],
   "source": [
    "X = t1['text_ready_to_stem']\n"
   ]
  },
  {
   "cell_type": "code",
   "execution_count": 41,
   "metadata": {},
   "outputs": [],
   "source": [
    "# Import CountVectorizer.\n",
    "from sklearn.feature_extraction.text import CountVectorizer\n",
    "\n",
    "cvec = CountVectorizer()"
   ]
  },
  {
   "cell_type": "code",
   "execution_count": 52,
   "metadata": {},
   "outputs": [],
   "source": [
    "# fit_transform() does two things: First, it fits the model and \n",
    "# learns the vocabulary; second, it transforms our training data\n",
    "# into feature vectors. The input to fit_transform should be a \n",
    "# list of strings.\n",
    "\n",
    "train_data_features = cvec.fit_transform(X)\n"
   ]
  },
  {
   "cell_type": "code",
   "execution_count": 50,
   "metadata": {},
   "outputs": [],
   "source": [
    "X_fit= train_data_features"
   ]
  },
  {
   "cell_type": "code",
   "execution_count": 53,
   "metadata": {},
   "outputs": [
    {
     "data": {
      "text/plain": [
       "<4283x17662 sparse matrix of type '<class 'numpy.int64'>'\n",
       "\twith 321326 stored elements in Compressed Sparse Row format>"
      ]
     },
     "execution_count": 53,
     "metadata": {},
     "output_type": "execute_result"
    }
   ],
   "source": [
    "train_data_features"
   ]
  },
  {
   "cell_type": "code",
   "execution_count": 43,
   "metadata": {},
   "outputs": [],
   "source": [
    "from sklearn.datasets import make_blobs\n",
    "from sklearn.cluster import KMeans\n",
    "from sklearn.preprocessing import StandardScaler\n",
    "\n",
    "import numpy as np\n",
    "import pandas as pd\n",
    "\n",
    "import seaborn as sns\n",
    "import matplotlib.pyplot as plt\n",
    "import matplotlib\n",
    "\n",
    "\n",
    "matplotlib.style.use('ggplot')\n",
    "\n",
    "# Let's make some more blobs to test K-Means on\n",
    "data, color = make_blobs(n_samples=100, random_state=29, centers=3, cluster_std=1.5)\n"
   ]
  },
  {
   "cell_type": "code",
   "execution_count": 55,
   "metadata": {},
   "outputs": [
    {
     "data": {
      "text/plain": [
       "KMeans(algorithm='auto', copy_x=True, init='k-means++', max_iter=300,\n",
       "       n_clusters=3, n_init=10, n_jobs=None, precompute_distances='auto',\n",
       "       random_state=20148, tol=0.0001, verbose=0)"
      ]
     },
     "execution_count": 55,
     "metadata": {},
     "output_type": "execute_result"
    }
   ],
   "source": [
    "km = KMeans(n_clusters = 3, random_state = 20148)\n",
    "km.fit(train_data_features)\n"
   ]
  },
  {
   "cell_type": "code",
   "execution_count": 56,
   "metadata": {},
   "outputs": [
    {
     "data": {
      "text/plain": [
       "array([[0.00573431, 0.00191144, 0.        , ..., 0.        , 0.        ,\n",
       "        0.00031857],\n",
       "       [0.00641026, 0.03205128, 0.        , ..., 0.        , 0.        ,\n",
       "        0.        ],\n",
       "       [0.00404858, 0.00708502, 0.00101215, ..., 0.00303644, 0.00101215,\n",
       "        0.        ]])"
      ]
     },
     "execution_count": 56,
     "metadata": {},
     "output_type": "execute_result"
    }
   ],
   "source": [
    "km.cluster_centers_"
   ]
  },
  {
   "cell_type": "code",
   "execution_count": 59,
   "metadata": {},
   "outputs": [
    {
     "data": {
      "text/plain": [
       "array([0, 0, 0, ..., 0, 0, 2], dtype=int32)"
      ]
     },
     "execution_count": 59,
     "metadata": {},
     "output_type": "execute_result"
    }
   ],
   "source": [
    "km.labels_"
   ]
  },
  {
   "cell_type": "code",
   "execution_count": 60,
   "metadata": {},
   "outputs": [
    {
     "data": {
      "text/plain": [
       "833816.6186772868"
      ]
     },
     "execution_count": 60,
     "metadata": {},
     "output_type": "execute_result"
    }
   ],
   "source": [
    "km.inertia_"
   ]
  },
  {
   "cell_type": "code",
   "execution_count": 61,
   "metadata": {},
   "outputs": [],
   "source": [
    "from sklearn.metrics import silhouette_score"
   ]
  },
  {
   "cell_type": "code",
   "execution_count": 62,
   "metadata": {},
   "outputs": [
    {
     "data": {
      "text/plain": [
       "0.2819369842876299"
      ]
     },
     "execution_count": 62,
     "metadata": {},
     "output_type": "execute_result"
    }
   ],
   "source": [
    "silhouette_score(train_data_features, km.labels_)"
   ]
  },
  {
   "cell_type": "code",
   "execution_count": 77,
   "metadata": {},
   "outputs": [],
   "source": [
    "scores = []\n",
    "for k in range (2, 10):\n",
    "    cl = KMeans(n_clusters = k, random_state = 100)\n",
    "    cl.fit(train_data_features)\n",
    "    inertia = cl.inertia_\n",
    "    sil = silhouette_score(train_data_features, cl.labels_)\n",
    "    scores.append((k, inertia, sil))"
   ]
  },
  {
   "cell_type": "code",
   "execution_count": 78,
   "metadata": {},
   "outputs": [
    {
     "data": {
      "text/html": [
       "<div>\n",
       "<style scoped>\n",
       "    .dataframe tbody tr th:only-of-type {\n",
       "        vertical-align: middle;\n",
       "    }\n",
       "\n",
       "    .dataframe tbody tr th {\n",
       "        vertical-align: top;\n",
       "    }\n",
       "\n",
       "    .dataframe thead th {\n",
       "        text-align: right;\n",
       "    }\n",
       "</style>\n",
       "<table border=\"1\" class=\"dataframe\">\n",
       "  <thead>\n",
       "    <tr style=\"text-align: right;\">\n",
       "      <th></th>\n",
       "      <th>k</th>\n",
       "      <th>inertia</th>\n",
       "      <th>sil</th>\n",
       "    </tr>\n",
       "  </thead>\n",
       "  <tbody>\n",
       "    <tr>\n",
       "      <th>0</th>\n",
       "      <td>2</td>\n",
       "      <td>901036.107011</td>\n",
       "      <td>0.480638</td>\n",
       "    </tr>\n",
       "    <tr>\n",
       "      <th>1</th>\n",
       "      <td>3</td>\n",
       "      <td>833816.618677</td>\n",
       "      <td>0.281937</td>\n",
       "    </tr>\n",
       "    <tr>\n",
       "      <th>2</th>\n",
       "      <td>4</td>\n",
       "      <td>789776.815564</td>\n",
       "      <td>0.244427</td>\n",
       "    </tr>\n",
       "    <tr>\n",
       "      <th>3</th>\n",
       "      <td>5</td>\n",
       "      <td>767002.396565</td>\n",
       "      <td>0.140963</td>\n",
       "    </tr>\n",
       "    <tr>\n",
       "      <th>4</th>\n",
       "      <td>6</td>\n",
       "      <td>754339.062169</td>\n",
       "      <td>0.111861</td>\n",
       "    </tr>\n",
       "    <tr>\n",
       "      <th>5</th>\n",
       "      <td>7</td>\n",
       "      <td>742980.366982</td>\n",
       "      <td>0.109276</td>\n",
       "    </tr>\n",
       "    <tr>\n",
       "      <th>6</th>\n",
       "      <td>8</td>\n",
       "      <td>735538.811197</td>\n",
       "      <td>0.087381</td>\n",
       "    </tr>\n",
       "    <tr>\n",
       "      <th>7</th>\n",
       "      <td>9</td>\n",
       "      <td>732179.417322</td>\n",
       "      <td>0.034558</td>\n",
       "    </tr>\n",
       "  </tbody>\n",
       "</table>\n",
       "</div>"
      ],
      "text/plain": [
       "   k        inertia       sil\n",
       "0  2  901036.107011  0.480638\n",
       "1  3  833816.618677  0.281937\n",
       "2  4  789776.815564  0.244427\n",
       "3  5  767002.396565  0.140963\n",
       "4  6  754339.062169  0.111861\n",
       "5  7  742980.366982  0.109276\n",
       "6  8  735538.811197  0.087381\n",
       "7  9  732179.417322  0.034558"
      ]
     },
     "execution_count": 78,
     "metadata": {},
     "output_type": "execute_result"
    }
   ],
   "source": [
    "score_t1 = pd.DataFrame(scores, columns = [\"k\", \"inertia\", \"sil\"])\n",
    "score_t1"
   ]
  },
  {
   "cell_type": "code",
   "execution_count": 79,
   "metadata": {},
   "outputs": [
    {
     "data": {
      "image/png": "[encoded data removed]",
      "text/plain": [
       "<Figure size 1008x504 with 2 Axes>"
      ]
     },
     "metadata": {},
     "output_type": "display_data"
    }
   ],
   "source": [
    "fig, axes = plt.subplots(1, 2, figsize=(14, 7))\n",
    "axes[0].plot(score_t1.k, score_t1.inertia)\n",
    "axes[0].set_title('Inertia over k')\n",
    "axes[1].plot(score_t1.k, score_t1.sil);\n",
    "axes[1].set_title('Silhouette Score over k');"
   ]
  },
  {
   "cell_type": "code",
   "execution_count": 80,
   "metadata": {},
   "outputs": [],
   "source": [
    "scores2 = []\n",
    "for k in range (10, 20):\n",
    "    cl = KMeans(n_clusters = k, random_state = 100)\n",
    "    cl.fit(train_data_features)\n",
    "    inertia = cl.inertia_\n",
    "    sil = silhouette_score(train_data_features, cl.labels_)\n",
    "    scores2.append((k, inertia, sil))"
   ]
  },
  {
   "cell_type": "code",
   "execution_count": 81,
   "metadata": {},
   "outputs": [
    {
     "data": {
      "text/plain": [
       "[(10, 722530.8557108302, 0.047439184335644854),\n",
       " (11, 715815.1322674857, 0.05285321496993942),\n",
       " (12, 714856.160985988, 0.059936420301807236),\n",
       " (13, 708823.8241839547, 0.04562450700683736),\n",
       " (14, 699545.038607616, 0.05424465286210276),\n",
       " (15, 696340.0748849193, 0.023532463684631872),\n",
       " (16, 692936.2883163639, 0.012408208310833618),\n",
       " (17, 687544.7138848898, 0.04049339536199993),\n",
       " (18, 686360.7416319348, -0.009403342058118169),\n",
       " (19, 682173.8316997562, -0.008930993199329525)]"
      ]
     },
     "execution_count": 81,
     "metadata": {},
     "output_type": "execute_result"
    }
   ],
   "source": [
    "scores2"
   ]
  },
  {
   "cell_type": "code",
   "execution_count": 82,
   "metadata": {},
   "outputs": [
    {
     "data": {
      "text/html": [
       "<div>\n",
       "<style scoped>\n",
       "    .dataframe tbody tr th:only-of-type {\n",
       "        vertical-align: middle;\n",
       "    }\n",
       "\n",
       "    .dataframe tbody tr th {\n",
       "        vertical-align: top;\n",
       "    }\n",
       "\n",
       "    .dataframe thead th {\n",
       "        text-align: right;\n",
       "    }\n",
       "</style>\n",
       "<table border=\"1\" class=\"dataframe\">\n",
       "  <thead>\n",
       "    <tr style=\"text-align: right;\">\n",
       "      <th></th>\n",
       "      <th>k</th>\n",
       "      <th>inertia</th>\n",
       "      <th>sil</th>\n",
       "    </tr>\n",
       "  </thead>\n",
       "  <tbody>\n",
       "    <tr>\n",
       "      <th>0</th>\n",
       "      <td>10</td>\n",
       "      <td>722530.855711</td>\n",
       "      <td>0.047439</td>\n",
       "    </tr>\n",
       "    <tr>\n",
       "      <th>1</th>\n",
       "      <td>11</td>\n",
       "      <td>715815.132267</td>\n",
       "      <td>0.052853</td>\n",
       "    </tr>\n",
       "    <tr>\n",
       "      <th>2</th>\n",
       "      <td>12</td>\n",
       "      <td>714856.160986</td>\n",
       "      <td>0.059936</td>\n",
       "    </tr>\n",
       "    <tr>\n",
       "      <th>3</th>\n",
       "      <td>13</td>\n",
       "      <td>708823.824184</td>\n",
       "      <td>0.045625</td>\n",
       "    </tr>\n",
       "    <tr>\n",
       "      <th>4</th>\n",
       "      <td>14</td>\n",
       "      <td>699545.038608</td>\n",
       "      <td>0.054245</td>\n",
       "    </tr>\n",
       "    <tr>\n",
       "      <th>5</th>\n",
       "      <td>15</td>\n",
       "      <td>696340.074885</td>\n",
       "      <td>0.023532</td>\n",
       "    </tr>\n",
       "    <tr>\n",
       "      <th>6</th>\n",
       "      <td>16</td>\n",
       "      <td>692936.288316</td>\n",
       "      <td>0.012408</td>\n",
       "    </tr>\n",
       "    <tr>\n",
       "      <th>7</th>\n",
       "      <td>17</td>\n",
       "      <td>687544.713885</td>\n",
       "      <td>0.040493</td>\n",
       "    </tr>\n",
       "    <tr>\n",
       "      <th>8</th>\n",
       "      <td>18</td>\n",
       "      <td>686360.741632</td>\n",
       "      <td>-0.009403</td>\n",
       "    </tr>\n",
       "    <tr>\n",
       "      <th>9</th>\n",
       "      <td>19</td>\n",
       "      <td>682173.831700</td>\n",
       "      <td>-0.008931</td>\n",
       "    </tr>\n",
       "  </tbody>\n",
       "</table>\n",
       "</div>"
      ],
      "text/plain": [
       "    k        inertia       sil\n",
       "0  10  722530.855711  0.047439\n",
       "1  11  715815.132267  0.052853\n",
       "2  12  714856.160986  0.059936\n",
       "3  13  708823.824184  0.045625\n",
       "4  14  699545.038608  0.054245\n",
       "5  15  696340.074885  0.023532\n",
       "6  16  692936.288316  0.012408\n",
       "7  17  687544.713885  0.040493\n",
       "8  18  686360.741632 -0.009403\n",
       "9  19  682173.831700 -0.008931"
      ]
     },
     "execution_count": 82,
     "metadata": {},
     "output_type": "execute_result"
    }
   ],
   "source": [
    "score2_t1 = pd.DataFrame(scores2, columns = [\"k\", \"inertia\", \"sil\"])\n",
    "score2_t1"
   ]
  },
  {
   "cell_type": "code",
   "execution_count": 83,
   "metadata": {},
   "outputs": [
    {
     "data": {
      "image/png": "[encoded data removed]",
      "text/plain": [
       "<Figure size 1008x504 with 2 Axes>"
      ]
     },
     "metadata": {},
     "output_type": "display_data"
    }
   ],
   "source": [
    "fig, axes = plt.subplots(1, 2, figsize=(14, 7))\n",
    "axes[0].plot(score2_t1.k, score2_t1.inertia)\n",
    "axes[0].set_title('Inertia over k')\n",
    "axes[1].plot(score2_t1.k, score2_t1.sil);\n",
    "axes[1].set_title('Silhouette Score over k');"
   ]
  },
  {
   "cell_type": "code",
   "execution_count": 85,
   "metadata": {},
   "outputs": [
    {
     "data": {
      "text/html": [
       "<div>\n",
       "<style scoped>\n",
       "    .dataframe tbody tr th:only-of-type {\n",
       "        vertical-align: middle;\n",
       "    }\n",
       "\n",
       "    .dataframe tbody tr th {\n",
       "        vertical-align: top;\n",
       "    }\n",
       "\n",
       "    .dataframe thead th {\n",
       "        text-align: right;\n",
       "    }\n",
       "</style>\n",
       "<table border=\"1\" class=\"dataframe\">\n",
       "  <thead>\n",
       "    <tr style=\"text-align: right;\">\n",
       "      <th></th>\n",
       "      <th>k</th>\n",
       "      <th>inertia</th>\n",
       "      <th>sil</th>\n",
       "    </tr>\n",
       "  </thead>\n",
       "  <tbody>\n",
       "    <tr>\n",
       "      <th>0</th>\n",
       "      <td>10</td>\n",
       "      <td>722530.855711</td>\n",
       "      <td>0.047439</td>\n",
       "    </tr>\n",
       "    <tr>\n",
       "      <th>1</th>\n",
       "      <td>11</td>\n",
       "      <td>715815.132267</td>\n",
       "      <td>0.052853</td>\n",
       "    </tr>\n",
       "    <tr>\n",
       "      <th>2</th>\n",
       "      <td>12</td>\n",
       "      <td>714856.160986</td>\n",
       "      <td>0.059936</td>\n",
       "    </tr>\n",
       "    <tr>\n",
       "      <th>3</th>\n",
       "      <td>13</td>\n",
       "      <td>708823.824184</td>\n",
       "      <td>0.045625</td>\n",
       "    </tr>\n",
       "    <tr>\n",
       "      <th>4</th>\n",
       "      <td>14</td>\n",
       "      <td>699545.038608</td>\n",
       "      <td>0.054245</td>\n",
       "    </tr>\n",
       "    <tr>\n",
       "      <th>5</th>\n",
       "      <td>15</td>\n",
       "      <td>696340.074885</td>\n",
       "      <td>0.023532</td>\n",
       "    </tr>\n",
       "    <tr>\n",
       "      <th>6</th>\n",
       "      <td>16</td>\n",
       "      <td>692936.288316</td>\n",
       "      <td>0.012408</td>\n",
       "    </tr>\n",
       "    <tr>\n",
       "      <th>7</th>\n",
       "      <td>17</td>\n",
       "      <td>687544.713885</td>\n",
       "      <td>0.040493</td>\n",
       "    </tr>\n",
       "    <tr>\n",
       "      <th>8</th>\n",
       "      <td>18</td>\n",
       "      <td>686360.741632</td>\n",
       "      <td>-0.009403</td>\n",
       "    </tr>\n",
       "    <tr>\n",
       "      <th>9</th>\n",
       "      <td>19</td>\n",
       "      <td>682173.831700</td>\n",
       "      <td>-0.008931</td>\n",
       "    </tr>\n",
       "    <tr>\n",
       "      <th>10</th>\n",
       "      <td>10</td>\n",
       "      <td>722530.855711</td>\n",
       "      <td>0.047439</td>\n",
       "    </tr>\n",
       "    <tr>\n",
       "      <th>11</th>\n",
       "      <td>11</td>\n",
       "      <td>715815.132267</td>\n",
       "      <td>0.052853</td>\n",
       "    </tr>\n",
       "    <tr>\n",
       "      <th>12</th>\n",
       "      <td>12</td>\n",
       "      <td>714856.160986</td>\n",
       "      <td>0.059936</td>\n",
       "    </tr>\n",
       "    <tr>\n",
       "      <th>13</th>\n",
       "      <td>13</td>\n",
       "      <td>708823.824184</td>\n",
       "      <td>0.045625</td>\n",
       "    </tr>\n",
       "    <tr>\n",
       "      <th>14</th>\n",
       "      <td>14</td>\n",
       "      <td>699545.038608</td>\n",
       "      <td>0.054245</td>\n",
       "    </tr>\n",
       "    <tr>\n",
       "      <th>15</th>\n",
       "      <td>15</td>\n",
       "      <td>696340.074885</td>\n",
       "      <td>0.023532</td>\n",
       "    </tr>\n",
       "    <tr>\n",
       "      <th>16</th>\n",
       "      <td>16</td>\n",
       "      <td>692936.288316</td>\n",
       "      <td>0.012408</td>\n",
       "    </tr>\n",
       "    <tr>\n",
       "      <th>17</th>\n",
       "      <td>17</td>\n",
       "      <td>687544.713885</td>\n",
       "      <td>0.040493</td>\n",
       "    </tr>\n",
       "    <tr>\n",
       "      <th>18</th>\n",
       "      <td>18</td>\n",
       "      <td>686360.741632</td>\n",
       "      <td>-0.009403</td>\n",
       "    </tr>\n",
       "    <tr>\n",
       "      <th>19</th>\n",
       "      <td>19</td>\n",
       "      <td>682173.831700</td>\n",
       "      <td>-0.008931</td>\n",
       "    </tr>\n",
       "  </tbody>\n",
       "</table>\n",
       "</div>"
      ],
      "text/plain": [
       "     k        inertia       sil\n",
       "0   10  722530.855711  0.047439\n",
       "1   11  715815.132267  0.052853\n",
       "2   12  714856.160986  0.059936\n",
       "3   13  708823.824184  0.045625\n",
       "4   14  699545.038608  0.054245\n",
       "5   15  696340.074885  0.023532\n",
       "6   16  692936.288316  0.012408\n",
       "7   17  687544.713885  0.040493\n",
       "8   18  686360.741632 -0.009403\n",
       "9   19  682173.831700 -0.008931\n",
       "10  10  722530.855711  0.047439\n",
       "11  11  715815.132267  0.052853\n",
       "12  12  714856.160986  0.059936\n",
       "13  13  708823.824184  0.045625\n",
       "14  14  699545.038608  0.054245\n",
       "15  15  696340.074885  0.023532\n",
       "16  16  692936.288316  0.012408\n",
       "17  17  687544.713885  0.040493\n",
       "18  18  686360.741632 -0.009403\n",
       "19  19  682173.831700 -0.008931"
      ]
     },
     "execution_count": 85,
     "metadata": {},
     "output_type": "execute_result"
    }
   ],
   "source": [
    "pieces = (score2_t1, score2_t1)\n",
    "scores_final = pd.concat(pieces, ignore_index = True)\n",
    "scores_final"
   ]
  },
  {
   "cell_type": "code",
   "execution_count": null,
   "metadata": {},
   "outputs": [],
   "source": [
    "fig, axes = plt.subplots(1, 2, figsize=(14, 7))\n",
    "axes[0].plot(score2_t1.k, score2_t1.inertia)\n",
    "axes[0].set_title('Inertia over k')\n",
    "axes[1].plot(score2_t1.k, score2_t1.sil);\n",
    "axes[1].set_title('Silhouette Score over k');"
   ]
  }
 ],
 "metadata": {
  "kernelspec": {
   "display_name": "Python 3",
   "language": "python",
   "name": "python3"
  },
  "language_info": {
   "codemirror_mode": {
    "name": "ipython",
    "version": 3
   },
   "file_extension": ".py",
   "mimetype": "text/x-python",
   "name": "python",
   "nbconvert_exporter": "python",
   "pygments_lexer": "ipython3",
   "version": "3.7.5"
  }
 },
 "nbformat": 4,
 "nbformat_minor": 2
}
