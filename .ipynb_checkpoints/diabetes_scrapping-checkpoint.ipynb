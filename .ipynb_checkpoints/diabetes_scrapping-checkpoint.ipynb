{
 "cells": [
  {
   "cell_type": "markdown",
   "metadata": {},
   "source": [
    "# Scraping for data from reddit"
   ]
  },
  {
   "cell_type": "markdown",
   "metadata": {},
   "source": [
    "# Importing libraries"
   ]
  },
  {
   "cell_type": "code",
   "execution_count": 1,
   "metadata": {},
   "outputs": [],
   "source": [
    "import pandas as pd\n",
    "import datetime as dt\n",
    "import time\n",
    "import requests"
   ]
  },
  {
   "cell_type": "code",
   "execution_count": 2,
   "metadata": {},
   "outputs": [],
   "source": [
    "url = \"https://api.pushshift.io/reddit/search/submission?subreddit=diabetes_t1\""
   ]
  },
  {
   "cell_type": "code",
   "execution_count": 3,
   "metadata": {},
   "outputs": [],
   "source": [
    "res = requests.get(url)"
   ]
  },
  {
   "cell_type": "code",
   "execution_count": 4,
   "metadata": {
    "scrolled": true
   },
   "outputs": [
    {
     "data": {
      "text/plain": [
       "200"
      ]
     },
     "execution_count": 4,
     "metadata": {},
     "output_type": "execute_result"
    }
   ],
   "source": [
    "res.status_code"
   ]
  },
  {
   "cell_type": "code",
   "execution_count": 5,
   "metadata": {},
   "outputs": [
    {
     "data": {
      "text/plain": [
       "{'all_awardings': [],\n",
       " 'allow_live_comments': False,\n",
       " 'author': 'Tww_az',\n",
       " 'author_flair_background_color': '#5c89c7',\n",
       " 'author_flair_css_class': None,\n",
       " 'author_flair_richtext': [],\n",
       " 'author_flair_template_id': '41cc1230-ac7d-11e8-8473-0ed473d8dcfc',\n",
       " 'author_flair_text': '[T1D 2019] [OmniPod] [Freestyle Libre]',\n",
       " 'author_flair_text_color': 'light',\n",
       " 'author_flair_type': 'text',\n",
       " 'author_fullname': 't2_4slgmmy1',\n",
       " 'author_patreon_flair': False,\n",
       " 'author_premium': False,\n",
       " 'awarders': [],\n",
       " 'can_mod_post': False,\n",
       " 'contest_mode': False,\n",
       " 'created_utc': 1582131485,\n",
       " 'domain': 'self.diabetes_t1',\n",
       " 'full_link': 'https://www.reddit.com/r/diabetes_t1/comments/f6dklg/temp_basal_help/',\n",
       " 'gildings': {},\n",
       " 'id': 'f6dklg',\n",
       " 'is_crosspostable': True,\n",
       " 'is_meta': False,\n",
       " 'is_original_content': False,\n",
       " 'is_reddit_media_domain': False,\n",
       " 'is_robot_indexable': True,\n",
       " 'is_self': True,\n",
       " 'is_video': False,\n",
       " 'link_flair_background_color': '',\n",
       " 'link_flair_richtext': [],\n",
       " 'link_flair_text_color': 'dark',\n",
       " 'link_flair_type': 'text',\n",
       " 'locked': False,\n",
       " 'media_only': False,\n",
       " 'no_follow': True,\n",
       " 'num_comments': 1,\n",
       " 'num_crossposts': 0,\n",
       " 'over_18': False,\n",
       " 'permalink': '/r/diabetes_t1/comments/f6dklg/temp_basal_help/',\n",
       " 'pinned': False,\n",
       " 'retrieved_on': 1582131543,\n",
       " 'score': 1,\n",
       " 'selftext': \"Anyone have a good starting point for a temp Basal while sick? I was thinking increase of 50%, but I'm not sure if that's too high or low.\",\n",
       " 'send_replies': True,\n",
       " 'spoiler': False,\n",
       " 'stickied': False,\n",
       " 'subreddit': 'diabetes_t1',\n",
       " 'subreddit_id': 't5_2vzrv',\n",
       " 'subreddit_subscribers': 16474,\n",
       " 'subreddit_type': 'public',\n",
       " 'thumbnail': 'self',\n",
       " 'title': 'Temp Basal Help',\n",
       " 'total_awards_received': 0,\n",
       " 'url': 'https://www.reddit.com/r/diabetes_t1/comments/f6dklg/temp_basal_help/'}"
      ]
     },
     "execution_count": 5,
     "metadata": {},
     "output_type": "execute_result"
    }
   ],
   "source": [
    "json_data = res.json()\n",
    "json_data['data'][0]"
   ]
  },
  {
   "cell_type": "markdown",
   "metadata": {},
   "source": [
    "Defining a function that will querry the reddit API for our data - this was created by Mahdi Shadkam Farrokhi (https://github.com/Shaddyjr). "
   ]
  },
  {
   "cell_type": "code",
   "execution_count": 6,
   "metadata": {},
   "outputs": [],
   "source": [
    "def query_pushshift(subreddit, kind = 'submission', day_window = 1, n = 350):\n",
    "    SUBFIELDS = ['title', 'selftext', 'subreddit', 'created_utc', 'author', 'num_comments', 'score', 'is_self']\n",
    "    \n",
    "    # establish base url and stem\n",
    "    \n",
    "    BASE_URL = f\"https://api.pushshift.io/reddit/search/{kind}\" # also known as the \"API endpoint\" \n",
    "    stem = f\"{BASE_URL}?subreddit={subreddit}&size=500\" # always pulling max of 500\n",
    "    \n",
    "    # instantiate empty list for temp storage\n",
    "    posts = []\n",
    "    \n",
    "    # implement for loop with `time.sleep(2)`\n",
    "    for i in range(1, n + 1):\n",
    "        URL = \"{}&after={}d\".format(stem, day_window * i)\n",
    "        print(\"Querying from: \" + URL)\n",
    "        response = requests.get(URL)\n",
    "        assert response.status_code == 200\n",
    "        mine = response.json()['data']\n",
    "        df = pd.DataFrame.from_dict(mine)\n",
    "        posts.append(df)\n",
    "        time.sleep(2)\n",
    "    \n",
    "    # pd.concat storage list\n",
    "    full = pd.concat(posts, sort=False)\n",
    "    \n",
    "    # if submission\n",
    "    if kind == \"submission\":\n",
    "        # select desired columns\n",
    "        full = full[SUBFIELDS]\n",
    "        # drop duplicates\n",
    "        full.drop_duplicates(inplace = True)\n",
    "        # select `is_self` == True\n",
    "        full = full.loc[full['is_self'] == True]\n",
    "\n",
    "    # create `timestamp` column\n",
    "    full['timestamp'] = full[\"created_utc\"].map(dt.date.fromtimestamp)\n",
    "    \n",
    "    print(\"Query Complete!\")    \n",
    "    return full "
   ]
  },
  {
   "cell_type": "markdown",
   "metadata": {},
   "source": [
    "Scrapping for 100 days below, we limit the number of daily posts to 500 - akthough it is obvious by the number of results that there are less than 500 posts per day in the thread:"
   ]
  },
  {
   "cell_type": "code",
   "execution_count": 8,
   "metadata": {},
   "outputs": [
    {
     "name": "stdout",
     "output_type": "stream",
     "text": [
      "Querying from: https://api.pushshift.io/reddit/search/submission?subreddit=diabetes_t1&size=500&after=1d\n",
      "Querying from: https://api.pushshift.io/reddit/search/submission?subreddit=diabetes_t1&size=500&after=2d\n",
      "Querying from: https://api.pushshift.io/reddit/search/submission?subreddit=diabetes_t1&size=500&after=3d\n",
      "Querying from: https://api.pushshift.io/reddit/search/submission?subreddit=diabetes_t1&size=500&after=4d\n",
      "Querying from: https://api.pushshift.io/reddit/search/submission?subreddit=diabetes_t1&size=500&after=5d\n",
      "Querying from: https://api.pushshift.io/reddit/search/submission?subreddit=diabetes_t1&size=500&after=6d\n",
      "Querying from: https://api.pushshift.io/reddit/search/submission?subreddit=diabetes_t1&size=500&after=7d\n",
      "Querying from: https://api.pushshift.io/reddit/search/submission?subreddit=diabetes_t1&size=500&after=8d\n",
      "Querying from: https://api.pushshift.io/reddit/search/submission?subreddit=diabetes_t1&size=500&after=9d\n",
      "Querying from: https://api.pushshift.io/reddit/search/submission?subreddit=diabetes_t1&size=500&after=10d\n",
      "Querying from: https://api.pushshift.io/reddit/search/submission?subreddit=diabetes_t1&size=500&after=11d\n",
      "Querying from: https://api.pushshift.io/reddit/search/submission?subreddit=diabetes_t1&size=500&after=12d\n",
      "Querying from: https://api.pushshift.io/reddit/search/submission?subreddit=diabetes_t1&size=500&after=13d\n",
      "Querying from: https://api.pushshift.io/reddit/search/submission?subreddit=diabetes_t1&size=500&after=14d\n",
      "Querying from: https://api.pushshift.io/reddit/search/submission?subreddit=diabetes_t1&size=500&after=15d\n",
      "Querying from: https://api.pushshift.io/reddit/search/submission?subreddit=diabetes_t1&size=500&after=16d\n",
      "Querying from: https://api.pushshift.io/reddit/search/submission?subreddit=diabetes_t1&size=500&after=17d\n",
      "Querying from: https://api.pushshift.io/reddit/search/submission?subreddit=diabetes_t1&size=500&after=18d\n",
      "Querying from: https://api.pushshift.io/reddit/search/submission?subreddit=diabetes_t1&size=500&after=19d\n",
      "Querying from: https://api.pushshift.io/reddit/search/submission?subreddit=diabetes_t1&size=500&after=20d\n",
      "Querying from: https://api.pushshift.io/reddit/search/submission?subreddit=diabetes_t1&size=500&after=21d\n",
      "Querying from: https://api.pushshift.io/reddit/search/submission?subreddit=diabetes_t1&size=500&after=22d\n",
      "Querying from: https://api.pushshift.io/reddit/search/submission?subreddit=diabetes_t1&size=500&after=23d\n",
      "Querying from: https://api.pushshift.io/reddit/search/submission?subreddit=diabetes_t1&size=500&after=24d\n",
      "Querying from: https://api.pushshift.io/reddit/search/submission?subreddit=diabetes_t1&size=500&after=25d\n",
      "Querying from: https://api.pushshift.io/reddit/search/submission?subreddit=diabetes_t1&size=500&after=26d\n",
      "Querying from: https://api.pushshift.io/reddit/search/submission?subreddit=diabetes_t1&size=500&after=27d\n",
      "Querying from: https://api.pushshift.io/reddit/search/submission?subreddit=diabetes_t1&size=500&after=28d\n",
      "Querying from: https://api.pushshift.io/reddit/search/submission?subreddit=diabetes_t1&size=500&after=29d\n",
      "Querying from: https://api.pushshift.io/reddit/search/submission?subreddit=diabetes_t1&size=500&after=30d\n",
      "Querying from: https://api.pushshift.io/reddit/search/submission?subreddit=diabetes_t1&size=500&after=31d\n",
      "Querying from: https://api.pushshift.io/reddit/search/submission?subreddit=diabetes_t1&size=500&after=32d\n",
      "Querying from: https://api.pushshift.io/reddit/search/submission?subreddit=diabetes_t1&size=500&after=33d\n",
      "Querying from: https://api.pushshift.io/reddit/search/submission?subreddit=diabetes_t1&size=500&after=34d\n",
      "Querying from: https://api.pushshift.io/reddit/search/submission?subreddit=diabetes_t1&size=500&after=35d\n",
      "Querying from: https://api.pushshift.io/reddit/search/submission?subreddit=diabetes_t1&size=500&after=36d\n",
      "Querying from: https://api.pushshift.io/reddit/search/submission?subreddit=diabetes_t1&size=500&after=37d\n",
      "Querying from: https://api.pushshift.io/reddit/search/submission?subreddit=diabetes_t1&size=500&after=38d\n",
      "Querying from: https://api.pushshift.io/reddit/search/submission?subreddit=diabetes_t1&size=500&after=39d\n",
      "Querying from: https://api.pushshift.io/reddit/search/submission?subreddit=diabetes_t1&size=500&after=40d\n",
      "Querying from: https://api.pushshift.io/reddit/search/submission?subreddit=diabetes_t1&size=500&after=41d\n",
      "Querying from: https://api.pushshift.io/reddit/search/submission?subreddit=diabetes_t1&size=500&after=42d\n",
      "Querying from: https://api.pushshift.io/reddit/search/submission?subreddit=diabetes_t1&size=500&after=43d\n",
      "Querying from: https://api.pushshift.io/reddit/search/submission?subreddit=diabetes_t1&size=500&after=44d\n",
      "Querying from: https://api.pushshift.io/reddit/search/submission?subreddit=diabetes_t1&size=500&after=45d\n",
      "Querying from: https://api.pushshift.io/reddit/search/submission?subreddit=diabetes_t1&size=500&after=46d\n",
      "Querying from: https://api.pushshift.io/reddit/search/submission?subreddit=diabetes_t1&size=500&after=47d\n",
      "Querying from: https://api.pushshift.io/reddit/search/submission?subreddit=diabetes_t1&size=500&after=48d\n",
      "Querying from: https://api.pushshift.io/reddit/search/submission?subreddit=diabetes_t1&size=500&after=49d\n",
      "Querying from: https://api.pushshift.io/reddit/search/submission?subreddit=diabetes_t1&size=500&after=50d\n",
      "Querying from: https://api.pushshift.io/reddit/search/submission?subreddit=diabetes_t1&size=500&after=51d\n",
      "Querying from: https://api.pushshift.io/reddit/search/submission?subreddit=diabetes_t1&size=500&after=52d\n",
      "Querying from: https://api.pushshift.io/reddit/search/submission?subreddit=diabetes_t1&size=500&after=53d\n",
      "Querying from: https://api.pushshift.io/reddit/search/submission?subreddit=diabetes_t1&size=500&after=54d\n",
      "Querying from: https://api.pushshift.io/reddit/search/submission?subreddit=diabetes_t1&size=500&after=55d\n",
      "Querying from: https://api.pushshift.io/reddit/search/submission?subreddit=diabetes_t1&size=500&after=56d\n",
      "Querying from: https://api.pushshift.io/reddit/search/submission?subreddit=diabetes_t1&size=500&after=57d\n",
      "Querying from: https://api.pushshift.io/reddit/search/submission?subreddit=diabetes_t1&size=500&after=58d\n",
      "Querying from: https://api.pushshift.io/reddit/search/submission?subreddit=diabetes_t1&size=500&after=59d\n",
      "Querying from: https://api.pushshift.io/reddit/search/submission?subreddit=diabetes_t1&size=500&after=60d\n",
      "Querying from: https://api.pushshift.io/reddit/search/submission?subreddit=diabetes_t1&size=500&after=61d\n",
      "Querying from: https://api.pushshift.io/reddit/search/submission?subreddit=diabetes_t1&size=500&after=62d\n",
      "Querying from: https://api.pushshift.io/reddit/search/submission?subreddit=diabetes_t1&size=500&after=63d\n",
      "Querying from: https://api.pushshift.io/reddit/search/submission?subreddit=diabetes_t1&size=500&after=64d\n",
      "Querying from: https://api.pushshift.io/reddit/search/submission?subreddit=diabetes_t1&size=500&after=65d\n",
      "Querying from: https://api.pushshift.io/reddit/search/submission?subreddit=diabetes_t1&size=500&after=66d\n",
      "Querying from: https://api.pushshift.io/reddit/search/submission?subreddit=diabetes_t1&size=500&after=67d\n",
      "Querying from: https://api.pushshift.io/reddit/search/submission?subreddit=diabetes_t1&size=500&after=68d\n",
      "Querying from: https://api.pushshift.io/reddit/search/submission?subreddit=diabetes_t1&size=500&after=69d\n",
      "Querying from: https://api.pushshift.io/reddit/search/submission?subreddit=diabetes_t1&size=500&after=70d\n",
      "Querying from: https://api.pushshift.io/reddit/search/submission?subreddit=diabetes_t1&size=500&after=71d\n",
      "Querying from: https://api.pushshift.io/reddit/search/submission?subreddit=diabetes_t1&size=500&after=72d\n",
      "Querying from: https://api.pushshift.io/reddit/search/submission?subreddit=diabetes_t1&size=500&after=73d\n",
      "Querying from: https://api.pushshift.io/reddit/search/submission?subreddit=diabetes_t1&size=500&after=74d\n",
      "Querying from: https://api.pushshift.io/reddit/search/submission?subreddit=diabetes_t1&size=500&after=75d\n",
      "Querying from: https://api.pushshift.io/reddit/search/submission?subreddit=diabetes_t1&size=500&after=76d\n",
      "Querying from: https://api.pushshift.io/reddit/search/submission?subreddit=diabetes_t1&size=500&after=77d\n",
      "Querying from: https://api.pushshift.io/reddit/search/submission?subreddit=diabetes_t1&size=500&after=78d\n"
     ]
    },
    {
     "name": "stdout",
     "output_type": "stream",
     "text": [
      "Querying from: https://api.pushshift.io/reddit/search/submission?subreddit=diabetes_t1&size=500&after=79d\n",
      "Querying from: https://api.pushshift.io/reddit/search/submission?subreddit=diabetes_t1&size=500&after=80d\n",
      "Querying from: https://api.pushshift.io/reddit/search/submission?subreddit=diabetes_t1&size=500&after=81d\n",
      "Querying from: https://api.pushshift.io/reddit/search/submission?subreddit=diabetes_t1&size=500&after=82d\n",
      "Querying from: https://api.pushshift.io/reddit/search/submission?subreddit=diabetes_t1&size=500&after=83d\n",
      "Querying from: https://api.pushshift.io/reddit/search/submission?subreddit=diabetes_t1&size=500&after=84d\n",
      "Querying from: https://api.pushshift.io/reddit/search/submission?subreddit=diabetes_t1&size=500&after=85d\n",
      "Querying from: https://api.pushshift.io/reddit/search/submission?subreddit=diabetes_t1&size=500&after=86d\n",
      "Querying from: https://api.pushshift.io/reddit/search/submission?subreddit=diabetes_t1&size=500&after=87d\n",
      "Querying from: https://api.pushshift.io/reddit/search/submission?subreddit=diabetes_t1&size=500&after=88d\n",
      "Querying from: https://api.pushshift.io/reddit/search/submission?subreddit=diabetes_t1&size=500&after=89d\n",
      "Querying from: https://api.pushshift.io/reddit/search/submission?subreddit=diabetes_t1&size=500&after=90d\n",
      "Querying from: https://api.pushshift.io/reddit/search/submission?subreddit=diabetes_t1&size=500&after=91d\n",
      "Querying from: https://api.pushshift.io/reddit/search/submission?subreddit=diabetes_t1&size=500&after=92d\n",
      "Querying from: https://api.pushshift.io/reddit/search/submission?subreddit=diabetes_t1&size=500&after=93d\n",
      "Querying from: https://api.pushshift.io/reddit/search/submission?subreddit=diabetes_t1&size=500&after=94d\n",
      "Querying from: https://api.pushshift.io/reddit/search/submission?subreddit=diabetes_t1&size=500&after=95d\n",
      "Querying from: https://api.pushshift.io/reddit/search/submission?subreddit=diabetes_t1&size=500&after=96d\n",
      "Querying from: https://api.pushshift.io/reddit/search/submission?subreddit=diabetes_t1&size=500&after=97d\n",
      "Querying from: https://api.pushshift.io/reddit/search/submission?subreddit=diabetes_t1&size=500&after=98d\n",
      "Querying from: https://api.pushshift.io/reddit/search/submission?subreddit=diabetes_t1&size=500&after=99d\n",
      "Querying from: https://api.pushshift.io/reddit/search/submission?subreddit=diabetes_t1&size=500&after=100d\n",
      "Querying from: https://api.pushshift.io/reddit/search/submission?subreddit=diabetes_t1&size=500&after=101d\n",
      "Querying from: https://api.pushshift.io/reddit/search/submission?subreddit=diabetes_t1&size=500&after=102d\n",
      "Querying from: https://api.pushshift.io/reddit/search/submission?subreddit=diabetes_t1&size=500&after=103d\n",
      "Querying from: https://api.pushshift.io/reddit/search/submission?subreddit=diabetes_t1&size=500&after=104d\n",
      "Querying from: https://api.pushshift.io/reddit/search/submission?subreddit=diabetes_t1&size=500&after=105d\n",
      "Querying from: https://api.pushshift.io/reddit/search/submission?subreddit=diabetes_t1&size=500&after=106d\n",
      "Querying from: https://api.pushshift.io/reddit/search/submission?subreddit=diabetes_t1&size=500&after=107d\n",
      "Querying from: https://api.pushshift.io/reddit/search/submission?subreddit=diabetes_t1&size=500&after=108d\n",
      "Querying from: https://api.pushshift.io/reddit/search/submission?subreddit=diabetes_t1&size=500&after=109d\n",
      "Querying from: https://api.pushshift.io/reddit/search/submission?subreddit=diabetes_t1&size=500&after=110d\n",
      "Querying from: https://api.pushshift.io/reddit/search/submission?subreddit=diabetes_t1&size=500&after=111d\n",
      "Querying from: https://api.pushshift.io/reddit/search/submission?subreddit=diabetes_t1&size=500&after=112d\n",
      "Querying from: https://api.pushshift.io/reddit/search/submission?subreddit=diabetes_t1&size=500&after=113d\n",
      "Querying from: https://api.pushshift.io/reddit/search/submission?subreddit=diabetes_t1&size=500&after=114d\n",
      "Querying from: https://api.pushshift.io/reddit/search/submission?subreddit=diabetes_t1&size=500&after=115d\n",
      "Querying from: https://api.pushshift.io/reddit/search/submission?subreddit=diabetes_t1&size=500&after=116d\n",
      "Querying from: https://api.pushshift.io/reddit/search/submission?subreddit=diabetes_t1&size=500&after=117d\n",
      "Querying from: https://api.pushshift.io/reddit/search/submission?subreddit=diabetes_t1&size=500&after=118d\n",
      "Querying from: https://api.pushshift.io/reddit/search/submission?subreddit=diabetes_t1&size=500&after=119d\n",
      "Querying from: https://api.pushshift.io/reddit/search/submission?subreddit=diabetes_t1&size=500&after=120d\n",
      "Querying from: https://api.pushshift.io/reddit/search/submission?subreddit=diabetes_t1&size=500&after=121d\n",
      "Querying from: https://api.pushshift.io/reddit/search/submission?subreddit=diabetes_t1&size=500&after=122d\n",
      "Querying from: https://api.pushshift.io/reddit/search/submission?subreddit=diabetes_t1&size=500&after=123d\n",
      "Querying from: https://api.pushshift.io/reddit/search/submission?subreddit=diabetes_t1&size=500&after=124d\n",
      "Querying from: https://api.pushshift.io/reddit/search/submission?subreddit=diabetes_t1&size=500&after=125d\n",
      "Querying from: https://api.pushshift.io/reddit/search/submission?subreddit=diabetes_t1&size=500&after=126d\n",
      "Querying from: https://api.pushshift.io/reddit/search/submission?subreddit=diabetes_t1&size=500&after=127d\n",
      "Querying from: https://api.pushshift.io/reddit/search/submission?subreddit=diabetes_t1&size=500&after=128d\n",
      "Querying from: https://api.pushshift.io/reddit/search/submission?subreddit=diabetes_t1&size=500&after=129d\n",
      "Querying from: https://api.pushshift.io/reddit/search/submission?subreddit=diabetes_t1&size=500&after=130d\n",
      "Querying from: https://api.pushshift.io/reddit/search/submission?subreddit=diabetes_t1&size=500&after=131d\n",
      "Querying from: https://api.pushshift.io/reddit/search/submission?subreddit=diabetes_t1&size=500&after=132d\n",
      "Querying from: https://api.pushshift.io/reddit/search/submission?subreddit=diabetes_t1&size=500&after=133d\n",
      "Querying from: https://api.pushshift.io/reddit/search/submission?subreddit=diabetes_t1&size=500&after=134d\n",
      "Querying from: https://api.pushshift.io/reddit/search/submission?subreddit=diabetes_t1&size=500&after=135d\n",
      "Querying from: https://api.pushshift.io/reddit/search/submission?subreddit=diabetes_t1&size=500&after=136d\n",
      "Querying from: https://api.pushshift.io/reddit/search/submission?subreddit=diabetes_t1&size=500&after=137d\n",
      "Querying from: https://api.pushshift.io/reddit/search/submission?subreddit=diabetes_t1&size=500&after=138d\n",
      "Querying from: https://api.pushshift.io/reddit/search/submission?subreddit=diabetes_t1&size=500&after=139d\n",
      "Querying from: https://api.pushshift.io/reddit/search/submission?subreddit=diabetes_t1&size=500&after=140d\n",
      "Querying from: https://api.pushshift.io/reddit/search/submission?subreddit=diabetes_t1&size=500&after=141d\n",
      "Querying from: https://api.pushshift.io/reddit/search/submission?subreddit=diabetes_t1&size=500&after=142d\n",
      "Querying from: https://api.pushshift.io/reddit/search/submission?subreddit=diabetes_t1&size=500&after=143d\n",
      "Querying from: https://api.pushshift.io/reddit/search/submission?subreddit=diabetes_t1&size=500&after=144d\n",
      "Querying from: https://api.pushshift.io/reddit/search/submission?subreddit=diabetes_t1&size=500&after=145d\n",
      "Querying from: https://api.pushshift.io/reddit/search/submission?subreddit=diabetes_t1&size=500&after=146d\n",
      "Querying from: https://api.pushshift.io/reddit/search/submission?subreddit=diabetes_t1&size=500&after=147d\n",
      "Querying from: https://api.pushshift.io/reddit/search/submission?subreddit=diabetes_t1&size=500&after=148d\n",
      "Querying from: https://api.pushshift.io/reddit/search/submission?subreddit=diabetes_t1&size=500&after=149d\n",
      "Querying from: https://api.pushshift.io/reddit/search/submission?subreddit=diabetes_t1&size=500&after=150d\n",
      "Querying from: https://api.pushshift.io/reddit/search/submission?subreddit=diabetes_t1&size=500&after=151d\n",
      "Querying from: https://api.pushshift.io/reddit/search/submission?subreddit=diabetes_t1&size=500&after=152d\n",
      "Querying from: https://api.pushshift.io/reddit/search/submission?subreddit=diabetes_t1&size=500&after=153d\n",
      "Querying from: https://api.pushshift.io/reddit/search/submission?subreddit=diabetes_t1&size=500&after=154d\n",
      "Querying from: https://api.pushshift.io/reddit/search/submission?subreddit=diabetes_t1&size=500&after=155d\n"
     ]
    },
    {
     "name": "stdout",
     "output_type": "stream",
     "text": [
      "Querying from: https://api.pushshift.io/reddit/search/submission?subreddit=diabetes_t1&size=500&after=156d\n",
      "Querying from: https://api.pushshift.io/reddit/search/submission?subreddit=diabetes_t1&size=500&after=157d\n",
      "Querying from: https://api.pushshift.io/reddit/search/submission?subreddit=diabetes_t1&size=500&after=158d\n",
      "Querying from: https://api.pushshift.io/reddit/search/submission?subreddit=diabetes_t1&size=500&after=159d\n",
      "Querying from: https://api.pushshift.io/reddit/search/submission?subreddit=diabetes_t1&size=500&after=160d\n",
      "Querying from: https://api.pushshift.io/reddit/search/submission?subreddit=diabetes_t1&size=500&after=161d\n",
      "Querying from: https://api.pushshift.io/reddit/search/submission?subreddit=diabetes_t1&size=500&after=162d\n",
      "Querying from: https://api.pushshift.io/reddit/search/submission?subreddit=diabetes_t1&size=500&after=163d\n",
      "Querying from: https://api.pushshift.io/reddit/search/submission?subreddit=diabetes_t1&size=500&after=164d\n",
      "Querying from: https://api.pushshift.io/reddit/search/submission?subreddit=diabetes_t1&size=500&after=165d\n",
      "Querying from: https://api.pushshift.io/reddit/search/submission?subreddit=diabetes_t1&size=500&after=166d\n",
      "Querying from: https://api.pushshift.io/reddit/search/submission?subreddit=diabetes_t1&size=500&after=167d\n",
      "Querying from: https://api.pushshift.io/reddit/search/submission?subreddit=diabetes_t1&size=500&after=168d\n",
      "Querying from: https://api.pushshift.io/reddit/search/submission?subreddit=diabetes_t1&size=500&after=169d\n",
      "Querying from: https://api.pushshift.io/reddit/search/submission?subreddit=diabetes_t1&size=500&after=170d\n",
      "Querying from: https://api.pushshift.io/reddit/search/submission?subreddit=diabetes_t1&size=500&after=171d\n",
      "Querying from: https://api.pushshift.io/reddit/search/submission?subreddit=diabetes_t1&size=500&after=172d\n",
      "Querying from: https://api.pushshift.io/reddit/search/submission?subreddit=diabetes_t1&size=500&after=173d\n",
      "Querying from: https://api.pushshift.io/reddit/search/submission?subreddit=diabetes_t1&size=500&after=174d\n",
      "Querying from: https://api.pushshift.io/reddit/search/submission?subreddit=diabetes_t1&size=500&after=175d\n",
      "Querying from: https://api.pushshift.io/reddit/search/submission?subreddit=diabetes_t1&size=500&after=176d\n",
      "Querying from: https://api.pushshift.io/reddit/search/submission?subreddit=diabetes_t1&size=500&after=177d\n",
      "Querying from: https://api.pushshift.io/reddit/search/submission?subreddit=diabetes_t1&size=500&after=178d\n",
      "Querying from: https://api.pushshift.io/reddit/search/submission?subreddit=diabetes_t1&size=500&after=179d\n",
      "Querying from: https://api.pushshift.io/reddit/search/submission?subreddit=diabetes_t1&size=500&after=180d\n",
      "Querying from: https://api.pushshift.io/reddit/search/submission?subreddit=diabetes_t1&size=500&after=181d\n",
      "Querying from: https://api.pushshift.io/reddit/search/submission?subreddit=diabetes_t1&size=500&after=182d\n",
      "Querying from: https://api.pushshift.io/reddit/search/submission?subreddit=diabetes_t1&size=500&after=183d\n",
      "Querying from: https://api.pushshift.io/reddit/search/submission?subreddit=diabetes_t1&size=500&after=184d\n",
      "Querying from: https://api.pushshift.io/reddit/search/submission?subreddit=diabetes_t1&size=500&after=185d\n",
      "Querying from: https://api.pushshift.io/reddit/search/submission?subreddit=diabetes_t1&size=500&after=186d\n",
      "Querying from: https://api.pushshift.io/reddit/search/submission?subreddit=diabetes_t1&size=500&after=187d\n",
      "Querying from: https://api.pushshift.io/reddit/search/submission?subreddit=diabetes_t1&size=500&after=188d\n",
      "Querying from: https://api.pushshift.io/reddit/search/submission?subreddit=diabetes_t1&size=500&after=189d\n",
      "Querying from: https://api.pushshift.io/reddit/search/submission?subreddit=diabetes_t1&size=500&after=190d\n",
      "Querying from: https://api.pushshift.io/reddit/search/submission?subreddit=diabetes_t1&size=500&after=191d\n",
      "Querying from: https://api.pushshift.io/reddit/search/submission?subreddit=diabetes_t1&size=500&after=192d\n",
      "Querying from: https://api.pushshift.io/reddit/search/submission?subreddit=diabetes_t1&size=500&after=193d\n",
      "Querying from: https://api.pushshift.io/reddit/search/submission?subreddit=diabetes_t1&size=500&after=194d\n",
      "Querying from: https://api.pushshift.io/reddit/search/submission?subreddit=diabetes_t1&size=500&after=195d\n",
      "Querying from: https://api.pushshift.io/reddit/search/submission?subreddit=diabetes_t1&size=500&after=196d\n",
      "Querying from: https://api.pushshift.io/reddit/search/submission?subreddit=diabetes_t1&size=500&after=197d\n",
      "Querying from: https://api.pushshift.io/reddit/search/submission?subreddit=diabetes_t1&size=500&after=198d\n",
      "Querying from: https://api.pushshift.io/reddit/search/submission?subreddit=diabetes_t1&size=500&after=199d\n",
      "Querying from: https://api.pushshift.io/reddit/search/submission?subreddit=diabetes_t1&size=500&after=200d\n",
      "Querying from: https://api.pushshift.io/reddit/search/submission?subreddit=diabetes_t1&size=500&after=201d\n",
      "Querying from: https://api.pushshift.io/reddit/search/submission?subreddit=diabetes_t1&size=500&after=202d\n",
      "Querying from: https://api.pushshift.io/reddit/search/submission?subreddit=diabetes_t1&size=500&after=203d\n",
      "Querying from: https://api.pushshift.io/reddit/search/submission?subreddit=diabetes_t1&size=500&after=204d\n",
      "Querying from: https://api.pushshift.io/reddit/search/submission?subreddit=diabetes_t1&size=500&after=205d\n",
      "Querying from: https://api.pushshift.io/reddit/search/submission?subreddit=diabetes_t1&size=500&after=206d\n",
      "Querying from: https://api.pushshift.io/reddit/search/submission?subreddit=diabetes_t1&size=500&after=207d\n",
      "Querying from: https://api.pushshift.io/reddit/search/submission?subreddit=diabetes_t1&size=500&after=208d\n",
      "Querying from: https://api.pushshift.io/reddit/search/submission?subreddit=diabetes_t1&size=500&after=209d\n",
      "Querying from: https://api.pushshift.io/reddit/search/submission?subreddit=diabetes_t1&size=500&after=210d\n",
      "Querying from: https://api.pushshift.io/reddit/search/submission?subreddit=diabetes_t1&size=500&after=211d\n",
      "Querying from: https://api.pushshift.io/reddit/search/submission?subreddit=diabetes_t1&size=500&after=212d\n",
      "Querying from: https://api.pushshift.io/reddit/search/submission?subreddit=diabetes_t1&size=500&after=213d\n",
      "Querying from: https://api.pushshift.io/reddit/search/submission?subreddit=diabetes_t1&size=500&after=214d\n",
      "Querying from: https://api.pushshift.io/reddit/search/submission?subreddit=diabetes_t1&size=500&after=215d\n",
      "Querying from: https://api.pushshift.io/reddit/search/submission?subreddit=diabetes_t1&size=500&after=216d\n",
      "Querying from: https://api.pushshift.io/reddit/search/submission?subreddit=diabetes_t1&size=500&after=217d\n",
      "Querying from: https://api.pushshift.io/reddit/search/submission?subreddit=diabetes_t1&size=500&after=218d\n",
      "Querying from: https://api.pushshift.io/reddit/search/submission?subreddit=diabetes_t1&size=500&after=219d\n",
      "Querying from: https://api.pushshift.io/reddit/search/submission?subreddit=diabetes_t1&size=500&after=220d\n",
      "Querying from: https://api.pushshift.io/reddit/search/submission?subreddit=diabetes_t1&size=500&after=221d\n",
      "Querying from: https://api.pushshift.io/reddit/search/submission?subreddit=diabetes_t1&size=500&after=222d\n",
      "Querying from: https://api.pushshift.io/reddit/search/submission?subreddit=diabetes_t1&size=500&after=223d\n",
      "Querying from: https://api.pushshift.io/reddit/search/submission?subreddit=diabetes_t1&size=500&after=224d\n",
      "Querying from: https://api.pushshift.io/reddit/search/submission?subreddit=diabetes_t1&size=500&after=225d\n",
      "Querying from: https://api.pushshift.io/reddit/search/submission?subreddit=diabetes_t1&size=500&after=226d\n",
      "Querying from: https://api.pushshift.io/reddit/search/submission?subreddit=diabetes_t1&size=500&after=227d\n",
      "Querying from: https://api.pushshift.io/reddit/search/submission?subreddit=diabetes_t1&size=500&after=228d\n",
      "Querying from: https://api.pushshift.io/reddit/search/submission?subreddit=diabetes_t1&size=500&after=229d\n",
      "Querying from: https://api.pushshift.io/reddit/search/submission?subreddit=diabetes_t1&size=500&after=230d\n",
      "Querying from: https://api.pushshift.io/reddit/search/submission?subreddit=diabetes_t1&size=500&after=231d\n",
      "Querying from: https://api.pushshift.io/reddit/search/submission?subreddit=diabetes_t1&size=500&after=232d\n"
     ]
    },
    {
     "name": "stdout",
     "output_type": "stream",
     "text": [
      "Querying from: https://api.pushshift.io/reddit/search/submission?subreddit=diabetes_t1&size=500&after=233d\n",
      "Querying from: https://api.pushshift.io/reddit/search/submission?subreddit=diabetes_t1&size=500&after=234d\n",
      "Querying from: https://api.pushshift.io/reddit/search/submission?subreddit=diabetes_t1&size=500&after=235d\n",
      "Querying from: https://api.pushshift.io/reddit/search/submission?subreddit=diabetes_t1&size=500&after=236d\n",
      "Querying from: https://api.pushshift.io/reddit/search/submission?subreddit=diabetes_t1&size=500&after=237d\n",
      "Querying from: https://api.pushshift.io/reddit/search/submission?subreddit=diabetes_t1&size=500&after=238d\n",
      "Querying from: https://api.pushshift.io/reddit/search/submission?subreddit=diabetes_t1&size=500&after=239d\n",
      "Querying from: https://api.pushshift.io/reddit/search/submission?subreddit=diabetes_t1&size=500&after=240d\n",
      "Querying from: https://api.pushshift.io/reddit/search/submission?subreddit=diabetes_t1&size=500&after=241d\n",
      "Querying from: https://api.pushshift.io/reddit/search/submission?subreddit=diabetes_t1&size=500&after=242d\n",
      "Querying from: https://api.pushshift.io/reddit/search/submission?subreddit=diabetes_t1&size=500&after=243d\n",
      "Querying from: https://api.pushshift.io/reddit/search/submission?subreddit=diabetes_t1&size=500&after=244d\n",
      "Querying from: https://api.pushshift.io/reddit/search/submission?subreddit=diabetes_t1&size=500&after=245d\n",
      "Querying from: https://api.pushshift.io/reddit/search/submission?subreddit=diabetes_t1&size=500&after=246d\n",
      "Querying from: https://api.pushshift.io/reddit/search/submission?subreddit=diabetes_t1&size=500&after=247d\n",
      "Querying from: https://api.pushshift.io/reddit/search/submission?subreddit=diabetes_t1&size=500&after=248d\n",
      "Querying from: https://api.pushshift.io/reddit/search/submission?subreddit=diabetes_t1&size=500&after=249d\n",
      "Querying from: https://api.pushshift.io/reddit/search/submission?subreddit=diabetes_t1&size=500&after=250d\n",
      "Querying from: https://api.pushshift.io/reddit/search/submission?subreddit=diabetes_t1&size=500&after=251d\n",
      "Querying from: https://api.pushshift.io/reddit/search/submission?subreddit=diabetes_t1&size=500&after=252d\n",
      "Querying from: https://api.pushshift.io/reddit/search/submission?subreddit=diabetes_t1&size=500&after=253d\n",
      "Querying from: https://api.pushshift.io/reddit/search/submission?subreddit=diabetes_t1&size=500&after=254d\n",
      "Querying from: https://api.pushshift.io/reddit/search/submission?subreddit=diabetes_t1&size=500&after=255d\n",
      "Querying from: https://api.pushshift.io/reddit/search/submission?subreddit=diabetes_t1&size=500&after=256d\n",
      "Querying from: https://api.pushshift.io/reddit/search/submission?subreddit=diabetes_t1&size=500&after=257d\n",
      "Querying from: https://api.pushshift.io/reddit/search/submission?subreddit=diabetes_t1&size=500&after=258d\n",
      "Querying from: https://api.pushshift.io/reddit/search/submission?subreddit=diabetes_t1&size=500&after=259d\n",
      "Querying from: https://api.pushshift.io/reddit/search/submission?subreddit=diabetes_t1&size=500&after=260d\n",
      "Querying from: https://api.pushshift.io/reddit/search/submission?subreddit=diabetes_t1&size=500&after=261d\n",
      "Querying from: https://api.pushshift.io/reddit/search/submission?subreddit=diabetes_t1&size=500&after=262d\n",
      "Querying from: https://api.pushshift.io/reddit/search/submission?subreddit=diabetes_t1&size=500&after=263d\n",
      "Querying from: https://api.pushshift.io/reddit/search/submission?subreddit=diabetes_t1&size=500&after=264d\n",
      "Querying from: https://api.pushshift.io/reddit/search/submission?subreddit=diabetes_t1&size=500&after=265d\n",
      "Querying from: https://api.pushshift.io/reddit/search/submission?subreddit=diabetes_t1&size=500&after=266d\n",
      "Querying from: https://api.pushshift.io/reddit/search/submission?subreddit=diabetes_t1&size=500&after=267d\n",
      "Querying from: https://api.pushshift.io/reddit/search/submission?subreddit=diabetes_t1&size=500&after=268d\n",
      "Querying from: https://api.pushshift.io/reddit/search/submission?subreddit=diabetes_t1&size=500&after=269d\n",
      "Querying from: https://api.pushshift.io/reddit/search/submission?subreddit=diabetes_t1&size=500&after=270d\n",
      "Querying from: https://api.pushshift.io/reddit/search/submission?subreddit=diabetes_t1&size=500&after=271d\n",
      "Querying from: https://api.pushshift.io/reddit/search/submission?subreddit=diabetes_t1&size=500&after=272d\n",
      "Querying from: https://api.pushshift.io/reddit/search/submission?subreddit=diabetes_t1&size=500&after=273d\n",
      "Querying from: https://api.pushshift.io/reddit/search/submission?subreddit=diabetes_t1&size=500&after=274d\n",
      "Querying from: https://api.pushshift.io/reddit/search/submission?subreddit=diabetes_t1&size=500&after=275d\n",
      "Querying from: https://api.pushshift.io/reddit/search/submission?subreddit=diabetes_t1&size=500&after=276d\n",
      "Querying from: https://api.pushshift.io/reddit/search/submission?subreddit=diabetes_t1&size=500&after=277d\n",
      "Querying from: https://api.pushshift.io/reddit/search/submission?subreddit=diabetes_t1&size=500&after=278d\n",
      "Querying from: https://api.pushshift.io/reddit/search/submission?subreddit=diabetes_t1&size=500&after=279d\n",
      "Querying from: https://api.pushshift.io/reddit/search/submission?subreddit=diabetes_t1&size=500&after=280d\n",
      "Querying from: https://api.pushshift.io/reddit/search/submission?subreddit=diabetes_t1&size=500&after=281d\n",
      "Querying from: https://api.pushshift.io/reddit/search/submission?subreddit=diabetes_t1&size=500&after=282d\n",
      "Querying from: https://api.pushshift.io/reddit/search/submission?subreddit=diabetes_t1&size=500&after=283d\n",
      "Querying from: https://api.pushshift.io/reddit/search/submission?subreddit=diabetes_t1&size=500&after=284d\n",
      "Querying from: https://api.pushshift.io/reddit/search/submission?subreddit=diabetes_t1&size=500&after=285d\n",
      "Querying from: https://api.pushshift.io/reddit/search/submission?subreddit=diabetes_t1&size=500&after=286d\n",
      "Querying from: https://api.pushshift.io/reddit/search/submission?subreddit=diabetes_t1&size=500&after=287d\n",
      "Querying from: https://api.pushshift.io/reddit/search/submission?subreddit=diabetes_t1&size=500&after=288d\n",
      "Querying from: https://api.pushshift.io/reddit/search/submission?subreddit=diabetes_t1&size=500&after=289d\n",
      "Querying from: https://api.pushshift.io/reddit/search/submission?subreddit=diabetes_t1&size=500&after=290d\n",
      "Querying from: https://api.pushshift.io/reddit/search/submission?subreddit=diabetes_t1&size=500&after=291d\n",
      "Querying from: https://api.pushshift.io/reddit/search/submission?subreddit=diabetes_t1&size=500&after=292d\n",
      "Querying from: https://api.pushshift.io/reddit/search/submission?subreddit=diabetes_t1&size=500&after=293d\n",
      "Querying from: https://api.pushshift.io/reddit/search/submission?subreddit=diabetes_t1&size=500&after=294d\n",
      "Querying from: https://api.pushshift.io/reddit/search/submission?subreddit=diabetes_t1&size=500&after=295d\n",
      "Querying from: https://api.pushshift.io/reddit/search/submission?subreddit=diabetes_t1&size=500&after=296d\n",
      "Querying from: https://api.pushshift.io/reddit/search/submission?subreddit=diabetes_t1&size=500&after=297d\n",
      "Querying from: https://api.pushshift.io/reddit/search/submission?subreddit=diabetes_t1&size=500&after=298d\n",
      "Querying from: https://api.pushshift.io/reddit/search/submission?subreddit=diabetes_t1&size=500&after=299d\n",
      "Querying from: https://api.pushshift.io/reddit/search/submission?subreddit=diabetes_t1&size=500&after=300d\n",
      "Querying from: https://api.pushshift.io/reddit/search/submission?subreddit=diabetes_t1&size=500&after=301d\n",
      "Querying from: https://api.pushshift.io/reddit/search/submission?subreddit=diabetes_t1&size=500&after=302d\n",
      "Querying from: https://api.pushshift.io/reddit/search/submission?subreddit=diabetes_t1&size=500&after=303d\n",
      "Querying from: https://api.pushshift.io/reddit/search/submission?subreddit=diabetes_t1&size=500&after=304d\n",
      "Querying from: https://api.pushshift.io/reddit/search/submission?subreddit=diabetes_t1&size=500&after=305d\n",
      "Querying from: https://api.pushshift.io/reddit/search/submission?subreddit=diabetes_t1&size=500&after=306d\n",
      "Querying from: https://api.pushshift.io/reddit/search/submission?subreddit=diabetes_t1&size=500&after=307d\n",
      "Querying from: https://api.pushshift.io/reddit/search/submission?subreddit=diabetes_t1&size=500&after=308d\n",
      "Querying from: https://api.pushshift.io/reddit/search/submission?subreddit=diabetes_t1&size=500&after=309d\n"
     ]
    },
    {
     "name": "stdout",
     "output_type": "stream",
     "text": [
      "Querying from: https://api.pushshift.io/reddit/search/submission?subreddit=diabetes_t1&size=500&after=310d\n",
      "Querying from: https://api.pushshift.io/reddit/search/submission?subreddit=diabetes_t1&size=500&after=311d\n",
      "Querying from: https://api.pushshift.io/reddit/search/submission?subreddit=diabetes_t1&size=500&after=312d\n",
      "Querying from: https://api.pushshift.io/reddit/search/submission?subreddit=diabetes_t1&size=500&after=313d\n",
      "Querying from: https://api.pushshift.io/reddit/search/submission?subreddit=diabetes_t1&size=500&after=314d\n",
      "Querying from: https://api.pushshift.io/reddit/search/submission?subreddit=diabetes_t1&size=500&after=315d\n",
      "Querying from: https://api.pushshift.io/reddit/search/submission?subreddit=diabetes_t1&size=500&after=316d\n",
      "Querying from: https://api.pushshift.io/reddit/search/submission?subreddit=diabetes_t1&size=500&after=317d\n",
      "Querying from: https://api.pushshift.io/reddit/search/submission?subreddit=diabetes_t1&size=500&after=318d\n",
      "Querying from: https://api.pushshift.io/reddit/search/submission?subreddit=diabetes_t1&size=500&after=319d\n",
      "Querying from: https://api.pushshift.io/reddit/search/submission?subreddit=diabetes_t1&size=500&after=320d\n",
      "Querying from: https://api.pushshift.io/reddit/search/submission?subreddit=diabetes_t1&size=500&after=321d\n",
      "Querying from: https://api.pushshift.io/reddit/search/submission?subreddit=diabetes_t1&size=500&after=322d\n",
      "Querying from: https://api.pushshift.io/reddit/search/submission?subreddit=diabetes_t1&size=500&after=323d\n",
      "Querying from: https://api.pushshift.io/reddit/search/submission?subreddit=diabetes_t1&size=500&after=324d\n",
      "Querying from: https://api.pushshift.io/reddit/search/submission?subreddit=diabetes_t1&size=500&after=325d\n",
      "Querying from: https://api.pushshift.io/reddit/search/submission?subreddit=diabetes_t1&size=500&after=326d\n",
      "Querying from: https://api.pushshift.io/reddit/search/submission?subreddit=diabetes_t1&size=500&after=327d\n",
      "Querying from: https://api.pushshift.io/reddit/search/submission?subreddit=diabetes_t1&size=500&after=328d\n",
      "Querying from: https://api.pushshift.io/reddit/search/submission?subreddit=diabetes_t1&size=500&after=329d\n",
      "Querying from: https://api.pushshift.io/reddit/search/submission?subreddit=diabetes_t1&size=500&after=330d\n",
      "Querying from: https://api.pushshift.io/reddit/search/submission?subreddit=diabetes_t1&size=500&after=331d\n",
      "Querying from: https://api.pushshift.io/reddit/search/submission?subreddit=diabetes_t1&size=500&after=332d\n",
      "Querying from: https://api.pushshift.io/reddit/search/submission?subreddit=diabetes_t1&size=500&after=333d\n",
      "Querying from: https://api.pushshift.io/reddit/search/submission?subreddit=diabetes_t1&size=500&after=334d\n",
      "Querying from: https://api.pushshift.io/reddit/search/submission?subreddit=diabetes_t1&size=500&after=335d\n",
      "Querying from: https://api.pushshift.io/reddit/search/submission?subreddit=diabetes_t1&size=500&after=336d\n",
      "Querying from: https://api.pushshift.io/reddit/search/submission?subreddit=diabetes_t1&size=500&after=337d\n",
      "Querying from: https://api.pushshift.io/reddit/search/submission?subreddit=diabetes_t1&size=500&after=338d\n",
      "Querying from: https://api.pushshift.io/reddit/search/submission?subreddit=diabetes_t1&size=500&after=339d\n",
      "Querying from: https://api.pushshift.io/reddit/search/submission?subreddit=diabetes_t1&size=500&after=340d\n",
      "Querying from: https://api.pushshift.io/reddit/search/submission?subreddit=diabetes_t1&size=500&after=341d\n",
      "Querying from: https://api.pushshift.io/reddit/search/submission?subreddit=diabetes_t1&size=500&after=342d\n",
      "Querying from: https://api.pushshift.io/reddit/search/submission?subreddit=diabetes_t1&size=500&after=343d\n",
      "Querying from: https://api.pushshift.io/reddit/search/submission?subreddit=diabetes_t1&size=500&after=344d\n",
      "Querying from: https://api.pushshift.io/reddit/search/submission?subreddit=diabetes_t1&size=500&after=345d\n",
      "Querying from: https://api.pushshift.io/reddit/search/submission?subreddit=diabetes_t1&size=500&after=346d\n",
      "Querying from: https://api.pushshift.io/reddit/search/submission?subreddit=diabetes_t1&size=500&after=347d\n",
      "Querying from: https://api.pushshift.io/reddit/search/submission?subreddit=diabetes_t1&size=500&after=348d\n",
      "Querying from: https://api.pushshift.io/reddit/search/submission?subreddit=diabetes_t1&size=500&after=349d\n",
      "Querying from: https://api.pushshift.io/reddit/search/submission?subreddit=diabetes_t1&size=500&after=350d\n",
      "Query Complete!\n"
     ]
    }
   ],
   "source": [
    "results = query_pushshift('diabetes_t1')"
   ]
  },
  {
   "cell_type": "code",
   "execution_count": 9,
   "metadata": {},
   "outputs": [],
   "source": [
    "results_diabetes_t1 = results"
   ]
  },
  {
   "cell_type": "markdown",
   "metadata": {},
   "source": [
    "We obtain 4463 posts from the 100 days we querried:"
   ]
  },
  {
   "cell_type": "code",
   "execution_count": 10,
   "metadata": {},
   "outputs": [
    {
     "data": {
      "text/plain": [
       "(4463, 9)"
      ]
     },
     "execution_count": 10,
     "metadata": {},
     "output_type": "execute_result"
    }
   ],
   "source": [
    "results_diabetes_t1.shape"
   ]
  },
  {
   "cell_type": "markdown",
   "metadata": {},
   "source": [
    "We verify and remove the duplicates from our data:"
   ]
  },
  {
   "cell_type": "code",
   "execution_count": 11,
   "metadata": {},
   "outputs": [],
   "source": [
    "results_diabetes_t1 = results.drop_duplicates()"
   ]
  },
  {
   "cell_type": "code",
   "execution_count": 12,
   "metadata": {},
   "outputs": [
    {
     "data": {
      "text/plain": [
       "(4463, 9)"
      ]
     },
     "execution_count": 12,
     "metadata": {},
     "output_type": "execute_result"
    }
   ],
   "source": [
    "results_diabetes_t1.shape"
   ]
  },
  {
   "cell_type": "markdown",
   "metadata": {},
   "source": [
    "We export our data in csv format:"
   ]
  },
  {
   "cell_type": "code",
   "execution_count": 13,
   "metadata": {},
   "outputs": [],
   "source": [
    "results_diabetes_t1.to_csv('diabetes_t1.csv', index = False)"
   ]
  },
  {
   "cell_type": "code",
   "execution_count": 14,
   "metadata": {},
   "outputs": [],
   "source": [
    "t1 = pd.read_csv('diabetes_t1.csv')"
   ]
  },
  {
   "cell_type": "code",
   "execution_count": 15,
   "metadata": {},
   "outputs": [
    {
     "data": {
      "text/plain": [
       "(4463, 9)"
      ]
     },
     "execution_count": 15,
     "metadata": {},
     "output_type": "execute_result"
    }
   ],
   "source": [
    "t1.shape"
   ]
  },
  {
   "cell_type": "markdown",
   "metadata": {},
   "source": [
    "We verify that the data can be imported with no issues, and we check it's top 5 rows:"
   ]
  },
  {
   "cell_type": "code",
   "execution_count": 16,
   "metadata": {},
   "outputs": [
    {
     "data": {
      "text/plain": [
       "title             0\n",
       "selftext        180\n",
       "subreddit         0\n",
       "created_utc       0\n",
       "author            0\n",
       "num_comments      0\n",
       "score             0\n",
       "is_self           0\n",
       "timestamp         0\n",
       "dtype: int64"
      ]
     },
     "execution_count": 16,
     "metadata": {},
     "output_type": "execute_result"
    }
   ],
   "source": [
    "t1.isnull().sum()"
   ]
  },
  {
   "cell_type": "code",
   "execution_count": 17,
   "metadata": {},
   "outputs": [
    {
     "data": {
      "text/html": [
       "<div>\n",
       "<style scoped>\n",
       "    .dataframe tbody tr th:only-of-type {\n",
       "        vertical-align: middle;\n",
       "    }\n",
       "\n",
       "    .dataframe tbody tr th {\n",
       "        vertical-align: top;\n",
       "    }\n",
       "\n",
       "    .dataframe thead th {\n",
       "        text-align: right;\n",
       "    }\n",
       "</style>\n",
       "<table border=\"1\" class=\"dataframe\">\n",
       "  <thead>\n",
       "    <tr style=\"text-align: right;\">\n",
       "      <th></th>\n",
       "      <th>title</th>\n",
       "      <th>selftext</th>\n",
       "      <th>subreddit</th>\n",
       "      <th>created_utc</th>\n",
       "      <th>author</th>\n",
       "      <th>num_comments</th>\n",
       "      <th>score</th>\n",
       "      <th>is_self</th>\n",
       "      <th>timestamp</th>\n",
       "    </tr>\n",
       "  </thead>\n",
       "  <tbody>\n",
       "    <tr>\n",
       "      <th>0</th>\n",
       "      <td>Parents with T1D kids on low carb diet. Any im...</td>\n",
       "      <td>Hi all. My son (7) is t1d and is on a low carb...</td>\n",
       "      <td>diabetes_t1</td>\n",
       "      <td>1582052715</td>\n",
       "      <td>midnightcaller</td>\n",
       "      <td>4</td>\n",
       "      <td>1</td>\n",
       "      <td>True</td>\n",
       "      <td>2020-02-18</td>\n",
       "    </tr>\n",
       "    <tr>\n",
       "      <th>1</th>\n",
       "      <td>HBA1C results (2 months since diagnosis)</td>\n",
       "      <td>Diagnosed with type 1 mid December 2019, admit...</td>\n",
       "      <td>diabetes_t1</td>\n",
       "      <td>1582054702</td>\n",
       "      <td>snazehhh</td>\n",
       "      <td>1</td>\n",
       "      <td>1</td>\n",
       "      <td>True</td>\n",
       "      <td>2020-02-18</td>\n",
       "    </tr>\n",
       "    <tr>\n",
       "      <th>2</th>\n",
       "      <td>Type 1 diabetes and mood swings</td>\n",
       "      <td>Does anyone here feel that their diabetes can ...</td>\n",
       "      <td>diabetes_t1</td>\n",
       "      <td>1582057153</td>\n",
       "      <td>b-lavender</td>\n",
       "      <td>5</td>\n",
       "      <td>1</td>\n",
       "      <td>True</td>\n",
       "      <td>2020-02-18</td>\n",
       "    </tr>\n",
       "    <tr>\n",
       "      <th>3</th>\n",
       "      <td>Bes countries to live in being diabetic</td>\n",
       "      <td>hello, I wanted to know which are the best cou...</td>\n",
       "      <td>diabetes_t1</td>\n",
       "      <td>1582062986</td>\n",
       "      <td>tiagob94</td>\n",
       "      <td>0</td>\n",
       "      <td>1</td>\n",
       "      <td>True</td>\n",
       "      <td>2020-02-18</td>\n",
       "    </tr>\n",
       "    <tr>\n",
       "      <th>4</th>\n",
       "      <td>Best countries to live in being diabetic</td>\n",
       "      <td>hello, I wanted to know which are the best cou...</td>\n",
       "      <td>diabetes_t1</td>\n",
       "      <td>1582063056</td>\n",
       "      <td>tiagob94</td>\n",
       "      <td>0</td>\n",
       "      <td>1</td>\n",
       "      <td>True</td>\n",
       "      <td>2020-02-18</td>\n",
       "    </tr>\n",
       "  </tbody>\n",
       "</table>\n",
       "</div>"
      ],
      "text/plain": [
       "                                               title  \\\n",
       "0  Parents with T1D kids on low carb diet. Any im...   \n",
       "1           HBA1C results (2 months since diagnosis)   \n",
       "2                    Type 1 diabetes and mood swings   \n",
       "3            Bes countries to live in being diabetic   \n",
       "4           Best countries to live in being diabetic   \n",
       "\n",
       "                                            selftext    subreddit  \\\n",
       "0  Hi all. My son (7) is t1d and is on a low carb...  diabetes_t1   \n",
       "1  Diagnosed with type 1 mid December 2019, admit...  diabetes_t1   \n",
       "2  Does anyone here feel that their diabetes can ...  diabetes_t1   \n",
       "3  hello, I wanted to know which are the best cou...  diabetes_t1   \n",
       "4  hello, I wanted to know which are the best cou...  diabetes_t1   \n",
       "\n",
       "   created_utc          author  num_comments  score  is_self   timestamp  \n",
       "0   1582052715  midnightcaller             4      1     True  2020-02-18  \n",
       "1   1582054702        snazehhh             1      1     True  2020-02-18  \n",
       "2   1582057153      b-lavender             5      1     True  2020-02-18  \n",
       "3   1582062986        tiagob94             0      1     True  2020-02-18  \n",
       "4   1582063056        tiagob94             0      1     True  2020-02-18  "
      ]
     },
     "execution_count": 17,
     "metadata": {},
     "output_type": "execute_result"
    }
   ],
   "source": [
    "t1.head()"
   ]
  },
  {
   "cell_type": "code",
   "execution_count": null,
   "metadata": {},
   "outputs": [],
   "source": []
  }
 ],
 "metadata": {
  "kernelspec": {
   "display_name": "Python 3",
   "language": "python",
   "name": "python3"
  },
  "language_info": {
   "codemirror_mode": {
    "name": "ipython",
    "version": 3
   },
   "file_extension": ".py",
   "mimetype": "text/x-python",
   "name": "python",
   "nbconvert_exporter": "python",
   "pygments_lexer": "ipython3",
   "version": "3.7.5"
  }
 },
 "nbformat": 4,
 "nbformat_minor": 2
}
