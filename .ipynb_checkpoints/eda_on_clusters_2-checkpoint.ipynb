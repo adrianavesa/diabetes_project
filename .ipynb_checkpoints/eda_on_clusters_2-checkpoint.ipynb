{
 "cells": [
  {
   "cell_type": "code",
   "execution_count": 16,
   "metadata": {},
   "outputs": [],
   "source": [
    "import pandas as pd\n",
    "from nltk.tokenize import RegexpTokenizer\n",
    "\n",
    "\n",
    "from nltk.tokenize import RegexpTokenizer\n",
    "from nltk.stem import WordNetLemmatizer\n",
    "from sklearn.feature_extraction.stop_words import ENGLISH_STOP_WORDS as stopwords\n",
    "from sklearn.feature_extraction.text import CountVectorizer, TfidfVectorizer\n",
    "from sklearn.linear_model import LogisticRegression\n",
    "from sklearn.pipeline import Pipeline\n",
    "from sklearn.model_selection import cross_val_score, train_test_split, GridSearchCV\n",
    "\n",
    "from nltk.stem.snowball import SnowballStemmer"
   ]
  },
  {
   "cell_type": "code",
   "execution_count": 17,
   "metadata": {},
   "outputs": [],
   "source": [
    "t1 = pd.read_csv('t1_w_clusters.csv')"
   ]
  },
  {
   "cell_type": "code",
   "execution_count": 18,
   "metadata": {},
   "outputs": [
    {
     "data": {
      "text/html": [
       "<div>\n",
       "<style scoped>\n",
       "    .dataframe tbody tr th:only-of-type {\n",
       "        vertical-align: middle;\n",
       "    }\n",
       "\n",
       "    .dataframe tbody tr th {\n",
       "        vertical-align: top;\n",
       "    }\n",
       "\n",
       "    .dataframe thead th {\n",
       "        text-align: right;\n",
       "    }\n",
       "</style>\n",
       "<table border=\"1\" class=\"dataframe\">\n",
       "  <thead>\n",
       "    <tr style=\"text-align: right;\">\n",
       "      <th></th>\n",
       "      <th>title</th>\n",
       "      <th>selftext</th>\n",
       "      <th>subreddit</th>\n",
       "      <th>created_utc</th>\n",
       "      <th>author</th>\n",
       "      <th>num_comments</th>\n",
       "      <th>score</th>\n",
       "      <th>is_self</th>\n",
       "      <th>timestamp</th>\n",
       "      <th>all_text</th>\n",
       "      <th>new_text</th>\n",
       "      <th>text_ready_to_stem</th>\n",
       "    </tr>\n",
       "    <tr>\n",
       "      <th>clusters</th>\n",
       "      <th></th>\n",
       "      <th></th>\n",
       "      <th></th>\n",
       "      <th></th>\n",
       "      <th></th>\n",
       "      <th></th>\n",
       "      <th></th>\n",
       "      <th></th>\n",
       "      <th></th>\n",
       "      <th></th>\n",
       "      <th></th>\n",
       "      <th></th>\n",
       "    </tr>\n",
       "  </thead>\n",
       "  <tbody>\n",
       "    <tr>\n",
       "      <th>0</th>\n",
       "      <td>2187</td>\n",
       "      <td>2187</td>\n",
       "      <td>2187</td>\n",
       "      <td>2187</td>\n",
       "      <td>2187</td>\n",
       "      <td>2187</td>\n",
       "      <td>2187</td>\n",
       "      <td>2187</td>\n",
       "      <td>2187</td>\n",
       "      <td>2187</td>\n",
       "      <td>2187</td>\n",
       "      <td>2187</td>\n",
       "    </tr>\n",
       "    <tr>\n",
       "      <th>1</th>\n",
       "      <td>176</td>\n",
       "      <td>176</td>\n",
       "      <td>176</td>\n",
       "      <td>176</td>\n",
       "      <td>176</td>\n",
       "      <td>176</td>\n",
       "      <td>176</td>\n",
       "      <td>176</td>\n",
       "      <td>176</td>\n",
       "      <td>176</td>\n",
       "      <td>176</td>\n",
       "      <td>176</td>\n",
       "    </tr>\n",
       "    <tr>\n",
       "      <th>2</th>\n",
       "      <td>4</td>\n",
       "      <td>4</td>\n",
       "      <td>4</td>\n",
       "      <td>4</td>\n",
       "      <td>4</td>\n",
       "      <td>4</td>\n",
       "      <td>4</td>\n",
       "      <td>4</td>\n",
       "      <td>4</td>\n",
       "      <td>4</td>\n",
       "      <td>4</td>\n",
       "      <td>4</td>\n",
       "    </tr>\n",
       "    <tr>\n",
       "      <th>3</th>\n",
       "      <td>51</td>\n",
       "      <td>51</td>\n",
       "      <td>51</td>\n",
       "      <td>51</td>\n",
       "      <td>51</td>\n",
       "      <td>51</td>\n",
       "      <td>51</td>\n",
       "      <td>51</td>\n",
       "      <td>51</td>\n",
       "      <td>51</td>\n",
       "      <td>51</td>\n",
       "      <td>51</td>\n",
       "    </tr>\n",
       "    <tr>\n",
       "      <th>4</th>\n",
       "      <td>523</td>\n",
       "      <td>523</td>\n",
       "      <td>523</td>\n",
       "      <td>523</td>\n",
       "      <td>523</td>\n",
       "      <td>523</td>\n",
       "      <td>523</td>\n",
       "      <td>523</td>\n",
       "      <td>523</td>\n",
       "      <td>523</td>\n",
       "      <td>523</td>\n",
       "      <td>523</td>\n",
       "    </tr>\n",
       "    <tr>\n",
       "      <th>5</th>\n",
       "      <td>1342</td>\n",
       "      <td>1342</td>\n",
       "      <td>1342</td>\n",
       "      <td>1342</td>\n",
       "      <td>1342</td>\n",
       "      <td>1342</td>\n",
       "      <td>1342</td>\n",
       "      <td>1342</td>\n",
       "      <td>1342</td>\n",
       "      <td>1342</td>\n",
       "      <td>1342</td>\n",
       "      <td>1342</td>\n",
       "    </tr>\n",
       "  </tbody>\n",
       "</table>\n",
       "</div>"
      ],
      "text/plain": [
       "          title  selftext  subreddit  created_utc  author  num_comments  \\\n",
       "clusters                                                                  \n",
       "0          2187      2187       2187         2187    2187          2187   \n",
       "1           176       176        176          176     176           176   \n",
       "2             4         4          4            4       4             4   \n",
       "3            51        51         51           51      51            51   \n",
       "4           523       523        523          523     523           523   \n",
       "5          1342      1342       1342         1342    1342          1342   \n",
       "\n",
       "          score  is_self  timestamp  all_text  new_text  text_ready_to_stem  \n",
       "clusters                                                                     \n",
       "0          2187     2187       2187      2187      2187                2187  \n",
       "1           176      176        176       176       176                 176  \n",
       "2             4        4          4         4         4                   4  \n",
       "3            51       51         51        51        51                  51  \n",
       "4           523      523        523       523       523                 523  \n",
       "5          1342     1342       1342      1342      1342                1342  "
      ]
     },
     "execution_count": 18,
     "metadata": {},
     "output_type": "execute_result"
    }
   ],
   "source": [
    "t1.groupby('clusters').count()"
   ]
  },
  {
   "cell_type": "code",
   "execution_count": 19,
   "metadata": {},
   "outputs": [],
   "source": [
    "mask0=t1['clusters']==0\n",
    "mask1=t1['clusters']==1\n",
    "mask2=t1['clusters']==2\n",
    "mask3=t1['clusters']==3\n",
    "mask4=t1['clusters']==4\n",
    "mask5=t1['clusters']==5"
   ]
  },
  {
   "cell_type": "code",
   "execution_count": 25,
   "metadata": {},
   "outputs": [],
   "source": [
    "cluster0=t1[mask0]\n",
    "cluster1=t1[mask1]\n",
    "cluster2=t1[mask2]\n",
    "cluster3=t1[mask3]\n",
    "cluster4=t1[mask4]\n",
    "cluster5=t1[mask5]"
   ]
  },
  {
   "cell_type": "code",
   "execution_count": 34,
   "metadata": {},
   "outputs": [],
   "source": [
    "#count\n",
    "freq_mask0 = pd.Series(''.join(cluster0['text_ready_to_stem']).split()).value_counts()\n",
    "freq_mask1 = pd.Series(''.join(cluster1['text_ready_to_stem']).split()).value_counts()\n",
    "freq_mask2 = pd.Series(''.join(cluster2['text_ready_to_stem']).split()).value_counts()\n",
    "freq_mask3 = pd.Series(''.join(cluster3['text_ready_to_stem']).split()).value_counts()\n",
    "freq_mask4 = pd.Series(''.join(cluster4['text_ready_to_stem']).split()).value_counts()\n",
    "freq_mask5 = pd.Series(''.join(cluster5['text_ready_to_stem']).split()).value_counts()\n",
    "\n"
   ]
  },
  {
   "cell_type": "code",
   "execution_count": 38,
   "metadata": {},
   "outputs": [
    {
     "data": {
      "text/plain": [
       "I       4852\n",
       "to      3032\n",
       "a       2708\n",
       "and     2694\n",
       "the     2586\n",
       "my      1714\n",
       "it      1541\n",
       "of      1440\n",
       "for     1436\n",
       "have    1241\n",
       "dtype: int64"
      ]
     },
     "execution_count": 38,
     "metadata": {},
     "output_type": "execute_result"
    }
   ],
   "source": [
    "freq_mask0.head(10)\n",
    "\n"
   ]
  },
  {
   "cell_type": "code",
   "execution_count": 39,
   "metadata": {},
   "outputs": [
    {
     "data": {
      "text/plain": [
       "I       3653\n",
       "to      2300\n",
       "and     2169\n",
       "the     1972\n",
       "a       1622\n",
       "my      1419\n",
       "of      1170\n",
       "it       940\n",
       "for      812\n",
       "that     795\n",
       "dtype: int64"
      ]
     },
     "execution_count": 39,
     "metadata": {},
     "output_type": "execute_result"
    }
   ],
   "source": [
    "freq_mask1.head(10)"
   ]
  },
  {
   "cell_type": "code",
   "execution_count": 40,
   "metadata": {},
   "outputs": [
    {
     "data": {
      "text/plain": [
       "I       1502\n",
       "the     1146\n",
       "to      1020\n",
       "and     1018\n",
       "a        695\n",
       "my       585\n",
       "of       493\n",
       "it       454\n",
       "that     372\n",
       "in       368\n",
       "dtype: int64"
      ]
     },
     "execution_count": 40,
     "metadata": {},
     "output_type": "execute_result"
    }
   ],
   "source": [
    "freq_mask3.head(10)"
   ]
  },
  {
   "cell_type": "code",
   "execution_count": 41,
   "metadata": {},
   "outputs": [
    {
     "data": {
      "text/plain": [
       "I       6196\n",
       "to      4100\n",
       "and     3636\n",
       "the     3248\n",
       "a       2664\n",
       "my      2484\n",
       "it      1934\n",
       "of      1816\n",
       "for     1371\n",
       "that    1309\n",
       "dtype: int64"
      ]
     },
     "execution_count": 41,
     "metadata": {},
     "output_type": "execute_result"
    }
   ],
   "source": [
    "freq_mask4.head(10)"
   ]
  },
  {
   "cell_type": "code",
   "execution_count": 42,
   "metadata": {},
   "outputs": [
    {
     "data": {
      "text/plain": [
       "I      8349\n",
       "to     5220\n",
       "the    4916\n",
       "and    4735\n",
       "a      3884\n",
       "my     3054\n",
       "it     2458\n",
       "of     2449\n",
       "for    2019\n",
       "in     1823\n",
       "dtype: int64"
      ]
     },
     "execution_count": 42,
     "metadata": {},
     "output_type": "execute_result"
    }
   ],
   "source": [
    "freq_mask5.head(10)"
   ]
  },
  {
   "cell_type": "code",
   "execution_count": null,
   "metadata": {},
   "outputs": [],
   "source": [
    "#df\n",
    "freq_words_df=pd.DataFrame({'Showerthoughts':freq_shower.T, 'Todayilearned': freq_til.T})\n",
    "freq_words_df.fillna(0, inplace=True)\n",
    "mask1=freq_words_df['Showerthoughts']>=10\n",
    "mask2=freq_words_df['Todayilearned']>=10\n",
    "freq_words_df=freq_words_df[mask1 & mask2]\n",
    "\n",
    "import plotly.offline    as py\n",
    "import cufflinks         as cf\n",
    "py.init_notebook_mode(connected=False) \n",
    "cf.set_config_file(offline=True)\n",
    "#graph\n",
    "freq_words_df.T.iplot(\n",
    "    kind='bar',\n",
    "    bins=100,\n",
    "    xTitle='Reddit',\n",
    "    linecolor='black',\n",
    "    yTitle='Count',\n",
    "    title='Common Words Count in each Reddit',\n",
    "    sortbars=True)"
   ]
  }
 ],
 "metadata": {
  "kernelspec": {
   "display_name": "Python 3",
   "language": "python",
   "name": "python3"
  },
  "language_info": {
   "codemirror_mode": {
    "name": "ipython",
    "version": 3
   },
   "file_extension": ".py",
   "mimetype": "text/x-python",
   "name": "python",
   "nbconvert_exporter": "python",
   "pygments_lexer": "ipython3",
   "version": "3.7.5"
  }
 },
 "nbformat": 4,
 "nbformat_minor": 2
}
