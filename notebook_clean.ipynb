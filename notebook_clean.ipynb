{
 "cells": [
  {
   "cell_type": "markdown",
   "metadata": {},
   "source": [
    "# Unsupervised Learning and Clustering on 100 days of posts from the 'Type 1 Diabetes' Reddit Thread. \n",
    "by Adriana Vesa "
   ]
  },
  {
   "cell_type": "markdown",
   "metadata": {},
   "source": [
    "\n",
    "# Problem Statement\n",
    "Posts published on the social media impact decisions made by people all over the world in all kind of situations, including health care and health care related topics. Type 1 diabetes is a chronic disease that can start in early childhood and adolescence - and it requires lifelong daily management, including testing, adjusting medication doses, and diet management through various means. When it comes to type 1 diabetes, the options available for diabetics to improve their condition are extremely varied - from medication to testing equipment, to insulin delivering systems, and continuous glucose monitors.  A lot of the care is administered by parents - since the disease can commence very early in life - and parents rely on online communities for advice and psychological support (1) (Balkhi, Reid, McNamara, Geffken - \"The diabetes online community: the importance of forum use in parents of children with type 1 diabetes\" - https://onlinelibrary.wiley.com/doi/abs/10.1111/pedi.12110).\n",
    "We believe it is important to understand the sources of stress and the topics that present interest to people affected by type 1 diabetes, as diabetic distress can impact the condition itself and it is studied as such (2) (Polonsky, Fisher, Earles, Dudl, Lees, Mullan, and Jackson, - \"Assessing Psychosocial Distress in Diabetes\n",
    "Development of the Diabetes Distress Scale\") - and we will therefore acquire data from the reddit type 1 diabetes thread for the past 100 days - starting with february 18th - and analyze these posts in order to find out the main topics of interest for type 1 diabetics.\n",
    "We will use unsupervised machine learning to explore these posts. Unsupervised machine learning is a class of techniques used to find pattern in data. Tha data given to an unsupervised algorithm will not be labeled - which means we will have only an input variable X - and no corresponding varriable. We will use K-means in order to explore the clustering of our data - and we will explore the silhouette score in order to obtain the best clustering choices. "
   ]
  },
  {
   "cell_type": "markdown",
   "metadata": {},
   "source": [
    "# Executive Summary\n",
    "\n",
    "We have obtained a set of data that contains posts from the the type 1 Diabetes subreddit thread for 100 days from 2019 - starting back from February 18th 2020. after dropping all the empty rows in our data, we are left with a total of 4283 posts. Our target is to analyze these posts using Natural Language Processing Unsupervised Machine learning and the K-Means clustering and see if any meaningful clustering will emerge, that will help us identify the topics of interest that emerge in the type 1 diabetic online community. \n",
    "\n",
    " K-means is a method of vector quantization, that is popular for cluster analysis in data mining which aims to partition n observations into k clusters in which each observation belongs to the cluster with the nearest mean, serving as a prototype of the cluster. \n",
    "\n",
    "After we import our data, we tokenize it in order to clean the text and get it ready to be vectorized. We ran both CountVectorizer and TFIDF vectorizers on our text, and realized that TFIDF will make a better candidate for preprocessing our data in order to be clustered with the k-means model. \n",
    "\n",
    "We have then decided to use TFIDF with a maximum number of 10000 features (that is tokenized words in our case). Once we have ran TFIDF on our posts, and obtained our sparse matrix, we proceeded to use it in order to calculate the silhouette score for a number of k (clusters) between 5 and 50. We aimed to find the highest silhouette score in order to find the best clustering. However, as soon as we ran our search and plotted our inertia and silhouette scores, we noticed that the silhouette score is very small - starts at 0.004, and at k=50 it starts to hover at 0.01, and that means for us that we wont be able to use it very efficiently in order to choose our cluster number. Still, we use the first observed \"elbow\" in our silhouette graph - at k=6 - and we decide on a clustering on 6 centroids. \n",
    "\n",
    "We then proceed to analyze each cluster, and the words that have the highest TFIDF sum in the specific cluster, and their general frequency in the cluster. That way we will see what topics emerge from our analysis. \n",
    "\n",
    "Once our clusters will be analyzed, we will present our findings, conclusions, drawbacks and further steps."
   ]
  },
  {
   "cell_type": "markdown",
   "metadata": {},
   "source": [
    "# Table of contents:\n",
    "\n",
    "- [Acquiring and Preprocessing Data](#Acquiring-and-Preprocessing-Data)\n",
    "- [Loading Libraries](#Loading-Libraries)\n",
    "- [Loading Data](#Loading-Data)\n",
    "- [Exploratory Data Analysis](#Exploratory-Data-Analysis)\n",
    "- [Model Preparation](#Model-Preparation)\n",
    "- [Modeling K-means Clustering](#Modeling-K-means-Clustering)\n",
    "- [K-means with 6 clusters](#K-means-with-6-clusters)\n",
    "- [Cluster 0 \"Removed\"](#Cluster-0-\"Removed\")\n",
    "- [Cluster 1 \"Insurance\"](#Cluster-1-\"Insurance\")\n",
    "- [Cluster 2 \"Libre\"](#Cluster-2-\"Libre\")\n",
    "- [Cluster 3 \"Dexcom\"](#Cluster-3-\"Dexcom\")\n",
    "- [Cluster 4 \"Pump\"](#Cluster-4-\"Pump\")\n",
    "- [Cluster 5 \"Low\"](#Cluster-5-\"Low\")\n",
    "- [Drawbacks, Conclusions, and Further Steps](#Drawbacks-Conclusions-and-Further-Steps)\n",
    "- [References](#References)"
   ]
  },
  {
   "cell_type": "markdown",
   "metadata": {},
   "source": [
    "## Acquiring and Preprocessing Data\n",
    "\n",
    "\n",
    "For this project we have acquired data by scrapping from reddit - using Pushshift's API from the type 1 diabetes reddit subthread. We have this process in the notebnook [diabetes_scrapping.ipynb](./diabetes_scrapping.ipynb)."
   ]
  },
  {
   "cell_type": "markdown",
   "metadata": {},
   "source": [
    "## Loading Libraries"
   ]
  },
  {
   "cell_type": "code",
   "execution_count": 116,
   "metadata": {},
   "outputs": [],
   "source": [
    "import pandas as pd\n",
    "from nltk.tokenize import RegexpTokenizer\n",
    "\n",
    "\n",
    "from nltk.tokenize import RegexpTokenizer\n",
    "from nltk.stem import WordNetLemmatizer\n",
    "from sklearn.feature_extraction.stop_words import ENGLISH_STOP_WORDS as stopwords\n",
    "from sklearn.feature_extraction.text import CountVectorizer, TfidfVectorizer\n",
    "from sklearn.linear_model import LogisticRegression\n",
    "from sklearn.pipeline import Pipeline\n",
    "from sklearn.model_selection import cross_val_score, train_test_split, GridSearchCV\n",
    "\n",
    "\n",
    "\n",
    "from sklearn.datasets import make_blobs\n",
    "from sklearn.cluster import KMeans\n",
    "from sklearn.preprocessing import StandardScaler\n",
    "\n",
    "import numpy as np\n",
    "\n",
    "\n",
    "import seaborn as sns\n",
    "import matplotlib.pyplot as plt\n",
    "import matplotlib\n",
    "from sklearn.feature_extraction.text import CountVectorizer\n",
    "\n",
    "from sklearn.metrics import silhouette_score\n",
    "matplotlib.style.use('ggplot')\n",
    "\n",
    "\n",
    "from nltk.stem.snowball import SnowballStemmer"
   ]
  },
  {
   "cell_type": "markdown",
   "metadata": {},
   "source": [
    "## Loading Data"
   ]
  },
  {
   "cell_type": "markdown",
   "metadata": {},
   "source": [
    "Below we import the csv file containing the reddit posts collected from the sub-thread - https://www.reddit.com/r/diabetes_t1/ - going back 100 days starting with February 18, 2020. We verify the size of our data - and we see it is a dataframe with 4463 lines and 9 columns."
   ]
  },
  {
   "cell_type": "code",
   "execution_count": 3,
   "metadata": {},
   "outputs": [
    {
     "data": {
      "text/plain": [
       "(4463, 9)"
      ]
     },
     "execution_count": 3,
     "metadata": {},
     "output_type": "execute_result"
    }
   ],
   "source": [
    "t1 = pd.read_csv('diabetes_t1_2.csv')\n",
    "t1.shape"
   ]
  },
  {
   "cell_type": "markdown",
   "metadata": {},
   "source": [
    "We check to see how our dataframe is tructured by checking its first 5 rows. We decide to create a new column where we add the words of the title - column entitled 'title' - to the words of the post - column entitled 'selftext'- in order to maximize the number of words analyzed. \n",
    "We will call this new column 'all_text'."
   ]
  },
  {
   "cell_type": "markdown",
   "metadata": {},
   "source": [
    "## Exploratory Data Analysis"
   ]
  },
  {
   "cell_type": "code",
   "execution_count": 4,
   "metadata": {},
   "outputs": [
    {
     "data": {
      "text/html": [
       "<div>\n",
       "<style scoped>\n",
       "    .dataframe tbody tr th:only-of-type {\n",
       "        vertical-align: middle;\n",
       "    }\n",
       "\n",
       "    .dataframe tbody tr th {\n",
       "        vertical-align: top;\n",
       "    }\n",
       "\n",
       "    .dataframe thead th {\n",
       "        text-align: right;\n",
       "    }\n",
       "</style>\n",
       "<table border=\"1\" class=\"dataframe\">\n",
       "  <thead>\n",
       "    <tr style=\"text-align: right;\">\n",
       "      <th></th>\n",
       "      <th>title</th>\n",
       "      <th>selftext</th>\n",
       "      <th>subreddit</th>\n",
       "      <th>created_utc</th>\n",
       "      <th>author</th>\n",
       "      <th>num_comments</th>\n",
       "      <th>score</th>\n",
       "      <th>is_self</th>\n",
       "      <th>timestamp</th>\n",
       "    </tr>\n",
       "  </thead>\n",
       "  <tbody>\n",
       "    <tr>\n",
       "      <th>0</th>\n",
       "      <td>Parents with T1D kids on low carb diet. Any im...</td>\n",
       "      <td>Hi all. My son (7) is t1d and is on a low carb...</td>\n",
       "      <td>diabetes_t1</td>\n",
       "      <td>1582052715</td>\n",
       "      <td>midnightcaller</td>\n",
       "      <td>4</td>\n",
       "      <td>1</td>\n",
       "      <td>True</td>\n",
       "      <td>2020-02-18</td>\n",
       "    </tr>\n",
       "    <tr>\n",
       "      <th>1</th>\n",
       "      <td>HBA1C results (2 months since diagnosis)</td>\n",
       "      <td>Diagnosed with type 1 mid December 2019, admit...</td>\n",
       "      <td>diabetes_t1</td>\n",
       "      <td>1582054702</td>\n",
       "      <td>snazehhh</td>\n",
       "      <td>1</td>\n",
       "      <td>1</td>\n",
       "      <td>True</td>\n",
       "      <td>2020-02-18</td>\n",
       "    </tr>\n",
       "    <tr>\n",
       "      <th>2</th>\n",
       "      <td>Type 1 diabetes and mood swings</td>\n",
       "      <td>Does anyone here feel that their diabetes can ...</td>\n",
       "      <td>diabetes_t1</td>\n",
       "      <td>1582057153</td>\n",
       "      <td>b-lavender</td>\n",
       "      <td>5</td>\n",
       "      <td>1</td>\n",
       "      <td>True</td>\n",
       "      <td>2020-02-18</td>\n",
       "    </tr>\n",
       "    <tr>\n",
       "      <th>3</th>\n",
       "      <td>Bes countries to live in being diabetic</td>\n",
       "      <td>hello, I wanted to know which are the best cou...</td>\n",
       "      <td>diabetes_t1</td>\n",
       "      <td>1582062986</td>\n",
       "      <td>tiagob94</td>\n",
       "      <td>0</td>\n",
       "      <td>1</td>\n",
       "      <td>True</td>\n",
       "      <td>2020-02-18</td>\n",
       "    </tr>\n",
       "    <tr>\n",
       "      <th>4</th>\n",
       "      <td>Best countries to live in being diabetic</td>\n",
       "      <td>hello, I wanted to know which are the best cou...</td>\n",
       "      <td>diabetes_t1</td>\n",
       "      <td>1582063056</td>\n",
       "      <td>tiagob94</td>\n",
       "      <td>0</td>\n",
       "      <td>1</td>\n",
       "      <td>True</td>\n",
       "      <td>2020-02-18</td>\n",
       "    </tr>\n",
       "  </tbody>\n",
       "</table>\n",
       "</div>"
      ],
      "text/plain": [
       "                                               title  \\\n",
       "0  Parents with T1D kids on low carb diet. Any im...   \n",
       "1           HBA1C results (2 months since diagnosis)   \n",
       "2                    Type 1 diabetes and mood swings   \n",
       "3            Bes countries to live in being diabetic   \n",
       "4           Best countries to live in being diabetic   \n",
       "\n",
       "                                            selftext    subreddit  \\\n",
       "0  Hi all. My son (7) is t1d and is on a low carb...  diabetes_t1   \n",
       "1  Diagnosed with type 1 mid December 2019, admit...  diabetes_t1   \n",
       "2  Does anyone here feel that their diabetes can ...  diabetes_t1   \n",
       "3  hello, I wanted to know which are the best cou...  diabetes_t1   \n",
       "4  hello, I wanted to know which are the best cou...  diabetes_t1   \n",
       "\n",
       "   created_utc          author  num_comments  score  is_self   timestamp  \n",
       "0   1582052715  midnightcaller             4      1     True  2020-02-18  \n",
       "1   1582054702        snazehhh             1      1     True  2020-02-18  \n",
       "2   1582057153      b-lavender             5      1     True  2020-02-18  \n",
       "3   1582062986        tiagob94             0      1     True  2020-02-18  \n",
       "4   1582063056        tiagob94             0      1     True  2020-02-18  "
      ]
     },
     "execution_count": 4,
     "metadata": {},
     "output_type": "execute_result"
    }
   ],
   "source": [
    "t1.head()"
   ]
  },
  {
   "cell_type": "code",
   "execution_count": 5,
   "metadata": {},
   "outputs": [],
   "source": [
    "t1['all_text'] = t1['title']+t1['selftext']"
   ]
  },
  {
   "cell_type": "markdown",
   "metadata": {},
   "source": [
    "We verify how many of our rows are actually not filled with text, and we drop those rows as they will hinder our analysis. We verify how many rows we have left after this procedure. We see we had to drop 180 rows, and we are left with 4283 posts in good shape to be analyzed. "
   ]
  },
  {
   "cell_type": "code",
   "execution_count": 6,
   "metadata": {
    "scrolled": true
   },
   "outputs": [
    {
     "data": {
      "text/plain": [
       "title             0\n",
       "selftext        180\n",
       "subreddit         0\n",
       "created_utc       0\n",
       "author            0\n",
       "num_comments      0\n",
       "score             0\n",
       "is_self           0\n",
       "timestamp         0\n",
       "all_text        180\n",
       "dtype: int64"
      ]
     },
     "execution_count": 6,
     "metadata": {},
     "output_type": "execute_result"
    }
   ],
   "source": [
    "t1.isnull().sum()"
   ]
  },
  {
   "cell_type": "code",
   "execution_count": 7,
   "metadata": {},
   "outputs": [
    {
     "data": {
      "text/plain": [
       "(4283, 10)"
      ]
     },
     "execution_count": 7,
     "metadata": {},
     "output_type": "execute_result"
    }
   ],
   "source": [
    "t1.dropna(inplace = True)\n",
    "t1.shape"
   ]
  },
  {
   "cell_type": "markdown",
   "metadata": {},
   "source": [
    "We reset the index of our database after we droppped the empty rows, and we verify that the last rows are labeled with indexes up to 4282. "
   ]
  },
  {
   "cell_type": "code",
   "execution_count": 8,
   "metadata": {},
   "outputs": [
    {
     "data": {
      "text/html": [
       "<div>\n",
       "<style scoped>\n",
       "    .dataframe tbody tr th:only-of-type {\n",
       "        vertical-align: middle;\n",
       "    }\n",
       "\n",
       "    .dataframe tbody tr th {\n",
       "        vertical-align: top;\n",
       "    }\n",
       "\n",
       "    .dataframe thead th {\n",
       "        text-align: right;\n",
       "    }\n",
       "</style>\n",
       "<table border=\"1\" class=\"dataframe\">\n",
       "  <thead>\n",
       "    <tr style=\"text-align: right;\">\n",
       "      <th></th>\n",
       "      <th>title</th>\n",
       "      <th>selftext</th>\n",
       "      <th>subreddit</th>\n",
       "      <th>created_utc</th>\n",
       "      <th>author</th>\n",
       "      <th>num_comments</th>\n",
       "      <th>score</th>\n",
       "      <th>is_self</th>\n",
       "      <th>timestamp</th>\n",
       "      <th>all_text</th>\n",
       "    </tr>\n",
       "  </thead>\n",
       "  <tbody>\n",
       "    <tr>\n",
       "      <th>4281</th>\n",
       "      <td>Anyone using the Omnipod Dash yet?</td>\n",
       "      <td>My doctor told me some people have received th...</td>\n",
       "      <td>diabetes_t1</td>\n",
       "      <td>1551975353</td>\n",
       "      <td>rchase94</td>\n",
       "      <td>0</td>\n",
       "      <td>1</td>\n",
       "      <td>True</td>\n",
       "      <td>2019-03-07</td>\n",
       "      <td>Anyone using the Omnipod Dash yet?My doctor to...</td>\n",
       "    </tr>\n",
       "    <tr>\n",
       "      <th>4282</th>\n",
       "      <td>Experiences with Fiasp</td>\n",
       "      <td>My doctor gave me a sample of Fiasp to try in ...</td>\n",
       "      <td>diabetes_t1</td>\n",
       "      <td>1551979654</td>\n",
       "      <td>zEUjgdWX</td>\n",
       "      <td>6</td>\n",
       "      <td>4</td>\n",
       "      <td>True</td>\n",
       "      <td>2019-03-07</td>\n",
       "      <td>Experiences with FiaspMy doctor gave me a samp...</td>\n",
       "    </tr>\n",
       "  </tbody>\n",
       "</table>\n",
       "</div>"
      ],
      "text/plain": [
       "                                   title  \\\n",
       "4281  Anyone using the Omnipod Dash yet?   \n",
       "4282              Experiences with Fiasp   \n",
       "\n",
       "                                               selftext    subreddit  \\\n",
       "4281  My doctor told me some people have received th...  diabetes_t1   \n",
       "4282  My doctor gave me a sample of Fiasp to try in ...  diabetes_t1   \n",
       "\n",
       "      created_utc    author  num_comments  score  is_self   timestamp  \\\n",
       "4281   1551975353  rchase94             0      1     True  2019-03-07   \n",
       "4282   1551979654  zEUjgdWX             6      4     True  2019-03-07   \n",
       "\n",
       "                                               all_text  \n",
       "4281  Anyone using the Omnipod Dash yet?My doctor to...  \n",
       "4282  Experiences with FiaspMy doctor gave me a samp...  "
      ]
     },
     "execution_count": 8,
     "metadata": {},
     "output_type": "execute_result"
    }
   ],
   "source": [
    "t1.reset_index(drop=True, inplace = True)\n",
    "t1.tail(2)"
   ]
  },
  {
   "cell_type": "markdown",
   "metadata": {},
   "source": [
    "We will tokenize out text in order for our further analysis to be possible. \n",
    "Tokenization is the act of breaking up a sequence of strings into pieces such as words, keywords, phrases, symbols and other elements called tokens. In the process of tokenization, some characters like punctuation marks are discarded. We will keep all our words and numeral symbols, but we will discard symbols, such as punctuation marks and backslashes - since we are interested in keeping only the words in each of the posts we will analyze. First we will import our tokenizer, and then we will aply it on the column that contains the text we wish to analyze.  "
   ]
  },
  {
   "cell_type": "code",
   "execution_count": 9,
   "metadata": {},
   "outputs": [],
   "source": [
    "tokenizer = RegexpTokenizer(r'\\w+')"
   ]
  },
  {
   "cell_type": "code",
   "execution_count": 10,
   "metadata": {},
   "outputs": [],
   "source": [
    "t1['all_text'] = t1['all_text'].apply(tokenizer.tokenize)"
   ]
  },
  {
   "cell_type": "markdown",
   "metadata": {},
   "source": [
    "Since the tokenizing process transforms our column of text into a column of lists of \"tokens\" aka words - we now need to transform the list back into text. We verify that our code works on the first row of our dataframe:"
   ]
  },
  {
   "cell_type": "code",
   "execution_count": 11,
   "metadata": {
    "scrolled": true
   },
   "outputs": [
    {
     "data": {
      "text/plain": [
       "'Parents with T1D kids on low carb diet Any impact on growth milestones Hi all My son 7 is t1d and is on a low carb diet It s resulted in great blood sugar control but in the last few check ups he s been falling well behind on height milestones Does anyone have any experience good or bad with this I m concerned the diet may be impacting his development Thanks'"
      ]
     },
     "execution_count": 11,
     "metadata": {},
     "output_type": "execute_result"
    }
   ],
   "source": [
    "' '.join(t1['all_text'][0])"
   ]
  },
  {
   "cell_type": "markdown",
   "metadata": {},
   "source": [
    "We apply this process to our entire \"all_text\" column, and we create a column with the text tokenized an ready to be analyzed which we will call \"text\"."
   ]
  },
  {
   "cell_type": "code",
   "execution_count": 12,
   "metadata": {},
   "outputs": [],
   "source": [
    "new_texts = t1['all_text']\n",
    "\n",
    "text_final  = []\n",
    "for text in new_texts:\n",
    "    ready = ' '.join(text)\n",
    "    text_final.append(ready)\n",
    "\n",
    "t1['text'] = text_final"
   ]
  },
  {
   "cell_type": "markdown",
   "metadata": {},
   "source": [
    "## Model Preparation"
   ]
  },
  {
   "cell_type": "markdown",
   "metadata": {},
   "source": [
    "We will create a new dataframe, called X, which will hold only the text to be analized, and we verify it's general structure:"
   ]
  },
  {
   "cell_type": "code",
   "execution_count": 13,
   "metadata": {},
   "outputs": [
    {
     "data": {
      "text/plain": [
       "0    Parents with T1D kids on low carb diet Any imp...\n",
       "1    HBA1C results 2 months since diagnosis Diagnos...\n",
       "2    Type 1 diabetes and mood swingsDoes anyone her...\n",
       "3    Bes countries to live in being diabetichello I...\n",
       "4    Best countries to live in being diabetichello ...\n",
       "Name: text, dtype: object"
      ]
     },
     "execution_count": 13,
     "metadata": {},
     "output_type": "execute_result"
    }
   ],
   "source": [
    "X = t1['text']\n",
    "X.head()"
   ]
  },
  {
   "cell_type": "markdown",
   "metadata": {},
   "source": [
    "We verify the size of our X - feature:"
   ]
  },
  {
   "cell_type": "code",
   "execution_count": 14,
   "metadata": {},
   "outputs": [
    {
     "data": {
      "text/plain": [
       "(4283,)"
      ]
     },
     "execution_count": 14,
     "metadata": {},
     "output_type": "execute_result"
    }
   ],
   "source": [
    "X.shape"
   ]
  },
  {
   "cell_type": "markdown",
   "metadata": {},
   "source": [
    "Now that we have our data ready to be worked on, we can import a list of stopwords to be eliminated from the text to be analyzed. Also, We decide to eliminate words that will appear in these posts with no necessary impact on the meaning of the posts. Since all these posts have to do with diabetes, we decide to eliminate words such as \n",
    "'diabetes', 'insulin', 'blood', 'sugar', 'diabetic\". They are words likely to appear in each of the posts we have - and indeed performing an innitial search on our posts they do appear prevalent and will not create proper clustering. We also decided to eliminate words such as 'hi', 'https', 'www', as they are greeting words, or  internet addresses. \n"
   ]
  },
  {
   "cell_type": "code",
   "execution_count": 15,
   "metadata": {},
   "outputs": [],
   "source": [
    "from sklearn.feature_extraction import stop_words"
   ]
  },
  {
   "cell_type": "code",
   "execution_count": 16,
   "metadata": {
    "scrolled": false
   },
   "outputs": [
    {
     "name": "stdout",
     "output_type": "stream",
     "text": [
      "frozenset({'not', 'ours', 'very', 'made', 'beside', 'get', 'another', 'as', 'due', 'every', 'almost', 'six', 'becomes', 'back', 'thereafter', 'has', 'front', 'namely', 'everything', 'into', 'otherwise', 'whither', 'formerly', 'side', 'any', 'others', 'each', 'should', 'some', 'was', 'cant', 'thin', 'three', 'since', 'eleven', 'therefore', 'over', 'for', 'she', 'last', 'with', 'twenty', 'further', 'seeming', 'without', 'nowhere', 'why', 'something', 'no', 'while', 'in', 'yourselves', 'up', 'become', 'becoming', 'on', 'someone', 'too', 'yet', 'give', 'herein', 'two', 'neither', 'than', 'may', 'or', 'thus', 'go', 'always', 'this', 'least', 'empty', 'upon', 'one', 'now', 'much', 'do', 'they', 'move', 'name', 're', 'hereupon', 'call', 'found', 'the', 'latterly', 'and', 'fifty', 'them', 'all', 'thick', 'behind', 'fill', 'ten', 'out', 'via', 'me', 'might', 'former', 'nine', 'eight', 'third', 'their', 'together', 'whose', 'whereas', 'etc', 'top', 'own', 'so', 'un', 'myself', 'himself', 'between', 'before', 'among', 'hereby', 'towards', 'bill', 'an', 'a', 'you', 'con', 'nobody', 'which', 'at', 'show', 'else', 'keep', 'next', 'amongst', 'hundred', 'none', 'bottom', 'cry', 'thereby', 'co', 'system', 'where', 'fifteen', 'many', 'cannot', 'it', 'across', 'what', 'hers', 'same', 'anywhere', 'i', 'first', 'were', 'mill', 'moreover', 'we', 'whereupon', 'although', 'alone', 'well', 'whereafter', 'whoever', 'other', 'themselves', 'under', 'full', 'thence', 'mostly', 'describe', 'its', 'less', 'forty', 'during', 'onto', 'against', 'five', 'sometimes', 'both', 'hereafter', 'of', 'because', 'often', 'thru', 'ie', 'nor', 'anyone', 'sixty', 'then', 'part', 'several', 'find', 'amount', 'wherever', 'are', 'eg', 'us', 'nothing', 'he', 'from', 'put', 'down', 'noone', 'his', 'anyway', 'elsewhere', 'de', 'somewhere', 'somehow', 'but', 'am', 'around', 'seemed', 'meanwhile', 'within', 'toward', 'still', 'though', 'besides', 'could', 'would', 'if', 'mine', 'until', 'nevertheless', 'wherein', 'anyhow', 'never', 'fire', 'whence', 'take', 'latter', 'here', 'whereby', 'will', 'few', 'had', 'couldnt', 'see', 'below', 'perhaps', 'twelve', 'either', 'most', 'throughout', 'everyone', 'be', 'hasnt', 'itself', 'about', 'there', 'rather', 'amoungst', 'herself', 'again', 'such', 'however', 'everywhere', 'whatever', 'her', 'serious', 'above', 'these', 'therein', 'please', 'four', 'have', 'enough', 'whenever', 'afterwards', 'hence', 'yourself', 'that', 'ourselves', 'who', 'more', 'whether', 'my', 'been', 'is', 'how', 'ever', 'yours', 'by', 'through', 'interest', 'can', 'became', 'being', 'to', 'off', 'your', 'seems', 'indeed', 'whole', 'also', 'sincere', 'thereupon', 'anything', 'detail', 'sometime', 'even', 'done', 'beforehand', 'except', 'whom', 'once', 'inc', 'those', 'him', 'must', 'seem', 'ltd', 'our', 'after', 'beyond', 'per', 'only', 'when', 'along', 'already'})\n"
     ]
    }
   ],
   "source": [
    "print(stop_words.ENGLISH_STOP_WORDS)"
   ]
  },
  {
   "cell_type": "code",
   "execution_count": 17,
   "metadata": {},
   "outputs": [
    {
     "data": {
      "text/plain": [
       "frozenset"
      ]
     },
     "execution_count": 17,
     "metadata": {},
     "output_type": "execute_result"
    }
   ],
   "source": [
    "type(stopwords)"
   ]
  },
  {
   "cell_type": "code",
   "execution_count": 18,
   "metadata": {},
   "outputs": [],
   "source": [
    "stop=set(stopwords)\n",
    "stop.add('hi')\n",
    "stop.add('s')\n",
    "stop.add('m')\n",
    "stop.add('diabetes')\n",
    "stop.add('just')\n",
    "stop.add('insulin')\n",
    "stop.add('blood')\n",
    "stop.add('sugar')\n",
    "stop.add('ve')\n",
    "stop.add('type')\n",
    "stop.add('https')\n",
    "stop.add('com')\n",
    "stop.add('www')\n",
    "stop.add('https www')\n",
    "stop.add('like')\n",
    "stop.add('don')\n",
    "stop.add('know')\n",
    "stop.add('time')\n",
    "stop.add('years')\n",
    "stop.add('day')\n",
    "stop.add('does')\n",
    "stop.add('going')\n",
    "stop.add('got')\n",
    "stop.add('use')\n",
    "stop.add('using')\n",
    "stop.add('really')\n",
    "stop.add('having')\n",
    "stop.add('diabetic')\n",
    "stop.add('diagnosed')\n"
   ]
  },
  {
   "cell_type": "markdown",
   "metadata": {},
   "source": [
    "We can finaly apply our vectorizers - we decided to try both CountVectorizer and  TfidF - which is short for Term frequency–inverse document frequency - on our cleaned text. As we proceeded and tried both vecorizers - we observed that our unsupervised machine learning works better on our text processed with TfidF. That makes sense as Tfidf practically calculates how relevant a word is in a document - and that is exactly what we need in our case. We apply Tfidf with the set of stopwords defined above, and we decide to try and find n_grams in the range of 1 to 3, and to keep the maximum features (words that will be appearing in our sparse matrix created by tfidf in our case) to 10000. We will therefore obtain a sparse matrix with 4283 rows and 10000 columns (as we can see in the third cell bellow). \n",
    "\n",
    "The TFIDF is the product of two statistics, term frequency, and inverse document frequency. \n",
    "The term frequency is the raw count of a term in a document, i.e., the number of times that the term occurs in our document.\n",
    "\n",
    "The inverse document frequency is a measure of how much information the word provides, i.e., if it's common or rare across all documents we analyze (in our case, the posts).\n",
    "\n",
    "The two statistics will be multiplied in order to create the tfids value that will be assigned to each word in our final sparse matrix."
   ]
  },
  {
   "cell_type": "code",
   "execution_count": 19,
   "metadata": {},
   "outputs": [],
   "source": [
    "tf = TfidfVectorizer(stop_words = stop, ngram_range = (1, 3), max_features = 10000)"
   ]
  },
  {
   "cell_type": "code",
   "execution_count": 21,
   "metadata": {},
   "outputs": [],
   "source": [
    "train_tf = tf.fit_transform(X)"
   ]
  },
  {
   "cell_type": "code",
   "execution_count": 22,
   "metadata": {},
   "outputs": [
    {
     "data": {
      "text/plain": [
       "(4283, 10000)"
      ]
     },
     "execution_count": 22,
     "metadata": {},
     "output_type": "execute_result"
    }
   ],
   "source": [
    "train_tf.shape"
   ]
  },
  {
   "cell_type": "markdown",
   "metadata": {},
   "source": [
    "## Modeling K-means Clustering\n"
   ]
  },
  {
   "cell_type": "markdown",
   "metadata": {},
   "source": [
    "We will be exploring the optimal number of clusters for a K-means model using the silhouette score for our K-means clusters. The silhouette value is a measure of how similar an object is to its own cluster (cohesion) compared to other clusters (separation). The silhouette ranges up to +1, where a high value indicates that the object is well matched to its own cluster and poorly matched to neighboring clusters."
   ]
  },
  {
   "cell_type": "code",
   "execution_count": 165,
   "metadata": {},
   "outputs": [],
   "source": [
    "scores_tf =[]\n",
    "for k in range (5, 50):\n",
    "    cl_tf = KMeans(n_clusters = k, random_state = 100)\n",
    "    cl_tf.fit(train_tf)\n",
    "    inertia = cl_tf.inertia_\n",
    "    sil = silhouette_score(train_tf, cl_tf.labels_)\n",
    "    scores_tf.append((k, inertia, sil))"
   ]
  },
  {
   "cell_type": "code",
   "execution_count": 32,
   "metadata": {},
   "outputs": [
    {
     "ename": "NameError",
     "evalue": "name 'scores_tf' is not defined",
     "output_type": "error",
     "traceback": [
      "\u001b[0;31m---------------------------------------------------------------------------\u001b[0m",
      "\u001b[0;31mNameError\u001b[0m                                 Traceback (most recent call last)",
      "\u001b[0;32m<ipython-input-32-7462f30d5272>\u001b[0m in \u001b[0;36m<module>\u001b[0;34m\u001b[0m\n\u001b[0;32m----> 1\u001b[0;31m \u001b[0mscore_tf_t1\u001b[0m \u001b[0;34m=\u001b[0m \u001b[0mpd\u001b[0m\u001b[0;34m.\u001b[0m\u001b[0mDataFrame\u001b[0m\u001b[0;34m(\u001b[0m\u001b[0mscores_tf\u001b[0m\u001b[0;34m,\u001b[0m \u001b[0mcolumns\u001b[0m \u001b[0;34m=\u001b[0m \u001b[0;34m[\u001b[0m\u001b[0;34m\"k\"\u001b[0m\u001b[0;34m,\u001b[0m \u001b[0;34m\"inertia\"\u001b[0m\u001b[0;34m,\u001b[0m \u001b[0;34m\"sil\"\u001b[0m\u001b[0;34m]\u001b[0m\u001b[0;34m)\u001b[0m\u001b[0;34m\u001b[0m\u001b[0;34m\u001b[0m\u001b[0m\n\u001b[0m\u001b[1;32m      2\u001b[0m \u001b[0mscore_tf_t1\u001b[0m\u001b[0;34m\u001b[0m\u001b[0;34m\u001b[0m\u001b[0m\n\u001b[1;32m      3\u001b[0m \u001b[0mscore_tf_t1\u001b[0m\u001b[0;34m.\u001b[0m\u001b[0mto_csv\u001b[0m\u001b[0;34m(\u001b[0m\u001b[0;34m'sil_scores'\u001b[0m\u001b[0;34m,\u001b[0m \u001b[0mindex\u001b[0m\u001b[0;34m=\u001b[0m\u001b[0;32mFalse\u001b[0m\u001b[0;34m)\u001b[0m\u001b[0;34m\u001b[0m\u001b[0;34m\u001b[0m\u001b[0m\n",
      "\u001b[0;31mNameError\u001b[0m: name 'scores_tf' is not defined"
     ]
    }
   ],
   "source": [
    "score_tf_t1 = pd.DataFrame(scores_tf, columns = [\"k\", \"inertia\", \"sil\"])\n",
    "score_tf_t1\n",
    "score_tf_t1.to_csv('sil_scores', index=False)  "
   ]
  },
  {
   "cell_type": "markdown",
   "metadata": {},
   "source": [
    "We save the scores obtained into a csv file for further use."
   ]
  },
  {
   "cell_type": "code",
   "execution_count": 27,
   "metadata": {},
   "outputs": [],
   "source": [
    "score_tf_t1 = pd.read_csv('sil_scores')"
   ]
  },
  {
   "cell_type": "code",
   "execution_count": 91,
   "metadata": {},
   "outputs": [
    {
     "data": {
      "text/html": [
       "<div>\n",
       "<style scoped>\n",
       "    .dataframe tbody tr th:only-of-type {\n",
       "        vertical-align: middle;\n",
       "    }\n",
       "\n",
       "    .dataframe tbody tr th {\n",
       "        vertical-align: top;\n",
       "    }\n",
       "\n",
       "    .dataframe thead th {\n",
       "        text-align: right;\n",
       "    }\n",
       "</style>\n",
       "<table border=\"1\" class=\"dataframe\">\n",
       "  <thead>\n",
       "    <tr style=\"text-align: right;\">\n",
       "      <th></th>\n",
       "      <th>k</th>\n",
       "      <th>inertia</th>\n",
       "      <th>sil</th>\n",
       "    </tr>\n",
       "  </thead>\n",
       "  <tbody>\n",
       "    <tr>\n",
       "      <th>0</th>\n",
       "      <td>5</td>\n",
       "      <td>4160.273014</td>\n",
       "      <td>0.004610</td>\n",
       "    </tr>\n",
       "    <tr>\n",
       "      <th>1</th>\n",
       "      <td>6</td>\n",
       "      <td>4148.777591</td>\n",
       "      <td>0.006372</td>\n",
       "    </tr>\n",
       "  </tbody>\n",
       "</table>\n",
       "</div>"
      ],
      "text/plain": [
       "   k      inertia       sil\n",
       "0  5  4160.273014  0.004610\n",
       "1  6  4148.777591  0.006372"
      ]
     },
     "execution_count": 91,
     "metadata": {},
     "output_type": "execute_result"
    }
   ],
   "source": [
    "score_tf_t1.head(2)"
   ]
  },
  {
   "cell_type": "markdown",
   "metadata": {},
   "source": [
    "We observe that our silhouette scores are extremely small - we start at 0.03, and we barely get to under 0.007 for  clusters up to 11. \n",
    "\n",
    "That informs us that our clusters are not extremely well separated - and indeed considering the topic - there will be overlap between our clusters, and the separation might be rather poor. It is difficult to find a clear demarcation in such a compact thread as one dedicated to a disease  such as type 1 diabetes - as all topics will more or less converge to very similar subjects of interest that can obverlap quite easily. \n",
    "\n",
    "Still - we observe above that our sihouette score increases slightly as the number of clusters (k) - and it starts to plateau at around .011 as k = 35. \n",
    "\n",
    "We choose a limited approach with a a conservative number of clusters k = 6 - which is where we  notice the first local maxima at 0.0063, and then a drop in the silhouette score. As a bonus in a future separate notebook we will take a more expansive approach - one with k = 30 - where we see the silhouette score starting to hover at 0.01. With 30 clusters we will go to a very deep, granular level and we will probably see more topics of interest in the corpus we are studying. "
   ]
  },
  {
   "cell_type": "code",
   "execution_count": 31,
   "metadata": {},
   "outputs": [
    {
     "data": {
      "image/png": "[encoded data removed]",
      "text/plain": [
       "<Figure size 1008x504 with 2 Axes>"
      ]
     },
     "metadata": {},
     "output_type": "display_data"
    }
   ],
   "source": [
    "fig, axes = plt.subplots(1, 2, figsize=(14, 7))\n",
    "axes[0].plot(score_tf_t1.k, score_tf_t1.inertia)\n",
    "axes[0].set_title('Inertia over k')\n",
    "axes[1].plot(score_tf_t1.k, score_tf_t1.sil);\n",
    "axes[1].set_title('Silhouette Score over k');"
   ]
  },
  {
   "cell_type": "markdown",
   "metadata": {},
   "source": [
    "In the graph above we observe that as we increase our cluster number, k, the silhouette score increases too - although it still is well below 1. We predict there will be a difficult demarcation between our clusters, as the topics will most likely touch on each other. "
   ]
  },
  {
   "cell_type": "markdown",
   "metadata": {},
   "source": [
    "## K-means with 6 clusters"
   ]
  },
  {
   "cell_type": "markdown",
   "metadata": {},
   "source": [
    "We instantiate our model below, setting the cluster number at 6, and then we fit our model."
   ]
  },
  {
   "cell_type": "code",
   "execution_count": 33,
   "metadata": {},
   "outputs": [
    {
     "data": {
      "text/plain": [
       "KMeans(algorithm='auto', copy_x=True, init='k-means++', max_iter=300,\n",
       "       n_clusters=6, n_init=10, n_jobs=None, precompute_distances='auto',\n",
       "       random_state=100, tol=0.0001, verbose=0)"
      ]
     },
     "execution_count": 33,
     "metadata": {},
     "output_type": "execute_result"
    }
   ],
   "source": [
    "km_tf_6 = KMeans(n_clusters = 6, random_state = 100)\n",
    "km_tf_6.fit(train_tf)\n"
   ]
  },
  {
   "cell_type": "code",
   "execution_count": 34,
   "metadata": {},
   "outputs": [
    {
     "data": {
      "text/plain": [
       "array([4.40699895e-04, 1.16595296e-04, 7.05007424e-04, ...,\n",
       "       1.32490838e-04, 0.00000000e+00, 3.27202710e-05])"
      ]
     },
     "execution_count": 34,
     "metadata": {},
     "output_type": "execute_result"
    }
   ],
   "source": [
    "(km_tf_6.cluster_centers_[1])"
   ]
  },
  {
   "cell_type": "markdown",
   "metadata": {},
   "source": [
    "We verify and display the labels for our clusters - they are 0, 1, 2, 3, 4, and 5."
   ]
  },
  {
   "cell_type": "code",
   "execution_count": 35,
   "metadata": {},
   "outputs": [
    {
     "data": {
      "text/plain": [
       "{0, 1, 2, 3, 4, 5}"
      ]
     },
     "execution_count": 35,
     "metadata": {},
     "output_type": "execute_result"
    }
   ],
   "source": [
    "set(km_tf_6.labels_)"
   ]
  },
  {
   "cell_type": "markdown",
   "metadata": {},
   "source": [
    "We create a feature matrix, and we group our posts by the cluster they were assigned to:"
   ]
  },
  {
   "cell_type": "code",
   "execution_count": 36,
   "metadata": {},
   "outputs": [
    {
     "data": {
      "text/html": [
       "<div>\n",
       "<style scoped>\n",
       "    .dataframe tbody tr th:only-of-type {\n",
       "        vertical-align: middle;\n",
       "    }\n",
       "\n",
       "    .dataframe tbody tr th {\n",
       "        vertical-align: top;\n",
       "    }\n",
       "\n",
       "    .dataframe thead th {\n",
       "        text-align: right;\n",
       "    }\n",
       "</style>\n",
       "<table border=\"1\" class=\"dataframe\">\n",
       "  <thead>\n",
       "    <tr style=\"text-align: right;\">\n",
       "      <th></th>\n",
       "      <th>00</th>\n",
       "      <th>00 pm</th>\n",
       "      <th>000</th>\n",
       "      <th>01</th>\n",
       "      <th>04</th>\n",
       "      <th>05</th>\n",
       "      <th>06</th>\n",
       "      <th>07</th>\n",
       "      <th>08</th>\n",
       "      <th>10</th>\n",
       "      <th>...</th>\n",
       "      <th>youtube</th>\n",
       "      <th>youtube channel</th>\n",
       "      <th>youtube watch</th>\n",
       "      <th>yr</th>\n",
       "      <th>yr old</th>\n",
       "      <th>yrs</th>\n",
       "      <th>yup</th>\n",
       "      <th>zero</th>\n",
       "      <th>zero carb</th>\n",
       "      <th>zone</th>\n",
       "    </tr>\n",
       "    <tr>\n",
       "      <th>cluster</th>\n",
       "      <th></th>\n",
       "      <th></th>\n",
       "      <th></th>\n",
       "      <th></th>\n",
       "      <th></th>\n",
       "      <th></th>\n",
       "      <th></th>\n",
       "      <th></th>\n",
       "      <th></th>\n",
       "      <th></th>\n",
       "      <th></th>\n",
       "      <th></th>\n",
       "      <th></th>\n",
       "      <th></th>\n",
       "      <th></th>\n",
       "      <th></th>\n",
       "      <th></th>\n",
       "      <th></th>\n",
       "      <th></th>\n",
       "      <th></th>\n",
       "      <th></th>\n",
       "    </tr>\n",
       "  </thead>\n",
       "  <tbody>\n",
       "    <tr>\n",
       "      <th>0</th>\n",
       "      <td>33</td>\n",
       "      <td>33</td>\n",
       "      <td>33</td>\n",
       "      <td>33</td>\n",
       "      <td>33</td>\n",
       "      <td>33</td>\n",
       "      <td>33</td>\n",
       "      <td>33</td>\n",
       "      <td>33</td>\n",
       "      <td>33</td>\n",
       "      <td>...</td>\n",
       "      <td>33</td>\n",
       "      <td>33</td>\n",
       "      <td>33</td>\n",
       "      <td>33</td>\n",
       "      <td>33</td>\n",
       "      <td>33</td>\n",
       "      <td>33</td>\n",
       "      <td>33</td>\n",
       "      <td>33</td>\n",
       "      <td>33</td>\n",
       "    </tr>\n",
       "    <tr>\n",
       "      <th>1</th>\n",
       "      <td>1884</td>\n",
       "      <td>1884</td>\n",
       "      <td>1884</td>\n",
       "      <td>1884</td>\n",
       "      <td>1884</td>\n",
       "      <td>1884</td>\n",
       "      <td>1884</td>\n",
       "      <td>1884</td>\n",
       "      <td>1884</td>\n",
       "      <td>1884</td>\n",
       "      <td>...</td>\n",
       "      <td>1884</td>\n",
       "      <td>1884</td>\n",
       "      <td>1884</td>\n",
       "      <td>1884</td>\n",
       "      <td>1884</td>\n",
       "      <td>1884</td>\n",
       "      <td>1884</td>\n",
       "      <td>1884</td>\n",
       "      <td>1884</td>\n",
       "      <td>1884</td>\n",
       "    </tr>\n",
       "    <tr>\n",
       "      <th>2</th>\n",
       "      <td>139</td>\n",
       "      <td>139</td>\n",
       "      <td>139</td>\n",
       "      <td>139</td>\n",
       "      <td>139</td>\n",
       "      <td>139</td>\n",
       "      <td>139</td>\n",
       "      <td>139</td>\n",
       "      <td>139</td>\n",
       "      <td>139</td>\n",
       "      <td>...</td>\n",
       "      <td>139</td>\n",
       "      <td>139</td>\n",
       "      <td>139</td>\n",
       "      <td>139</td>\n",
       "      <td>139</td>\n",
       "      <td>139</td>\n",
       "      <td>139</td>\n",
       "      <td>139</td>\n",
       "      <td>139</td>\n",
       "      <td>139</td>\n",
       "    </tr>\n",
       "    <tr>\n",
       "      <th>3</th>\n",
       "      <td>483</td>\n",
       "      <td>483</td>\n",
       "      <td>483</td>\n",
       "      <td>483</td>\n",
       "      <td>483</td>\n",
       "      <td>483</td>\n",
       "      <td>483</td>\n",
       "      <td>483</td>\n",
       "      <td>483</td>\n",
       "      <td>483</td>\n",
       "      <td>...</td>\n",
       "      <td>483</td>\n",
       "      <td>483</td>\n",
       "      <td>483</td>\n",
       "      <td>483</td>\n",
       "      <td>483</td>\n",
       "      <td>483</td>\n",
       "      <td>483</td>\n",
       "      <td>483</td>\n",
       "      <td>483</td>\n",
       "      <td>483</td>\n",
       "    </tr>\n",
       "    <tr>\n",
       "      <th>4</th>\n",
       "      <td>595</td>\n",
       "      <td>595</td>\n",
       "      <td>595</td>\n",
       "      <td>595</td>\n",
       "      <td>595</td>\n",
       "      <td>595</td>\n",
       "      <td>595</td>\n",
       "      <td>595</td>\n",
       "      <td>595</td>\n",
       "      <td>595</td>\n",
       "      <td>...</td>\n",
       "      <td>595</td>\n",
       "      <td>595</td>\n",
       "      <td>595</td>\n",
       "      <td>595</td>\n",
       "      <td>595</td>\n",
       "      <td>595</td>\n",
       "      <td>595</td>\n",
       "      <td>595</td>\n",
       "      <td>595</td>\n",
       "      <td>595</td>\n",
       "    </tr>\n",
       "    <tr>\n",
       "      <th>5</th>\n",
       "      <td>1149</td>\n",
       "      <td>1149</td>\n",
       "      <td>1149</td>\n",
       "      <td>1149</td>\n",
       "      <td>1149</td>\n",
       "      <td>1149</td>\n",
       "      <td>1149</td>\n",
       "      <td>1149</td>\n",
       "      <td>1149</td>\n",
       "      <td>1149</td>\n",
       "      <td>...</td>\n",
       "      <td>1149</td>\n",
       "      <td>1149</td>\n",
       "      <td>1149</td>\n",
       "      <td>1149</td>\n",
       "      <td>1149</td>\n",
       "      <td>1149</td>\n",
       "      <td>1149</td>\n",
       "      <td>1149</td>\n",
       "      <td>1149</td>\n",
       "      <td>1149</td>\n",
       "    </tr>\n",
       "  </tbody>\n",
       "</table>\n",
       "<p>6 rows × 10000 columns</p>\n",
       "</div>"
      ],
      "text/plain": [
       "           00  00 pm   000    01    04    05    06    07    08    10  ...  \\\n",
       "cluster                                                               ...   \n",
       "0          33     33    33    33    33    33    33    33    33    33  ...   \n",
       "1        1884   1884  1884  1884  1884  1884  1884  1884  1884  1884  ...   \n",
       "2         139    139   139   139   139   139   139   139   139   139  ...   \n",
       "3         483    483   483   483   483   483   483   483   483   483  ...   \n",
       "4         595    595   595   595   595   595   595   595   595   595  ...   \n",
       "5        1149   1149  1149  1149  1149  1149  1149  1149  1149  1149  ...   \n",
       "\n",
       "         youtube  youtube channel  youtube watch    yr  yr old   yrs   yup  \\\n",
       "cluster                                                                      \n",
       "0             33               33             33    33      33    33    33   \n",
       "1           1884             1884           1884  1884    1884  1884  1884   \n",
       "2            139              139            139   139     139   139   139   \n",
       "3            483              483            483   483     483   483   483   \n",
       "4            595              595            595   595     595   595   595   \n",
       "5           1149             1149           1149  1149    1149  1149  1149   \n",
       "\n",
       "         zero  zero carb  zone  \n",
       "cluster                         \n",
       "0          33         33    33  \n",
       "1        1884       1884  1884  \n",
       "2         139        139   139  \n",
       "3         483        483   483  \n",
       "4         595        595   595  \n",
       "5        1149       1149  1149  \n",
       "\n",
       "[6 rows x 10000 columns]"
      ]
     },
     "execution_count": 36,
     "metadata": {},
     "output_type": "execute_result"
    }
   ],
   "source": [
    "features6_tf = pd.DataFrame(train_tf.toarray(), columns = tf.get_feature_names())\n",
    "features6_tf['cluster'] = km_tf_6.labels_\n",
    "features6_tf.groupby(by = 'cluster').count()"
   ]
  },
  {
   "cell_type": "markdown",
   "metadata": {},
   "source": [
    "We create a table to hold our cluster number, number of posts and the top key word in the clusterring process. "
   ]
  },
  {
   "cell_type": "code",
   "execution_count": 121,
   "metadata": {},
   "outputs": [
    {
     "data": {
      "text/html": [
       "<div>\n",
       "<style scoped>\n",
       "    .dataframe tbody tr th:only-of-type {\n",
       "        vertical-align: middle;\n",
       "    }\n",
       "\n",
       "    .dataframe tbody tr th {\n",
       "        vertical-align: top;\n",
       "    }\n",
       "\n",
       "    .dataframe thead th {\n",
       "        text-align: right;\n",
       "    }\n",
       "</style>\n",
       "<table border=\"1\" class=\"dataframe\">\n",
       "  <thead>\n",
       "    <tr style=\"text-align: right;\">\n",
       "      <th></th>\n",
       "      <th>cluster</th>\n",
       "      <th>posts</th>\n",
       "      <th>key word</th>\n",
       "    </tr>\n",
       "  </thead>\n",
       "  <tbody>\n",
       "    <tr>\n",
       "      <th>0</th>\n",
       "      <td>0</td>\n",
       "      <td>33</td>\n",
       "      <td>Removed</td>\n",
       "    </tr>\n",
       "    <tr>\n",
       "      <th>1</th>\n",
       "      <td>1</td>\n",
       "      <td>1884</td>\n",
       "      <td>Insurance</td>\n",
       "    </tr>\n",
       "    <tr>\n",
       "      <th>2</th>\n",
       "      <td>2</td>\n",
       "      <td>139</td>\n",
       "      <td>Libre</td>\n",
       "    </tr>\n",
       "    <tr>\n",
       "      <th>3</th>\n",
       "      <td>3</td>\n",
       "      <td>483</td>\n",
       "      <td>Dexcom</td>\n",
       "    </tr>\n",
       "    <tr>\n",
       "      <th>4</th>\n",
       "      <td>4</td>\n",
       "      <td>595</td>\n",
       "      <td>Pump</td>\n",
       "    </tr>\n",
       "    <tr>\n",
       "      <th>5</th>\n",
       "      <td>5</td>\n",
       "      <td>1149</td>\n",
       "      <td>Low</td>\n",
       "    </tr>\n",
       "  </tbody>\n",
       "</table>\n",
       "</div>"
      ],
      "text/plain": [
       "   cluster  posts   key word\n",
       "0        0     33    Removed\n",
       "1        1   1884  Insurance\n",
       "2        2    139      Libre\n",
       "3        3    483     Dexcom\n",
       "4        4    595       Pump\n",
       "5        5   1149        Low"
      ]
     },
     "execution_count": 121,
     "metadata": {},
     "output_type": "execute_result"
    }
   ],
   "source": [
    "cluster = [0,1,2,3,4,5]\n",
    "posts = [33, 1884, 139, 483, 595, 1149]\n",
    "key_words = ['Removed', 'Insurance', 'Libre', \"Dexcom\", \"Pump\", \"Low\"]\n",
    "\n",
    "\n",
    "clusters = pd.DataFrame({'cluster': cluster,\n",
    "                   'posts': posts, \n",
    "                        \"key word\" : key_words})    \n",
    "clusters"
   ]
  },
  {
   "cell_type": "markdown",
   "metadata": {},
   "source": [
    "We add a column to our t1 original dataframe, one that will label the post to belonging to one cluster, and we will call this column 'cluster'."
   ]
  },
  {
   "cell_type": "code",
   "execution_count": 37,
   "metadata": {},
   "outputs": [],
   "source": [
    "t1['cluster'] = km_tf_6.labels_"
   ]
  },
  {
   "cell_type": "markdown",
   "metadata": {},
   "source": [
    "We verify that our dataframe has the column properly created:"
   ]
  },
  {
   "cell_type": "code",
   "execution_count": 38,
   "metadata": {},
   "outputs": [
    {
     "data": {
      "text/html": [
       "<div>\n",
       "<style scoped>\n",
       "    .dataframe tbody tr th:only-of-type {\n",
       "        vertical-align: middle;\n",
       "    }\n",
       "\n",
       "    .dataframe tbody tr th {\n",
       "        vertical-align: top;\n",
       "    }\n",
       "\n",
       "    .dataframe thead th {\n",
       "        text-align: right;\n",
       "    }\n",
       "</style>\n",
       "<table border=\"1\" class=\"dataframe\">\n",
       "  <thead>\n",
       "    <tr style=\"text-align: right;\">\n",
       "      <th></th>\n",
       "      <th>title</th>\n",
       "      <th>selftext</th>\n",
       "      <th>subreddit</th>\n",
       "      <th>created_utc</th>\n",
       "      <th>author</th>\n",
       "      <th>num_comments</th>\n",
       "      <th>score</th>\n",
       "      <th>is_self</th>\n",
       "      <th>timestamp</th>\n",
       "      <th>all_text</th>\n",
       "      <th>text</th>\n",
       "      <th>cluster</th>\n",
       "    </tr>\n",
       "  </thead>\n",
       "  <tbody>\n",
       "    <tr>\n",
       "      <th>0</th>\n",
       "      <td>Parents with T1D kids on low carb diet. Any im...</td>\n",
       "      <td>Hi all. My son (7) is t1d and is on a low carb...</td>\n",
       "      <td>diabetes_t1</td>\n",
       "      <td>1582052715</td>\n",
       "      <td>midnightcaller</td>\n",
       "      <td>4</td>\n",
       "      <td>1</td>\n",
       "      <td>True</td>\n",
       "      <td>2020-02-18</td>\n",
       "      <td>[Parents, with, T1D, kids, on, low, carb, diet...</td>\n",
       "      <td>Parents with T1D kids on low carb diet Any imp...</td>\n",
       "      <td>5</td>\n",
       "    </tr>\n",
       "    <tr>\n",
       "      <th>1</th>\n",
       "      <td>HBA1C results (2 months since diagnosis)</td>\n",
       "      <td>Diagnosed with type 1 mid December 2019, admit...</td>\n",
       "      <td>diabetes_t1</td>\n",
       "      <td>1582054702</td>\n",
       "      <td>snazehhh</td>\n",
       "      <td>1</td>\n",
       "      <td>1</td>\n",
       "      <td>True</td>\n",
       "      <td>2020-02-18</td>\n",
       "      <td>[HBA1C, results, 2, months, since, diagnosis, ...</td>\n",
       "      <td>HBA1C results 2 months since diagnosis Diagnos...</td>\n",
       "      <td>1</td>\n",
       "    </tr>\n",
       "  </tbody>\n",
       "</table>\n",
       "</div>"
      ],
      "text/plain": [
       "                                               title  \\\n",
       "0  Parents with T1D kids on low carb diet. Any im...   \n",
       "1           HBA1C results (2 months since diagnosis)   \n",
       "\n",
       "                                            selftext    subreddit  \\\n",
       "0  Hi all. My son (7) is t1d and is on a low carb...  diabetes_t1   \n",
       "1  Diagnosed with type 1 mid December 2019, admit...  diabetes_t1   \n",
       "\n",
       "   created_utc          author  num_comments  score  is_self   timestamp  \\\n",
       "0   1582052715  midnightcaller             4      1     True  2020-02-18   \n",
       "1   1582054702        snazehhh             1      1     True  2020-02-18   \n",
       "\n",
       "                                            all_text  \\\n",
       "0  [Parents, with, T1D, kids, on, low, carb, diet...   \n",
       "1  [HBA1C, results, 2, months, since, diagnosis, ...   \n",
       "\n",
       "                                                text  cluster  \n",
       "0  Parents with T1D kids on low carb diet Any imp...        5  \n",
       "1  HBA1C results 2 months since diagnosis Diagnos...        1  "
      ]
     },
     "execution_count": 38,
     "metadata": {},
     "output_type": "execute_result"
    }
   ],
   "source": [
    "t1.head(2)"
   ]
  },
  {
   "cell_type": "markdown",
   "metadata": {},
   "source": [
    "As we can observe above, we have 6 clusters labeled as we noted aboeve - and they are: \n",
    "- cluster 0 has 33 posts, \n",
    "- cluster 1 has 1884 posts, \n",
    "- cluster 2 has 139 posts,\n",
    "- cluster 3 has 483 posts,\n",
    "- cluster 4 has 595 posts, and\n",
    "- cluster 5 has 1149 posts. "
   ]
  },
  {
   "cell_type": "markdown",
   "metadata": {},
   "source": [
    "We will analyze in depth all our clusters below, and we will label them with the key word in each. "
   ]
  },
  {
   "cell_type": "markdown",
   "metadata": {},
   "source": [
    "## Cluster 0 \"Removed\""
   ]
  },
  {
   "cell_type": "markdown",
   "metadata": {},
   "source": [
    "We find out the top 10 words that have the highest tfidf sum in the clustering process for the cluster we are analyzing:"
   ]
  },
  {
   "cell_type": "code",
   "execution_count": 39,
   "metadata": {},
   "outputs": [
    {
     "data": {
      "text/plain": [
       "removed            18.270375\n",
       "types               1.142058\n",
       "benefits            1.079834\n",
       "symptoms            1.062118\n",
       "causes symptoms     0.943327\n",
       "symptoms amp        0.943327\n",
       "treatment           0.864573\n",
       "nephropathy         0.828745\n",
       "counteract          0.822491\n",
       "remedy              0.811978\n",
       "Name: 0, dtype: float64"
      ]
     },
     "execution_count": 39,
     "metadata": {},
     "output_type": "execute_result"
    }
   ],
   "source": [
    "features6_tf.groupby(by = 'cluster').sum().iloc[0].sort_values(ascending = False).head(10)"
   ]
  },
  {
   "cell_type": "code",
   "execution_count": 41,
   "metadata": {},
   "outputs": [
    {
     "data": {
      "image/png": "[encoded data removed]",
      "text/plain": [
       "<Figure size 432x288 with 1 Axes>"
      ]
     },
     "metadata": {},
     "output_type": "display_data"
    }
   ],
   "source": [
    "features6_tf.groupby(by = 'cluster').sum().iloc[0].sort_values(ascending = False).head(10).plot.barh(title = \"Words with the highest TFIDF Cluster 0\");\n"
   ]
  },
  {
   "cell_type": "markdown",
   "metadata": {},
   "source": [
    "The graph above ilustrates the top 10 words, ordered by the highest tfidf sum - which relveals the word with the highest importance in this cluster is \"removed\". We investigate this words' meaning in this context."
   ]
  },
  {
   "cell_type": "markdown",
   "metadata": {},
   "source": [
    "We create below a mask for selecting just the posts from cluster 0, and masks for selecting just posts that have a certain word in the 'text' field in order to dig deeper into the structure of our cluster."
   ]
  },
  {
   "cell_type": "code",
   "execution_count": 42,
   "metadata": {},
   "outputs": [],
   "source": [
    "cluster_0_mask = t1['cluster'] == 0\n",
    "mask_new = t1['text'].str.contains(\"removed\")"
   ]
  },
  {
   "cell_type": "markdown",
   "metadata": {},
   "source": [
    "We apply the masks created above to identify the posts in cluster 0 that contain the word \"removed.\" We pull several of these posts in order to decide what it's meaning is.\n"
   ]
  },
  {
   "cell_type": "code",
   "execution_count": 43,
   "metadata": {},
   "outputs": [
    {
     "data": {
      "text/plain": [
       "'Help with insulin costs removed'"
      ]
     },
     "execution_count": 43,
     "metadata": {},
     "output_type": "execute_result"
    }
   ],
   "source": [
    "t1[cluster_0_mask].text.iloc[0]"
   ]
  },
  {
   "cell_type": "code",
   "execution_count": 44,
   "metadata": {
    "scrolled": true
   },
   "outputs": [
    {
     "data": {
      "text/plain": [
       "Int64Index([   9,   53,   78,  145,  202,  338,  432,  666,  789, 1225, 1343,\n",
       "            1589, 1713, 1812, 1902, 1956, 1968, 2174, 2185, 2254, 2753, 2810,\n",
       "            2882, 2940, 3227, 3308, 3394, 3448, 3605, 3627, 3682, 3744, 3851],\n",
       "           dtype='int64')"
      ]
     },
     "execution_count": 44,
     "metadata": {},
     "output_type": "execute_result"
    }
   ],
   "source": [
    "t1[cluster_0_mask & mask_new].index"
   ]
  },
  {
   "cell_type": "code",
   "execution_count": 45,
   "metadata": {},
   "outputs": [
    {
     "data": {
      "text/plain": [
       "'Help with insulin costs removed'"
      ]
     },
     "execution_count": 45,
     "metadata": {},
     "output_type": "execute_result"
    }
   ],
   "source": [
    "t1.iloc[9].text"
   ]
  },
  {
   "cell_type": "code",
   "execution_count": 46,
   "metadata": {},
   "outputs": [
    {
     "data": {
      "text/plain": [
       "'Diabetic Nephropathy removed'"
      ]
     },
     "execution_count": 46,
     "metadata": {},
     "output_type": "execute_result"
    }
   ],
   "source": [
    "t1.iloc[145].text"
   ]
  },
  {
   "cell_type": "code",
   "execution_count": 47,
   "metadata": {
    "scrolled": false
   },
   "outputs": [
    {
     "data": {
      "text/plain": [
       "'I accidentally removed the cartridge from my T Slim X2 briefly is it ok I only got the thing put on yesterday and the cartridge was only out for a few seconds'"
      ]
     },
     "execution_count": 47,
     "metadata": {},
     "output_type": "execute_result"
    }
   ],
   "source": [
    "t1.iloc[2940].text"
   ]
  },
  {
   "cell_type": "markdown",
   "metadata": {},
   "source": [
    "We conclude that the first cluster (cluster 0) is a cluster of posts where the 'selftext' - the original post - was removed. Usually these posts are removed  by a Redditor – or a moderator – they wipe a post down for one reason or another. The original thread and title remain, but their content is no longer available. They are possibly deemed as spam. However - after exmaining the cluster closely we find that 1 of the 33 'removed posts' is not realy a removed post - but it does have the word 'removed' in its title and text - the post is located at index 2940. This was a post about a person accidentaly removing their cartridge.  and asking for help. Clearly, we will encounter a difficulty in classifying these posts as they have no text - and while these posts should have been removed from the original corpus to be analyzed - we might have missed posts that actually have the text word \"removed\" as pasrt of the text - so care should be taken in removing such posts and they should be evaluated individually. Still, we can asses their relevance in the contect of this sytudy - as it shows us the percentage of posts that were removed over the 100 days we are analyzing. Out of the 33 posts removed only 32 were actually erased by a moderator - and that is out of a total of 4283 usable posts (not with null values in the text). That means that only .77% of the posts were removed and were considered spam."
   ]
  },
  {
   "cell_type": "markdown",
   "metadata": {},
   "source": [
    "We define a function that will find the number of times a word appears in a cluster - we will use this function for the future clusters too."
   ]
  },
  {
   "cell_type": "code",
   "execution_count": 48,
   "metadata": {
    "scrolled": true
   },
   "outputs": [],
   "source": [
    "def find_word_count(word, cluster):\n",
    "    count_words=0\n",
    "    for i in range(len(list(t1[cluster].index))):\n",
    "        count = t1[cluster].text.iloc[i].count(word)\n",
    "        count_words = count_words + count\n",
    "    return count_words  "
   ]
  },
  {
   "cell_type": "markdown",
   "metadata": {},
   "source": [
    "We find out how many times the word \"removed\" appears in our cluster:"
   ]
  },
  {
   "cell_type": "code",
   "execution_count": 49,
   "metadata": {},
   "outputs": [
    {
     "data": {
      "text/plain": [
       "33"
      ]
     },
     "execution_count": 49,
     "metadata": {},
     "output_type": "execute_result"
    }
   ],
   "source": [
    "find_word_count('removed', cluster_0_mask)"
   ]
  },
  {
   "cell_type": "markdown",
   "metadata": {},
   "source": [
    "The number above matches the number of posts in this cluster. "
   ]
  },
  {
   "cell_type": "markdown",
   "metadata": {},
   "source": [
    "### Cluster 1 \"Insurance\""
   ]
  },
  {
   "cell_type": "markdown",
   "metadata": {},
   "source": [
    "We find out the top 10 words that have the highest tfidf sum in the cluster we are analyzing:"
   ]
  },
  {
   "cell_type": "code",
   "execution_count": 50,
   "metadata": {},
   "outputs": [
    {
     "data": {
      "text/plain": [
       "insurance    31.218609\n",
       "help         29.910748\n",
       "people       28.351963\n",
       "t1           27.652692\n",
       "need         26.552860\n",
       "t1d          25.954496\n",
       "a1c          25.243329\n",
       "good         23.245617\n",
       "amp          22.473280\n",
       "thanks       22.102882\n",
       "Name: 1, dtype: float64"
      ]
     },
     "execution_count": 50,
     "metadata": {},
     "output_type": "execute_result"
    }
   ],
   "source": [
    "features6_tf.groupby(by = 'cluster').sum().iloc[1].sort_values(ascending = False).head(10)"
   ]
  },
  {
   "cell_type": "code",
   "execution_count": 52,
   "metadata": {},
   "outputs": [
    {
     "data": {
      "image/png": "[encoded data removed]",
      "text/plain": [
       "<Figure size 432x288 with 1 Axes>"
      ]
     },
     "metadata": {},
     "output_type": "display_data"
    }
   ],
   "source": [
    "features6_tf.groupby(by = 'cluster').sum().iloc[1].sort_values(ascending = False).head(10).plot.barh(title = \"Words with the highest TFIDF sum Cluster 1\");\n"
   ]
  },
  {
   "cell_type": "markdown",
   "metadata": {},
   "source": [
    "We create below a mask for selecting just the posts from cluster 1, and masks for selecting just posts that have a certain word in the 'text' field in order to dig deeper into the structure of our cluster."
   ]
  },
  {
   "cell_type": "code",
   "execution_count": 122,
   "metadata": {},
   "outputs": [],
   "source": [
    "cluster_1_mask = t1['cluster'] == 1\n",
    "mask_insurance = t1['text'].str.contains(\"insurance\")\n",
    "mask_help = t1['text'].str.contains(\"help\")\n",
    "mask_need = t1['text'].str.contains(\"need\")"
   ]
  },
  {
   "cell_type": "code",
   "execution_count": 54,
   "metadata": {},
   "outputs": [
    {
     "data": {
      "text/plain": [
       "Int64Index([  35,   57,   69,   90,   95,  103,  188,  203,  227,  233,\n",
       "            ...\n",
       "            4061, 4074, 4101, 4156, 4185, 4225, 4252, 4261, 4277, 4278],\n",
       "           dtype='int64', length=216)"
      ]
     },
     "execution_count": 54,
     "metadata": {},
     "output_type": "execute_result"
    }
   ],
   "source": [
    "t1[cluster_1_mask & mask_insurance].index"
   ]
  },
  {
   "cell_type": "code",
   "execution_count": 123,
   "metadata": {},
   "outputs": [
    {
     "data": {
      "text/plain": [
       "Int64Index([  69,   90,  233,  264,  307,  321,  376,  379,  428,  511,  557,\n",
       "             611,  635,  709,  718,  779,  787,  847,  969, 1011, 1109, 1495,\n",
       "            1577, 1692, 1740, 1749, 1794, 1822, 1850, 1884, 1916, 2082, 2134,\n",
       "            2186, 2217, 2224, 2251, 2277, 2293, 2300, 2510, 2520, 2593, 2667,\n",
       "            2774, 2799, 2973, 2984, 3066, 3221, 3287, 3293, 3452, 3529, 3636,\n",
       "            3657, 3668, 3684, 3723, 3751, 3801, 3846, 3865, 3869, 3985, 4061,\n",
       "            4185, 4261, 4278],\n",
       "           dtype='int64')"
      ]
     },
     "execution_count": 123,
     "metadata": {},
     "output_type": "execute_result"
    }
   ],
   "source": [
    "t1[cluster_1_mask & mask_insurance & mask_need].index"
   ]
  },
  {
   "cell_type": "code",
   "execution_count": 55,
   "metadata": {},
   "outputs": [
    {
     "data": {
      "image/png": "[encoded data removed]",
      "text/plain": [
       "<Figure size 432x288 with 1 Axes>"
      ]
     },
     "metadata": {},
     "output_type": "display_data"
    }
   ],
   "source": [
    "#we create a list of the top 10 words that have the highest coefficient in our cluster:\n",
    "words = ['insurance', 'help', 'people', 't1', 'need', 't1d', 'a1c', 'good', 'amp', 'thanks']\n",
    "#we plot the frequency of the top 10 words with the highest coefficient for our cluster:\n",
    "frequency = []\n",
    "for word in words:\n",
    "    count = find_word_count(word, cluster_1_mask)\n",
    "    frequency.append(count)\n",
    "freq = pd.DataFrame({'words': words,\n",
    "                   'frequency': frequency})    \n",
    "freq.plot.barh(title = \"Frequency of words with a high TFIDF sum\", x = 'words');"
   ]
  },
  {
   "cell_type": "markdown",
   "metadata": {},
   "source": [
    "As we can see in the graph above, although the word \"insurance\" is the one with the highest TFIDF sum in the clustering process, it does not have the higest frequency in our cluster. This is clearly a result of how the vectorizer TFIDF worked in preprocessing of our text - as in TFIDF the importance of a word is not really reflected only by its frequency, as we described above."
   ]
  },
  {
   "cell_type": "code",
   "execution_count": 56,
   "metadata": {},
   "outputs": [
    {
     "data": {
      "text/plain": [
       "'Insurance companies are a joke My morning consisted of calling my insurance company prescription company and crying in a pharmacy today I got put on new health insurance due to life events I thought that this was a plus because insurance covers 90 of prescription cost but no it s not I went to go get my Novolog yesterday and it was almost 300 So I don t get it because I can t afford that I figured it was like a thing where they only cover humalog or something like that So I call my insurance company today and they tell me they don t cover any insulin cost until I meet my 5000 deductible This is my parents health insurance and I was on my own before and my deductible was only 500 I was so shocked I ve never even heard of prescriptions not being covered until the deductible is met Like wtf I called some other services through my insurance to see if there was some sort of mix up There wasn t My insurance company basically said fuck you I don t care if you die Not really the representative that helped me was actually super nice So I was upset but I was like Okay I can figure this out I went to buy the insulin with my credit card and they only gave me one vial I use three in a month The pharmacist came to help me and refunded my money so he could fix it and give me the 3 vials and he came back and said that it was 284 a vial not for a month prescription I was so upset at this point So I told him I would just buy the one vial to get me by until I figured out what to do and my card got declined because my bank thought it was fraud for being charged the same large amount twice I burst into tears in the CVS and just walked out I got to my car and got a text about the fraud thing and fixed it But I was too emotional to go back inside Wtf is wrong with America How is this even allowed How could anyone charge so much for a life saving drug I can t afford to be alive right now I m 22 years old and I can barely afford my rent let alone over 800 a month for insulin Does this get any easier I m so upset I m rationing my insulin until I get this fucking figured out It s so dumb I hate this Ohio needs to get on that insulin cap'"
      ]
     },
     "execution_count": 56,
     "metadata": {},
     "output_type": "execute_result"
    }
   ],
   "source": [
    "t1.iloc[69].text"
   ]
  },
  {
   "cell_type": "code",
   "execution_count": 57,
   "metadata": {},
   "outputs": [
    {
     "data": {
      "text/plain": [
       "'What I ve learnedSo maybe this will be unpopular but I think I ve learned a lot from being type 1 I think I take life for granted a lot less than I used to so I think that s an upside I think we are forced to look at the pros when were on this side of things I think most people take life for granted but we see it differently and this can include anyone with a chronic illness I m not trying to single us out In my experience I have a much more positive attitude than my able bodied counterparts When you re faced with the worst you seek positivity right So in a way I feel blessed I also hate the term blessed to be here surviving despite it all I m also lucky to have a good job with decent insurance so maybe that helps But barring all negative aspects of this disease we are defying the odds just being here And that in itself is amazing 100 years ago we d all be dead or starving to prolong our lives I should not be here and the fact that I am here and thriving gives me hope for humanity I hope that someone else out there feels the same despite the hoops we jump through daily just to breathe and pretend to be normal Night y all'"
      ]
     },
     "execution_count": 57,
     "metadata": {},
     "output_type": "execute_result"
    }
   ],
   "source": [
    "t1.iloc[3978].text"
   ]
  },
  {
   "cell_type": "markdown",
   "metadata": {},
   "source": [
    "THe posts below shows the word \"need\" in this context, associated with insurance, help in order to get medication when the insurance is lost, and so on:"
   ]
  },
  {
   "cell_type": "code",
   "execution_count": 124,
   "metadata": {},
   "outputs": [
    {
     "data": {
      "text/plain": [
       "'Social aspects of t1d and insurance info Hello all I am a fellow autoimmune disease sufferer in my case my autoimmune disease attacks my cartilage and tendons and it can cause me severe pain and fatigue I also take biologic meds for my illness and I realize that people like myself have diabetics to thank for the development of biologic medications which are now used for lots of different illnesses including autoimmune conditions as well as cancer I ve known a few folks over the years who have type 1 diabetes and aside from seeing them occasionally administer their insulin or talk about how a special pump type device helps them manage their diabetes the illness doesn t seem to have a significant impact on the person s daily life and their overall ability to function and work a normal job I ve recently seen in the news some tragic horror stories where diabetics have to run Go Fund Me s in order to cover the costs of insulin or having to resort to Walmart insulin that sounds atrocious when they don t have insurance and there was a story about a 27 year old guy with type 1 who died as a result of not having insurance NO ONE should die needlessly from a medical condition that is as easily treated as type 1 diabetes Our current healthcare climate got me thinking about some things and I was wondering how these sorts of issues would affect someone with t1d What are your options where you live in the event that you don t have health insurance How would you access insulin if your insurance wasn t available Some states offer Medicaid and among the states that offer Medicaid some offer a program called Medicaid buyin where people with qualifying conditions can purchase Medicaid insurance for far less than the regular insurance market Have you had to make the choice between keeping your income below a certain threshold in order to qualify for Medicaid or face the potential of losing your insurance if you make more than the maximum that qualifies people for Medicaid Regarding employment how difficult is it to find a job that offers full time employment with good health insurance as opposed to the numerous companies that only hire part time employees so that they don t have to cover health insurance If you do have a job that offers you health insurance have you faced poor working conditions or unpleasant issues at your job due to the fact that your employer realizes that your ability to stay alive relies on the fact that you need health insurance The idea of an employer realizing that you need to keep your job or face losing access to a medication that you need to stay alive could potentially create some extremely unpleasant power dynamics in a work environment I don t feel like an employer should have any say whatsoever in a person s ability to access a life sustaining medication this should only be a discussion between a person and their doctor that s it I realize that people with t1d need insulin to stay alive but are generally able bodied and have the ability to work a normal job with normal physical demands This would also include working long hours as well as overtime Someone like myself wouldn t be able to do many of these things thanks to the numerous issues my autoimmune disease causes Do you feel that your condition is sometimes overlooked or minimized compared to people like myself who deal with limitations to my physical abilities My condition wouldn t endanger my life directly if I were to go without my meds but my quality of life would be so horrible without meds that I wouldn t want to remain in that state for any length of time And lastly how does your illness impact things for you socially Are there social situations job situations or interpersonal situations with relationships where your need to administer insulin has provoked a negative judgmental or condescending reaction from the people around you How have strangers reacted How have friends and or significant others reacted I live in Colorado where we have the option for Medicaid buyin for people with qualifying conditions Here are the links for that as well as the listing of adult conditions that qualify for our state Your state may have a similar buyin program I wanted to let people know that they may have more insurance options than they may have realized https www colorado gov pacific hcpf medicaid buy program working adults disabilities https www ssa gov disability professionals bluebook AdultListings htm Also feel free to ask me any questions about my autoimmune disease I m intrigued by science and medical stuff and how it impacts our daily lives'"
      ]
     },
     "execution_count": 124,
     "metadata": {},
     "output_type": "execute_result"
    }
   ],
   "source": [
    "t1.iloc[847].text"
   ]
  },
  {
   "cell_type": "code",
   "execution_count": 126,
   "metadata": {},
   "outputs": [
    {
     "data": {
      "text/plain": [
       "'Lost insurance need resourcesHello community I need some help getting meds and Medtronic equipment I lost my insurance for 6 weeks until I start at a new company Any advice I m out of insulin tomorrow'"
      ]
     },
     "execution_count": 126,
     "metadata": {},
     "output_type": "execute_result"
    }
   ],
   "source": [
    "t1.iloc[3293].text"
   ]
  },
  {
   "cell_type": "code",
   "execution_count": 127,
   "metadata": {},
   "outputs": [
    {
     "data": {
      "text/plain": [
       "'Help So I m a T1 diabetic who currently just lost all coverage from the state because I m over 21 years old When I was 18 I went from being fully insured with no problem to a share of cost plan that meant my medical bills had to be over 2300 in order for Medicaid to cover my medical expenses My mom and my dad are both diabetics so when it came to needing insulin it wasn t a problem until I started having seizures and allergic reactions to the brand they both use Now my mom is currently in the process of getting approved for the pump which is great for her but it means I m limited to the insulin I now have in stock and my dad has cut me off all together Are there any cheap medical insurances that can cover lantus with a low copay Any help would be appreciated they are currently making me pay 490 for a box but it s not something I can afford in the long run'"
      ]
     },
     "execution_count": 127,
     "metadata": {},
     "output_type": "execute_result"
    }
   ],
   "source": [
    "t1.iloc[3846].text"
   ]
  },
  {
   "cell_type": "markdown",
   "metadata": {},
   "source": [
    "The second cluster (cluster 1) has 1884 posts. This is by far the largest cluster, the only one even close to it being the last cluster (cluster 5 with 1149 posts). The word most used - the one with the most importance in the clustering process is \"Insurance\" - so we will label this Cluster \"Insurance\". Clearly - the type of insurance, having insurance or not will influence dramatically the care a type 1 diabetic gets. Having insurance is a main concern for type 1 diabetics, or parents of children and adolescents with type 1 diabetes. \n",
    "According to a 2012 study based on a 2009 survey \"Health Insurance Coverage Among People With and Without Diabetes in the U.S. Adult Population\" - \"among all adults with diabetes, 90% had some form of health insurance coverage, including 85% of people 18–64 years of age and ∼100% of people ≥65 years of age; 81% of people without diabetes had some type of coverage (vs. diabetes, P < 0.0001), including 78% of people 18–64 years of age and 99% of people ≥65 years of age.\" However, \"Two million adults <65 years of age with diabetes had no health insurance coverage, which has considerable public health and economic impact.\"  (3)(Sarah Stark Casagrande, PHD1 and Catherine C. Cowie, PHD2 \"Health Insurance Coverage Among People With and Without Diabetes in the U.S. Adult Population\" https://www.ncbi.nlm.nih.gov/pmc/articles/PMC3476921/). Clearly - we see even in this small sample that a large portion of the posts have to do with insurance. \n",
    "A large portion of the posts in this group have to do with complaints about the insurance not covering insulin, or other technology needed for managing the disease, like testing strips. A smaller portion has to do with people thankful that they have insurance. \n",
    "We see in this cluster also the presence of the word 'a1c'. \"The A1C test - also known as the HbA1C - Hemoglobin A1C test - measures the average blood sugar level for the past two to three months. The A1C test is used to identify prediabetes, to diagnose type 1 and type 2 diabetes, and to monitor if the diabetes treatment plan works.\" (4)(https://www.mayoclinic.org/tests-procedures/a1c-test/about/pac-20384643). \n",
    "Clearly, this test plays an important role in the management of type 1 diabetics - and seeing it clustered together with the insurance plan shows that people are concerned about their test results.\n",
    "\n",
    "We see other words that show that this cluster has more to do with sentiment as well - words like \"help\", and \"need\" - and while reading through the posts we see that the insurance issue can stir many emotions in people with type 1 diabetes. A large study on the sentiment analysis for people suffering from type 1 diabetes shows us the prevalence of emotion and diabetes distress in social media (5)(Ahne, Orchard, Tannier, Perchoux, Balkau, Pagoto, Harding, Czernichow, Fagherazzi - \"Insulin pricing and other major diabetes-related concerns in the USA: A study of 46,400 Tweets between 2017 and 2019\" - https://www.medrxiv.org/content/10.1101/2020.01.04.20016527v1)."
   ]
  },
  {
   "cell_type": "markdown",
   "metadata": {},
   "source": [
    "### Cluster 2 \"Libre\""
   ]
  },
  {
   "cell_type": "markdown",
   "metadata": {},
   "source": [
    "We find out the top 10 words that have the highest coefficient in the clustering process in the cluster we are analyzing:"
   ]
  },
  {
   "cell_type": "code",
   "execution_count": 58,
   "metadata": {},
   "outputs": [
    {
     "data": {
      "text/plain": [
       "libre              28.639005\n",
       "freestyle          22.452186\n",
       "freestyle libre    18.340529\n",
       "sensor              8.970931\n",
       "sensors             4.687863\n",
       "libre sensor        4.251045\n",
       "reader              3.839266\n",
       "dexcom              3.046641\n",
       "uk                  2.961726\n",
       "app                 2.835312\n",
       "Name: 2, dtype: float64"
      ]
     },
     "execution_count": 58,
     "metadata": {},
     "output_type": "execute_result"
    }
   ],
   "source": [
    "features6_tf.groupby(by = 'cluster').sum().iloc[2].sort_values(ascending = False).head(10)"
   ]
  },
  {
   "cell_type": "code",
   "execution_count": 60,
   "metadata": {},
   "outputs": [
    {
     "data": {
      "image/png": "[encoded data removed]",
      "text/plain": [
       "<Figure size 432x288 with 1 Axes>"
      ]
     },
     "metadata": {},
     "output_type": "display_data"
    }
   ],
   "source": [
    "features6_tf.groupby(by = 'cluster').sum().iloc[2].sort_values(ascending = False).head(10).plot.barh(title = \"Words with the highest TFIDF sum Cluster 2\");"
   ]
  },
  {
   "cell_type": "markdown",
   "metadata": {},
   "source": [
    "The third cluster - cluster 2 - has 139 posts, and the most relevant word is the top word \"libre\""
   ]
  },
  {
   "cell_type": "markdown",
   "metadata": {},
   "source": [
    "We create below a mask for selecting just the posts from cluster 2, and masks for selecting just posts that have a certain word in the 'text' field in order to dig deeper into the structure of our cluster."
   ]
  },
  {
   "cell_type": "code",
   "execution_count": 61,
   "metadata": {},
   "outputs": [],
   "source": [
    "cluster_2_mask = t1['cluster'] == 2\n",
    "mask_libre = t1['text'].str.contains(\"libre\")"
   ]
  },
  {
   "cell_type": "code",
   "execution_count": 62,
   "metadata": {},
   "outputs": [
    {
     "data": {
      "image/png": "[encoded data removed]",
      "text/plain": [
       "<Figure size 432x288 with 1 Axes>"
      ]
     },
     "metadata": {},
     "output_type": "display_data"
    }
   ],
   "source": [
    "#we create a list of the top 10 words that have the highest coefficient in our cluster:\n",
    "words = ['libre', 'freestyle', 'freestyle libre', 'sensor', 'sensors', 'libre sensor', 'reader', 'dexcom', 'uk', 'app']\n",
    "#we plot the frequency of the top 10 words with the highest coefficient for our cluster:\n",
    "frequency = []\n",
    "for word in words:\n",
    "    count = find_word_count(word, cluster_2_mask)\n",
    "    frequency.append(count)\n",
    "freq = pd.DataFrame({'words': words,\n",
    "                   'frequency': frequency})    \n",
    "freq.plot.barh(title = \"Frequency of words with a high TFIDF sum\", x = 'words');"
   ]
  },
  {
   "cell_type": "code",
   "execution_count": 63,
   "metadata": {
    "scrolled": true
   },
   "outputs": [
    {
     "data": {
      "text/plain": [
       "Int64Index([  89,  107,  224,  240,  258,  305,  375,  411,  434,  461,  541,\n",
       "             545,  555,  620,  621,  640,  668,  690,  736,  758,  928,  949,\n",
       "            1006, 1185, 1268, 1291, 1322, 1330, 1332, 1344, 1392, 1443, 1513,\n",
       "            1534, 1598, 1620, 1623, 1651, 1735, 1847, 1914, 1922, 1928, 1944,\n",
       "            2011, 2029, 2049, 2056, 2067, 2087, 2090, 2114, 2234, 2250, 2273,\n",
       "            2380, 2652, 2741, 2895, 2923, 3025, 3205, 3250, 3382, 3392, 3433,\n",
       "            3578, 3714, 3715, 3761, 3877, 3919, 3928, 4053, 4130, 4135, 4160,\n",
       "            4188],\n",
       "           dtype='int64')"
      ]
     },
     "execution_count": 63,
     "metadata": {},
     "output_type": "execute_result"
    }
   ],
   "source": [
    "t1[cluster_2_mask & mask_libre].index"
   ]
  },
  {
   "cell_type": "code",
   "execution_count": 64,
   "metadata": {},
   "outputs": [
    {
     "data": {
      "text/plain": [
       "'airport security amp freestyle libre sensorI ve seen so many conflicting opinions so I wanted to try and get some personal experiences how is going through airport security with a libre sensor I have seen a lot of people say don t go through the x rays or full body scanners but I ve also seen so many people say they went through and it was okay I won t be taking extra sensors so there wont be any in my luggage to worry about just the one on my body'"
      ]
     },
     "execution_count": 64,
     "metadata": {},
     "output_type": "execute_result"
    }
   ],
   "source": [
    "t1.iloc[89].text"
   ]
  },
  {
   "cell_type": "code",
   "execution_count": 65,
   "metadata": {},
   "outputs": [
    {
     "data": {
      "text/plain": [
       "'Using two sensors at the same time Is it possible to use two freestyle libre sensors at the same time I wanna insert one and activate it while the other one still works for its last 24hours Reason i wanna do this is because i have lower results the first 24hours of inserting a new sensor and i cant rely on it while i m out'"
      ]
     },
     "execution_count": 65,
     "metadata": {},
     "output_type": "execute_result"
    }
   ],
   "source": [
    "t1.iloc[3877].text"
   ]
  },
  {
   "cell_type": "code",
   "execution_count": 66,
   "metadata": {},
   "outputs": [
    {
     "data": {
      "text/plain": [
       "'The freestyle libre appI ve been trying to get a cgm in particular the dexcom for about 8 weeks now I called today to try and get an update and they couldn t give me one so I cancelled my whole order I just went to Walgreens to price a 14 day freestyle sensor and it is a helluva lot cheaper than I was expecting so I m thinking about just paying for the sensor out of pocket I just downloaded the app for it and was wondering if it would be just that easy to pick up a sensor from Walgreens and be good to go'"
      ]
     },
     "execution_count": 66,
     "metadata": {},
     "output_type": "execute_result"
    }
   ],
   "source": [
    "t1.iloc[3250].text"
   ]
  },
  {
   "cell_type": "code",
   "execution_count": 67,
   "metadata": {},
   "outputs": [
    {
     "data": {
      "text/plain": [
       "'What s your freestyle libre experience Just got one yesterday I love it so far but what was is your experience Where s the best place to get extra protection for it Thanks guys'"
      ]
     },
     "execution_count": 67,
     "metadata": {},
     "output_type": "execute_result"
    }
   ],
   "source": [
    "t1.iloc[1847].text"
   ]
  },
  {
   "cell_type": "code",
   "execution_count": 68,
   "metadata": {},
   "outputs": [
    {
     "data": {
      "text/plain": [
       "Int64Index([1534], dtype='int64')"
      ]
     },
     "execution_count": 68,
     "metadata": {},
     "output_type": "execute_result"
    }
   ],
   "source": [
    "mask_uk = t1['text'].str.contains(\"uk\")\n",
    "t1[cluster_2_mask & mask_uk].index"
   ]
  },
  {
   "cell_type": "code",
   "execution_count": 69,
   "metadata": {},
   "outputs": [
    {
     "data": {
      "text/plain": [
       "'Freestyle libre Ireland and ukSo I ve been approved for the libre and I have training on Tuesday for how to use it I know some people have trouble with the adhesive staying for the full two weeks so I m wondering what can I use with the libre and where would I get them Also I see people with decorative patches Is there anywhere in the uk or Ireland that sells them I don t want to order from a US site as delivery prices are too high'"
      ]
     },
     "execution_count": 69,
     "metadata": {},
     "output_type": "execute_result"
    }
   ],
   "source": [
    "t1.iloc[1534].text"
   ]
  },
  {
   "cell_type": "markdown",
   "metadata": {},
   "source": [
    "This cluster is clearly dominated by users of a continuous glucose monitoring system called FreeStyle Libre. \"This system consists of a small, water-proof, fully disposable sensor worn on the arm for 10 or 14 days, plus a reader device. When scanned over the sensor, the reader shows a real-time glucose reading and trend arrow, which is approved to dose insulin without an accompanying fingerstick\" (6) (https://www.freestylelibre.us/?gclid=EAIaIQobChMI1uaZ8PSL6AIVh7HtCh1jlgE8EAAYASAAEgJugfD_BwE). The use of technology for type 1 diabetics makes managing the condition easier - and consistent use of this system was shown to reduce the A1C (7) (Landau Z1,2, Abiri S3,4, Gruber N4,5, Levy-Shraga Y4,5, Brener A4,6, Lebenthal Y4,6, Barash G4,7, Pinhas-Hamiel O4,5, Rachmiel M4,7.  - \"Use of flash glucose-sensing technology (FreeStyle Libre) in youth with type 1 diabetes: AWeSoMe study group real-life observational experience\"). \n",
    "Type 1 diabetics use these forums to exchange tips about the kind of CGM (continuous glucose monitoring) systems, and the Libre system is relatively popular. This sytem requires the diabetic person to scan over the nsensor with the reader and thus obtain the blood sugar value. \n",
    "\n",
    "The concerns of the people that have a CGM system connected to their body are very varied. Tehy range from - how they can travel with it - and pass through airport control - to handling off values in the first 24 hours. Also - people echange opinions on the price of Freestyle libre - or just share how happy they are to be able to monitor the blood sugar without having to use a drop of blood as the traditional methods require. \n",
    "\n",
    "The word \"reader\"refers to Libre's reader device - while the word app refers to the app that one can download on their phone in order to record the trends and patterns their blood sugar exhibits, and also to transmit the values further to loved ones that have the matching app downloaded on their phones. \n",
    "\n",
    "The use of this technology is extremely helpful for parents of young children that suffer from type 1 diabetes. Before the apparition of CGM systems, the only option for finding out the value of the blood sugar in a diabetic person was testing the blood - that involved usualy sticking the finger with a needles and testing the blood drop with a test stick and a reader. This procedure can be traumatizing for a young child, and having this repeated sereral times a day - and several times a night - can create a constant stress both for the child and for the caregiver. The aparition of CGMs is indeed very helpful - as this way parents of children too young to asses if they suffer from a high or low blood sugar episode can monitor their child's levels without unnecessary stress. \n",
    "\n",
    "As Reddit is used by people in various countries - we notice we also have a post that seems to be from a person living in UK. As Reddit does not offer geolocation we were not able to filter out posts from people from outside the US - and we can deduce from this that some of the posts we analyze come from other english speaking countries, like UK, Australia, or Canada. The use of the Libre system is international, so it makes sense to have people from these other countries reaching out. The Type 1 diabetic online community is extremely well connected - as people from various countries exchange opinions on social media, and this is how people can compare the level of healthcare, tetst or the technology offered by the helth care companies in other countries. \n",
    "\n",
    "\n",
    "\n"
   ]
  },
  {
   "cell_type": "markdown",
   "metadata": {},
   "source": [
    "### Cluster 3 \"Dexcom\""
   ]
  },
  {
   "cell_type": "markdown",
   "metadata": {},
   "source": [
    "We find out the top 10 words that have the highest coefficient in the clustering process in the cluster we are analyzing:"
   ]
  },
  {
   "cell_type": "code",
   "execution_count": 70,
   "metadata": {},
   "outputs": [
    {
     "data": {
      "text/plain": [
       "dexcom         57.945020\n",
       "sensor         42.971195\n",
       "g6             38.768294\n",
       "dexcom g6      23.499850\n",
       "g5             20.074726\n",
       "sensors        17.233561\n",
       "transmitter    16.918114\n",
       "app            15.042435\n",
       "new            13.801346\n",
       "phone          12.462274\n",
       "Name: 3, dtype: float64"
      ]
     },
     "execution_count": 70,
     "metadata": {},
     "output_type": "execute_result"
    }
   ],
   "source": [
    "features6_tf.groupby(by = 'cluster').sum().iloc[3].sort_values(ascending = False).head(10)"
   ]
  },
  {
   "cell_type": "code",
   "execution_count": 72,
   "metadata": {},
   "outputs": [
    {
     "data": {
      "image/png": "[encoded data removed]",
      "text/plain": [
       "<Figure size 432x288 with 1 Axes>"
      ]
     },
     "metadata": {},
     "output_type": "display_data"
    }
   ],
   "source": [
    "features6_tf.groupby(by = 'cluster').sum().iloc[3].sort_values(ascending = False).head(10).plot.barh(title = \"Words with the highest TFIDF sum Cluster 3\");"
   ]
  },
  {
   "cell_type": "code",
   "execution_count": 73,
   "metadata": {},
   "outputs": [],
   "source": [
    "cluster_3_mask = t1['cluster'] == 3\n",
    "mask_dexcom = t1['text'].str.contains(\"dexcom\")"
   ]
  },
  {
   "cell_type": "code",
   "execution_count": 74,
   "metadata": {},
   "outputs": [
    {
     "data": {
      "image/png": "[encoded data removed]",
      "text/plain": [
       "<Figure size 432x288 with 1 Axes>"
      ]
     },
     "metadata": {},
     "output_type": "display_data"
    }
   ],
   "source": [
    "#we create a list of the top 10 words that have the highest coefficient in our cluster:\n",
    "words = ['phone', 'new', 'app', 'transmitter', 'sensors', 'g5', 'dexcom g6', 'g6', 'sensor', 'dexcom']\n",
    "#we plot the frequency of the top 10 words with the highest coefficient for our cluster:\n",
    "frequency = []\n",
    "for word in words:\n",
    "    count = find_word_count(word, cluster_3_mask)\n",
    "    frequency.append(count)\n",
    "freq = pd.DataFrame({'words': words,\n",
    "                   'frequency': frequency})    \n",
    "freq.plot.barh(title = \"Frequency of words with a high TFIDF sum\", x = 'words');"
   ]
  },
  {
   "cell_type": "code",
   "execution_count": 75,
   "metadata": {},
   "outputs": [
    {
     "data": {
      "text/plain": [
       "Int64Index([659, 1937, 2639, 3054, 3134, 3145, 3442], dtype='int64')"
      ]
     },
     "execution_count": 75,
     "metadata": {},
     "output_type": "execute_result"
    }
   ],
   "source": [
    "mask_g5 = t1['text'].str.contains(\"g5\")\n",
    "mask_g6 = t1['text'].str.contains(\"g6\")\n",
    "t1[cluster_3_mask & mask_g6 & mask_g5].index"
   ]
  },
  {
   "cell_type": "code",
   "execution_count": 76,
   "metadata": {},
   "outputs": [
    {
     "data": {
      "text/plain": [
       "'Cost of Dexcom in your country Currently looking at getting a dexcom g5 will cost me about 4k per year in New Zealand if I was to use the sensors for 1 week each although I ve been looking into extending their life Just out of interest what does it cost for you to get a dexcom g5 g6 where you are'"
      ]
     },
     "execution_count": 76,
     "metadata": {},
     "output_type": "execute_result"
    }
   ],
   "source": [
    "t1.iloc[659].text"
   ]
  },
  {
   "cell_type": "code",
   "execution_count": 77,
   "metadata": {},
   "outputs": [
    {
     "data": {
      "text/plain": [
       "'Can I keep on my g6 sensor and just hit pair again With my g5 sensor I was able to not remove it after a session was over and save a little money on sensors The g6 is a lot more expensive and I m not sure I will be able to get more before this session is over Has anyone else tried this'"
      ]
     },
     "execution_count": 77,
     "metadata": {},
     "output_type": "execute_result"
    }
   ],
   "source": [
    "t1.iloc[2639].text"
   ]
  },
  {
   "cell_type": "code",
   "execution_count": 79,
   "metadata": {},
   "outputs": [
    {
     "data": {
      "text/plain": [
       "'Looking for g5Hi friends My fiancé and I are T1D I have insurance and luckily was able to get the dexcom g6 However my fiancé does not currently have insurance I was wondering if any of you fellow T1Ds had extra supplies for a dexcom g5 I want to surprise him with it because he really wants one suffers from lows a lot I was thinking of us just using the g5 app so we d only need sensors and transmitters I think I m not sure as I ve never had the g5 only the g6'"
      ]
     },
     "execution_count": 79,
     "metadata": {},
     "output_type": "execute_result"
    }
   ],
   "source": [
    "t1.iloc[3134].text"
   ]
  },
  {
   "cell_type": "markdown",
   "metadata": {},
   "source": [
    "This cluster is centered around another CGM system - Dexcom, and it has 483 posts. The Dexcom system differs from the Libre one in the fact that it has an alert system which can be customized - therefore being able to alert the diabetic for low or high blood sugar events. We notice that there are more opsts in this cluster than in the Libre cluster, but we cannot conclude on it's popularity. \n",
    "\n",
    "The dexcom system is composed of a sensor that attaches to the body, a transmitter part that attaches itself to the sensor, and a reader. However, the Dexcom system can also be paired with an app on a smartphone, so the phoen can act as a reader too, and can emit alerts for low or high bloos sugars. Moreover, some smartwatches can be connected with the app - which makes the reading of the bloos sugar values very convenient. This system doe not need the diabetuc person to scan over the transmitter, but rather will transmit on its own the blood sugar reading every 5 minutes to the app or the reader. \n",
    "\n",
    "The advantage perceived in this system is clearly the ability to alert people of otherwise undetected low or high blood sugar episodes. \n",
    "\n",
    "This is the second cluster that shows the interest of tyoe 1 diabetics in CGM technology. Clearly - the use of CGMs in monitoring the values of the blood sugar is an established method by now - and it's advantages have been proven. The efficacy and accuracy of these sytstems is continuously discussed both by patients and the healthcare proffesionals - and on the topic is omnipresent on social media too (8) (John B. Welsh, MD, PhD,1 Peggy Gao, MS,1 Mark Derdzinski, PhD,1 Sarah Puhr, PhD,1 Terri Kang Johnson, PhD,1 Tomas C. Walker, DNP, CDE,1 and Claudia Graham, PhD1 - Accuracy, Utilization, and Effectiveness Comparisons of Different Continuous Glucose Monitoring Systems - https://www.ncbi.nlm.nih.gov/pmc/articles/PMC6434583/).\n",
    "\n",
    "We see the terms G5 and G6: these are the G5 and G6 generations of Dexcom. Every time a company changes the system, and the upgrade penetrates the market, people are even more so comparing the 2 versoins, and analyze the differences and benefits in order to decide if they should change from one system to the next.\n",
    "\n",
    "Also - people from various countries are exchanging information on the cost of the system - and what increase in cost they can expect when they upgrade from one system to the next.\n",
    "\n",
    "Dexcom has been improving their sytem consistently - and they switched from G4, to G5 and now to G6, and there is a G7 system announced later this year (here is a link to an interview with Dexcom's CEO and president (9) https://myglu.org/articles/dexcom-ceo-kevin-sayer-talks-g6-g7-and-the-future-of-continuous-glucose-monitoring). \n",
    "\n",
    "Each new system has a learning curve - and having online access to other people's experience mitigates the stress of changing a system, helps people cope with issues such as sensor insertion, sensor glue, sensor removal and so on. \n"
   ]
  },
  {
   "cell_type": "markdown",
   "metadata": {},
   "source": [
    "### Cluster 4 \"Pump\""
   ]
  },
  {
   "cell_type": "markdown",
   "metadata": {},
   "source": [
    "We find out the top 10 words that have the highest coefficient in the clustering process in the cluster we are analyzing:"
   ]
  },
  {
   "cell_type": "code",
   "execution_count": 80,
   "metadata": {},
   "outputs": [
    {
     "data": {
      "text/plain": [
       "pump         71.955722\n",
       "omnipod      26.917425\n",
       "medtronic    21.657846\n",
       "tandem       19.489739\n",
       "cgm          14.309258\n",
       "infusion     12.755893\n",
       "slim         11.799632\n",
       "new          11.653939\n",
       "tslim        11.242693\n",
       "x2           11.165016\n",
       "Name: 4, dtype: float64"
      ]
     },
     "execution_count": 80,
     "metadata": {},
     "output_type": "execute_result"
    }
   ],
   "source": [
    "features6_tf.groupby(by = 'cluster').sum().iloc[4].sort_values(ascending = False).head(10)"
   ]
  },
  {
   "cell_type": "code",
   "execution_count": 82,
   "metadata": {},
   "outputs": [
    {
     "data": {
      "image/png": "[encoded data removed]",
      "text/plain": [
       "<Figure size 432x288 with 1 Axes>"
      ]
     },
     "metadata": {},
     "output_type": "display_data"
    }
   ],
   "source": [
    "features6_tf.groupby(by = 'cluster').sum().iloc[4].sort_values(ascending = False).head(10).plot.barh(title = \"Words with the highest TFIDF sum Cluster 4\");"
   ]
  },
  {
   "cell_type": "code",
   "execution_count": 83,
   "metadata": {},
   "outputs": [],
   "source": [
    "cluster_4_mask = t1['cluster'] == 4\n",
    "mask_pump = t1['text'].str.contains(\"pump\")"
   ]
  },
  {
   "cell_type": "code",
   "execution_count": 84,
   "metadata": {},
   "outputs": [
    {
     "data": {
      "image/png": "[encoded data removed]",
      "text/plain": [
       "<Figure size 432x288 with 1 Axes>"
      ]
     },
     "metadata": {},
     "output_type": "display_data"
    }
   ],
   "source": [
    "#we create a list of the top 10 words that have the highest coefficient in our cluster:\n",
    "words = ['x2', 'tslim', 'new', 'slim', 'infusion', 'cgm', 'tandem', 'medtronic', 'omnipod', 'pump']\n",
    "#we plot the frequency of the top 10 words with the highest coefficient for our cluster:\n",
    "frequency = []\n",
    "for word in words:\n",
    "    count = find_word_count(word, cluster_4_mask)\n",
    "    frequency.append(count)\n",
    "freq = pd.DataFrame({'words': words,\n",
    "                   'frequency': frequency})    \n",
    "freq.plot.barh(title = \"Frequency of words with a high TFIDF sum\", x = 'words');"
   ]
  },
  {
   "cell_type": "markdown",
   "metadata": {},
   "source": [
    "This cluster has 595 posts - and the word with the highest TFIDF sum is pump. \n",
    "\n",
    "In this context - we realize that pumps are devices used by diabetics to deliver insulin continuously. They remain attahced to a diabetic's body continuously - they all have a reservoir of insulin, and they deliver it through an infusion canula inserted in the body.  The oump releases insulin almost the way the body naturally would: a steady flow throughout the day and night, called basal insulin, and an extra dose at mealtime, called a bolus, to handle rising blood sugar from the food a diabetic eats (10)(https://www.webmd.com/diabetes/insulin-pump).\n",
    "\n",
    "The use of a pump eliminates the need for multiple injections during the day - and many diabetics improve their A1C, and their quality of life through the use of a pump (11) (Jennifer Sherr, MD and William V. Tamborlane, MD - \"Past, Present, and Future of Insulin Pump Therapy: A Better Shot at Diabetes Control\" https://www.ncbi.nlm.nih.gov/pmc/articles/PMC2562271/.\n",
    "\n",
    "There are many types of pumps - and we see them listed as words found as important through our TFIDF vectorizer. Most of the require the patient to tell the pump the dose of the insulin to be delivered. The doses are calculated according to each persons needs. \n",
    "\n",
    "Omnipod is a tubless pump that stays attached to the body - and it gains traction in the diabetic community - it has to be changed every 3 days. \n",
    "\n",
    "Medtronic produces the Minimed system - which has a tube - and the ifusion site must be changed every couple of days too. \n",
    "\n",
    "Tandem is a pump that delivers insulin and it is correlated with the Dexcom system to correct the levels of blood glucose automatically trying to replicate the way a real pancreas would work - so the patient does not have to calculate the dose and type it in delivery system himself - the close loop system does that for him.(12)  (https://www.businesswire.com/news/home/20191213005424/en/Tandem-Diabetes-Care-Announces-FDA-Clearance-tslim). \n",
    "\n",
    "Clearly intergration between pumps and CGMs is a target for many companies - and it is an interest of the diabetic community too.\n",
    "\n",
    "Another topic discussed in this cluster is the infusion site - as diabetics experience issues connected with that.\n",
    "Quite a lot of time the infusion set can get blocked - either by a twisted tube, or by insuling clogging in the delivery system - and such a situation can be extremely serious as stopping the slow delivery of basal insulin can lead to dangerous high levels of blood sugar. The perfect functioning of the Insulin Infusion Set (IIS) is an essential issue for pump users - and better understanding of the issues that surround IIS are an important topic (13) (Lutz Heinemann, PhD,corresponding author1 John Walsh, PA, CDTC,2 and Ruth Roberts, MA3 - \"We Need More Research and Better Designs for Insulin Infusion Sets\" https://www.ncbi.nlm.nih.gov/pmc/articles/PMC4455397/).\n",
    "\n",
    "Switching from insulin injected several times a day to a pump is an issue discussed on the boards - as the process can be a scarry one and it requires some fine tuning that can last for a period of time in which peer support helps navigate the fears that a diavbetic can experience.\n",
    "\n",
    "Infusion location is also researched by diabetics - as the sites can become sore in time, and they are exchanging opinions on the options they have."
   ]
  },
  {
   "cell_type": "code",
   "execution_count": 85,
   "metadata": {},
   "outputs": [
    {
     "data": {
      "text/plain": [
       "Int64Index([  22,  113,  164,  175,  184,  279,  366,  403,  439,  449,  468,\n",
       "             539,  603,  859,  967, 1019, 1065, 1093, 1315, 1331, 1429, 1459,\n",
       "            1571, 1691, 1756, 1909, 2036, 2213, 2249, 2264, 2267, 2321, 2370,\n",
       "            2465, 2592, 2594, 2664, 2836, 2900, 2921, 3000, 3001, 3142, 3143,\n",
       "            3369, 3428, 3456, 3457, 3475, 3561, 3564, 3586, 3659, 3703, 3763,\n",
       "            3767, 3780, 3841, 3983, 4041, 4201],\n",
       "           dtype='int64')"
      ]
     },
     "execution_count": 85,
     "metadata": {},
     "output_type": "execute_result"
    }
   ],
   "source": [
    "mask_infusion = t1['text'].str.contains(\"infusion\")\n",
    "\n",
    "t1[cluster_4_mask & mask_infusion].index"
   ]
  },
  {
   "cell_type": "code",
   "execution_count": 87,
   "metadata": {},
   "outputs": [
    {
     "data": {
      "text/plain": [
       "'Tslim infusion set locationswhere do people commonly insert their infusion set I was contemplating my arm but it seem like the tubes would get annoying My cannula jams when I try my stomach too so I was wondering some other places to try'"
      ]
     },
     "execution_count": 87,
     "metadata": {},
     "output_type": "execute_result"
    }
   ],
   "source": [
    "t1.iloc[1909].text"
   ]
  },
  {
   "cell_type": "code",
   "execution_count": 90,
   "metadata": {},
   "outputs": [
    {
     "data": {
      "text/plain": [
       "'I keep getting failed infusion sets because of scar tissue I mean at least once a week I m 23 I ve had a pump for 18 years I rotate my sites but I have very little body fat and an active job so my choices are limited I m using a tslim with the Autosoft 90 sets I tried the angled Autosoft 30 I think but I had issues with the sites getting irritated or infected I m at my wit s end I ll think it s working bolus and eat and my sugar will spike to 300 My diabetes educator and endo don t really have any helpful suggestions I know there are people who have been on pump therapy much longer than I have and don t seem to have this issue I had to ration my infusion sets this week because I had 4 fail and had to wait for replacements Please help'"
      ]
     },
     "execution_count": 90,
     "metadata": {},
     "output_type": "execute_result"
    }
   ],
   "source": [
    "t1.iloc[1459].text"
   ]
  },
  {
   "cell_type": "code",
   "execution_count": 86,
   "metadata": {},
   "outputs": [
    {
     "data": {
      "text/plain": [
       "'Pumps and basal insulin by pen Hi there I m curious if anyone still administers some basal insulin like lantus while on a pump I see people getting sick quickly when on a pump and the infusion set fails Would it not be safer to still take some lantus daily'"
      ]
     },
     "execution_count": 86,
     "metadata": {},
     "output_type": "execute_result"
    }
   ],
   "source": [
    "t1.iloc[3841].text"
   ]
  },
  {
   "cell_type": "markdown",
   "metadata": {},
   "source": [
    "### Cluster 5 \"Low\""
   ]
  },
  {
   "cell_type": "markdown",
   "metadata": {},
   "source": [
    "We find out the top 10 words that have the highest coefficient in the clustering process in the cluster we are analyzing:"
   ]
  },
  {
   "cell_type": "code",
   "execution_count": 103,
   "metadata": {},
   "outputs": [
    {
     "data": {
      "text/plain": [
       "low       56.033197\n",
       "high      46.871129\n",
       "eat       33.166493\n",
       "feel      30.420083\n",
       "carbs     28.478765\n",
       "sugars    26.019218\n",
       "carb      25.787390\n",
       "night     24.943620\n",
       "bg        22.652880\n",
       "units     21.947635\n",
       "Name: 5, dtype: float64"
      ]
     },
     "execution_count": 103,
     "metadata": {},
     "output_type": "execute_result"
    }
   ],
   "source": [
    "features6_tf.groupby(by = 'cluster').sum().iloc[5].sort_values(ascending = False).head(10)"
   ]
  },
  {
   "cell_type": "code",
   "execution_count": 99,
   "metadata": {},
   "outputs": [
    {
     "data": {
      "image/png": "[encoded data removed]",
      "text/plain": [
       "<Figure size 432x288 with 1 Axes>"
      ]
     },
     "metadata": {},
     "output_type": "display_data"
    }
   ],
   "source": [
    "features6_tf.groupby(by = 'cluster').sum().iloc[5].sort_values(ascending = False).head(10).plot.barh(title = \"Words the highest TFIDF sum Cluster 5\");"
   ]
  },
  {
   "cell_type": "code",
   "execution_count": 103,
   "metadata": {},
   "outputs": [
    {
     "data": {
      "image/png": "[encoded data removed]",
      "text/plain": [
       "<Figure size 432x288 with 1 Axes>"
      ]
     },
     "metadata": {},
     "output_type": "display_data"
    }
   ],
   "source": [
    "#we create a list of the top 10 words that have the highest coefficient in our cluster:\n",
    "words = ['units', 'bg', 'night', 'carb', 'sugars', 'carbs', 'feel', 'eat', 'high', 'low']\n",
    "#we plot the frequency of the top 10 words with the highest coefficient for our cluster:\n",
    "frequency = []\n",
    "for word in words:\n",
    "    count = find_word_count(word, cluster_5_mask)\n",
    "    frequency.append(count)\n",
    "freq = pd.DataFrame({'words': words,\n",
    "                   'frequency': frequency})    \n",
    "freq.plot.barh(title = \"Frequency of words with a high TFIDF sum\", x = 'words');"
   ]
  },
  {
   "cell_type": "markdown",
   "metadata": {},
   "source": [
    "The last cluster has the second most posts - 1149 posts. This is the cluster that has a collection of words with the highest TFIDF sum that might seem innocuous - yet they define a diabetic's life and are extremely relevant to their daily life. They are - low, high, eat, feel, carbs and carb, sugar, bg and units. \n",
    "\n",
    "The word \"low\" appears mostly connected to a low blood suagr event -  hypoglycemia. Hypoglycemia poses an extreme risk for people on glucose lowering therapies.\" ...(H)ypoglycemia may be associated with a range of symptoms progressing from sweating and palpitations to cognitive dysfunction and seizures. Hypoglycemia can lead to coma and even death, depending on its severity or duration. Hypoglycemia could potentially cause sudden cardiac death by inducing either ischemic or depolarization/repolarization changes. Impaired cognitive function can have potentially deleterious and cumulative long-term effects on intellectual function, particularly in young children.\" (14) (Sanjay Kalra, Jagat Jyoti Mukherjee, Subramanium Venkataraman, Ganapathi Bantwal, Shehla Shaikh, Banshi Saboo, Ashok Kumar Das, and Ambady Ramachandran - \"Hypoglycemia: The neglected complication\" https://www.ncbi.nlm.nih.gov/pmc/articles/PMC3784865/). The term \"units\" has to do with the dose of insulin to be administreed - and it is notable that this is one of the diseases where more often than not a sick person is left to fend for himself most of the time on the dose of insulin to be administered. Although guidelines are issued by their doctor, the ultimate action relies with the diabetic patient, who is often obliged to adjust his insulin doese depending on a muktitude of factors. \n",
    "\n",
    "In this context - we see other meaning for our top key word  - some  posts will actually use the word \"low\" to refer to dietary choices - namedly - the low carb diet. Many diabetics adjust their diets in order to lower their insulin doses, although many choose to lead normal lifes and eat the same amount of carbohidrates as healthy individuals.\n",
    "\n",
    "On the same line - the word high refers to high blood sugar situations, and strategies to cope with it. \n",
    "\n",
    "Exploring the presence of the word 'night' we see that diabetics can experience episode of low blood sugar at night, or how the spikes can cause them nightmares - and in general - how the sleep patterns are disrupted by this disease.\n",
    "\n",
    "We were trying to find a study on this topic - and although there are quite a lot studying the connection between sleep and type 2 diabetes (15) (Deepak Khandelwal, Deep Dutta, Sachin Chittawar, and Sanjay Kalra - Sleep Disorders in Type 2 Diabetes https://www.ncbi.nlm.nih.gov/pmc/articles/PMC5628550/) and the association between sleep duration in children - and the risk for developing type 2 diabetes (16)(Alicja R. Rudnicka, Claire M. Nightingale, Angela S. Donin, Naveed Sattar, Derek G. Cook, Peter H. Whincup and Christopher G. Owen - \"Sleep Duration and Risk of Type 2 Diabetes\" - https://pediatrics.aappublications.org/content/140/3/e20170338) - we could not find extensive studies on this topic on type 1 diabetes and sleep. "
   ]
  },
  {
   "cell_type": "code",
   "execution_count": 112,
   "metadata": {},
   "outputs": [
    {
     "data": {
      "text/plain": [
       "Int64Index([   0,    6,   12,   16,   17,   18,   25,   30,   32,   74,\n",
       "            ...\n",
       "            4197, 4210, 4218, 4222, 4244, 4262, 4269, 4270, 4273, 4280],\n",
       "           dtype='int64', length=683)"
      ]
     },
     "execution_count": 112,
     "metadata": {},
     "output_type": "execute_result"
    }
   ],
   "source": [
    "cluster_5_mask = t1['cluster'] == 5\n",
    "mask_low = t1['text'].str.contains(\"low\")\n",
    "t1[cluster_5_mask & mask_low].index"
   ]
  },
  {
   "cell_type": "code",
   "execution_count": 105,
   "metadata": {},
   "outputs": [
    {
     "data": {
      "text/plain": [
       "'Parents with T1D kids on low carb diet Any impact on growth milestones Hi all My son 7 is t1d and is on a low carb diet It s resulted in great blood sugar control but in the last few check ups he s been falling well behind on height milestones Does anyone have any experience good or bad with this I m concerned the diet may be impacting his development Thanks'"
      ]
     },
     "execution_count": 105,
     "metadata": {},
     "output_type": "execute_result"
    }
   ],
   "source": [
    "t1.iloc[0].text"
   ]
  },
  {
   "cell_type": "code",
   "execution_count": 109,
   "metadata": {},
   "outputs": [
    {
     "data": {
      "text/plain": [
       "'Being low and bloody nose I m sitting in the cafeteria trying to put food in my mouth because I m low but super naseueas and don t want to eat anything I suddenly start to break down just wanting to cry and what do you know I ve got a bloody nose run to the bathroom and clean it up It makes me wonder though is there any correlation between being low and having a bloody nose Cause both have to do with your blood Also could I check my bs with nose blood Idk these questions probably sound weird but my low brain is telling me to post it'"
      ]
     },
     "execution_count": 109,
     "metadata": {},
     "output_type": "execute_result"
    }
   ],
   "source": [
    "t1.iloc[16].text"
   ]
  },
  {
   "cell_type": "code",
   "execution_count": 111,
   "metadata": {},
   "outputs": [
    {
     "data": {
      "text/plain": [
       "Int64Index([  20,   25,   30,   32,   47,   48,   62,   76,   96,  109,\n",
       "            ...\n",
       "            4124, 4128, 4132, 4151, 4155, 4178, 4181, 4195, 4218, 4222],\n",
       "           dtype='int64', length=300)"
      ]
     },
     "execution_count": 111,
     "metadata": {},
     "output_type": "execute_result"
    }
   ],
   "source": [
    "cluster_5_mask = t1['cluster'] == 5\n",
    "mask_night = t1['text'].str.contains(\"night\")\n",
    "t1[cluster_5_mask & mask_night].index"
   ]
  },
  {
   "cell_type": "code",
   "execution_count": 113,
   "metadata": {},
   "outputs": [
    {
     "data": {
      "text/plain": [
       "'Nightmares Causing Night Time SpikesI ve long felt like an odd adult for experiencing a lot of pretty intense nightmares but there we are life is strange Once you have a CGM in your arm however things get a little different I ve been keeping an eye on values and attempting to correlate any stressful dreams and BS values Had a screaming nightmare last night and from a static 5 6 100 raised to 8 9 160 falling back down after waking from dream and going back into regular sleep I don t imagine for a moment there s really anything I can do about the blood sugar spikes just wondering if anyone else has experienced this and if they ve ever done the research on how considerable stress while dreaming can be FYI the dream was about kicking a woman s dog when it bit my scarf and she chased after me'"
      ]
     },
     "execution_count": 113,
     "metadata": {},
     "output_type": "execute_result"
    }
   ],
   "source": [
    "t1.iloc[20].text"
   ]
  },
  {
   "cell_type": "code",
   "execution_count": 115,
   "metadata": {},
   "outputs": [
    {
     "data": {
      "text/plain": [
       "'Help BG keeps dropping while sleepingI inject the basal insulin glargina before going to bed And usually have a little snack as well 15 30 carbon hydrates Then my BG goes up and around the middle of the night it starts dropping like crazy Almost everyday I wake up and can t inject the bolus insulin humalog 15 min before breakfast That means my BG will spike afterwards How can I stop my BG from dropping so much while sleeping Thanks to everyone who can help'"
      ]
     },
     "execution_count": 115,
     "metadata": {},
     "output_type": "execute_result"
    }
   ],
   "source": [
    "t1.iloc[48].text"
   ]
  },
  {
   "cell_type": "markdown",
   "metadata": {},
   "source": [
    "## Drawbacks Conclusions and Further Steps"
   ]
  },
  {
   "cell_type": "markdown",
   "metadata": {},
   "source": [
    "One of the drawbacks of this study is the limited number of posts. Possibly with more than 100 days - and more than 4200 posts - we would have had more information about the topics of interest for type 1 diabetics. At the same time, another limitation is the very close clustering - with the small silhouette score. A clustering on about 30 clusters would have made a small difference as the silhouette score would have been 0.01 and not 0.006 - but clustering on 30 clusters with only 4200 posts felt like it will become too granular. Still, in the bonust notebook we will explore this at a later time.\n",
    "\n",
    "Another drawback was the presence of the removed posts - which for further studies will have to be handled on a case by case basis - and removed posts will have to be verified individually before they can be dropped from the dataframe. \n",
    "\n",
    "We conclude that the topics of interest for diabetics fall into several categories:\n",
    "The largest group has to do with broadly with health insurance - and the blood tests that are considered essential for monitoring how well a diabetic's condition is managed.\n",
    "A very large one - composed actually of three clusters we found, is the technology a type 1 diabetic can use in order to manage their condition - continuous glucose monitors of various kinds, and the pumps that can be used to administer the insulin without daily injections - and all the connected issues. \n",
    "And the third large group has to do with managing the low blood sugar episodes, the high blood sugar episodes, disruption of sleep and the general diet followed. \n",
    "\n",
    "After this brief study - we can see that the sources of stress as reflected by topics of discussion on the reddit forum seem to fall  under a couple of categories - health insurance and lack thereof, managing the technology used for monitoring the blood sugar and administering insulin, managing episodes of low or high blood sugar, and how they impact the diabetic's nights. \n",
    "\n",
    "At the same time - we can safely draw the conclusion that the existence of online forums where type 1 diabetics exchange opinions offers comfort and help to thousand of people suffering from this condition. This is a daily struggle - and the people that understand it the best are people suffering from the same condition. From advice about technology, to a mere cry for help or compassion, social media can help diabetics feel less isolated, and get emotional support in a direct way from peers. \n",
    "\n",
    "Further steps.\n",
    "We would like to explore this subject further by acquiring more data and obtaining a stronger capacity processor, in order to find out if the clustering would look different on more than 4200 posts. The most important find that we would like to explore further is the fact that night disruption in type 1 diabetics is not explored as much as we would have thought. Exploring this topic would potentially lead to solutions that could improve a diabetic's quality of life. \n"
   ]
  },
  {
   "cell_type": "markdown",
   "metadata": {},
   "source": [
    "## References"
   ]
  },
  {
   "cell_type": "markdown",
   "metadata": {},
   "source": [
    "(1) Balkhi, Reid, McNamara, Geffken - \"The diabetes online community: the importance of forum use in parents of children with type 1 diabetes\" \n",
    "(2) Polonsky, Fisher, Earles, Dudl, Lees, Mullan, and Jackson, - \"Assessing Psychosocial Distress in Diabetes Development of the Diabetes Distress Scale\"\n",
    "(3)Sarah Stark Casagrande, PHD1 and Catherine C. Cowie, PHD2 \"Health Insurance Coverage Among People With and Without Diabetes in the U.S. Adult Population\" \n",
    "(4) https://www.mayoclinic.org/tests-procedures/a1c-test/about/pac-20384643 \n",
    "(5) Ahne, Orchard, Tannier, Perchoux, Balkau, Pagoto, Harding, Czernichow, Fagherazzi - \"Insulin pricing and other major diabetes-related concerns in the USA: A study of 46,400 Tweets between 2017 and 2019\" - https://www.medrxiv.org/content/10\n",
    "(6) https://www.freestylelibre.us/?gclid=EAIaIQobChMI1uaZ8PSL6AIVh7HtCh1jlgE8EAAYASAAEgJugfD_BwE\n",
    "(7) Landau Z1,2, Abiri S3,4, Gruber N4,5, Levy-Shraga Y4,5, Brener A4,6, Lebenthal Y4,6, Barash G4,7, Pinhas-Hamiel O4,5, Rachmiel M4,7.  - \"Use of flash glucose-sensing technology (FreeStyle Libre) in youth with type 1 diabetes: AWeSoMe study group real-life observational experience\" \n",
    "(8) John B. Welsh, MD, PhD,1 Peggy Gao, MS,1 Mark Derdzinski, PhD,1 Sarah Puhr, PhD,1 Terri Kang Johnson, PhD,1 Tomas C. Walker, DNP, CDE,1 and Claudia Graham, PhD1 - Accuracy, Utilization, and Effectiveness Comparisons of Different Continuous Glucose Monitoring Systems\n",
    "(9) https://myglu.org/articles/dexcom-ceo-kevin-sayer-talks-g6-g7-and-the-future-of-continuous-glucose-monitoring)\n",
    "(10) https://www.webmd.com/diabetes/insulin-pump\n",
    "(11) Jennifer Sherr, MD and William V. Tamborlane, MD - \"Past, Present, and Future of Insulin Pump Therapy: A Better Shot at Diabetes Control\" \n",
    "(12) https://www.businesswire.com/news/home/20191213005424/en/Tandem-Diabetes-Care-Announces-FDA-Clearance-tslim\n",
    "(13) Lutz Heinemann, PhD,corresponding author1 John Walsh, PA, CDTC,2 and Ruth Roberts, MA3 - \"We Need More Research and Better Designs for Insulin Infusion Sets\" \n",
    "(14) Sanjay Kalra, Jagat Jyoti Mukherjee, Subramanium Venkataraman, Ganapathi Bantwal, Shehla Shaikh, Banshi Saboo, Ashok Kumar Das, and Ambady Ramachandran - \"Hypoglycemia: The neglected complication\" \n",
    "(15) Deepak Khandelwal, Deep Dutta, Sachin Chittawar, and Sanjay Kalra - Sleep Disorders in Type 2 Diabetes  \n",
    "(16) Alicja R. Rudnicka, Claire M. Nightingale, Angela S. Donin, Naveed Sattar, Derek G. Cook, Peter H. Whincup and Christopher G. Owen - \"Sleep Duration and Risk of Type 2 Diabetes\" \n"
   ]
  },
  {
   "cell_type": "code",
   "execution_count": null,
   "metadata": {},
   "outputs": [],
   "source": []
  }
 ],
 "metadata": {
  "kernelspec": {
   "display_name": "Python 3",
   "language": "python",
   "name": "python3"
  },
  "language_info": {
   "codemirror_mode": {
    "name": "ipython",
    "version": 3
   },
   "file_extension": ".py",
   "mimetype": "text/x-python",
   "name": "python",
   "nbconvert_exporter": "python",
   "pygments_lexer": "ipython3",
   "version": "3.7.5"
  }
 },
 "nbformat": 4,
 "nbformat_minor": 2
}
